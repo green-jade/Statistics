{
 "cells": [
  {
   "cell_type": "markdown",
   "metadata": {},
   "source": [
    "#  Group Lab 8 \n",
    "\n",
    "## Inference for Difference Parameters"
   ]
  },
  {
   "cell_type": "code",
   "execution_count": 1,
   "metadata": {},
   "outputs": [],
   "source": [
    "import pandas as pd\n",
    "import numpy as np\n",
    "import matplotlib.pyplot as plt\n",
    "from scipy.stats import t"
   ]
  },
  {
   "cell_type": "markdown",
   "metadata": {},
   "source": [
    "<hr>\n",
    "\n",
    "## <u>Case Study 1</u>: Buying Girl Scout Cookies\n",
    "\n",
    "The underlying assumption of the hypothesis testing framework is that the null hypothesis is true.  This premise serves as the primary support for hypothesis testing being successful.  We'll explore this idea for this Case Study.\n",
    "\n",
    "Suppose that the proportion of all undergraduate students who will buy Girl Scout Cookies this year is 0.375 (3/8).  Suppose that the proportion of all graduate students who will buy Girl Scout Cookies this year is also 0.375 (3/8).  Typically, we wouldn't know this value and would instead rely on our sample to perform inference.  For the sake of this exercise, we will be omniscient (all-knowing).  \n",
    "\n",
    "We will generate sample data from this information.  Based on sample data, we'd like to assess if the population proportions for all undergraduate students and all graduate students who will buy Girl Scout Cookies this year is equal.\n",
    "\n",
    "In other words, we'll explore the hypotheses:\n",
    "\n",
    "$H_0: p_1 = p_2$ vs. $H_a: p_1 \\neq p_2$\n",
    "\n",
    "### 1.Specify a Distribution\n",
    "\n",
    "Imagine that we take a random sample of 80 undergraduate students and a second random sample of 45 graduate students.  For each of these samples, we first count the number of students who bought Girl Scout Cookies this year (and are considered a successful trial), $X_1$ (the number of undergraduate students from a random sample who bought Girl Scout Cookies) and $X_2$ (the number of graduate students  from a random sample who bought girl scout cookies).  The random variables $X_1$ and $X_2$ follow specific theoretical distributions.  **Completely** specify these distributions."
   ]
  },
  {
   "cell_type": "markdown",
   "metadata": {},
   "source": [
    "Considering a random sampling a successful trial, X1 and X2 both follow binomial distribution. \n",
    "X1 ~ Binom(80, 0.375), X2 ~ Binom(45, 0.375)"
   ]
  },
  {
   "cell_type": "markdown",
   "metadata": {},
   "source": [
    "### 2. Single Sample\n",
    "\n",
    "Using the distribution from part 2, generate a random sample of 80 undergraduate students and a second random sample of 45 graduate students.  Specify a random state of 80 and 45 for these two samples, respectively.\n",
    "\n",
    "**a)** Using this sample information, calculate the sample proportions of students who order Girl Scout Cookies for each of the two groups."
   ]
  },
  {
   "cell_type": "code",
   "execution_count": 3,
   "metadata": {},
   "outputs": [],
   "source": [
    "from scipy.stats import binom"
   ]
  },
  {
   "cell_type": "code",
   "execution_count": 23,
   "metadata": {},
   "outputs": [
    {
     "data": {
      "text/plain": [
       "0.375"
      ]
     },
     "execution_count": 23,
     "metadata": {},
     "output_type": "execute_result"
    }
   ],
   "source": [
    "grad = binom.rvs(80, 0.375, random_state = 80)\n",
    "p1 = grad / 80\n",
    "p1"
   ]
  },
  {
   "cell_type": "code",
   "execution_count": 24,
   "metadata": {},
   "outputs": [
    {
     "data": {
      "text/plain": [
       "0.5333333333333333"
      ]
     },
     "execution_count": 24,
     "metadata": {},
     "output_type": "execute_result"
    }
   ],
   "source": [
    "undergrad = binom.rvs(45, 0.375, random_state = 45)\n",
    "p2 = undergrad / 45\n",
    "p2"
   ]
  },
  {
   "cell_type": "markdown",
   "metadata": {},
   "source": [
    "**b)** Using this sample information, calculate the estimated common sample proportion under the null hypothesis."
   ]
  },
  {
   "cell_type": "code",
   "execution_count": 25,
   "metadata": {},
   "outputs": [
    {
     "data": {
      "text/plain": [
       "0.432"
      ]
     },
     "execution_count": 25,
     "metadata": {},
     "output_type": "execute_result"
    }
   ],
   "source": [
    "p = (grad + undergrad) / (80+45)\n",
    "p"
   ]
  },
  {
   "cell_type": "markdown",
   "metadata": {},
   "source": [
    "**c)** Calculate the test statistic for your simulated samples."
   ]
  },
  {
   "cell_type": "code",
   "execution_count": 26,
   "metadata": {},
   "outputs": [
    {
     "data": {
      "text/plain": [
       "-1.7153492521523646"
      ]
     },
     "execution_count": 26,
     "metadata": {},
     "output_type": "execute_result"
    }
   ],
   "source": [
    "standard_error = np.sqrt((p*(1-p)/80)+(p*(1-p)/45))\n",
    "test_stat = (p1-p2) / standard_error\n",
    "test_stat"
   ]
  },
  {
   "cell_type": "markdown",
   "metadata": {},
   "source": [
    "**d)** Calculate the *p*-value for your sample data."
   ]
  },
  {
   "cell_type": "code",
   "execution_count": 27,
   "metadata": {},
   "outputs": [
    {
     "data": {
      "text/plain": [
       "0.08628121363245422"
      ]
     },
     "execution_count": 27,
     "metadata": {},
     "output_type": "execute_result"
    }
   ],
   "source": [
    "from scipy.stats import norm\n",
    "pvalue=2*(1-norm.cdf(np.abs(test_stat)))\n",
    "pvalue"
   ]
  },
  {
   "cell_type": "markdown",
   "metadata": {},
   "source": [
    "### 3. Sampling Distribution\n",
    "\n",
    "**a)** Now, instead of just a single sample, we want to understand the value of all possible test statistics.  Repeat the calculation from Question 2 1000 times, recording the value of the test statistic and the *p*-value for each set of random samples.  \n",
    "\n",
    "**Note: For this question, you do not need to record the sample proportions or the common sample proportion in your output.**"
   ]
  },
  {
   "cell_type": "code",
   "execution_count": 31,
   "metadata": {},
   "outputs": [
    {
     "data": {
      "text/html": [
       "<div>\n",
       "<style scoped>\n",
       "    .dataframe tbody tr th:only-of-type {\n",
       "        vertical-align: middle;\n",
       "    }\n",
       "\n",
       "    .dataframe tbody tr th {\n",
       "        vertical-align: top;\n",
       "    }\n",
       "\n",
       "    .dataframe thead th {\n",
       "        text-align: right;\n",
       "    }\n",
       "</style>\n",
       "<table border=\"1\" class=\"dataframe\">\n",
       "  <thead>\n",
       "    <tr style=\"text-align: right;\">\n",
       "      <th></th>\n",
       "      <th>test_statistic</th>\n",
       "      <th>p-value</th>\n",
       "    </tr>\n",
       "  </thead>\n",
       "  <tbody>\n",
       "    <tr>\n",
       "      <th>0</th>\n",
       "      <td>-2.232191</td>\n",
       "      <td>0.025602</td>\n",
       "    </tr>\n",
       "    <tr>\n",
       "      <th>1</th>\n",
       "      <td>-0.621809</td>\n",
       "      <td>0.534068</td>\n",
       "    </tr>\n",
       "    <tr>\n",
       "      <th>2</th>\n",
       "      <td>-1.521452</td>\n",
       "      <td>0.128147</td>\n",
       "    </tr>\n",
       "    <tr>\n",
       "      <th>3</th>\n",
       "      <td>0.136495</td>\n",
       "      <td>0.891430</td>\n",
       "    </tr>\n",
       "    <tr>\n",
       "      <th>4</th>\n",
       "      <td>1.653101</td>\n",
       "      <td>0.098310</td>\n",
       "    </tr>\n",
       "    <tr>\n",
       "      <th>...</th>\n",
       "      <td>...</td>\n",
       "      <td>...</td>\n",
       "    </tr>\n",
       "    <tr>\n",
       "      <th>995</th>\n",
       "      <td>-0.741665</td>\n",
       "      <td>0.458290</td>\n",
       "    </tr>\n",
       "    <tr>\n",
       "      <th>996</th>\n",
       "      <td>-0.621809</td>\n",
       "      <td>0.534068</td>\n",
       "    </tr>\n",
       "    <tr>\n",
       "      <th>997</th>\n",
       "      <td>-1.682860</td>\n",
       "      <td>0.092402</td>\n",
       "    </tr>\n",
       "    <tr>\n",
       "      <th>998</th>\n",
       "      <td>0.515646</td>\n",
       "      <td>0.606102</td>\n",
       "    </tr>\n",
       "    <tr>\n",
       "      <th>999</th>\n",
       "      <td>0.989148</td>\n",
       "      <td>0.322591</td>\n",
       "    </tr>\n",
       "  </tbody>\n",
       "</table>\n",
       "<p>1000 rows × 2 columns</p>\n",
       "</div>"
      ],
      "text/plain": [
       "     test_statistic   p-value\n",
       "0         -2.232191  0.025602\n",
       "1         -0.621809  0.534068\n",
       "2         -1.521452  0.128147\n",
       "3          0.136495  0.891430\n",
       "4          1.653101  0.098310\n",
       "..              ...       ...\n",
       "995       -0.741665  0.458290\n",
       "996       -0.621809  0.534068\n",
       "997       -1.682860  0.092402\n",
       "998        0.515646  0.606102\n",
       "999        0.989148  0.322591\n",
       "\n",
       "[1000 rows x 2 columns]"
      ]
     },
     "execution_count": 31,
     "metadata": {},
     "output_type": "execute_result"
    }
   ],
   "source": [
    "tstat = []\n",
    "pval = []\n",
    "\n",
    "for i in range(1000):\n",
    "    grad = binom.rvs(80, 0.375)\n",
    "    p1 = grad / 80\n",
    "    undergrad = binom.rvs(45, 0.375)\n",
    "    p2 = undergrad / 45\n",
    "    p = (undergrad + grad) / (80+45)\n",
    "    standard_error = np.sqrt((p*(1-p)/80)+(p*(1-p)/45))\n",
    "    test_stat = (p1-p2) / standard_error \n",
    "    pvalue=2*(1-norm.cdf(np.abs(test_stat)))\n",
    "    \n",
    "    tstat.append(test_stat)\n",
    "    pval.append(pvalue)\n",
    "\n",
    "df = pd.DataFrame({\"test_statistic\": tstat, \"p-value\" : pval})\n",
    "df"
   ]
  },
  {
   "cell_type": "markdown",
   "metadata": {},
   "source": [
    "**b)** Using the data generated in Question 3a, generate a histogram for the simulated test statistics."
   ]
  },
  {
   "cell_type": "code",
   "execution_count": 32,
   "metadata": {},
   "outputs": [
    {
     "data": {
      "image/png": "[encoded data removed]",
      "text/plain": [
       "<Figure size 432x288 with 1 Axes>"
      ]
     },
     "metadata": {
      "needs_background": "light"
     },
     "output_type": "display_data"
    }
   ],
   "source": [
    "df['test_statistic'].hist()\n",
    "plt.title('test statistic')\n",
    "plt.show()"
   ]
  },
  {
   "cell_type": "markdown",
   "metadata": {},
   "source": [
    "**c)** Using the data generated in Question 3a, generate a histogram for the simulated *p*-values."
   ]
  },
  {
   "cell_type": "code",
   "execution_count": 33,
   "metadata": {},
   "outputs": [
    {
     "data": {
      "image/png": "[encoded data removed]",
      "text/plain": [
       "<Figure size 432x288 with 1 Axes>"
      ]
     },
     "metadata": {
      "needs_background": "light"
     },
     "output_type": "display_data"
    }
   ],
   "source": [
    "df['p-value'].hist()\n",
    "plt.title('p-value')\n",
    "plt.show()"
   ]
  },
  {
   "cell_type": "markdown",
   "metadata": {},
   "source": [
    "**d)** Describe the shape of the distribution for the simulated test statistics and of the distribution for the simulated *p*-values."
   ]
  },
  {
   "cell_type": "markdown",
   "metadata": {},
   "source": [
    "The shape of the distribution for the simulated test statistics is normal, it is nearly symmetric with its center on 0. The shape of the distribution for p-value is rather uniform. "
   ]
  },
  {
   "cell_type": "markdown",
   "metadata": {},
   "source": [
    "### 4. Significance Level\n",
    "\n",
    "Our significance level is the proportion of times that we would reject the null hypothesis if the null hypothesis is really true.  In other words, it's the probability of making a specific kind of mistake when performing a hypothesis test.\n",
    "\n",
    "We have assumed the null hypothesis is true when generating our random samples, so we have met that condition from our definition of the significance level.\n",
    "\n",
    "We'll consider two different significance levels: $\\alpha = 0.2$ and $\\alpha = 0.05$.\n",
    "\n",
    "Using the simulated p-values from Question 3, what proportion of the time would we decide to reject the null hypothesis at a significance level of 0.2?  What about for a significance level of 0.05?"
   ]
  },
  {
   "cell_type": "code",
   "execution_count": 35,
   "metadata": {},
   "outputs": [
    {
     "data": {
      "text/plain": [
       "0.193"
      ]
     },
     "execution_count": 35,
     "metadata": {},
     "output_type": "execute_result"
    }
   ],
   "source": [
    "sum(df['p-value']<0.2) / 1000"
   ]
  },
  {
   "cell_type": "code",
   "execution_count": 36,
   "metadata": {},
   "outputs": [
    {
     "data": {
      "text/plain": [
       "0.056"
      ]
     },
     "execution_count": 36,
     "metadata": {},
     "output_type": "execute_result"
    }
   ],
   "source": [
    "sum(df['p-value']<0.05) / 1000"
   ]
  },
  {
   "cell_type": "markdown",
   "metadata": {},
   "source": [
    "193 times out of 1,000 times, we reject the null hypothesis at a significance level of 0.2.\n",
    "56 times out of 1,000 times, we reject the null hypothesis at a significance level of 0.05. "
   ]
  },
  {
   "cell_type": "markdown",
   "metadata": {},
   "source": [
    "<hr>\n",
    "\n",
    "## <u>Case Study 2</u>: Revisiting Groundhog Day\n",
    "\n",
    "Recall that we previously explored the results of Groundhog Day, where tradition claims that weather in February and March is influenced by whether a groundhog named Phil sees his shadow in Pennsylvania.  In Homework 4, we explored how the temperatures in the Midwest varied based on whether Phil saw his shadow descriptively.  Now, we'll consider what we can say about the behavior of possible average temperatures using the principles of statistical inference.\n",
    "\n",
    "Specifically, we'll use the variables Phil, which records the results of Phil's experiment, and February Average Temperature to assess if there is evidence that supports that Phil's results are accurate as measured by February Average Temperatures.\n",
    "\n",
    "### 5. Simulated Sampling Distributions\n",
    "\n",
    "Rather than rely on traditional hypothesis testing approaches (where the distributional assumptions may not be met), we'll rely on simulations through a resampling approach in order to generate a sampling distribution for our test statistic if the null hypothesis of no difference between the population parameters is correct, or if the tradition is correct (that the mean of the average February temperature when Phil sees his shadow (full shadow) is less than the mean of the average February temperature when Phil doesn't see his shadow (no shadow)). \n",
    "\n",
    "**a)** First, read in the cleaned version of the groundhog data."
   ]
  },
  {
   "cell_type": "code",
   "execution_count": 37,
   "metadata": {},
   "outputs": [
    {
     "data": {
      "text/html": [
       "<div>\n",
       "<style scoped>\n",
       "    .dataframe tbody tr th:only-of-type {\n",
       "        vertical-align: middle;\n",
       "    }\n",
       "\n",
       "    .dataframe tbody tr th {\n",
       "        vertical-align: top;\n",
       "    }\n",
       "\n",
       "    .dataframe thead th {\n",
       "        text-align: right;\n",
       "    }\n",
       "</style>\n",
       "<table border=\"1\" class=\"dataframe\">\n",
       "  <thead>\n",
       "    <tr style=\"text-align: right;\">\n",
       "      <th></th>\n",
       "      <th>Year</th>\n",
       "      <th>Phil</th>\n",
       "      <th>February Average Temperature</th>\n",
       "      <th>February Average Temperature (Northeast)</th>\n",
       "      <th>February Average Temperature (Midwest)</th>\n",
       "      <th>February Average Temperature (Pennsylvania)</th>\n",
       "      <th>March Average Temperature</th>\n",
       "      <th>March Average Temperature (Northeast)</th>\n",
       "      <th>March Average Temperature (Midwest)</th>\n",
       "      <th>March Average Temperature (Pennsylvania)</th>\n",
       "    </tr>\n",
       "  </thead>\n",
       "  <tbody>\n",
       "    <tr>\n",
       "      <th>0</th>\n",
       "      <td>1898</td>\n",
       "      <td>Full Shadow</td>\n",
       "      <td>35.37</td>\n",
       "      <td>24.8</td>\n",
       "      <td>33.3</td>\n",
       "      <td>26.7</td>\n",
       "      <td>41.05</td>\n",
       "      <td>38.0</td>\n",
       "      <td>46.0</td>\n",
       "      <td>42.0</td>\n",
       "    </tr>\n",
       "    <tr>\n",
       "      <th>1</th>\n",
       "      <td>1900</td>\n",
       "      <td>Full Shadow</td>\n",
       "      <td>30.76</td>\n",
       "      <td>21.4</td>\n",
       "      <td>27.5</td>\n",
       "      <td>24.1</td>\n",
       "      <td>41.27</td>\n",
       "      <td>26.0</td>\n",
       "      <td>37.9</td>\n",
       "      <td>29.3</td>\n",
       "    </tr>\n",
       "    <tr>\n",
       "      <th>2</th>\n",
       "      <td>1901</td>\n",
       "      <td>Full Shadow</td>\n",
       "      <td>29.86</td>\n",
       "      <td>16.0</td>\n",
       "      <td>26.2</td>\n",
       "      <td>18.9</td>\n",
       "      <td>40.71</td>\n",
       "      <td>30.8</td>\n",
       "      <td>41.9</td>\n",
       "      <td>35.1</td>\n",
       "    </tr>\n",
       "    <tr>\n",
       "      <th>3</th>\n",
       "      <td>1903</td>\n",
       "      <td>Full Shadow</td>\n",
       "      <td>28.42</td>\n",
       "      <td>24.5</td>\n",
       "      <td>31.3</td>\n",
       "      <td>28.0</td>\n",
       "      <td>42.21</td>\n",
       "      <td>40.4</td>\n",
       "      <td>47.7</td>\n",
       "      <td>44.5</td>\n",
       "    </tr>\n",
       "    <tr>\n",
       "      <th>4</th>\n",
       "      <td>1904</td>\n",
       "      <td>Full Shadow</td>\n",
       "      <td>31.59</td>\n",
       "      <td>15.0</td>\n",
       "      <td>28.2</td>\n",
       "      <td>19.2</td>\n",
       "      <td>41.76</td>\n",
       "      <td>29.8</td>\n",
       "      <td>42.8</td>\n",
       "      <td>34.0</td>\n",
       "    </tr>\n",
       "    <tr>\n",
       "      <th>...</th>\n",
       "      <td>...</td>\n",
       "      <td>...</td>\n",
       "      <td>...</td>\n",
       "      <td>...</td>\n",
       "      <td>...</td>\n",
       "      <td>...</td>\n",
       "      <td>...</td>\n",
       "      <td>...</td>\n",
       "      <td>...</td>\n",
       "      <td>...</td>\n",
       "    </tr>\n",
       "    <tr>\n",
       "      <th>110</th>\n",
       "      <td>2012</td>\n",
       "      <td>Full Shadow</td>\n",
       "      <td>37.51</td>\n",
       "      <td>30.6</td>\n",
       "      <td>38.6</td>\n",
       "      <td>34.3</td>\n",
       "      <td>50.41</td>\n",
       "      <td>43.4</td>\n",
       "      <td>56.3</td>\n",
       "      <td>47.7</td>\n",
       "    </tr>\n",
       "    <tr>\n",
       "      <th>111</th>\n",
       "      <td>2013</td>\n",
       "      <td>No Shadow</td>\n",
       "      <td>34.77</td>\n",
       "      <td>25.3</td>\n",
       "      <td>33.4</td>\n",
       "      <td>27.4</td>\n",
       "      <td>40.91</td>\n",
       "      <td>32.7</td>\n",
       "      <td>37.3</td>\n",
       "      <td>33.9</td>\n",
       "    </tr>\n",
       "    <tr>\n",
       "      <th>112</th>\n",
       "      <td>2014</td>\n",
       "      <td>Full Shadow</td>\n",
       "      <td>32.13</td>\n",
       "      <td>21.0</td>\n",
       "      <td>27.1</td>\n",
       "      <td>22.8</td>\n",
       "      <td>40.51</td>\n",
       "      <td>26.0</td>\n",
       "      <td>38.0</td>\n",
       "      <td>30.3</td>\n",
       "    </tr>\n",
       "    <tr>\n",
       "      <th>113</th>\n",
       "      <td>2015</td>\n",
       "      <td>Full Shadow</td>\n",
       "      <td>32.99</td>\n",
       "      <td>12.1</td>\n",
       "      <td>23.4</td>\n",
       "      <td>16.1</td>\n",
       "      <td>45.39</td>\n",
       "      <td>27.8</td>\n",
       "      <td>41.6</td>\n",
       "      <td>31.6</td>\n",
       "    </tr>\n",
       "    <tr>\n",
       "      <th>114</th>\n",
       "      <td>2016</td>\n",
       "      <td>No Shadow</td>\n",
       "      <td>39.47</td>\n",
       "      <td>28.1</td>\n",
       "      <td>36.9</td>\n",
       "      <td>30.8</td>\n",
       "      <td>47.50</td>\n",
       "      <td>38.8</td>\n",
       "      <td>49.5</td>\n",
       "      <td>43.4</td>\n",
       "    </tr>\n",
       "  </tbody>\n",
       "</table>\n",
       "<p>115 rows × 10 columns</p>\n",
       "</div>"
      ],
      "text/plain": [
       "     Year         Phil  February Average Temperature  \\\n",
       "0    1898  Full Shadow                         35.37   \n",
       "1    1900  Full Shadow                         30.76   \n",
       "2    1901  Full Shadow                         29.86   \n",
       "3    1903  Full Shadow                         28.42   \n",
       "4    1904  Full Shadow                         31.59   \n",
       "..    ...          ...                           ...   \n",
       "110  2012  Full Shadow                         37.51   \n",
       "111  2013    No Shadow                         34.77   \n",
       "112  2014  Full Shadow                         32.13   \n",
       "113  2015  Full Shadow                         32.99   \n",
       "114  2016    No Shadow                         39.47   \n",
       "\n",
       "     February Average Temperature (Northeast)  \\\n",
       "0                                        24.8   \n",
       "1                                        21.4   \n",
       "2                                        16.0   \n",
       "3                                        24.5   \n",
       "4                                        15.0   \n",
       "..                                        ...   \n",
       "110                                      30.6   \n",
       "111                                      25.3   \n",
       "112                                      21.0   \n",
       "113                                      12.1   \n",
       "114                                      28.1   \n",
       "\n",
       "     February Average Temperature (Midwest)  \\\n",
       "0                                      33.3   \n",
       "1                                      27.5   \n",
       "2                                      26.2   \n",
       "3                                      31.3   \n",
       "4                                      28.2   \n",
       "..                                      ...   \n",
       "110                                    38.6   \n",
       "111                                    33.4   \n",
       "112                                    27.1   \n",
       "113                                    23.4   \n",
       "114                                    36.9   \n",
       "\n",
       "     February Average Temperature (Pennsylvania)  March Average Temperature  \\\n",
       "0                                           26.7                      41.05   \n",
       "1                                           24.1                      41.27   \n",
       "2                                           18.9                      40.71   \n",
       "3                                           28.0                      42.21   \n",
       "4                                           19.2                      41.76   \n",
       "..                                           ...                        ...   \n",
       "110                                         34.3                      50.41   \n",
       "111                                         27.4                      40.91   \n",
       "112                                         22.8                      40.51   \n",
       "113                                         16.1                      45.39   \n",
       "114                                         30.8                      47.50   \n",
       "\n",
       "     March Average Temperature (Northeast)  \\\n",
       "0                                     38.0   \n",
       "1                                     26.0   \n",
       "2                                     30.8   \n",
       "3                                     40.4   \n",
       "4                                     29.8   \n",
       "..                                     ...   \n",
       "110                                   43.4   \n",
       "111                                   32.7   \n",
       "112                                   26.0   \n",
       "113                                   27.8   \n",
       "114                                   38.8   \n",
       "\n",
       "     March Average Temperature (Midwest)  \\\n",
       "0                                   46.0   \n",
       "1                                   37.9   \n",
       "2                                   41.9   \n",
       "3                                   47.7   \n",
       "4                                   42.8   \n",
       "..                                   ...   \n",
       "110                                 56.3   \n",
       "111                                 37.3   \n",
       "112                                 38.0   \n",
       "113                                 41.6   \n",
       "114                                 49.5   \n",
       "\n",
       "     March Average Temperature (Pennsylvania)  \n",
       "0                                        42.0  \n",
       "1                                        29.3  \n",
       "2                                        35.1  \n",
       "3                                        44.5  \n",
       "4                                        34.0  \n",
       "..                                        ...  \n",
       "110                                      47.7  \n",
       "111                                      33.9  \n",
       "112                                      30.3  \n",
       "113                                      31.6  \n",
       "114                                      43.4  \n",
       "\n",
       "[115 rows x 10 columns]"
      ]
     },
     "execution_count": 37,
     "metadata": {},
     "output_type": "execute_result"
    }
   ],
   "source": [
    "ground = pd.read_csv('groundhog_cleaned.csv')\n",
    "ground"
   ]
  },
  {
   "cell_type": "markdown",
   "metadata": {},
   "source": [
    "**b)** We'll use simulation to perform a resampling approach to hypothesis testing.  In essence, we will reshuffle whether Phil saw his shadow or not for each year.\n",
    "\n",
    "To do this, \n",
    "- Sample the results of Phil's experiment without replacement.  Use a sample size equal to the full sample size.  Be sure to ignore the original indices.  \n",
    "- Create a new data frame that combines your reshuffled results of Phil with the original temperatures (in their original order).\n",
    "- Calculate the difference in the means of the average February temperatures (full shadow minus no shadow).  Record this value.\n",
    "- Repeat this process 300 times."
   ]
  },
  {
   "cell_type": "code",
   "execution_count": 49,
   "metadata": {},
   "outputs": [
    {
     "data": {
      "text/plain": [
       "[0.48969999999999914,\n",
       " -0.6119999999999948,\n",
       " 0.7457666666666682,\n",
       " -1.4499666666666684,\n",
       " -0.24629999999999797,\n",
       " -0.5230666666666721,\n",
       " -0.9861333333333349,\n",
       " -0.21103333333334007,\n",
       " 1.0585666666666569,\n",
       " -0.988433333333333,\n",
       " -0.5698333333333281,\n",
       " -0.46940000000000737,\n",
       " -0.5981999999999985,\n",
       " 0.36549999999999727,\n",
       " 0.41763333333333463,\n",
       " 1.017933333333339,\n",
       " 0.6913333333333398,\n",
       " -0.046200000000006014,\n",
       " 0.5870666666666722,\n",
       " -0.9723333333333315,\n",
       " -0.4494666666666589,\n",
       " -1.4883000000000024,\n",
       " -0.16963333333332997,\n",
       " -0.32756666666666234,\n",
       " -0.20106666666665518,\n",
       " 0.36780000000000257,\n",
       " 0.8423666666666563,\n",
       " 0.1324333333333314,\n",
       " 0.7833333333333314,\n",
       " 0.30416666666666714,\n",
       " -0.6741000000000099,\n",
       " -1.5412000000000106,\n",
       " 1.5162666666666667,\n",
       " -1.1793333333333393,\n",
       " -0.33140000000000924,\n",
       " -1.2996999999999943,\n",
       " 0.021266666666662104,\n",
       " 0.7434666666666558,\n",
       " -1.2636666666666656,\n",
       " 0.5464333333333329,\n",
       " 1.1536333333333388,\n",
       " -1.285899999999998,\n",
       " 1.5998333333333221,\n",
       " -1.1341000000000037,\n",
       " -0.22253333333333813,\n",
       " -1.0428666666666615,\n",
       " 0.7656999999999954,\n",
       " -0.9508666666666699,\n",
       " 1.2188000000000017,\n",
       " 0.5326333333333295,\n",
       " -0.9071666666666687,\n",
       " -0.3099333333333334,\n",
       " -0.497000000000007,\n",
       " 0.607766666666663,\n",
       " -0.6817666666666682,\n",
       " -1.5818333333333428,\n",
       " 0.7480666666666664,\n",
       " 0.9014000000000095,\n",
       " -0.023966666666659364,\n",
       " 0.16003333333333103,\n",
       " -1.9161000000000001,\n",
       " 0.4551999999999907,\n",
       " 1.1145333333333411,\n",
       " -0.026266666666664662,\n",
       " -1.2468000000000004,\n",
       " 0.5671333333333308,\n",
       " -0.6955666666666644,\n",
       " -0.6541666666666686,\n",
       " -0.5130999999999943,\n",
       " 1.2878000000000043,\n",
       " 0.6092999999999975,\n",
       " -0.5537333333333194,\n",
       " 0.5487333333333311,\n",
       " -1.2046333333333266,\n",
       " 0.04656666666667064,\n",
       " -0.8711333333333258,\n",
       " 1.388233333333332,\n",
       " -1.6132666666666609,\n",
       " -0.7400333333333293,\n",
       " 0.7442333333333266,\n",
       " -0.6303999999999945,\n",
       " 0.03736666666666366,\n",
       " -1.114933333333333,\n",
       " -0.29690000000000794,\n",
       " -0.4226333333333443,\n",
       " -1.0229333333333273,\n",
       " 0.14470000000000738,\n",
       " -0.08070000000000022,\n",
       " -0.8749666666666727,\n",
       " -1.4829333333333352,\n",
       " 0.5410666666666586,\n",
       " -0.6112333333333382,\n",
       " 2.1326666666666654,\n",
       " -1.6561999999999912,\n",
       " 0.25509999999999167,\n",
       " 0.2865333333333382,\n",
       " 0.2098666666666631,\n",
       " 0.549500000000009,\n",
       " 1.9793333333333365,\n",
       " -0.21103333333334007,\n",
       " 0.16003333333333103,\n",
       " 1.2686333333333266,\n",
       " 1.6167000000000016,\n",
       " 0.9964666666666702,\n",
       " -0.3336999999999932,\n",
       " -0.6955666666666644,\n",
       " -0.14739999999999753,\n",
       " -0.06230000000000757,\n",
       " -0.8082666666666611,\n",
       " 0.40766666666665685,\n",
       " -0.4855000000000018,\n",
       " -0.914833333333334,\n",
       " -0.6702666666666701,\n",
       " -0.1213333333333324,\n",
       " -0.4571333333333385,\n",
       " 0.2750333333333401,\n",
       " 0.3471000000000046,\n",
       " -0.4180333333333337,\n",
       " 1.4687333333333257,\n",
       " 0.1293666666666553,\n",
       " 0.11863333333333514,\n",
       " 0.22213333333332486,\n",
       " 0.6231000000000009,\n",
       " -1.103433333333335,\n",
       " 0.7618666666666627,\n",
       " 0.8354666666666617,\n",
       " -0.8872333333333415,\n",
       " -1.5749333333333269,\n",
       " -0.9792333333333261,\n",
       " 0.19453333333333234,\n",
       " 1.2686333333333337,\n",
       " 0.7863999999999933,\n",
       " 0.2497333333333316,\n",
       " 0.3532333333333284,\n",
       " 0.5004333333333335,\n",
       " -0.017066666666671892,\n",
       " -1.4944333333333333,\n",
       " 1.9271999999999991,\n",
       " -0.6718000000000046,\n",
       " -0.17653333333333165,\n",
       " 0.26813333333333134,\n",
       " 0.4268333333333274,\n",
       " -0.41036666666667543,\n",
       " -0.20643333333332947,\n",
       " -1.5312333333333399,\n",
       " -1.4499666666666684,\n",
       " -0.17653333333333876,\n",
       " 0.07646666666666846,\n",
       " 1.562266666666659,\n",
       " -0.3382999999999967,\n",
       " 1.1919666666666657,\n",
       " 0.6606666666666641,\n",
       " 0.23823333333333352,\n",
       " -0.22253333333333103,\n",
       " 0.014366666666660421,\n",
       " 0.9711666666666616,\n",
       " -0.5591000000000079,\n",
       " 0.6422666666666643,\n",
       " -0.6158333333333417,\n",
       " 0.8676666666666648,\n",
       " 0.3977000000000075,\n",
       " 0.6161999999999992,\n",
       " -0.8734333333333382,\n",
       " 0.5065666666666644,\n",
       " -0.852733333333326,\n",
       " -0.03930000000000433,\n",
       " 0.4697666666666578,\n",
       " -1.0344333333333395,\n",
       " -0.1612000000000151,\n",
       " -0.8205333333333371,\n",
       " -1.222266666666691,\n",
       " -0.28999999999999915,\n",
       " -0.21256666666666035,\n",
       " 0.6928666666666672,\n",
       " 0.587066666666658,\n",
       " -0.4954666666666725,\n",
       " -0.40116666666666845,\n",
       " -0.043900000000000716,\n",
       " 0.4682333333333375,\n",
       " -0.9523999999999972,\n",
       " -0.2654666666666685,\n",
       " -0.28233333333333377,\n",
       " 0.03276666666666728,\n",
       " 0.22443333333333015,\n",
       " -1.963633333333327,\n",
       " 0.10253333333332648,\n",
       " 0.5763333333333165,\n",
       " 1.5630333333333368,\n",
       " 0.2044999999999959,\n",
       " -0.1634999999999991,\n",
       " 0.8063333333333347,\n",
       " 0.33253333333333757,\n",
       " -0.15506666666667002,\n",
       " -0.21486666666666565,\n",
       " 1.1475000000000009,\n",
       " -1.0957666666666768,\n",
       " 0.6016333333333392,\n",
       " -0.46709999999999496,\n",
       " 0.1332000000000022,\n",
       " 0.4728333333333339,\n",
       " -0.18420000000000414,\n",
       " 0.11326666666666085,\n",
       " 1.2095999999999947,\n",
       " -1.7642999999999986,\n",
       " 1.1475000000000009,\n",
       " -0.06076666666666597,\n",
       " 1.0654666666666657,\n",
       " -1.5197333333333347,\n",
       " 0.26199999999999335,\n",
       " -0.9677333333333351,\n",
       " -1.0766000000000062,\n",
       " -0.3919666666666757,\n",
       " -1.4147000000000105,\n",
       " 2.31666666666667,\n",
       " -0.9899666666666818,\n",
       " 1.66576666666667,\n",
       " 1.9616999999999933,\n",
       " -0.9439666666666682,\n",
       " -0.1604333333333443,\n",
       " -1.1156999999999968,\n",
       " -0.48166666666666913,\n",
       " -1.4369333333333287,\n",
       " -1.189300000000003,\n",
       " -0.21869999999999834,\n",
       " -0.21946666666666204,\n",
       " -0.903333333333336,\n",
       " 1.3330333333333328,\n",
       " -0.7630333333333397,\n",
       " -0.3751000000000104,\n",
       " 1.7071666666666587,\n",
       " 1.0777333333333203,\n",
       " 1.497866666666667,\n",
       " -0.569833333333321,\n",
       " -0.05386666666667139,\n",
       " 0.30340000000001055,\n",
       " -0.14893333333332492,\n",
       " 0.8776333333333284,\n",
       " -0.36513333333333264,\n",
       " -0.8665333333333223,\n",
       " 0.2888333333333293,\n",
       " -0.32986666666667475,\n",
       " 0.10559999999999548,\n",
       " 1.1681999999999917,\n",
       " 2.0330000000000013,\n",
       " -0.014000000000010004,\n",
       " 0.613900000000001,\n",
       " 1.7048666666666676,\n",
       " -0.39196666666666147,\n",
       " -0.6955666666666644,\n",
       " 0.44676666666666165,\n",
       " -1.3733000000000004,\n",
       " -1.6830333333333343,\n",
       " 1.1352333333333249,\n",
       " -0.5085000000000051,\n",
       " -1.2567666666666781,\n",
       " -1.445366666666665,\n",
       " 0.737333333333325,\n",
       " 0.18303333333334137,\n",
       " 1.291633333333344,\n",
       " 1.7201999999999984,\n",
       " -0.09909999999999997,\n",
       " -0.1957000000000093,\n",
       " -3.2286333333333346,\n",
       " 0.32793333333331987,\n",
       " -0.4195666666666753,\n",
       " -0.7530666666666619,\n",
       " -1.292033333333336,\n",
       " 1.3598666666666617,\n",
       " -0.4517666666666784,\n",
       " -0.587466666666657,\n",
       " 0.4628666666666632,\n",
       " -0.021666666666661172,\n",
       " -1.4108666666666707,\n",
       " -0.0914333333333417,\n",
       " 0.11096666666666977,\n",
       " -0.4594333333333296,\n",
       " -0.7507666666666637,\n",
       " 2.200899999999997,\n",
       " 0.9129000000000005,\n",
       " -0.8320333333333352,\n",
       " -0.6978666666666697,\n",
       " 0.133966666666673,\n",
       " -0.03009999999999735,\n",
       " -0.6648999999999958,\n",
       " -0.03930000000000433,\n",
       " -2.064066666666669,\n",
       " -0.21870000000000545,\n",
       " -0.6388333333333378,\n",
       " 0.027400000000007196,\n",
       " -1.0053000000000125,\n",
       " -0.21486666666666565,\n",
       " 1.5500000000000043,\n",
       " 0.5196000000000041,\n",
       " -0.24783333333333957,\n",
       " 0.19606666666666683,\n",
       " 0.775666666666659,\n",
       " -0.5782666666666643,\n",
       " 0.03506666666666547,\n",
       " 0.3923333333333474,\n",
       " -1.71906666666667]"
      ]
     },
     "execution_count": 49,
     "metadata": {},
     "output_type": "execute_result"
    }
   ],
   "source": [
    "diff = []\n",
    "\n",
    "for i in range(300):\n",
    "    Phil = ground['Phil'].sample(115, replace = False, ignore_index = True)\n",
    "    avg_temp = ground['February Average Temperature']\n",
    "    df = pd.DataFrame({\"Phil\":Phil, \"average temperature\":avg_temp})\n",
    "    x1 = df[df['Phil'] == 'Full Shadow']['average temperature'].mean()\n",
    "    x2 = df[df['Phil'] == 'No Shadow']['average temperature'].mean()\n",
    "    difference = x1 - x2\n",
    "    diff.append(difference)\n",
    "\n",
    "diff"
   ]
  },
  {
   "cell_type": "code",
   "execution_count": 65,
   "metadata": {},
   "outputs": [],
   "source": [
    "diff = pd.DataFrame({'diff':diff})"
   ]
  },
  {
   "cell_type": "markdown",
   "metadata": {},
   "source": [
    "### 6. Evaluating Your Sample\n",
    "\n",
    "**a)** Calculate your observed sample statistic.  This would be the observed difference in the means of the average February temperatures (full shadow minus no shadow)."
   ]
  },
  {
   "cell_type": "code",
   "execution_count": 62,
   "metadata": {},
   "outputs": [
    {
     "data": {
      "text/plain": [
       "-1.8654999999999973"
      ]
     },
     "execution_count": 62,
     "metadata": {},
     "output_type": "execute_result"
    }
   ],
   "source": [
    "full_mean = ground[ground['Phil'] == 'Full Shadow']['February Average Temperature'].mean() \n",
    "no_mean = ground[ground['Phil'] == 'No Shadow']['February Average Temperature'].mean()\n",
    "observed_diff = full_mean - no_mean\n",
    "observed_diff"
   ]
  },
  {
   "cell_type": "markdown",
   "metadata": {},
   "source": [
    "**b)** Using your simulated sampling distribution from Question 5b, determine how often you would get an observed statistic as extreme or more extreme than what we observed. "
   ]
  },
  {
   "cell_type": "code",
   "execution_count": 72,
   "metadata": {},
   "outputs": [
    {
     "data": {
      "text/plain": [
       "diff    4\n",
       "dtype: int64"
      ]
     },
     "execution_count": 72,
     "metadata": {},
     "output_type": "execute_result"
    }
   ],
   "source": [
    "extreme = (diff<-1.8655).sum() \n",
    "extreme "
   ]
  },
  {
   "cell_type": "markdown",
   "metadata": {},
   "source": [
    "There are 4 observed statistic as extreme than what we observed. "
   ]
  },
  {
   "cell_type": "markdown",
   "metadata": {},
   "source": [
    "**c)** What does this tell you about the original tradition of Groundhog Day?"
   ]
  },
  {
   "cell_type": "markdown",
   "metadata": {},
   "source": [
    "There are few observations, so I can tell the the original traditional of Groundhog Day is not convincing. "
   ]
  }
 ],
 "metadata": {
  "kernelspec": {
   "display_name": "Python 3 (ipykernel)",
   "language": "python",
   "name": "python3"
  },
  "language_info": {
   "codemirror_mode": {
    "name": "ipython",
    "version": 3
   },
   "file_extension": ".py",
   "mimetype": "text/x-python",
   "name": "python",
   "nbconvert_exporter": "python",
   "pygments_lexer": "ipython3",
   "version": "3.9.7"
  }
 },
 "nbformat": 4,
 "nbformat_minor": 2
}
