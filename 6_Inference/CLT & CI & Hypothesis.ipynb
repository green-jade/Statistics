{
 "cells": [
  {
   "cell_type": "markdown",
   "id": "e746da0e",
   "metadata": {},
   "source": [
    "# Central Limit Theorem, Confidence Intervals, and Hypotheses"
   ]
  },
  {
   "cell_type": "markdown",
   "id": "c4d94493",
   "metadata": {},
   "source": [
    "## Package Imports\n",
    "\n",
    "Run the cell provided below to import packages needed for this assignment.\n",
    "\n",
    "You may also need to read in additional packages below."
   ]
  },
  {
   "cell_type": "code",
   "execution_count": 1,
   "id": "25c92b96",
   "metadata": {},
   "outputs": [],
   "source": [
    "import pandas as pd\n",
    "import seaborn as sns\n",
    "import matplotlib.pyplot as plt\n",
    "import numpy as np\n",
    "from scipy.stats import norm\n",
    "from scipy.stats import t"
   ]
  },
  {
   "cell_type": "markdown",
   "id": "ac088395",
   "metadata": {},
   "source": [
    "<hr>\n",
    "\n",
    "## <u>Case Study 1</u>: Preparing to Eat\n",
    "\n",
    "We have a random sample of time spent preparing food and drink (in minutes) by American adults in the last 24 hours contained in the food_prep.csv file.  Using this random sample, we will construct and understand a confidence interval in this Case Study.\n",
    "\n",
    "## 1. Read in the data "
   ]
  },
  {
   "cell_type": "code",
   "execution_count": 2,
   "id": "30911347",
   "metadata": {},
   "outputs": [
    {
     "name": "stdout",
     "output_type": "stream",
     "text": [
      "400\n"
     ]
    },
    {
     "data": {
      "text/html": [
       "<div>\n",
       "<style scoped>\n",
       "    .dataframe tbody tr th:only-of-type {\n",
       "        vertical-align: middle;\n",
       "    }\n",
       "\n",
       "    .dataframe tbody tr th {\n",
       "        vertical-align: top;\n",
       "    }\n",
       "\n",
       "    .dataframe thead th {\n",
       "        text-align: right;\n",
       "    }\n",
       "</style>\n",
       "<table border=\"1\" class=\"dataframe\">\n",
       "  <thead>\n",
       "    <tr style=\"text-align: right;\">\n",
       "      <th></th>\n",
       "      <th>Unnamed: 0</th>\n",
       "      <th>food_prep</th>\n",
       "    </tr>\n",
       "  </thead>\n",
       "  <tbody>\n",
       "    <tr>\n",
       "      <th>0</th>\n",
       "      <td>1</td>\n",
       "      <td>15</td>\n",
       "    </tr>\n",
       "    <tr>\n",
       "      <th>1</th>\n",
       "      <td>2</td>\n",
       "      <td>2</td>\n",
       "    </tr>\n",
       "    <tr>\n",
       "      <th>2</th>\n",
       "      <td>3</td>\n",
       "      <td>60</td>\n",
       "    </tr>\n",
       "    <tr>\n",
       "      <th>3</th>\n",
       "      <td>4</td>\n",
       "      <td>45</td>\n",
       "    </tr>\n",
       "    <tr>\n",
       "      <th>4</th>\n",
       "      <td>5</td>\n",
       "      <td>0</td>\n",
       "    </tr>\n",
       "  </tbody>\n",
       "</table>\n",
       "</div>"
      ],
      "text/plain": [
       "   Unnamed: 0  food_prep\n",
       "0           1         15\n",
       "1           2          2\n",
       "2           3         60\n",
       "3           4         45\n",
       "4           5          0"
      ]
     },
     "execution_count": 2,
     "metadata": {},
     "output_type": "execute_result"
    }
   ],
   "source": [
    "food = pd.read_csv('food_prep.csv')\n",
    "print(food.shape[0])\n",
    "food.head()"
   ]
  },
  {
   "cell_type": "markdown",
   "id": "d102aa01",
   "metadata": {},
   "source": [
    "## 2. Construct a Confidence Interval \n",
    "\n",
    "We will construct an 88% confidence interval for the average time spent preparing food or drink in the last 24 hours.\n",
    "\n",
    "**a)**  Define the parameter of interest for our confidence interval."
   ]
  },
  {
   "attachments": {},
   "cell_type": "markdown",
   "id": "e173034a",
   "metadata": {},
   "source": [
    "$\\mu=$ average time spent preparing food and drink by ALL adults living in America in the last 24 hours. "
   ]
  },
  {
   "cell_type": "markdown",
   "id": "5872fff5",
   "metadata": {},
   "source": [
    "**b)** Construct an 88% confidence interval for the average time spent preparing food or drink in the last 24 hours."
   ]
  },
  {
   "cell_type": "code",
   "execution_count": 3,
   "id": "9f1b9b35",
   "metadata": {},
   "outputs": [
    {
     "name": "stdout",
     "output_type": "stream",
     "text": [
      "Sample Mean:  31.42\n",
      "Sample Standard Deviation:  44.583324034384084\n",
      "Sample Size:  400\n"
     ]
    }
   ],
   "source": [
    "sample_mean = food['food_prep'].mean()\n",
    "sample_std = food['food_prep'].std()\n",
    "n = food.shape[0]\n",
    "\n",
    "print('Sample Mean: ', sample_mean)\n",
    "print('Sample Standard Deviation: ', sample_std)\n",
    "print('Sample Size: ', n)"
   ]
  },
  {
   "cell_type": "code",
   "execution_count": 4,
   "id": "e7046521",
   "metadata": {},
   "outputs": [
    {
     "name": "stdout",
     "output_type": "stream",
     "text": [
      "Critical Value:  1.5547735945968535\n"
     ]
    }
   ],
   "source": [
    "alpha = 0.12\n",
    "critical_value=norm.ppf(1-alpha/2)\n",
    "\n",
    "print('Critical Value: ',critical_value)"
   ]
  },
  {
   "cell_type": "code",
   "execution_count": 5,
   "id": "4d97a326",
   "metadata": {},
   "outputs": [
    {
     "name": "stdout",
     "output_type": "stream",
     "text": [
      "27.95415125159922 , 34.88584874840078\n"
     ]
    }
   ],
   "source": [
    "lower_bound=sample_mean-critical_value*(sample_std/np.sqrt(n))\n",
    "upper_bound=sample_mean+critical_value*(sample_std/np.sqrt(n))\n",
    "\n",
    "print(lower_bound,',',upper_bound)"
   ]
  },
  {
   "cell_type": "markdown",
   "id": "e1e5104a",
   "metadata": {},
   "source": [
    "**c)** Put your confidence interval into words.  That is, interpret your confidence interval."
   ]
  },
  {
   "attachments": {},
   "cell_type": "markdown",
   "id": "94b9e976",
   "metadata": {},
   "source": [
    "The population mean time (parameter) is likely to be between 27.95 minutes and 34.89 minutes."
   ]
  },
  {
   "cell_type": "markdown",
   "id": "72fe1d72",
   "metadata": {},
   "source": [
    "**d)** Interpret the confidence level for your interval calculation."
   ]
  },
  {
   "attachments": {},
   "cell_type": "markdown",
   "id": "6883cd4c",
   "metadata": {},
   "source": [
    "I am 88% confident that the population mean time (parameter) is in the confidence interval that I calculated."
   ]
  },
  {
   "cell_type": "markdown",
   "id": "6ededd1e",
   "metadata": {},
   "source": [
    "**e)** State & check the conditions (assumptions) for creating your confidence interval."
   ]
  },
  {
   "attachments": {},
   "cell_type": "markdown",
   "id": "652bdf92",
   "metadata": {},
   "source": [
    "1. Because the sample is collected via random sampling and $n<10\\%$ of the population of ALL adults living in the U.S, the observations are independent. \n",
    "\n",
    "2. Because our sample size is $n=400>30$,the condition is met."
   ]
  },
  {
   "cell_type": "markdown",
   "id": "eb8a68a3",
   "metadata": {},
   "source": [
    "**f)** What distribution did you use to find your multiplier above?  Explain why you used this distribution."
   ]
  },
  {
   "attachments": {},
   "cell_type": "markdown",
   "id": "ace67faa",
   "metadata": {},
   "source": [
    "Normal distribution. Either when the sample size is over 30, or the population has a normal distribution, we can use normal distribution to find a multiplier. In my case, the sample size was over 30. "
   ]
  },
  {
   "cell_type": "markdown",
   "id": "2e606086",
   "metadata": {},
   "source": [
    "<hr>\n",
    "\n",
    "## <u>Case Study 2</u>: Colleges and Universities\n",
    "\n",
    "We will use a random sample of post-secondary education facilities (colleges & universities) from the United States, including Puerto Rico & other US territories.  The **colleges.csv** file contains a random sample of 135 post-secondary education facilities from the US.  This data comes from: https://www.kaggle.com/yamqwe/colleges-and-universitiese\n",
    "\n",
    "We will focus on two variables in particular:\n",
    "\n",
    "- the total dorm capacity of the college or university (`DORM_CAP`)\n",
    "- the total number of students enrolled (`TOT_ENROLL`)\n",
    "\n",
    "## 3. Read and prepare the data \n",
    "You should read in the data from the **colleges.csv** file, perform any cleaning that needs to take place, and create the following variable:\n",
    "\n",
    "- the variable `dorms`, a logical (Boolean) variable that indicates if the college or university offers dorms (dorm capacity is larger than 0)\n",
    "\n",
    "**Hint:** For the data cleaning, we only care about the 2 variables defined above.  Consider reasonable values for the `TOT_ENROLL` variable in particular, and remove any colleges or universities that do not have reasonable values recorded."
   ]
  },
  {
   "cell_type": "code",
   "execution_count": 2,
   "id": "a5632fdc",
   "metadata": {},
   "outputs": [
    {
     "data": {
      "text/plain": [
       "array([ 1666,  4216,  4391,  1508,     0,  3407,    77,    95,  2874,\n",
       "         169, 12260,  3482,    67,   257,  1968,  1658, 23625,   177,\n",
       "          53,   783,   235,  7406,   294,  2254,   775,   507,  3713,\n",
       "         329,   312,    80,  1576,   695,    71, 40695,    62,   660,\n",
       "        3118,  2016,   498,    86,  8368,  2741,   175,   276,   262,\n",
       "         155,  9573,  4702,   142,   102, 18176,   296,   253,  8775,\n",
       "         408,   918,   153, 28127,   795,  1153,   244,   371,   186,\n",
       "        1894,  1107, 10979,   290,  2158,  3693, 13414,  7026,   820,\n",
       "         106,   205,    22, 21557, 12228,   100,   203,   394,   644,\n",
       "         640,  3359,   267,   629,  2632,  4149,  1754,  1370,    15,\n",
       "        1026,   134,    25,   178,    16,    11, 16650,   128,   327,\n",
       "         546,  1378,   190,   319,  5867,  1116,    96,   464,   605,\n",
       "         400,   200,   453,  4509,  1148,  8140,   245,    30,   447,\n",
       "        1973, 11431,    87,    12,  3332,  1400,   529,   981, 10073],\n",
       "      dtype=int64)"
      ]
     },
     "execution_count": 2,
     "metadata": {},
     "output_type": "execute_result"
    }
   ],
   "source": [
    "colleges = pd.read_csv('colleges.csv')\n",
    "colleges['TOT_ENROLL'].unique()"
   ]
  },
  {
   "attachments": {},
   "cell_type": "markdown",
   "id": "a3927633",
   "metadata": {},
   "source": [
    "It is unreasonable that the total number of students enrolled is 0."
   ]
  },
  {
   "cell_type": "code",
   "execution_count": 3,
   "id": "9ff71408",
   "metadata": {},
   "outputs": [],
   "source": [
    "colleges = colleges [colleges['TOT_ENROLL']!= 0]\n",
    "colleges = colleges.reset_index()"
   ]
  },
  {
   "cell_type": "code",
   "execution_count": 6,
   "id": "4f71fb6c",
   "metadata": {},
   "outputs": [
    {
     "data": {
      "text/plain": [
       "128"
      ]
     },
     "execution_count": 6,
     "metadata": {},
     "output_type": "execute_result"
    }
   ],
   "source": [
    "n_sample = colleges.shape[0]\n",
    "n_sample "
   ]
  },
  {
   "cell_type": "code",
   "execution_count": 4,
   "id": "5c6f76e5",
   "metadata": {},
   "outputs": [],
   "source": [
    "def boolean(x):\n",
    "    if x > 0:\n",
    "        y = True\n",
    "    else:\n",
    "        y = False\n",
    "    return(y)\n",
    "\n",
    "colleges['dorms'] = colleges.apply(lambda row : boolean(row['DORM_CAP']), axis = 1)"
   ]
  },
  {
   "cell_type": "code",
   "execution_count": 7,
   "id": "cf809a86",
   "metadata": {},
   "outputs": [
    {
     "data": {
      "text/plain": [
       "0.3125"
      ]
     },
     "execution_count": 7,
     "metadata": {},
     "output_type": "execute_result"
    }
   ],
   "source": [
    "p_hat = colleges['dorms'].sum() / n_sample\n",
    "p_hat"
   ]
  },
  {
   "cell_type": "markdown",
   "id": "92a41d0d",
   "metadata": {},
   "source": [
    "## 4. Do Colleges Offer Dorms?\n",
    "\n",
    "Based on our remaining random sample of colleges and universities, we will estimate the proportion of colleges and universities that offer dorms as housing with 75% confidence. \n",
    "\n",
    "**a)** Define our parameter of interest in the context of the problem."
   ]
  },
  {
   "attachments": {},
   "cell_type": "markdown",
   "id": "faa7a221",
   "metadata": {},
   "source": [
    "p=the population proportion of all colleges and universities in the U.S. that offer dorms as housing. "
   ]
  },
  {
   "cell_type": "markdown",
   "id": "19088aa7",
   "metadata": {},
   "source": [
    "**b)** State & check the conditions before generating your confidence interval."
   ]
  },
  {
   "attachments": {},
   "cell_type": "markdown",
   "id": "2a96c54e",
   "metadata": {},
   "source": [
    "The Central Limit Theorem Conditions (for Sample Proportions) below are met by this sample.\n",
    "\n",
    "1. The observations are independent because the sample is collected via random sampling and $n<10\\%$ of the population size (ALL colleges and universities in U.S. )\n",
    "\n",
    "2.  $np\\geq 10$   and   $n(1-p)\\geq 10$.\n",
    "    - Because we don't know $p$, we plug in $p_0=0.3125$ in for $p$ in the conditions above.\n",
    "    - $np_0 = 128\\cdot 0.3125\\geq 10$\n",
    "    - $n(1-p_0)=128\\cdot(1-0.3125)\\geq 10$."
   ]
  },
  {
   "cell_type": "markdown",
   "id": "69fea72f",
   "metadata": {},
   "source": [
    "**c)** Calculate the 75% confidence interval that estimates the proportion of colleges and universities that offer dorms as housing."
   ]
  },
  {
   "cell_type": "code",
   "execution_count": 8,
   "id": "88291530",
   "metadata": {},
   "outputs": [
    {
     "name": "stdout",
     "output_type": "stream",
     "text": [
      "Critical Value: 1.1503493803760079\n"
     ]
    }
   ],
   "source": [
    "alpha_2=0.25\n",
    "critical_value_2=norm.ppf(1-alpha_2/2)\n",
    "print('Critical Value:',critical_value_2)"
   ]
  },
  {
   "cell_type": "code",
   "execution_count": 10,
   "id": "f35af540",
   "metadata": {},
   "outputs": [
    {
     "name": "stdout",
     "output_type": "stream",
     "text": [
      "0.26537122622556997 , 0.35962877377443003\n"
     ]
    }
   ],
   "source": [
    "lower_bound_2=p_hat - critical_value_2*np.sqrt(p_hat*(1-p_hat)/n_sample)\n",
    "upper_bound_2=p_hat + critical_value_2*np.sqrt(p_hat*(1-p_hat)/n_sample)\n",
    "\n",
    "print(lower_bound_2,',',upper_bound_2)"
   ]
  },
  {
   "cell_type": "markdown",
   "id": "3bacb50c",
   "metadata": {},
   "source": [
    "**d)** Interpret your confidence interval.  That is, put your interval into words."
   ]
  },
  {
   "attachments": {},
   "cell_type": "markdown",
   "id": "6481e23d",
   "metadata": {},
   "source": [
    "I am 75% confident that the true population proportion of all colleges & universities that offer dorms as a housing option for students is contained in the interval (0.2654, 0.3596). "
   ]
  },
  {
   "cell_type": "markdown",
   "id": "0fe9dc85",
   "metadata": {},
   "source": [
    "**e)** Based on your confidence interval, respond to the following statement.\n",
    "\n",
    "Is it reasonable to say that the proportion of all colleges and universities that offer dorms as housing options for students is different from one third (1/3)?\n",
    "\n",
    "Be sure to explain your answer, and write out the corresponding hypotheses that we could be testing."
   ]
  },
  {
   "attachments": {},
   "cell_type": "markdown",
   "id": "c46b521f",
   "metadata": {},
   "source": [
    "1. The value of 0.33, representing 1/3, is contained in the interval, so it's a reasonable value for our parameter of interest. "
   ]
  },
  {
   "attachments": {},
   "cell_type": "markdown",
   "id": "0c6045a0",
   "metadata": {},
   "source": [
    "2. Set up hypothesis\n",
    "\n",
    "$H_0: p=1/3$\n",
    "\n",
    "$H_A: p\\neq1/3$"
   ]
  },
  {
   "attachments": {},
   "cell_type": "markdown",
   "id": "2b761439",
   "metadata": {},
   "source": [
    "I would fail to reject the null hypothesis at a significance level of alpha = 0.25."
   ]
  },
  {
   "cell_type": "markdown",
   "id": "9de2d4a4",
   "metadata": {},
   "source": [
    "**f)** Suppose that we gather a second random sample of 128 colleges, and record the proportion of colleges and univerisities that offer dorms as housing for this sample.  We generate a second confidence interval for our proportion from this sample, and find that we have a different confidence interval calculated than from part **c** above.  Based on the fact that our confidence interval calculation is different, did we do something wrong during the confidence interval generation?  Explain."
   ]
  },
  {
   "attachments": {},
   "cell_type": "markdown",
   "id": "36e91668",
   "metadata": {},
   "source": [
    "No. We had to calculate confidence interval only with a value of p_hat (proportion from the sample) because we don't know the proportion from a population. \n",
    "\n",
    "Therefore, there could be a difference of sample proportion between randomly sampled colleges which means our confidence interval could be different between samples. "
   ]
  },
  {
   "attachments": {},
   "cell_type": "markdown",
   "id": "40124c64",
   "metadata": {},
   "source": [
    "** Solution **\n",
    "\n",
    "We did not necessarily do something incorrect. We have a sample of the same size (128). Our z* multiplier\n",
    "should be the same. However, since we have a different sample, it would be reasonable to have a different\n",
    "sample mean and sample standard deviation that is used in the confidence interval equation: p_hat +/- z*(sqrt(p_hat*(1-phat)/n))\n",
    "\n",
    "I would be surprised to have extremely different statistics across the different samples, but I would also be surprised to have the exact same statistics from two different samples. "
   ]
  },
  {
   "cell_type": "markdown",
   "id": "ebd29b90",
   "metadata": {},
   "source": [
    "**g)** Now suppose that we gather 200 random samples of 128 colleges, and record the proportion of colleges and universities that offer dorms as housing for each sample.  We use our sample data for each sample to generate a new 75% confidence interval.  How many of the 200 random samples do you expect to miss the true proportion of colleges and universities that offer dorms as housing for each sample?"
   ]
  },
  {
   "attachments": {},
   "cell_type": "markdown",
   "id": "3826d6fb",
   "metadata": {},
   "source": [
    "The confidence level interpretation explains that I would expect 75% of the 200 confidence intervals to\n",
    "contain/cover the true proportion.\n",
    "That means that I would expect 25% of the intervals to miss the parameter, so 25% of 200, or 50 intervals."
   ]
  },
  {
   "cell_type": "markdown",
   "id": "725d266e",
   "metadata": {},
   "source": [
    "## 5. Average enrollment?\n",
    "\n",
    "The University of Illinois is a large university, with a total enrollment of approximately 44,000.  There are many smaller colleges in the state, including Parkland College with a total enrollment of 9,715.  \n",
    "\n",
    "We know that there are many more smaller colleges than large universities, so we'd like to test if the average college enrollment is smaller than the enrollment of Parkland College.  \n",
    "\n",
    "We'd like to perform a hypothesis test using a 10% significance level based on our sample of colleges and universities.\n",
    "\n",
    "**a)** Write out your hypotheses.  Be sure to use appropriate notation and to define the parameter of interest."
   ]
  },
  {
   "attachments": {},
   "cell_type": "markdown",
   "id": "84781cce",
   "metadata": {},
   "source": [
    "Our parameter of interest \\mu is the population mean enrollment for the population of all colleges and universities. \n",
    "\n",
    "We would like to test if the population mean enrollment of all colleges and universities in the United States is less than the enrollment of Parkland College (9,715).\n",
    "\n",
    "Set up hypothesis\n",
    "\n",
    "$H_0: \\mu = 9,715$\n",
    "\n",
    "$H_A: \\mu < 9,715$\n",
    "\n",
    "Because we are only interested in one side, we should perform a one-tailed test."
   ]
  },
  {
   "cell_type": "markdown",
   "id": "1b8226ce",
   "metadata": {},
   "source": [
    "**b)** While we could follow the standard hypothesis testing procedure, we will instead make use of our simulation procedures that we have developed so far this semester.\n",
    "\n",
    "While we only have our one sample available, we will use it as a stand in for the population.  From our sample, gather a random sample with replacement of the same size as our original sample data.  We will then repeat this process to generate many random samples.  For each of our random samples, calculate and record our statistic of interest.  We will repeat this process 5000 times, and use the 5000 observations of our statistic of interest as a sampling distribution.\n",
    "\n",
    "Since we are using sample data to generate this sampling distribution, we can refer to our estimated sampling distribution as a **bootstrapped** distribution."
   ]
  },
  {
   "cell_type": "code",
   "execution_count": 11,
   "id": "a3bed4de",
   "metadata": {},
   "outputs": [
    {
     "data": {
      "text/plain": [
       "0       1666\n",
       "1       4216\n",
       "2       4391\n",
       "3       1508\n",
       "4       3407\n",
       "       ...  \n",
       "123     3332\n",
       "124     1400\n",
       "125      529\n",
       "126      981\n",
       "127    10073\n",
       "Name: TOT_ENROLL, Length: 128, dtype: int64"
      ]
     },
     "execution_count": 11,
     "metadata": {},
     "output_type": "execute_result"
    }
   ],
   "source": [
    "df_enrollment=colleges['TOT_ENROLL'].dropna()\n",
    "df_enrollment"
   ]
  },
  {
   "cell_type": "code",
   "execution_count": 12,
   "id": "dc7460c5",
   "metadata": {},
   "outputs": [
    {
     "data": {
      "text/plain": [
       "2975.0859375"
      ]
     },
     "execution_count": 12,
     "metadata": {},
     "output_type": "execute_result"
    }
   ],
   "source": [
    "df_enrollment.mean()"
   ]
  },
  {
   "cell_type": "code",
   "execution_count": 14,
   "id": "4b731986",
   "metadata": {},
   "outputs": [],
   "source": [
    "bootstrap = []\n",
    "for i in range(5000):\n",
    "    bootstrap.append((colleges['TOT_ENROLL'].sample(128, replace = True)).mean())\n",
    "\n",
    "bootstrap = pd.DataFrame({'xbar': bootstrap})"
   ]
  },
  {
   "cell_type": "markdown",
   "id": "06b2c46e",
   "metadata": {},
   "source": [
    "**c)** Generate a histogram of the **bootstrapped** distribution."
   ]
  },
  {
   "cell_type": "code",
   "execution_count": 15,
   "id": "9b50270b",
   "metadata": {},
   "outputs": [
    {
     "data": {
      "text/plain": [
       "<AxesSubplot:>"
      ]
     },
     "execution_count": 15,
     "metadata": {},
     "output_type": "execute_result"
    },
    {
     "data": {
      "image/png": "[encoded data removed]",
      "text/plain": [
       "<Figure size 432x288 with 1 Axes>"
      ]
     },
     "metadata": {
      "needs_background": "light"
     },
     "output_type": "display_data"
    }
   ],
   "source": [
    "# bootstrapped distribution\n",
    "bootstrap['xbar'].hist()"
   ]
  },
  {
   "cell_type": "markdown",
   "id": "26107f9a",
   "metadata": {},
   "source": [
    "**d)** Find the middle 80% of the bootstrapped distribution.\n",
    "\n",
    "We can use this as an approximation for an 80% confidence interval.\n",
    "\n",
    "*Hint*: Recall that we previously found percentiles for a set of data in Case Study 3 (about Quantitative Variables) when we were finding the IQR.  We can make adjustments to the arguments for the code to help us find the middle 80% of our bootstrapped distribution."
   ]
  },
  {
   "cell_type": "code",
   "execution_count": 17,
   "id": "8107d80a",
   "metadata": {},
   "outputs": [
    {
     "name": "stdout",
     "output_type": "stream",
     "text": [
      "(  2311.55234375 , 3670.7968750000005  )\n"
     ]
    }
   ],
   "source": [
    "Q_10 = bootstrap['xbar'].quantile(0.1)\n",
    "Q_90 = bootstrap['xbar'].quantile(0.9)\n",
    "\n",
    "print ('( ', Q_10,',',Q_90, ' )' )"
   ]
  },
  {
   "attachments": {},
   "cell_type": "markdown",
   "id": "f2058a65",
   "metadata": {},
   "source": [
    "The estimated 80% confidence interval based on the bootstrapping procedure is (2311.55, 3670.80).\n",
    "The middle 80% correspond to 20% in the tails and 10% in each tail. This means that we are looking for the 10th and 90th percentiles, which we can find from our simulated bootstrapped distribution. \n"
   ]
  },
  {
   "cell_type": "markdown",
   "id": "ac0a6773",
   "metadata": {},
   "source": [
    "**e)** Based on the interval from part **d**, assess the theories in the hypotheses in part **a**.  Which is more reasonable?  Explain."
   ]
  },
  {
   "attachments": {},
   "cell_type": "markdown",
   "id": "8b842e2e",
   "metadata": {},
   "source": [
    "Based on the interval from pard d, 9,715 is not a reasonable value for the total enrollment of a college. In fact, the entire confidence interval is less than that value, which corresponds to the alternative hypothesis. Therefore, I would reject my null hypothesis and say that my alternative is more reasonable. "
   ]
  }
 ],
 "metadata": {
  "kernelspec": {
   "display_name": "Python 3 (ipykernel)",
   "language": "python",
   "name": "python3"
  },
  "language_info": {
   "codemirror_mode": {
    "name": "ipython",
    "version": 3
   },
   "file_extension": ".py",
   "mimetype": "text/x-python",
   "name": "python",
   "nbconvert_exporter": "python",
   "pygments_lexer": "ipython3",
   "version": "3.9.13"
  }
 },
 "nbformat": 4,
 "nbformat_minor": 5
}
