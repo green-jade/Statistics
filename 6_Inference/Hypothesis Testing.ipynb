{
 "cells": [
  {
   "cell_type": "markdown",
   "id": "e746da0e",
   "metadata": {},
   "source": [
    "# Hypothesis Testing and Difference Parameters"
   ]
  },
  {
   "cell_type": "code",
   "execution_count": 27,
   "id": "f2de8a3f",
   "metadata": {},
   "outputs": [],
   "source": [
    "import pandas as pd\n",
    "import numpy as np\n",
    "import matplotlib.pyplot as plt\n",
    "from scipy.stats import t\n",
    "from scipy.stats import norm"
   ]
  },
  {
   "cell_type": "markdown",
   "id": "ac088395",
   "metadata": {},
   "source": [
    "## <u>Case Study 1</u>: Colleges and Universities (continued)\n",
    "\n",
    "\n",
    "- the number of students enrolled full-time (`FT_ENROLL`)\n",
    "- the number of students enrolled part-time (`PT_ENROLL`)\n",
    "- the number of people employeed by the school (`TOT_EMPLOY`)\n",
    "\n",
    "## 1. Read in the data \n",
    "\n",
    "Below, you should read in the data from the **colleges.csv** file, perform any cleaning that needs to take place, and create the following variable:\n",
    "\n",
    "- the variable `majority_pt`, a logical (Boolean) variable that indicates if the college or university has more students enrolled part-time than full-time (using `FT_ENROLL` and `PT_ENROLL`)\n",
    "\n",
    "**Hint:** For the data cleaning, you may follow the process from Homework 7.  Check the Homework 7 solutions for an example of how to clean the data based on reasonable values for the `TOT_ENROLL` variable."
   ]
  },
  {
   "cell_type": "code",
   "execution_count": 28,
   "id": "30911347",
   "metadata": {},
   "outputs": [],
   "source": [
    "colleges = pd.read_csv('colleges.csv')\n",
    "colleges = colleges [(colleges['TOT_ENROLL']> 0)]\n",
    "colleges = colleges.reset_index()"
   ]
  },
  {
   "cell_type": "code",
   "execution_count": 29,
   "id": "1a1bd3fc",
   "metadata": {},
   "outputs": [
    {
     "name": "stdout",
     "output_type": "stream",
     "text": [
      "0      False\n",
      "1       True\n",
      "2      False\n",
      "3      False\n",
      "4       True\n",
      "       ...  \n",
      "123    False\n",
      "124    False\n",
      "125    False\n",
      "126    False\n",
      "127     True\n",
      "Name: majority_pt, Length: 128, dtype: bool\n"
     ]
    }
   ],
   "source": [
    "def bool(row):\n",
    "    if row['PT_ENROLL'] > row['FT_ENROLL']:\n",
    "        return True\n",
    "    else:\n",
    "        return False\n",
    "    \n",
    "colleges['majority_pt'] = colleges.apply(bool, axis=1)\n",
    "print(colleges['majority_pt'])"
   ]
  },
  {
   "cell_type": "markdown",
   "id": "d102aa01",
   "metadata": {},
   "source": [
    "## 2. What Population Does a College Serve? \n",
    "\n",
    "The University of Illinois reports that approximately 15% of students enrolled part-time.  \n",
    "\n",
    "A university diversity officer would like to see if that 15% is also a reasonable value for a different characteristic of colleges and universities: the proportion of colleges that serve a majority of part-time students (as opposed to full-time students).\n",
    "\n",
    "**a)**  Write out our hypotheses to test in this question.  Be sure to use appropriate notation, and define our parameter of interest."
   ]
  },
  {
   "cell_type": "markdown",
   "id": "e173034a",
   "metadata": {},
   "source": [
    "$H_0: p=0.15$\n",
    "\n",
    "$H_A: p\\neq0.15$\n",
    "\n",
    "our parameter of interest : p (= the proportion of colleges that serve a majority of part-time students as opposed to full-time students.)"
   ]
  },
  {
   "cell_type": "markdown",
   "id": "5872fff5",
   "metadata": {},
   "source": [
    "**b)** Check whether the conditions are met for our hypothesis test to be valid.  (No need to state each condition, but you may if it helps you.)\n",
    "\n",
    "**Note:** you may continue your analysis as if these conditions were met, even if they are not."
   ]
  },
  {
   "cell_type": "code",
   "execution_count": 30,
   "id": "e7046521",
   "metadata": {},
   "outputs": [
    {
     "name": "stdout",
     "output_type": "stream",
     "text": [
      "True\n",
      "True\n"
     ]
    }
   ],
   "source": [
    "# 1. Because the sample is collected via random sampling and n = 128 < 10% of all US colleges and universities, the observations are independent. \n",
    "# 2. If we plug in null p value (0.15) into np and n(1-p), both values meet the condition. \n",
    "n = 128\n",
    "p = 0.15\n",
    "print(n*p>=10)\n",
    "print(n*(1-p)>=10)"
   ]
  },
  {
   "cell_type": "markdown",
   "id": "63650b70",
   "metadata": {},
   "source": [
    "The CLT conditions for sample proportions are met for our hypothesis test to be valid. "
   ]
  },
  {
   "cell_type": "markdown",
   "id": "e1e5104a",
   "metadata": {},
   "source": [
    "**c)** Calculate the test statistic and corresponding *p*-value for this test."
   ]
  },
  {
   "cell_type": "code",
   "execution_count": 31,
   "id": "87c67d38",
   "metadata": {},
   "outputs": [
    {
     "name": "stdout",
     "output_type": "stream",
     "text": [
      "t-statistic: 1.6832508230603465\n",
      "p-value: 0.09232654595631029\n"
     ]
    }
   ],
   "source": [
    "estimate = (colleges['majority_pt'] == True).mean()\n",
    "std_err = np.sqrt(p * (1-p) / n)\n",
    "test_statistic = (estimate - p) / std_err\n",
    "pvalue = 2 * (1-norm.cdf(test_statistic))\n",
    "print('t-statistic:', test_statistic)\n",
    "print ('p-value:',pvalue)"
   ]
  },
  {
   "cell_type": "markdown",
   "id": "72fe1d72",
   "metadata": {},
   "source": [
    "**d)** Based on your hypothesis test results, what **decision** would you make about our hypotheses at a significance level of $0.10$?"
   ]
  },
  {
   "attachments": {},
   "cell_type": "markdown",
   "id": "6883cd4c",
   "metadata": {},
   "source": [
    "Since my p-value (0.0923) is smaller than significance level: 0.10, I would reject the null hypothesis. "
   ]
  },
  {
   "cell_type": "markdown",
   "id": "6ededd1e",
   "metadata": {},
   "source": [
    "**e)**  Which of the following statements is correct about what our significance level represents?\n",
    "\n",
    "- Statement 1: The significance level is the probability that the null hypothesis is true.\n",
    "- Statement 2: The significance level is the probability of getting a test statistic as extreme or more extreme than observed, assuming the null hypothesis is true.\n",
    "- Statement 3: The significance level is the proportion of experiments that we would reject the null hypothesis when the null hypothesis is true.\n",
    "- Statement 4: The significance level is the proportion of times that the alternative hypothesis is true."
   ]
  },
  {
   "cell_type": "markdown",
   "id": "d4257be8",
   "metadata": {},
   "source": [
    "**Replace the X with a number below.**\n",
    "\n",
    "Statement 2  is correct."
   ]
  },
  {
   "cell_type": "markdown",
   "id": "d4e1f2d2",
   "metadata": {},
   "source": [
    "## 3. College and University Employees \n",
    "Because many colleges are small, I believe that the average number of employees of all post-secondary educational facilities (schools) will be less than 481 people.  I want to make a decision about this claim using data.  Help me to perform an appropriate hypothesis test to test my theories.\n",
    "\n",
    "For this question, I'll use a significance level of $\\alpha = 0.01$.\n",
    "\n",
    "**a)** Write out your hypotheses.  Be sure to use appropriate notation and to define the parameter of interest."
   ]
  },
  {
   "cell_type": "markdown",
   "id": "e9fdd76e",
   "metadata": {},
   "source": [
    "$H_0: \\mu=481$.\n",
    "\n",
    "$H_A: \\mu < 481$.\n",
    "\n",
    "Where $\\mu=$ the average number of employees of all post-secondary facilities(schools)"
   ]
  },
  {
   "cell_type": "markdown",
   "id": "1463b7dd",
   "metadata": {},
   "source": [
    "**b)** State & check the necessary assumptions for the hypothesis test to be valid.  "
   ]
  },
  {
   "cell_type": "markdown",
   "id": "948ebb91",
   "metadata": {},
   "source": [
    "The observations are independent because the sample is collected via random sampling and $n<10\\%$ of the population of ALL post-secondary facilities in U.S.\n",
    "\n",
    "Also, n > 30. Therefore the sampling distribution meets CLT theorem conditions for sample mean and the hypothesis test will be valid."
   ]
  },
  {
   "cell_type": "markdown",
   "id": "a38f1c0a",
   "metadata": {},
   "source": [
    "**c)** Calculate the test statistic and corresponding *p*-value based on the provided sample of colleges."
   ]
  },
  {
   "cell_type": "code",
   "execution_count": 32,
   "id": "472ba23c",
   "metadata": {},
   "outputs": [
    {
     "data": {
      "text/plain": [
       "-0.4578950395128658"
      ]
     },
     "execution_count": 32,
     "metadata": {},
     "output_type": "execute_result"
    }
   ],
   "source": [
    "test_stat = ( colleges['TOT_EMPLOY'].mean() - 481 ) / (colleges['TOT_EMPLOY'].std() / np.sqrt(128))\n",
    "test_stat"
   ]
  },
  {
   "cell_type": "code",
   "execution_count": 33,
   "id": "184d15bc",
   "metadata": {},
   "outputs": [
    {
     "data": {
      "text/plain": [
       "0.3239051588757882"
      ]
     },
     "execution_count": 33,
     "metadata": {},
     "output_type": "execute_result"
    }
   ],
   "source": [
    "p_value = 1 - t.cdf(np.abs(test_stat), df = 127)\n",
    "p_value"
   ]
  },
  {
   "cell_type": "markdown",
   "id": "6b46ba7a",
   "metadata": {},
   "source": [
    "**d)** Based on the evidence calculated so far, what can you say about our theory of interest?  Be sure to give a complete conclusion in the context of the problem."
   ]
  },
  {
   "attachments": {},
   "cell_type": "markdown",
   "id": "5da04564",
   "metadata": {},
   "source": [
    "p-value is 0.324, which is larger than significance level alpha(0.01). \n",
    "\n",
    "Therefore, I fail to reject my null hypothesis: $H_0: \\mu=481$.\n",
    "\n",
    "This concludes that my belief that the average number of employees of all post-secondary educational facilities(schools) would be less than 481 people is not convincing. "
   ]
  },
  {
   "cell_type": "markdown",
   "id": "a02d06b1",
   "metadata": {},
   "source": [
    "**e)** Interpret the *p*-value.  That is, explain what the specific *p*-value that you calculated means."
   ]
  },
  {
   "cell_type": "markdown",
   "id": "f111123c",
   "metadata": {},
   "source": [
    "The p-value is 0.3247, which means the probability of generating a sample similar to or more unusual than the one we got if the null hypothesis is true is 32.47%. "
   ]
  },
  {
   "cell_type": "markdown",
   "id": "2e606086",
   "metadata": {},
   "source": [
    "<hr>\n",
    "\n",
    "## <u>Case Study 2</u>: U.S. County Unemployment Rate and Metropolitan Areas\n",
    "\n",
    "In this case study, we will explore the statistical concepts that we've learned this week while also exploring the relationship between the **unemployment rate** of U.S. counties and whether the county is a **metropolitan area** or not. In this analysis, our cleaned U.S. counties dataset will serve as our population of all U.S. counties.  Other than those counties that have been removed, this dataset is in fact the population of U.S. coutnies.  While we usually do not have the whole population at our disposal when we conduct inference, we will use this population to \"check\" our answers so we can gain a deeper understanding of what is going on \"behind the scenes\" when we conduct inference on a population parameter.\n",
    "\n",
    "## 4. Read and prepare the data \n",
    "\n",
    "We will be analyzing just the **unemployment_rate** and **metro** variables from the **county.csv** dataframe.\n",
    "\n",
    "1. Read the county.csv into a dataframe, call it df, and display the first five rows.\n",
    " - *This dataset has missing values! Specifically, the phrase 'data unavailable' represents missing values in this csv. Make sure you encode these values as NaN when you read the data in.*\n",
    "2. Create a pandas dataframe that is comprised of just the **unemployment_rate** and the **metro** columns. Then drop all rows in this dataframe that have missing values."
   ]
  },
  {
   "cell_type": "code",
   "execution_count": 34,
   "id": "a5632fdc",
   "metadata": {},
   "outputs": [],
   "source": [
    "county = pd.read_csv('county.csv', na_values = 'data unavailable')\n",
    "county = county.loc[:,['unemployment_rate', 'metro']]\n",
    "county = county.dropna()"
   ]
  },
  {
   "cell_type": "code",
   "execution_count": 35,
   "id": "9ff71408",
   "metadata": {},
   "outputs": [
    {
     "data": {
      "text/html": [
       "<div>\n",
       "<style scoped>\n",
       "    .dataframe tbody tr th:only-of-type {\n",
       "        vertical-align: middle;\n",
       "    }\n",
       "\n",
       "    .dataframe tbody tr th {\n",
       "        vertical-align: top;\n",
       "    }\n",
       "\n",
       "    .dataframe thead th {\n",
       "        text-align: right;\n",
       "    }\n",
       "</style>\n",
       "<table border=\"1\" class=\"dataframe\">\n",
       "  <thead>\n",
       "    <tr style=\"text-align: right;\">\n",
       "      <th></th>\n",
       "      <th>unemployment_rate</th>\n",
       "      <th>metro</th>\n",
       "    </tr>\n",
       "  </thead>\n",
       "  <tbody>\n",
       "    <tr>\n",
       "      <th>0</th>\n",
       "      <td>3.86</td>\n",
       "      <td>yes</td>\n",
       "    </tr>\n",
       "    <tr>\n",
       "      <th>1</th>\n",
       "      <td>3.99</td>\n",
       "      <td>yes</td>\n",
       "    </tr>\n",
       "    <tr>\n",
       "      <th>2</th>\n",
       "      <td>5.90</td>\n",
       "      <td>no</td>\n",
       "    </tr>\n",
       "    <tr>\n",
       "      <th>3</th>\n",
       "      <td>4.39</td>\n",
       "      <td>yes</td>\n",
       "    </tr>\n",
       "    <tr>\n",
       "      <th>4</th>\n",
       "      <td>4.02</td>\n",
       "      <td>yes</td>\n",
       "    </tr>\n",
       "    <tr>\n",
       "      <th>...</th>\n",
       "      <td>...</td>\n",
       "      <td>...</td>\n",
       "    </tr>\n",
       "    <tr>\n",
       "      <th>3137</th>\n",
       "      <td>4.55</td>\n",
       "      <td>no</td>\n",
       "    </tr>\n",
       "    <tr>\n",
       "      <th>3138</th>\n",
       "      <td>2.99</td>\n",
       "      <td>no</td>\n",
       "    </tr>\n",
       "    <tr>\n",
       "      <th>3139</th>\n",
       "      <td>4.50</td>\n",
       "      <td>no</td>\n",
       "    </tr>\n",
       "    <tr>\n",
       "      <th>3140</th>\n",
       "      <td>4.08</td>\n",
       "      <td>no</td>\n",
       "    </tr>\n",
       "    <tr>\n",
       "      <th>3141</th>\n",
       "      <td>3.98</td>\n",
       "      <td>no</td>\n",
       "    </tr>\n",
       "  </tbody>\n",
       "</table>\n",
       "<p>3139 rows × 2 columns</p>\n",
       "</div>"
      ],
      "text/plain": [
       "      unemployment_rate metro\n",
       "0                  3.86   yes\n",
       "1                  3.99   yes\n",
       "2                  5.90    no\n",
       "3                  4.39   yes\n",
       "4                  4.02   yes\n",
       "...                 ...   ...\n",
       "3137               4.55    no\n",
       "3138               2.99    no\n",
       "3139               4.50    no\n",
       "3140               4.08    no\n",
       "3141               3.98    no\n",
       "\n",
       "[3139 rows x 2 columns]"
      ]
     },
     "execution_count": 35,
     "metadata": {},
     "output_type": "execute_result"
    }
   ],
   "source": [
    "county"
   ]
  },
  {
   "cell_type": "markdown",
   "id": "92a41d0d",
   "metadata": {},
   "source": [
    "## 5. Parameter Information \n",
    "\n",
    "In this analysis, we will consider two populations:\n",
    "\n",
    "- the population of counties that are metropolitan areas, and\n",
    "- the population of counties that are not metropolitan areas\n",
    "\n",
    "**a)** First, create two dataframes:\n",
    "* one that is comprised of the unemployment rates of all metropolitan counties, and \n",
    "* one that is comprised of the unemployment rates of all non-metropolitan counties."
   ]
  },
  {
   "cell_type": "code",
   "execution_count": 36,
   "id": "fd413187",
   "metadata": {},
   "outputs": [],
   "source": [
    "metro = county[county['metro'] == 'yes']\n",
    "non_metro = county[county['metro'] == 'no']"
   ]
  },
  {
   "cell_type": "markdown",
   "id": "19088aa7",
   "metadata": {},
   "source": [
    "**b)** Next, we will calculate two relevant parameters for each population.  For each of these two populations, calculate the population mean unemployment rate and the population standard deviation unemployment rate."
   ]
  },
  {
   "cell_type": "code",
   "execution_count": 37,
   "id": "8efaf82f",
   "metadata": {},
   "outputs": [],
   "source": [
    "metro_mean = metro['unemployment_rate'].mean()\n",
    "metro_std = metro['unemployment_rate'].std()"
   ]
  },
  {
   "cell_type": "code",
   "execution_count": 38,
   "id": "a5cd2297",
   "metadata": {},
   "outputs": [],
   "source": [
    "non_metro_mean = non_metro['unemployment_rate'].mean()\n",
    "non_metro_std = non_metro['unemployment_rate'].std()"
   ]
  },
  {
   "cell_type": "code",
   "execution_count": 39,
   "id": "efba431a",
   "metadata": {},
   "outputs": [
    {
     "name": "stdout",
     "output_type": "stream",
     "text": [
      "Population mean unemployment rate of metropolitan counties is 4.397957081545064\n",
      "Population standard deviation unemployment rate of metropolitan counties is 1.299180067178401\n",
      "Population mean unemployment rate of non-metropolitan counties is 4.737436676798379\n",
      "Population standard deviation unemployment rate of non-metropolitan counties is 1.8124518106510823\n"
     ]
    }
   ],
   "source": [
    "print('Population mean unemployment rate of metropolitan counties is', metro_mean)\n",
    "print('Population standard deviation unemployment rate of metropolitan counties is', metro_std)\n",
    "print('Population mean unemployment rate of non-metropolitan counties is', non_metro_mean)\n",
    "print('Population standard deviation unemployment rate of non-metropolitan counties is',non_metro_std)"
   ]
  },
  {
   "cell_type": "markdown",
   "id": "69fea72f",
   "metadata": {},
   "source": [
    "**c)** What is the difference between the population mean unemployment rate of metropolitan counties and the population mean unemployment rate of non-metropolitan counties (ie. $\\mu_{metro}-\\mu_{nonmetro}$)? \n",
    "\n",
    "Is this a statistic or a parameter?"
   ]
  },
  {
   "cell_type": "code",
   "execution_count": 40,
   "id": "09305c6d",
   "metadata": {},
   "outputs": [
    {
     "data": {
      "text/plain": [
       "-0.33947959525331495"
      ]
     },
     "execution_count": 40,
     "metadata": {},
     "output_type": "execute_result"
    }
   ],
   "source": [
    "metro_mean - non_metro_mean"
   ]
  },
  {
   "cell_type": "markdown",
   "id": "5dd9dd2b",
   "metadata": {},
   "source": [
    "Answer to statistic or parameter: parameter"
   ]
  },
  {
   "cell_type": "markdown",
   "id": "c292143a",
   "metadata": {},
   "source": [
    "**d)** Plot a histogram of distribution of unemployment rates for each of the two types of counties (whether in a metropolitan area or not).  Describe the **shape** for each distribution."
   ]
  },
  {
   "cell_type": "code",
   "execution_count": 41,
   "id": "452c4bd6",
   "metadata": {},
   "outputs": [
    {
     "data": {
      "image/png": "[encoded data removed]",
      "text/plain": [
       "<Figure size 432x288 with 1 Axes>"
      ]
     },
     "metadata": {
      "needs_background": "light"
     },
     "output_type": "display_data"
    }
   ],
   "source": [
    "plt.hist(metro['unemployment_rate'])\n",
    "plt.title('Unemployment Rate of Metro')\n",
    "plt.xlabel('Unemployment Rate')\n",
    "plt.ylabel('Frequency')\n",
    "plt.show()"
   ]
  },
  {
   "cell_type": "code",
   "execution_count": 42,
   "id": "aab77973",
   "metadata": {},
   "outputs": [
    {
     "data": {
      "image/png": "[encoded data removed]",
      "text/plain": [
       "<Figure size 432x288 with 1 Axes>"
      ]
     },
     "metadata": {
      "needs_background": "light"
     },
     "output_type": "display_data"
    }
   ],
   "source": [
    "plt.hist(non_metro['unemployment_rate'])\n",
    "plt.title('Unemployment Rate of Non-Metro')\n",
    "plt.xlabel('Unemployment Rate')\n",
    "plt.ylabel('Frequency')\n",
    "plt.show()"
   ]
  },
  {
   "cell_type": "markdown",
   "id": "ae234aa6",
   "metadata": {},
   "source": [
    "Both distributions are unimodal and have their mode around 4-5% of unemployment rate. "
   ]
  },
  {
   "cell_type": "markdown",
   "id": "725d266e",
   "metadata": {},
   "source": [
    "## 6. Sampling Distribution for Difference of Means \n",
    "\n",
    "First, *suppose* we were to create a sampling distribution of sample mean unemployment rate differences (ie. a distribution of values of $\\bar{x}_{metro}-\\bar{x}_{nonmetro}$, where $\\bar{x}_{metro}$ is the mean of a random sample of $n_1=50$ metropolitan counties and $\\bar{x}_{nonmetro}$ is the mean of a random sample of $n_2=50$ non-metropolitan counties).\n",
    "\n",
    "**a)**  What would you *expect* the mean and standard deviation of this sampling distribution to be?"
   ]
  },
  {
   "cell_type": "code",
   "execution_count": 43,
   "id": "b0fa14bd",
   "metadata": {},
   "outputs": [
    {
     "name": "stdout",
     "output_type": "stream",
     "text": [
      "-0.33947959525331495 0.31536805205619867\n"
     ]
    }
   ],
   "source": [
    "expected_mean = metro_mean - non_metro_mean\n",
    "expected_std = np.sqrt((metro_std**2 + non_metro_std**2) / 50 )\n",
    "print(expected_mean, expected_std)"
   ]
  },
  {
   "cell_type": "markdown",
   "id": "84781cce",
   "metadata": {},
   "source": [
    "I would expect the mean and standatd deviation of this sampling distribution would be -0.3395 and 0.3154."
   ]
  },
  {
   "cell_type": "markdown",
   "id": "1b8226ce",
   "metadata": {},
   "source": [
    "**b)** Would this sampling distribution of differences of sample means be approximately normal? Explain."
   ]
  },
  {
   "cell_type": "code",
   "execution_count": 44,
   "id": "a16902ee",
   "metadata": {},
   "outputs": [
    {
     "name": "stdout",
     "output_type": "stream",
     "text": [
      "1165\n",
      "1974\n"
     ]
    }
   ],
   "source": [
    "print(metro.shape[0])\n",
    "print(non_metro.shape[0])"
   ]
  },
  {
   "cell_type": "markdown",
   "id": "473b6e48",
   "metadata": {},
   "source": [
    "The samples are randomly sampled and independent. \n",
    "\n",
    "n1 = 50 < 10% of population number(1165), n2 = 50 < 10% of population number (1974).\n",
    "\n",
    "n1 = n2 = 50 > 30 \n",
    "\n",
    "Therefore, this sampling distribution meets a CLT conditions and this sampling distribution of difference of sample means is expected to be approximately normal. "
   ]
  },
  {
   "cell_type": "markdown",
   "id": "837d88bc",
   "metadata": {},
   "source": [
    "**c)**  Now, we would check your *expectations* in parts **a** and **b** above by *actually* creating a sampling distribution of differences of sample mean unemployment rates (i.e. a distribution of values of $\\bar{x}_{metro}-\\bar{x}_{nonmetro}$, where $\\bar{x}_{metro}$ is the mean of a random sample of $n_1=50$ metropolitan counties and $\\bar{x}_{nonmetro}$ is the mean of a random sample of $n_2=50$ non-metropolitan counties).\n",
    "\n",
    "In the space below, create this sampling distribution with 1000 values of $\\bar{x}_{metro}-\\bar{x}_{nonmetro}$."
   ]
  },
  {
   "cell_type": "code",
   "execution_count": 45,
   "id": "4b731986",
   "metadata": {},
   "outputs": [],
   "source": [
    "mean_diff = []\n",
    "for i in range(1000):\n",
    "    sample_metro = metro.sample(50, replace = True)\n",
    "    m_mean = sample_metro['unemployment_rate'].mean()\n",
    "    sample_non_metro = non_metro.sample(50, replace = True)\n",
    "    nm_mean = sample_non_metro['unemployment_rate'].mean()\n",
    "    diff = m_mean - nm_mean\n",
    "    mean_diff.append(diff)\n",
    "    \n",
    "sample = pd.DataFrame({'difference of sample mean' : mean_diff})"
   ]
  },
  {
   "cell_type": "code",
   "execution_count": 46,
   "id": "ddbb3589",
   "metadata": {},
   "outputs": [
    {
     "data": {
      "text/html": [
       "<div>\n",
       "<style scoped>\n",
       "    .dataframe tbody tr th:only-of-type {\n",
       "        vertical-align: middle;\n",
       "    }\n",
       "\n",
       "    .dataframe tbody tr th {\n",
       "        vertical-align: top;\n",
       "    }\n",
       "\n",
       "    .dataframe thead th {\n",
       "        text-align: right;\n",
       "    }\n",
       "</style>\n",
       "<table border=\"1\" class=\"dataframe\">\n",
       "  <thead>\n",
       "    <tr style=\"text-align: right;\">\n",
       "      <th></th>\n",
       "      <th>difference of sample mean</th>\n",
       "    </tr>\n",
       "  </thead>\n",
       "  <tbody>\n",
       "    <tr>\n",
       "      <th>0</th>\n",
       "      <td>-0.2342</td>\n",
       "    </tr>\n",
       "    <tr>\n",
       "      <th>1</th>\n",
       "      <td>-0.2812</td>\n",
       "    </tr>\n",
       "    <tr>\n",
       "      <th>2</th>\n",
       "      <td>-0.5208</td>\n",
       "    </tr>\n",
       "    <tr>\n",
       "      <th>3</th>\n",
       "      <td>-0.1308</td>\n",
       "    </tr>\n",
       "    <tr>\n",
       "      <th>4</th>\n",
       "      <td>-0.5956</td>\n",
       "    </tr>\n",
       "    <tr>\n",
       "      <th>...</th>\n",
       "      <td>...</td>\n",
       "    </tr>\n",
       "    <tr>\n",
       "      <th>995</th>\n",
       "      <td>-0.5186</td>\n",
       "    </tr>\n",
       "    <tr>\n",
       "      <th>996</th>\n",
       "      <td>-0.7370</td>\n",
       "    </tr>\n",
       "    <tr>\n",
       "      <th>997</th>\n",
       "      <td>0.5920</td>\n",
       "    </tr>\n",
       "    <tr>\n",
       "      <th>998</th>\n",
       "      <td>-0.6758</td>\n",
       "    </tr>\n",
       "    <tr>\n",
       "      <th>999</th>\n",
       "      <td>-0.3506</td>\n",
       "    </tr>\n",
       "  </tbody>\n",
       "</table>\n",
       "<p>1000 rows × 1 columns</p>\n",
       "</div>"
      ],
      "text/plain": [
       "     difference of sample mean\n",
       "0                      -0.2342\n",
       "1                      -0.2812\n",
       "2                      -0.5208\n",
       "3                      -0.1308\n",
       "4                      -0.5956\n",
       "..                         ...\n",
       "995                    -0.5186\n",
       "996                    -0.7370\n",
       "997                     0.5920\n",
       "998                    -0.6758\n",
       "999                    -0.3506\n",
       "\n",
       "[1000 rows x 1 columns]"
      ]
     },
     "execution_count": 46,
     "metadata": {},
     "output_type": "execute_result"
    }
   ],
   "source": [
    "sample"
   ]
  },
  {
   "cell_type": "markdown",
   "id": "06b2c46e",
   "metadata": {},
   "source": [
    "**d)**  Calculate the mean of the simulated sampling distribution we just created.  This is an *estimate* of the mean for the sampling distribution.  Compare this to the *theoretical* sampling distribution mean that you calculated in part **a**."
   ]
  },
  {
   "cell_type": "code",
   "execution_count": 47,
   "id": "9b50270b",
   "metadata": {},
   "outputs": [
    {
     "data": {
      "text/plain": [
       "-0.3311126"
      ]
     },
     "execution_count": 47,
     "metadata": {},
     "output_type": "execute_result"
    }
   ],
   "source": [
    "estimate = sample['difference of sample mean'].mean()\n",
    "estimate"
   ]
  },
  {
   "cell_type": "markdown",
   "id": "03ef00af",
   "metadata": {},
   "source": [
    "An estimate of the mean for the sampling distribution is -0.3497 and the theoretical sampling distribution mean is -0.3395. The estimate and theoretic mean is close. "
   ]
  },
  {
   "cell_type": "markdown",
   "id": "26107f9a",
   "metadata": {},
   "source": [
    "**e)** Calculate the standard deviation of the simulated sampling distribution we just created.  This is an *estimate* of the standard deviation (or standard error) for the sampling distribution.  Compare this to the *theoretical* sampling distribution standard deviation that you calculated in part **a**."
   ]
  },
  {
   "cell_type": "code",
   "execution_count": 48,
   "id": "8107d80a",
   "metadata": {},
   "outputs": [
    {
     "data": {
      "text/plain": [
       "0.32153373911088495"
      ]
     },
     "execution_count": 48,
     "metadata": {},
     "output_type": "execute_result"
    }
   ],
   "source": [
    "estimate_std = sample['difference of sample mean'].std()\n",
    "estimate_std"
   ]
  },
  {
   "cell_type": "markdown",
   "id": "09348d42",
   "metadata": {},
   "source": [
    "An estimate of the standard deviation for the sampling distribution is 0.3028 and the theoretical sampling distribution mean is 0.3154. The estimate and theoretic standard deviation is close. "
   ]
  },
  {
   "cell_type": "markdown",
   "id": "ac0a6773",
   "metadata": {},
   "source": [
    "**f)** Finally, plot a histogram of this sampling distribution that you just created. Make sure that you appropriately label the x-axis, the y-axis, and the title of this plot.  Describe the shape."
   ]
  },
  {
   "cell_type": "code",
   "execution_count": 49,
   "id": "760f4f79",
   "metadata": {},
   "outputs": [
    {
     "data": {
      "image/png": "[encoded data removed]",
      "text/plain": [
       "<Figure size 432x288 with 1 Axes>"
      ]
     },
     "metadata": {
      "needs_background": "light"
     },
     "output_type": "display_data"
    }
   ],
   "source": [
    "plt.hist(sample['difference of sample mean'])\n",
    "plt.xlabel('Difference of Sample Mean')\n",
    "plt.ylabel('Frequency')\n",
    "plt.title('The sampling distribution of sample mean difference')\n",
    "plt.show()"
   ]
  },
  {
   "cell_type": "markdown",
   "id": "8b842e2e",
   "metadata": {},
   "source": [
    "The shape is unimodal and nearly symmetric, nearly normally distriuted."
   ]
  }
 ],
 "metadata": {
  "kernelspec": {
   "display_name": "Python 3 (ipykernel)",
   "language": "python",
   "name": "python3"
  },
  "language_info": {
   "codemirror_mode": {
    "name": "ipython",
    "version": 3
   },
   "file_extension": ".py",
   "mimetype": "text/x-python",
   "name": "python",
   "nbconvert_exporter": "python",
   "pygments_lexer": "ipython3",
   "version": "3.9.13"
  }
 },
 "nbformat": 4,
 "nbformat_minor": 5
}
