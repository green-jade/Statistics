{
 "cells": [
  {
   "cell_type": "markdown",
   "id": "e746da0e",
   "metadata": {},
   "source": [
    "# Parsimonious Models"
   ]
  },
  {
   "cell_type": "markdown",
   "id": "c4d94493",
   "metadata": {},
   "source": [
    "## Package Imports\n",
    "\n",
    "Code to import some packages has been included below.  Feel free to import any additional packages that you need here, or later in the assignment."
   ]
  },
  {
   "cell_type": "code",
   "execution_count": 1,
   "id": "f2de8a3f",
   "metadata": {},
   "outputs": [],
   "source": [
    "import pandas as pd\n",
    "import matplotlib.pyplot as plt\n",
    "import seaborn as sns; sns.set()\n",
    "from scipy.stats import norm\n",
    "from scipy.stats import t\n",
    "import statsmodels.api as sm\n",
    "import statsmodels.formula.api as smf"
   ]
  },
  {
   "cell_type": "markdown",
   "id": "c1903996",
   "metadata": {},
   "source": [
    "<hr>\n",
    "\n",
    "## <u>Case Study</u>: Predicting Airbnb Superhost Status\n",
    "\n",
    "Suppose that you have a spare room in your house (in Seattle) and you are considering advertising this room to guests on Airbnb. Airbnb superhosts are considered to be experienced hosts who provide a shining example for other hosts, and extraordinary experiences for their guests. Once a host reaches Superhost status, a superhost badge will automatically appear on their listing and profile to help guests identify them. You would like to assess your chances of being named a superhost with your property.\n",
    "\n",
    "The following dataset is a sample (assume random) of available Airbnb listings in Seattle, WA. These listings were collected in January 2016, and filtered to just contain listings from the five most popular Seattle neighborhoods (for Airbnb listings) and just contain listings that are either in a house or apartment property.\n",
    "\n",
    "This dataset contains the following variables.\n",
    "\n",
    "**Listing Information**\n",
    "The dataset contains the following information about the Airbnb *listing*:\n",
    "* <u>price</u>: price of the listing (per night)(in US dollars)\n",
    "* <u>review_scores_rating</u>: the average rating of the listing [0,100] (100 is the best)\n",
    "* <u>number_of_reviews</u>: the number of reviews for the listing\n",
    "* <u>security_deposit</u>: the security deposit required for the listing (in US dollars)\n",
    "* <u>cleaning_fee</u>: the cleaning fee required for the listing (in US dollars)\n",
    "* <u>neighborhood</u>: the neighborhood of Seattle the listing is located in\n",
    "* <u>property_type</u>: is the listing in a 'House' or 'Apartment'\n",
    "* <u>room_type</u>: is the listing a 'Entire home/apt', 'Private room', or 'Shared room'\n",
    "* <u>accommodates</u>: how many guests will the listing accommodate\n",
    "* <u>bathrooms</u>:how many bathrooms does the listing have\n",
    "* <u>beds</u>: how many beds does the listing have\n",
    "\n",
    "**Host Information**\n",
    "The dataset also contains the following information about the *host* of the given Airbnb listing:\n",
    "* <u>host_is_superhost</u>: is the host a \"superhost\": t=True, f=False\n",
    "* <u>host_has_profile_pic</u>: does the host have a profile pic in their bio: t=True, f=False\n",
    "* <u>host_response_time</u>: how fast will the host respond to requests (on average)\n",
    "* <u>host_acceptance_rate</u>: what percent of booking requests will the host accept\n",
    "\n",
    "\n",
    "## 1. Model Searching \n",
    "\n",
    "We'd like to fit a parsimonious model to predict the **price** of an Airbnb in Seattle.\n",
    "\n",
    "For this question, we will consider as possible predictors:\n",
    "- **cleaning_fee**\n",
    "- **room_type**\n",
    "- **beds**\n",
    "- **bathrooms**\n",
    "- **host_acceptance_rate**\n",
    "- **host_response_time**\n",
    "\n",
    "For this question, you will perform backward elimination using adjusted $R^2$ as the metric.\n",
    "\n",
    "From this output, you will be asked to report:\n",
    "- the baseline level for the variable host_response_time\n",
    "- the first variable removed from the model\n",
    "- the number of distinct models fit\n",
    "- the number of possible models you could fit\n",
    "- the optimal adjusted $R^2$\n",
    "- and other, theoretical questions."
   ]
  },
  {
   "cell_type": "code",
   "execution_count": 2,
   "id": "2ba1e7af",
   "metadata": {},
   "outputs": [],
   "source": [
    "df = pd.read_csv('seattle_airbnb_listings_cleaned.csv')"
   ]
  },
  {
   "cell_type": "code",
   "execution_count": 3,
   "id": "b575acc2",
   "metadata": {},
   "outputs": [
    {
     "data": {
      "text/html": [
       "<table class=\"simpletable\">\n",
       "<caption>OLS Regression Results</caption>\n",
       "<tr>\n",
       "  <th>Dep. Variable:</th>          <td>price</td>      <th>  R-squared:         </th> <td>   0.464</td>\n",
       "</tr>\n",
       "<tr>\n",
       "  <th>Model:</th>                   <td>OLS</td>       <th>  Adj. R-squared:    </th> <td>   0.449</td>\n",
       "</tr>\n",
       "<tr>\n",
       "  <th>Method:</th>             <td>Least Squares</td>  <th>  F-statistic:       </th> <td>   31.61</td>\n",
       "</tr>\n",
       "<tr>\n",
       "  <th>Date:</th>             <td>Wed, 03 May 2023</td> <th>  Prob (F-statistic):</th> <td>1.08e-39</td>\n",
       "</tr>\n",
       "<tr>\n",
       "  <th>Time:</th>                 <td>19:14:19</td>     <th>  Log-Likelihood:    </th> <td> -1910.0</td>\n",
       "</tr>\n",
       "<tr>\n",
       "  <th>No. Observations:</th>      <td>   339</td>      <th>  AIC:               </th> <td>   3840.</td>\n",
       "</tr>\n",
       "<tr>\n",
       "  <th>Df Residuals:</th>          <td>   329</td>      <th>  BIC:               </th> <td>   3878.</td>\n",
       "</tr>\n",
       "<tr>\n",
       "  <th>Df Model:</th>              <td>     9</td>      <th>                     </th>     <td> </td>   \n",
       "</tr>\n",
       "<tr>\n",
       "  <th>Covariance Type:</th>      <td>nonrobust</td>    <th>                     </th>     <td> </td>   \n",
       "</tr>\n",
       "</table>\n",
       "<table class=\"simpletable\">\n",
       "<tr>\n",
       "                      <td></td>                        <th>coef</th>     <th>std err</th>      <th>t</th>      <th>P>|t|</th>  <th>[0.025</th>    <th>0.975]</th>  \n",
       "</tr>\n",
       "<tr>\n",
       "  <th>Intercept</th>                                <td>   88.4181</td> <td>   99.754</td> <td>    0.886</td> <td> 0.376</td> <td> -107.819</td> <td>  284.655</td>\n",
       "</tr>\n",
       "<tr>\n",
       "  <th>room_type[T.Private room]</th>                <td>  -53.9800</td> <td>   11.587</td> <td>   -4.659</td> <td> 0.000</td> <td>  -76.775</td> <td>  -31.185</td>\n",
       "</tr>\n",
       "<tr>\n",
       "  <th>room_type[T.Shared room]</th>                 <td>  -53.7469</td> <td>   15.005</td> <td>   -3.582</td> <td> 0.000</td> <td>  -83.264</td> <td>  -24.230</td>\n",
       "</tr>\n",
       "<tr>\n",
       "  <th>host_response_time[T.within a day]</th>       <td>   -4.6667</td> <td>   70.392</td> <td>   -0.066</td> <td> 0.947</td> <td> -143.142</td> <td>  133.809</td>\n",
       "</tr>\n",
       "<tr>\n",
       "  <th>host_response_time[T.within a few hours]</th> <td>    5.4227</td> <td>   69.455</td> <td>    0.078</td> <td> 0.938</td> <td> -131.210</td> <td>  142.055</td>\n",
       "</tr>\n",
       "<tr>\n",
       "  <th>host_response_time[T.within an hour]</th>     <td>   -5.6033</td> <td>   69.242</td> <td>   -0.081</td> <td> 0.936</td> <td> -141.817</td> <td>  130.610</td>\n",
       "</tr>\n",
       "<tr>\n",
       "  <th>cleaning_fee</th>                             <td>    0.5392</td> <td>    0.121</td> <td>    4.468</td> <td> 0.000</td> <td>    0.302</td> <td>    0.777</td>\n",
       "</tr>\n",
       "<tr>\n",
       "  <th>beds</th>                                     <td>   13.6743</td> <td>    4.114</td> <td>    3.324</td> <td> 0.001</td> <td>    5.581</td> <td>   21.767</td>\n",
       "</tr>\n",
       "<tr>\n",
       "  <th>bathrooms</th>                                <td>   40.5366</td> <td>    8.806</td> <td>    4.604</td> <td> 0.000</td> <td>   23.214</td> <td>   57.859</td>\n",
       "</tr>\n",
       "<tr>\n",
       "  <th>host_acceptance_rate</th>                     <td>  -46.5525</td> <td>   71.640</td> <td>   -0.650</td> <td> 0.516</td> <td> -187.482</td> <td>   94.377</td>\n",
       "</tr>\n",
       "</table>\n",
       "<table class=\"simpletable\">\n",
       "<tr>\n",
       "  <th>Omnibus:</th>       <td>467.513</td> <th>  Durbin-Watson:     </th> <td>   1.951</td> \n",
       "</tr>\n",
       "<tr>\n",
       "  <th>Prob(Omnibus):</th> <td> 0.000</td>  <th>  Jarque-Bera (JB):  </th> <td>80135.686</td>\n",
       "</tr>\n",
       "<tr>\n",
       "  <th>Skew:</th>          <td> 6.536</td>  <th>  Prob(JB):          </th> <td>    0.00</td> \n",
       "</tr>\n",
       "<tr>\n",
       "  <th>Kurtosis:</th>      <td>77.179</td>  <th>  Cond. No.          </th> <td>2.87e+03</td> \n",
       "</tr>\n",
       "</table><br/><br/>Notes:<br/>[1] Standard Errors assume that the covariance matrix of the errors is correctly specified.<br/>[2] The condition number is large, 2.87e+03. This might indicate that there are<br/>strong multicollinearity or other numerical problems."
      ],
      "text/plain": [
       "<class 'statsmodels.iolib.summary.Summary'>\n",
       "\"\"\"\n",
       "                            OLS Regression Results                            \n",
       "==============================================================================\n",
       "Dep. Variable:                  price   R-squared:                       0.464\n",
       "Model:                            OLS   Adj. R-squared:                  0.449\n",
       "Method:                 Least Squares   F-statistic:                     31.61\n",
       "Date:                Wed, 03 May 2023   Prob (F-statistic):           1.08e-39\n",
       "Time:                        19:14:19   Log-Likelihood:                -1910.0\n",
       "No. Observations:                 339   AIC:                             3840.\n",
       "Df Residuals:                     329   BIC:                             3878.\n",
       "Df Model:                           9                                         \n",
       "Covariance Type:            nonrobust                                         \n",
       "============================================================================================================\n",
       "                                               coef    std err          t      P>|t|      [0.025      0.975]\n",
       "------------------------------------------------------------------------------------------------------------\n",
       "Intercept                                   88.4181     99.754      0.886      0.376    -107.819     284.655\n",
       "room_type[T.Private room]                  -53.9800     11.587     -4.659      0.000     -76.775     -31.185\n",
       "room_type[T.Shared room]                   -53.7469     15.005     -3.582      0.000     -83.264     -24.230\n",
       "host_response_time[T.within a day]          -4.6667     70.392     -0.066      0.947    -143.142     133.809\n",
       "host_response_time[T.within a few hours]     5.4227     69.455      0.078      0.938    -131.210     142.055\n",
       "host_response_time[T.within an hour]        -5.6033     69.242     -0.081      0.936    -141.817     130.610\n",
       "cleaning_fee                                 0.5392      0.121      4.468      0.000       0.302       0.777\n",
       "beds                                        13.6743      4.114      3.324      0.001       5.581      21.767\n",
       "bathrooms                                   40.5366      8.806      4.604      0.000      23.214      57.859\n",
       "host_acceptance_rate                       -46.5525     71.640     -0.650      0.516    -187.482      94.377\n",
       "==============================================================================\n",
       "Omnibus:                      467.513   Durbin-Watson:                   1.951\n",
       "Prob(Omnibus):                  0.000   Jarque-Bera (JB):            80135.686\n",
       "Skew:                           6.536   Prob(JB):                         0.00\n",
       "Kurtosis:                      77.179   Cond. No.                     2.87e+03\n",
       "==============================================================================\n",
       "\n",
       "Notes:\n",
       "[1] Standard Errors assume that the covariance matrix of the errors is correctly specified.\n",
       "[2] The condition number is large, 2.87e+03. This might indicate that there are\n",
       "strong multicollinearity or other numerical problems.\n",
       "\"\"\""
      ]
     },
     "execution_count": 3,
     "metadata": {},
     "output_type": "execute_result"
    }
   ],
   "source": [
    "mod1 = smf.ols('price~cleaning_fee+room_type+beds+bathrooms+host_acceptance_rate+host_response_time', data=df).fit()\n",
    "mod1.summary()"
   ]
  },
  {
   "cell_type": "markdown",
   "id": "db049aca",
   "metadata": {},
   "source": [
    "The adjusted R-squared value of this model 1 is 0.449."
   ]
  },
  {
   "cell_type": "markdown",
   "id": "9ac36739",
   "metadata": {},
   "source": [
    "**Iteration 1 of Backward Elimination**"
   ]
  },
  {
   "cell_type": "code",
   "execution_count": 31,
   "id": "d37c16b2",
   "metadata": {},
   "outputs": [
    {
     "data": {
      "text/plain": [
       "0.41742637884273226"
      ]
     },
     "execution_count": 31,
     "metadata": {},
     "output_type": "execute_result"
    }
   ],
   "source": [
    "# eliminate the variable 'cleaning fee'\n",
    "mod1_2 = smf.ols('price~room_type+beds+bathrooms+host_acceptance_rate+host_response_time', data=df).fit()\n",
    "mod1_2.rsquared_adj"
   ]
  },
  {
   "cell_type": "code",
   "execution_count": 5,
   "id": "81198490",
   "metadata": {},
   "outputs": [
    {
     "data": {
      "text/plain": [
       "0.4021741670720679"
      ]
     },
     "execution_count": 5,
     "metadata": {},
     "output_type": "execute_result"
    }
   ],
   "source": [
    "# eliminate the variable 'room_type'\n",
    "mod1_3 = smf.ols('price~cleaning_fee+beds+bathrooms+host_acceptance_rate+host_response_time', data=df).fit()\n",
    "mod1_3.rsquared_adj"
   ]
  },
  {
   "cell_type": "code",
   "execution_count": 6,
   "id": "aa9cae30",
   "metadata": {},
   "outputs": [
    {
     "data": {
      "text/plain": [
       "0.4323043393911763"
      ]
     },
     "execution_count": 6,
     "metadata": {},
     "output_type": "execute_result"
    }
   ],
   "source": [
    "# eliminate the variable 'beds'\n",
    "mod1_4 = smf.ols('price~cleaning_fee+room_type+bathrooms+host_acceptance_rate+host_response_time', data=df).fit()\n",
    "mod1_4.rsquared_adj"
   ]
  },
  {
   "cell_type": "code",
   "execution_count": 7,
   "id": "fbddb8de",
   "metadata": {},
   "outputs": [
    {
     "data": {
      "text/plain": [
       "0.4153680674029714"
      ]
     },
     "execution_count": 7,
     "metadata": {},
     "output_type": "execute_result"
    }
   ],
   "source": [
    "# eliminate the variable 'bathrooms'\n",
    "mod1_5 = smf.ols('price~cleaning_fee+room_type+beds+host_acceptance_rate+host_response_time', data=df).fit()\n",
    "mod1_5.rsquared_adj"
   ]
  },
  {
   "cell_type": "code",
   "execution_count": 8,
   "id": "35f187bf",
   "metadata": {},
   "outputs": [
    {
     "data": {
      "text/plain": [
       "0.45004319831677364"
      ]
     },
     "execution_count": 8,
     "metadata": {},
     "output_type": "execute_result"
    }
   ],
   "source": [
    "# eliminate the variable 'host acceptance rate'\n",
    "mod1_6 = smf.ols('price~cleaning_fee+room_type+beds+bathrooms+host_response_time', data=df).fit()\n",
    "mod1_6.rsquared_adj"
   ]
  },
  {
   "cell_type": "code",
   "execution_count": 9,
   "id": "11430129",
   "metadata": {},
   "outputs": [
    {
     "data": {
      "text/plain": [
       "0.4513451665178705"
      ]
     },
     "execution_count": 9,
     "metadata": {},
     "output_type": "execute_result"
    }
   ],
   "source": [
    "# eliminate the variable 'host response time'\n",
    "mod1_7 = smf.ols('price~cleaning_fee+room_type+beds+bathrooms+host_acceptance_rate', data=df).fit()\n",
    "mod1_7.rsquared_adj"
   ]
  },
  {
   "cell_type": "markdown",
   "id": "a89710ba",
   "metadata": {},
   "source": [
    "There is at least one model that has lower adjusted R squared value that model 1 (with all explantory variables included). The model with the highest adjusted R squared value is model1_7, with the variable 'host response time' eliminated. "
   ]
  },
  {
   "cell_type": "markdown",
   "id": "7f866dc9",
   "metadata": {},
   "source": [
    "**Iteration 2 of Backward Elimination**"
   ]
  },
  {
   "cell_type": "code",
   "execution_count": 24,
   "id": "c212cf4f",
   "metadata": {},
   "outputs": [
    {
     "data": {
      "text/plain": [
       "0.4513451665178705"
      ]
     },
     "execution_count": 24,
     "metadata": {},
     "output_type": "execute_result"
    }
   ],
   "source": [
    "mod2 = smf.ols('price~cleaning_fee+room_type+beds+bathrooms+host_acceptance_rate', data=df).fit()\n",
    "mod2.rsquared_adj"
   ]
  },
  {
   "cell_type": "code",
   "execution_count": 25,
   "id": "3c0c0096",
   "metadata": {},
   "outputs": [
    {
     "data": {
      "text/plain": [
       "0.4180554656906412"
      ]
     },
     "execution_count": 25,
     "metadata": {},
     "output_type": "execute_result"
    }
   ],
   "source": [
    "# eliminate the variable 'cleaning fee'\n",
    "mod2_2 = smf.ols('price~room_type+beds+bathrooms+host_acceptance_rate', data=df).fit()\n",
    "mod2_2.rsquared_adj"
   ]
  },
  {
   "cell_type": "code",
   "execution_count": 26,
   "id": "c2be888f",
   "metadata": {},
   "outputs": [
    {
     "data": {
      "text/plain": [
       "0.4068338033919704"
      ]
     },
     "execution_count": 26,
     "metadata": {},
     "output_type": "execute_result"
    }
   ],
   "source": [
    "# eliminate the variable 'room_type'\n",
    "mod2_3 = smf.ols('price~cleaning_fee+beds+bathrooms+host_acceptance_rate', data=df).fit()\n",
    "mod2_3.rsquared_adj"
   ]
  },
  {
   "cell_type": "code",
   "execution_count": 27,
   "id": "a2d71a86",
   "metadata": {},
   "outputs": [
    {
     "data": {
      "text/plain": [
       "0.43290995065591764"
      ]
     },
     "execution_count": 27,
     "metadata": {},
     "output_type": "execute_result"
    }
   ],
   "source": [
    "# eliminate the variable 'beds'\n",
    "mod2_4 = smf.ols('price~cleaning_fee+room_type+bathrooms+host_acceptance_rate', data=df).fit()\n",
    "mod2_4.rsquared_adj"
   ]
  },
  {
   "cell_type": "code",
   "execution_count": 28,
   "id": "f1ebdd35",
   "metadata": {},
   "outputs": [
    {
     "data": {
      "text/plain": [
       "0.4146529620394587"
      ]
     },
     "execution_count": 28,
     "metadata": {},
     "output_type": "execute_result"
    }
   ],
   "source": [
    "# eliminate the variable 'bathrooms'\n",
    "mod2_5 = smf.ols('price~cleaning_fee+room_type+beds+host_acceptance_rate', data=df).fit()\n",
    "mod2_5.rsquared_adj"
   ]
  },
  {
   "cell_type": "code",
   "execution_count": 29,
   "id": "01703fd9",
   "metadata": {},
   "outputs": [
    {
     "data": {
      "text/plain": [
       "0.45226586314160244"
      ]
     },
     "execution_count": 29,
     "metadata": {},
     "output_type": "execute_result"
    }
   ],
   "source": [
    "# eliminate the variable 'host acceptance rate'\n",
    "mod2_6 = smf.ols('price~cleaning_fee+room_type+beds+bathrooms', data=df).fit()\n",
    "mod2_6.rsquared_adj"
   ]
  },
  {
   "cell_type": "markdown",
   "id": "583ebf0c",
   "metadata": {},
   "source": [
    "There is at least one model that has lower adjusted R squared value that model 2 (with all explantory variables included). The model with lowest adjusted R squared value is model2_6, with the variable 'host acceptance rate' eliminated. "
   ]
  },
  {
   "cell_type": "markdown",
   "id": "733708e6",
   "metadata": {},
   "source": [
    "**Iteration 3 of Backward Elimination**"
   ]
  },
  {
   "cell_type": "code",
   "execution_count": 32,
   "id": "3275386a",
   "metadata": {},
   "outputs": [
    {
     "data": {
      "text/plain": [
       "0.45226586314160244"
      ]
     },
     "execution_count": 32,
     "metadata": {},
     "output_type": "execute_result"
    }
   ],
   "source": [
    "mod3= smf.ols('price~cleaning_fee+room_type+beds+bathrooms', data=df).fit()\n",
    "mod3.rsquared_adj"
   ]
  },
  {
   "cell_type": "code",
   "execution_count": 33,
   "id": "ab4d44ae",
   "metadata": {},
   "outputs": [
    {
     "data": {
      "text/plain": [
       "0.4193452166994731"
      ]
     },
     "execution_count": 33,
     "metadata": {},
     "output_type": "execute_result"
    }
   ],
   "source": [
    "# eliminate the variable 'cleaning_fee'\n",
    "mod3_2= smf.ols('price~room_type+beds+bathrooms', data=df).fit()\n",
    "mod3_2.rsquared_adj"
   ]
  },
  {
   "cell_type": "code",
   "execution_count": 34,
   "id": "cdf26cf3",
   "metadata": {},
   "outputs": [
    {
     "data": {
      "text/plain": [
       "0.40854853470251995"
      ]
     },
     "execution_count": 34,
     "metadata": {},
     "output_type": "execute_result"
    }
   ],
   "source": [
    "# eliminate the variable 'room_type'\n",
    "mod3_2= smf.ols('price~cleaning_fee+beds+bathrooms', data=df).fit()\n",
    "mod3_2.rsquared_adj"
   ]
  },
  {
   "cell_type": "code",
   "execution_count": 35,
   "id": "269e68da",
   "metadata": {},
   "outputs": [
    {
     "data": {
      "text/plain": [
       "0.4339166212592471"
      ]
     },
     "execution_count": 35,
     "metadata": {},
     "output_type": "execute_result"
    }
   ],
   "source": [
    "# eliminate the variable 'beds'\n",
    "mod3_2= smf.ols('price~cleaning_fee+room_type+bathrooms', data=df).fit()\n",
    "mod3_2.rsquared_adj"
   ]
  },
  {
   "cell_type": "code",
   "execution_count": 36,
   "id": "a6d03683",
   "metadata": {},
   "outputs": [
    {
     "data": {
      "text/plain": [
       "0.4152873668013447"
      ]
     },
     "execution_count": 36,
     "metadata": {},
     "output_type": "execute_result"
    }
   ],
   "source": [
    "# eliminate the variable 'bathrooms'\n",
    "mod3_2= smf.ols('price~cleaning_fee+room_type+beds', data=df).fit()\n",
    "mod3_2.rsquared_adj"
   ]
  },
  {
   "cell_type": "markdown",
   "id": "0a9dea3d",
   "metadata": {},
   "source": [
    "There is no more model with larger adjusted R squared than model 3. Therefore I can stop the iteration.<br>\n",
    "Therefore, the final selected variables are 'cleaning_fee', 'room_type','beds', and 'bathrooms'. "
   ]
  },
  {
   "cell_type": "code",
   "execution_count": 37,
   "id": "edecc6b6",
   "metadata": {},
   "outputs": [
    {
     "data": {
      "text/html": [
       "<table class=\"simpletable\">\n",
       "<caption>OLS Regression Results</caption>\n",
       "<tr>\n",
       "  <th>Dep. Variable:</th>          <td>price</td>      <th>  R-squared:         </th> <td>   0.460</td>\n",
       "</tr>\n",
       "<tr>\n",
       "  <th>Model:</th>                   <td>OLS</td>       <th>  Adj. R-squared:    </th> <td>   0.452</td>\n",
       "</tr>\n",
       "<tr>\n",
       "  <th>Method:</th>             <td>Least Squares</td>  <th>  F-statistic:       </th> <td>   56.82</td>\n",
       "</tr>\n",
       "<tr>\n",
       "  <th>Date:</th>             <td>Wed, 03 May 2023</td> <th>  Prob (F-statistic):</th> <td>1.28e-42</td>\n",
       "</tr>\n",
       "<tr>\n",
       "  <th>Time:</th>                 <td>20:23:29</td>     <th>  Log-Likelihood:    </th> <td> -1911.0</td>\n",
       "</tr>\n",
       "<tr>\n",
       "  <th>No. Observations:</th>      <td>   339</td>      <th>  AIC:               </th> <td>   3834.</td>\n",
       "</tr>\n",
       "<tr>\n",
       "  <th>Df Residuals:</th>          <td>   333</td>      <th>  BIC:               </th> <td>   3857.</td>\n",
       "</tr>\n",
       "<tr>\n",
       "  <th>Df Model:</th>              <td>     5</td>      <th>                     </th>     <td> </td>   \n",
       "</tr>\n",
       "<tr>\n",
       "  <th>Covariance Type:</th>      <td>nonrobust</td>    <th>                     </th>     <td> </td>   \n",
       "</tr>\n",
       "</table>\n",
       "<table class=\"simpletable\">\n",
       "<tr>\n",
       "              <td></td>                 <th>coef</th>     <th>std err</th>      <th>t</th>      <th>P>|t|</th>  <th>[0.025</th>    <th>0.975]</th>  \n",
       "</tr>\n",
       "<tr>\n",
       "  <th>Intercept</th>                 <td>   36.1562</td> <td>    9.923</td> <td>    3.644</td> <td> 0.000</td> <td>   16.636</td> <td>   55.677</td>\n",
       "</tr>\n",
       "<tr>\n",
       "  <th>room_type[T.Private room]</th> <td>  -51.1213</td> <td>   11.309</td> <td>   -4.521</td> <td> 0.000</td> <td>  -73.367</td> <td>  -28.876</td>\n",
       "</tr>\n",
       "<tr>\n",
       "  <th>room_type[T.Shared room]</th>  <td>  -53.1608</td> <td>   14.617</td> <td>   -3.637</td> <td> 0.000</td> <td>  -81.914</td> <td>  -24.408</td>\n",
       "</tr>\n",
       "<tr>\n",
       "  <th>cleaning_fee</th>              <td>    0.5487</td> <td>    0.120</td> <td>    4.591</td> <td> 0.000</td> <td>    0.314</td> <td>    0.784</td>\n",
       "</tr>\n",
       "<tr>\n",
       "  <th>beds</th>                      <td>   14.2010</td> <td>    4.068</td> <td>    3.491</td> <td> 0.001</td> <td>    6.200</td> <td>   22.202</td>\n",
       "</tr>\n",
       "<tr>\n",
       "  <th>bathrooms</th>                 <td>   42.1904</td> <td>    8.694</td> <td>    4.853</td> <td> 0.000</td> <td>   25.088</td> <td>   59.293</td>\n",
       "</tr>\n",
       "</table>\n",
       "<table class=\"simpletable\">\n",
       "<tr>\n",
       "  <th>Omnibus:</th>       <td>472.292</td> <th>  Durbin-Watson:     </th> <td>   1.954</td> \n",
       "</tr>\n",
       "<tr>\n",
       "  <th>Prob(Omnibus):</th> <td> 0.000</td>  <th>  Jarque-Bera (JB):  </th> <td>84105.822</td>\n",
       "</tr>\n",
       "<tr>\n",
       "  <th>Skew:</th>          <td> 6.648</td>  <th>  Prob(JB):          </th> <td>    0.00</td> \n",
       "</tr>\n",
       "<tr>\n",
       "  <th>Kurtosis:</th>      <td>79.010</td>  <th>  Cond. No.          </th> <td>    308.</td> \n",
       "</tr>\n",
       "</table><br/><br/>Notes:<br/>[1] Standard Errors assume that the covariance matrix of the errors is correctly specified."
      ],
      "text/plain": [
       "<class 'statsmodels.iolib.summary.Summary'>\n",
       "\"\"\"\n",
       "                            OLS Regression Results                            \n",
       "==============================================================================\n",
       "Dep. Variable:                  price   R-squared:                       0.460\n",
       "Model:                            OLS   Adj. R-squared:                  0.452\n",
       "Method:                 Least Squares   F-statistic:                     56.82\n",
       "Date:                Wed, 03 May 2023   Prob (F-statistic):           1.28e-42\n",
       "Time:                        20:23:29   Log-Likelihood:                -1911.0\n",
       "No. Observations:                 339   AIC:                             3834.\n",
       "Df Residuals:                     333   BIC:                             3857.\n",
       "Df Model:                           5                                         \n",
       "Covariance Type:            nonrobust                                         \n",
       "=============================================================================================\n",
       "                                coef    std err          t      P>|t|      [0.025      0.975]\n",
       "---------------------------------------------------------------------------------------------\n",
       "Intercept                    36.1562      9.923      3.644      0.000      16.636      55.677\n",
       "room_type[T.Private room]   -51.1213     11.309     -4.521      0.000     -73.367     -28.876\n",
       "room_type[T.Shared room]    -53.1608     14.617     -3.637      0.000     -81.914     -24.408\n",
       "cleaning_fee                  0.5487      0.120      4.591      0.000       0.314       0.784\n",
       "beds                         14.2010      4.068      3.491      0.001       6.200      22.202\n",
       "bathrooms                    42.1904      8.694      4.853      0.000      25.088      59.293\n",
       "==============================================================================\n",
       "Omnibus:                      472.292   Durbin-Watson:                   1.954\n",
       "Prob(Omnibus):                  0.000   Jarque-Bera (JB):            84105.822\n",
       "Skew:                           6.648   Prob(JB):                         0.00\n",
       "Kurtosis:                      79.010   Cond. No.                         308.\n",
       "==============================================================================\n",
       "\n",
       "Notes:\n",
       "[1] Standard Errors assume that the covariance matrix of the errors is correctly specified.\n",
       "\"\"\""
      ]
     },
     "execution_count": 37,
     "metadata": {},
     "output_type": "execute_result"
    }
   ],
   "source": [
    "mod_final = smf.ols('price~cleaning_fee+room_type+beds+bathrooms', data=df).fit()\n",
    "mod_final.summary()"
   ]
  },
  {
   "cell_type": "markdown",
   "id": "73bec3eb",
   "metadata": {},
   "source": [
    "The baseline level for the variable 'host_response_time' is a level 'a few days or more'. <br>\n",
    "The first variable removed from the model is 'host_response_time'. <br>\n",
    "The number of distinct models (I made through the iteration 3) fit is $1(original full model)+6(first iteration)+5(second iteration)+4(third iteration)=16$.<br>\n",
    "The number of possible models I could fit is $2^6=64$. <br>\n",
    "The optimal adjusted $R^2$ is 0.452. <br>"
   ]
  },
  {
   "cell_type": "markdown",
   "id": "4643157d",
   "metadata": {},
   "source": [
    "## 2. Regularized Regression \n",
    "Suppose now that I'd like to understand what features are associated with whether you have the whole space or not (**room_type** is Entire home/apt compared to any other option).\n",
    "\n",
    "In order to understand this, I'd like to consider the following variables as potential predictors:\n",
    "- **bathrooms**\n",
    "- **accommodates**\n",
    "- **security_deposit**\n",
    "- **property_type**\n",
    "- **host_is_superhost**\n",
    "\n",
    "I know that I might not want to include all of these variables in the model, so I opt to fit a LASSO model with a $\\lambda = 20$.\n",
    "\n",
    "I will compare this to a second LASSO model with a $\\lambda = 2$.\n",
    "\n",
    "For this problem, fit both of these two models.  You will be asked to report the number of slope coefficients that are equal to 0 for each of these two models.\n",
    "\n",
    "Then, once you have selected your predictors, fit non-regularized models with the predictors suggested by these two LASSO models.\n",
    "\n",
    "You will be asked to report the optimal BIC from the last two models and the variable whose coefficient is the largest (in magnitude)."
   ]
  },
  {
   "cell_type": "code",
   "execution_count": 39,
   "id": "ae4aabc6",
   "metadata": {},
   "outputs": [],
   "source": [
    "from sklearn.linear_model import LogisticRegression"
   ]
  },
  {
   "cell_type": "code",
   "execution_count": 40,
   "id": "dd61476c",
   "metadata": {},
   "outputs": [
    {
     "data": {
      "text/html": [
       "<div>\n",
       "<style scoped>\n",
       "    .dataframe tbody tr th:only-of-type {\n",
       "        vertical-align: middle;\n",
       "    }\n",
       "\n",
       "    .dataframe tbody tr th {\n",
       "        vertical-align: top;\n",
       "    }\n",
       "\n",
       "    .dataframe thead th {\n",
       "        text-align: right;\n",
       "    }\n",
       "</style>\n",
       "<table border=\"1\" class=\"dataframe\">\n",
       "  <thead>\n",
       "    <tr style=\"text-align: right;\">\n",
       "      <th></th>\n",
       "      <th>price</th>\n",
       "      <th>review_scores_rating</th>\n",
       "      <th>number_of_reviews</th>\n",
       "      <th>security_deposit</th>\n",
       "      <th>cleaning_fee</th>\n",
       "      <th>neighborhood</th>\n",
       "      <th>property_type</th>\n",
       "      <th>room_type</th>\n",
       "      <th>accommodates</th>\n",
       "      <th>bathrooms</th>\n",
       "      <th>beds</th>\n",
       "      <th>host_response_time</th>\n",
       "      <th>host_response_rate</th>\n",
       "      <th>host_acceptance_rate</th>\n",
       "      <th>host_is_superhost</th>\n",
       "      <th>host_has_profile_pic</th>\n",
       "      <th>host_identity_verified</th>\n",
       "    </tr>\n",
       "  </thead>\n",
       "  <tbody>\n",
       "    <tr>\n",
       "      <th>0</th>\n",
       "      <td>300</td>\n",
       "      <td>100</td>\n",
       "      <td>24</td>\n",
       "      <td>500</td>\n",
       "      <td>95</td>\n",
       "      <td>Wallingford</td>\n",
       "      <td>House</td>\n",
       "      <td>Entire home/apt</td>\n",
       "      <td>5</td>\n",
       "      <td>1.5</td>\n",
       "      <td>3</td>\n",
       "      <td>within a few hours</td>\n",
       "      <td>1.0</td>\n",
       "      <td>1</td>\n",
       "      <td>t</td>\n",
       "      <td>t</td>\n",
       "      <td>t</td>\n",
       "    </tr>\n",
       "    <tr>\n",
       "      <th>1</th>\n",
       "      <td>149</td>\n",
       "      <td>96</td>\n",
       "      <td>11</td>\n",
       "      <td>300</td>\n",
       "      <td>105</td>\n",
       "      <td>Wallingford</td>\n",
       "      <td>Apartment</td>\n",
       "      <td>Entire home/apt</td>\n",
       "      <td>6</td>\n",
       "      <td>1.0</td>\n",
       "      <td>3</td>\n",
       "      <td>within an hour</td>\n",
       "      <td>1.0</td>\n",
       "      <td>1</td>\n",
       "      <td>f</td>\n",
       "      <td>t</td>\n",
       "      <td>t</td>\n",
       "    </tr>\n",
       "    <tr>\n",
       "      <th>2</th>\n",
       "      <td>95</td>\n",
       "      <td>95</td>\n",
       "      <td>79</td>\n",
       "      <td>150</td>\n",
       "      <td>40</td>\n",
       "      <td>Wallingford</td>\n",
       "      <td>Apartment</td>\n",
       "      <td>Entire home/apt</td>\n",
       "      <td>3</td>\n",
       "      <td>1.0</td>\n",
       "      <td>2</td>\n",
       "      <td>within an hour</td>\n",
       "      <td>1.0</td>\n",
       "      <td>1</td>\n",
       "      <td>f</td>\n",
       "      <td>t</td>\n",
       "      <td>t</td>\n",
       "    </tr>\n",
       "    <tr>\n",
       "      <th>3</th>\n",
       "      <td>105</td>\n",
       "      <td>100</td>\n",
       "      <td>13</td>\n",
       "      <td>500</td>\n",
       "      <td>50</td>\n",
       "      <td>Wallingford</td>\n",
       "      <td>House</td>\n",
       "      <td>Private room</td>\n",
       "      <td>2</td>\n",
       "      <td>2.0</td>\n",
       "      <td>1</td>\n",
       "      <td>within a few hours</td>\n",
       "      <td>1.0</td>\n",
       "      <td>1</td>\n",
       "      <td>t</td>\n",
       "      <td>t</td>\n",
       "      <td>t</td>\n",
       "    </tr>\n",
       "    <tr>\n",
       "      <th>4</th>\n",
       "      <td>140</td>\n",
       "      <td>99</td>\n",
       "      <td>30</td>\n",
       "      <td>250</td>\n",
       "      <td>65</td>\n",
       "      <td>Wallingford</td>\n",
       "      <td>House</td>\n",
       "      <td>Entire home/apt</td>\n",
       "      <td>2</td>\n",
       "      <td>1.0</td>\n",
       "      <td>1</td>\n",
       "      <td>within an hour</td>\n",
       "      <td>1.0</td>\n",
       "      <td>1</td>\n",
       "      <td>t</td>\n",
       "      <td>t</td>\n",
       "      <td>t</td>\n",
       "    </tr>\n",
       "  </tbody>\n",
       "</table>\n",
       "</div>"
      ],
      "text/plain": [
       "   price  review_scores_rating  number_of_reviews  security_deposit  \\\n",
       "0    300                   100                 24               500   \n",
       "1    149                    96                 11               300   \n",
       "2     95                    95                 79               150   \n",
       "3    105                   100                 13               500   \n",
       "4    140                    99                 30               250   \n",
       "\n",
       "   cleaning_fee neighborhood property_type        room_type  accommodates  \\\n",
       "0            95  Wallingford         House  Entire home/apt             5   \n",
       "1           105  Wallingford     Apartment  Entire home/apt             6   \n",
       "2            40  Wallingford     Apartment  Entire home/apt             3   \n",
       "3            50  Wallingford         House     Private room             2   \n",
       "4            65  Wallingford         House  Entire home/apt             2   \n",
       "\n",
       "   bathrooms  beds  host_response_time  host_response_rate  \\\n",
       "0        1.5     3  within a few hours                 1.0   \n",
       "1        1.0     3      within an hour                 1.0   \n",
       "2        1.0     2      within an hour                 1.0   \n",
       "3        2.0     1  within a few hours                 1.0   \n",
       "4        1.0     1      within an hour                 1.0   \n",
       "\n",
       "   host_acceptance_rate host_is_superhost host_has_profile_pic  \\\n",
       "0                     1                 t                    t   \n",
       "1                     1                 f                    t   \n",
       "2                     1                 f                    t   \n",
       "3                     1                 t                    t   \n",
       "4                     1                 t                    t   \n",
       "\n",
       "  host_identity_verified  \n",
       "0                      t  \n",
       "1                      t  \n",
       "2                      t  \n",
       "3                      t  \n",
       "4                      t  "
      ]
     },
     "execution_count": 40,
     "metadata": {},
     "output_type": "execute_result"
    }
   ],
   "source": [
    "df.head()"
   ]
  },
  {
   "cell_type": "code",
   "execution_count": 45,
   "id": "8eff3033",
   "metadata": {},
   "outputs": [
    {
     "data": {
      "text/html": [
       "<div>\n",
       "<style scoped>\n",
       "    .dataframe tbody tr th:only-of-type {\n",
       "        vertical-align: middle;\n",
       "    }\n",
       "\n",
       "    .dataframe tbody tr th {\n",
       "        vertical-align: top;\n",
       "    }\n",
       "\n",
       "    .dataframe thead th {\n",
       "        text-align: right;\n",
       "    }\n",
       "</style>\n",
       "<table border=\"1\" class=\"dataframe\">\n",
       "  <thead>\n",
       "    <tr style=\"text-align: right;\">\n",
       "      <th></th>\n",
       "      <th>bathrooms</th>\n",
       "      <th>accommodates</th>\n",
       "      <th>security_deposit</th>\n",
       "      <th>property_type</th>\n",
       "      <th>host_is_superhost</th>\n",
       "    </tr>\n",
       "  </thead>\n",
       "  <tbody>\n",
       "    <tr>\n",
       "      <th>0</th>\n",
       "      <td>1.5</td>\n",
       "      <td>5</td>\n",
       "      <td>500</td>\n",
       "      <td>House</td>\n",
       "      <td>t</td>\n",
       "    </tr>\n",
       "    <tr>\n",
       "      <th>1</th>\n",
       "      <td>1.0</td>\n",
       "      <td>6</td>\n",
       "      <td>300</td>\n",
       "      <td>Apartment</td>\n",
       "      <td>f</td>\n",
       "    </tr>\n",
       "    <tr>\n",
       "      <th>2</th>\n",
       "      <td>1.0</td>\n",
       "      <td>3</td>\n",
       "      <td>150</td>\n",
       "      <td>Apartment</td>\n",
       "      <td>f</td>\n",
       "    </tr>\n",
       "    <tr>\n",
       "      <th>3</th>\n",
       "      <td>2.0</td>\n",
       "      <td>2</td>\n",
       "      <td>500</td>\n",
       "      <td>House</td>\n",
       "      <td>t</td>\n",
       "    </tr>\n",
       "    <tr>\n",
       "      <th>4</th>\n",
       "      <td>1.0</td>\n",
       "      <td>2</td>\n",
       "      <td>250</td>\n",
       "      <td>House</td>\n",
       "      <td>t</td>\n",
       "    </tr>\n",
       "  </tbody>\n",
       "</table>\n",
       "</div>"
      ],
      "text/plain": [
       "   bathrooms  accommodates  security_deposit property_type host_is_superhost\n",
       "0        1.5             5               500         House                 t\n",
       "1        1.0             6               300     Apartment                 f\n",
       "2        1.0             3               150     Apartment                 f\n",
       "3        2.0             2               500         House                 t\n",
       "4        1.0             2               250         House                 t"
      ]
     },
     "execution_count": 45,
     "metadata": {},
     "output_type": "execute_result"
    }
   ],
   "source": [
    "# features matrix, X\n",
    "X = df[['bathrooms', 'accommodates', 'security_deposit', 'property_type', 'host_is_superhost']]\n",
    "X.head()"
   ]
  },
  {
   "cell_type": "code",
   "execution_count": 46,
   "id": "23ca0515",
   "metadata": {},
   "outputs": [
    {
     "data": {
      "text/html": [
       "<div>\n",
       "<style scoped>\n",
       "    .dataframe tbody tr th:only-of-type {\n",
       "        vertical-align: middle;\n",
       "    }\n",
       "\n",
       "    .dataframe tbody tr th {\n",
       "        vertical-align: top;\n",
       "    }\n",
       "\n",
       "    .dataframe thead th {\n",
       "        text-align: right;\n",
       "    }\n",
       "</style>\n",
       "<table border=\"1\" class=\"dataframe\">\n",
       "  <thead>\n",
       "    <tr style=\"text-align: right;\">\n",
       "      <th></th>\n",
       "      <th>bathrooms</th>\n",
       "      <th>accommodates</th>\n",
       "      <th>security_deposit</th>\n",
       "      <th>property_type_House</th>\n",
       "      <th>host_is_superhost_t</th>\n",
       "    </tr>\n",
       "  </thead>\n",
       "  <tbody>\n",
       "    <tr>\n",
       "      <th>0</th>\n",
       "      <td>1.5</td>\n",
       "      <td>5</td>\n",
       "      <td>500</td>\n",
       "      <td>1</td>\n",
       "      <td>1</td>\n",
       "    </tr>\n",
       "    <tr>\n",
       "      <th>1</th>\n",
       "      <td>1.0</td>\n",
       "      <td>6</td>\n",
       "      <td>300</td>\n",
       "      <td>0</td>\n",
       "      <td>0</td>\n",
       "    </tr>\n",
       "    <tr>\n",
       "      <th>2</th>\n",
       "      <td>1.0</td>\n",
       "      <td>3</td>\n",
       "      <td>150</td>\n",
       "      <td>0</td>\n",
       "      <td>0</td>\n",
       "    </tr>\n",
       "    <tr>\n",
       "      <th>3</th>\n",
       "      <td>2.0</td>\n",
       "      <td>2</td>\n",
       "      <td>500</td>\n",
       "      <td>1</td>\n",
       "      <td>1</td>\n",
       "    </tr>\n",
       "    <tr>\n",
       "      <th>4</th>\n",
       "      <td>1.0</td>\n",
       "      <td>2</td>\n",
       "      <td>250</td>\n",
       "      <td>1</td>\n",
       "      <td>1</td>\n",
       "    </tr>\n",
       "  </tbody>\n",
       "</table>\n",
       "</div>"
      ],
      "text/plain": [
       "   bathrooms  accommodates  security_deposit  property_type_House  \\\n",
       "0        1.5             5               500                    1   \n",
       "1        1.0             6               300                    0   \n",
       "2        1.0             3               150                    0   \n",
       "3        2.0             2               500                    1   \n",
       "4        1.0             2               250                    1   \n",
       "\n",
       "   host_is_superhost_t  \n",
       "0                    1  \n",
       "1                    0  \n",
       "2                    0  \n",
       "3                    1  \n",
       "4                    1  "
      ]
     },
     "execution_count": 46,
     "metadata": {},
     "output_type": "execute_result"
    }
   ],
   "source": [
    "X = pd.get_dummies(X, drop_first=True)\n",
    "X.head()"
   ]
  },
  {
   "cell_type": "code",
   "execution_count": 50,
   "id": "d077c9c3",
   "metadata": {},
   "outputs": [
    {
     "data": {
      "text/plain": [
       "0    1\n",
       "1    1\n",
       "2    1\n",
       "3    0\n",
       "4    1\n",
       "Name: room_type, dtype: int64"
      ]
     },
     "execution_count": 50,
     "metadata": {},
     "output_type": "execute_result"
    }
   ],
   "source": [
    "# Target array, y\n",
    "df['room_type']=df['room_type'].map({'Entire home/apt':1,'Private room':0, 'Shared room':0})\n",
    "y = df['room_type']\n",
    "y.head()"
   ]
  },
  {
   "cell_type": "code",
   "execution_count": 53,
   "id": "e2a1a929",
   "metadata": {},
   "outputs": [
    {
     "data": {
      "text/plain": [
       "LogisticRegression(C=0.05, max_iter=1000, penalty='l1', solver='liblinear')"
      ]
     },
     "execution_count": 53,
     "metadata": {},
     "output_type": "execute_result"
    }
   ],
   "source": [
    "# LASSO model with a lambda = 20\n",
    "clf1 = LogisticRegression('Yl1', solver='liblinear', \n",
    "                          max_iter=1000, C=1/20)\n",
    "clf1.fit(X,y)"
   ]
  },
  {
   "cell_type": "code",
   "execution_count": 58,
   "id": "ba5f2bc8",
   "metadata": {},
   "outputs": [
    {
     "data": {
      "text/plain": [
       "array([[ 0.00000000e+00],\n",
       "       [ 6.61861120e-01],\n",
       "       [-4.11917270e-04],\n",
       "       [-1.08188287e+00],\n",
       "       [ 0.00000000e+00]])"
      ]
     },
     "execution_count": 58,
     "metadata": {},
     "output_type": "execute_result"
    }
   ],
   "source": [
    "clf1.coef_.T"
   ]
  },
  {
   "cell_type": "code",
   "execution_count": 66,
   "id": "1e35286d",
   "metadata": {},
   "outputs": [
    {
     "name": "stdout",
     "output_type": "stream",
     "text": [
      "Optimization terminated successfully.\n",
      "         Current function value: 0.224184\n",
      "         Iterations 9\n"
     ]
    },
    {
     "data": {
      "text/plain": [
       "175.30065921409513"
      ]
     },
     "execution_count": 66,
     "metadata": {},
     "output_type": "execute_result"
    }
   ],
   "source": [
    "mod_1 = smf.logit('y~accommodates+security_deposit+property_type', data=df).fit()\n",
    "mod_1.bic"
   ]
  },
  {
   "cell_type": "code",
   "execution_count": 54,
   "id": "13d46a1f",
   "metadata": {},
   "outputs": [
    {
     "data": {
      "text/plain": [
       "LogisticRegression(C=0.5, max_iter=1000, penalty='l1', solver='liblinear')"
      ]
     },
     "execution_count": 54,
     "metadata": {},
     "output_type": "execute_result"
    }
   ],
   "source": [
    "# LASSO model with a lambda = 2\n",
    "clf2 = LogisticRegression('l1', solver='liblinear', \n",
    "                          max_iter=1000, C=1/2)\n",
    "clf2.fit(X,y)"
   ]
  },
  {
   "cell_type": "code",
   "execution_count": 59,
   "id": "feb43343",
   "metadata": {},
   "outputs": [
    {
     "data": {
      "text/plain": [
       "array([[-8.01324088e-01],\n",
       "       [ 1.58475589e+00],\n",
       "       [ 6.55967246e-04],\n",
       "       [-2.86542044e+00],\n",
       "       [ 1.16438420e-01]])"
      ]
     },
     "execution_count": 59,
     "metadata": {},
     "output_type": "execute_result"
    }
   ],
   "source": [
    "clf2.coef_.T"
   ]
  },
  {
   "cell_type": "code",
   "execution_count": 65,
   "id": "dee3eb4f",
   "metadata": {},
   "outputs": [
    {
     "name": "stdout",
     "output_type": "stream",
     "text": [
      "Optimization terminated successfully.\n",
      "         Current function value: 0.216972\n",
      "         Iterations 9\n"
     ]
    },
    {
     "data": {
      "text/plain": [
       "182.0629114420658"
      ]
     },
     "execution_count": 65,
     "metadata": {},
     "output_type": "execute_result"
    }
   ],
   "source": [
    "mod_2 = smf.logit('y~bathrooms+accommodates+security_deposit+property_type+host_is_superhost', data=df).fit()\n",
    "mod_2.bic"
   ]
  }
 ],
 "metadata": {
  "kernelspec": {
   "display_name": "Python 3 (ipykernel)",
   "language": "python",
   "name": "python3"
  },
  "language_info": {
   "codemirror_mode": {
    "name": "ipython",
    "version": 3
   },
   "file_extension": ".py",
   "mimetype": "text/x-python",
   "name": "python",
   "nbconvert_exporter": "python",
   "pygments_lexer": "ipython3",
   "version": "3.9.7"
  }
 },
 "nbformat": 4,
 "nbformat_minor": 5
}
