{
 "cells": [
  {
   "cell_type": "markdown",
   "id": "444fc7fb",
   "metadata": {},
   "source": [
    "# Final Project \n",
    "- **Statistical Analysis of the Mobile Phone Price by Features, Specifications, and Performance**\n",
    "\n",
    "Gayeon Kim, Yujin Son, Jiwon Kim"
   ]
  },
  {
   "cell_type": "markdown",
   "id": "db7284f1",
   "metadata": {},
   "source": [
    "## 1. Introduction"
   ]
  },
  {
   "cell_type": "markdown",
   "id": "4c7029f8",
   "metadata": {},
   "source": [
    "For modern people, mobile phone is one of the most essential items. People use their mobile phones not only to call and text others, but also to search for the information in need, to write down documents, and even to make media contents. Although the aspects that they think the most important might vary, most people would want to use the latest high-performance mobile phones. However, recently released mobile phones are more expensive than before as their performance improve."
   ]
  },
  {
   "cell_type": "markdown",
   "id": "b82baace",
   "metadata": {},
   "source": [
    "Our group is going to analyze which features of mobile phones have a significant effect on mobile phone pricing. Given that mobile phone is a necessary item but also high in price, it is clear that people would be interested in this topic and further analyses. For descriptive analytics section, we will explore how phone price alternates by the changes in processor frequency or a size of a ram. Then, we conduct inference research concerned with operation system brand and phone price. Next section presents the linear regression research for phone price and various features determinative to performance of a phone. The last section explores the logistic regression with a parsimonious model for identifying expected ratings responding to selected predictor variables."
   ]
  },
  {
   "cell_type": "markdown",
   "id": "a86178de",
   "metadata": {},
   "source": [
    "The answers to these research questions could be helpful for both manufacturers and consumers. In the perspective of consumers,  they can consider how the features they are interested in would affect the price of a mobile phone. Consumers consider performance important when it comes to purchasing mobile phones, but they cannot avoid weighing prices in consideration of their budgets.The results of these analyses will help them make a reasonable compromise on some performance-decisive features in their mobile phone purchase decisions. <br>\n",
    "From the perspective of manufacturers, by examining whether there is a linear relationship between these technical specifications and the price, we can provide insights into whether consumers are paying more or giving higher ratings for better performance or if there are other factors at play. "
   ]
  },
  {
   "cell_type": "code",
   "execution_count": 1,
   "id": "c535c184",
   "metadata": {},
   "outputs": [],
   "source": [
    "import pandas as pd\n",
    "import numpy as np\n",
    "import matplotlib.pyplot as plt\n",
    "import seaborn as sns\n",
    "\n",
    "from scipy.stats import t\n",
    "import statsmodels.api as sm\n",
    "import statsmodels.formula.api as smf\n",
    "\n",
    "from sklearn.model_selection import train_test_split"
   ]
  },
  {
   "cell_type": "code",
   "execution_count": 2,
   "id": "8429c57b",
   "metadata": {},
   "outputs": [
    {
     "name": "stdout",
     "output_type": "stream",
     "text": [
      "(695, 18)\n"
     ]
    },
    {
     "data": {
      "text/html": [
       "<div>\n",
       "<style scoped>\n",
       "    .dataframe tbody tr th:only-of-type {\n",
       "        vertical-align: middle;\n",
       "    }\n",
       "\n",
       "    .dataframe tbody tr th {\n",
       "        vertical-align: top;\n",
       "    }\n",
       "\n",
       "    .dataframe thead th {\n",
       "        text-align: right;\n",
       "    }\n",
       "</style>\n",
       "<table border=\"1\" class=\"dataframe\">\n",
       "  <thead>\n",
       "    <tr style=\"text-align: right;\">\n",
       "      <th></th>\n",
       "      <th>price</th>\n",
       "      <th>rating</th>\n",
       "      <th>specs_score</th>\n",
       "      <th>sim</th>\n",
       "      <th>5G</th>\n",
       "      <th>NFC</th>\n",
       "      <th>core</th>\n",
       "      <th>frequency</th>\n",
       "      <th>ram_inbuilt</th>\n",
       "      <th>ram</th>\n",
       "      <th>battery</th>\n",
       "      <th>display_size</th>\n",
       "      <th>display_pixels</th>\n",
       "      <th>display_frequency</th>\n",
       "      <th>front_camera</th>\n",
       "      <th>rear_camera</th>\n",
       "      <th>memory_card</th>\n",
       "      <th>os_brand</th>\n",
       "    </tr>\n",
       "  </thead>\n",
       "  <tbody>\n",
       "    <tr>\n",
       "      <th>0</th>\n",
       "      <td>37999</td>\n",
       "      <td>4.50</td>\n",
       "      <td>84</td>\n",
       "      <td>2</td>\n",
       "      <td>True</td>\n",
       "      <td>False</td>\n",
       "      <td>8</td>\n",
       "      <td>3.10</td>\n",
       "      <td>128</td>\n",
       "      <td>8</td>\n",
       "      <td>4600</td>\n",
       "      <td>6.78</td>\n",
       "      <td>2592000</td>\n",
       "      <td>120.0</td>\n",
       "      <td>50.0</td>\n",
       "      <td>3</td>\n",
       "      <td>False</td>\n",
       "      <td>1</td>\n",
       "    </tr>\n",
       "    <tr>\n",
       "      <th>1</th>\n",
       "      <td>39999</td>\n",
       "      <td>4.45</td>\n",
       "      <td>85</td>\n",
       "      <td>2</td>\n",
       "      <td>True</td>\n",
       "      <td>True</td>\n",
       "      <td>8</td>\n",
       "      <td>3.20</td>\n",
       "      <td>128</td>\n",
       "      <td>8</td>\n",
       "      <td>5000</td>\n",
       "      <td>6.74</td>\n",
       "      <td>3437280</td>\n",
       "      <td>120.0</td>\n",
       "      <td>16.0</td>\n",
       "      <td>3</td>\n",
       "      <td>False</td>\n",
       "      <td>1</td>\n",
       "    </tr>\n",
       "    <tr>\n",
       "      <th>2</th>\n",
       "      <td>18999</td>\n",
       "      <td>4.00</td>\n",
       "      <td>81</td>\n",
       "      <td>2</td>\n",
       "      <td>True</td>\n",
       "      <td>False</td>\n",
       "      <td>8</td>\n",
       "      <td>2.20</td>\n",
       "      <td>128</td>\n",
       "      <td>6</td>\n",
       "      <td>5000</td>\n",
       "      <td>6.59</td>\n",
       "      <td>2604960</td>\n",
       "      <td>120.0</td>\n",
       "      <td>16.0</td>\n",
       "      <td>3</td>\n",
       "      <td>True</td>\n",
       "      <td>1</td>\n",
       "    </tr>\n",
       "    <tr>\n",
       "      <th>3</th>\n",
       "      <td>29999</td>\n",
       "      <td>4.40</td>\n",
       "      <td>86</td>\n",
       "      <td>2</td>\n",
       "      <td>True</td>\n",
       "      <td>True</td>\n",
       "      <td>8</td>\n",
       "      <td>2.20</td>\n",
       "      <td>128</td>\n",
       "      <td>8</td>\n",
       "      <td>4800</td>\n",
       "      <td>6.70</td>\n",
       "      <td>2604960</td>\n",
       "      <td>120.0</td>\n",
       "      <td>32.0</td>\n",
       "      <td>3</td>\n",
       "      <td>True</td>\n",
       "      <td>1</td>\n",
       "    </tr>\n",
       "    <tr>\n",
       "      <th>4</th>\n",
       "      <td>65999</td>\n",
       "      <td>4.65</td>\n",
       "      <td>81</td>\n",
       "      <td>2</td>\n",
       "      <td>True</td>\n",
       "      <td>True</td>\n",
       "      <td>6</td>\n",
       "      <td>3.22</td>\n",
       "      <td>128</td>\n",
       "      <td>6</td>\n",
       "      <td>3279</td>\n",
       "      <td>6.10</td>\n",
       "      <td>2962440</td>\n",
       "      <td>0.0</td>\n",
       "      <td>12.0</td>\n",
       "      <td>2</td>\n",
       "      <td>False</td>\n",
       "      <td>0</td>\n",
       "    </tr>\n",
       "    <tr>\n",
       "      <th>5</th>\n",
       "      <td>29999</td>\n",
       "      <td>3.95</td>\n",
       "      <td>85</td>\n",
       "      <td>2</td>\n",
       "      <td>True</td>\n",
       "      <td>True</td>\n",
       "      <td>8</td>\n",
       "      <td>2.50</td>\n",
       "      <td>128</td>\n",
       "      <td>8</td>\n",
       "      <td>4500</td>\n",
       "      <td>6.55</td>\n",
       "      <td>2592000</td>\n",
       "      <td>120.0</td>\n",
       "      <td>16.0</td>\n",
       "      <td>2</td>\n",
       "      <td>False</td>\n",
       "      <td>1</td>\n",
       "    </tr>\n",
       "  </tbody>\n",
       "</table>\n",
       "</div>"
      ],
      "text/plain": [
       "   price  rating  specs_score  sim    5G    NFC  core  frequency  ram_inbuilt  \\\n",
       "0  37999    4.50           84    2  True  False     8       3.10          128   \n",
       "1  39999    4.45           85    2  True   True     8       3.20          128   \n",
       "2  18999    4.00           81    2  True  False     8       2.20          128   \n",
       "3  29999    4.40           86    2  True   True     8       2.20          128   \n",
       "4  65999    4.65           81    2  True   True     6       3.22          128   \n",
       "5  29999    3.95           85    2  True   True     8       2.50          128   \n",
       "\n",
       "   ram  battery  display_size  display_pixels  display_frequency  \\\n",
       "0    8     4600          6.78         2592000              120.0   \n",
       "1    8     5000          6.74         3437280              120.0   \n",
       "2    6     5000          6.59         2604960              120.0   \n",
       "3    8     4800          6.70         2604960              120.0   \n",
       "4    6     3279          6.10         2962440                0.0   \n",
       "5    8     4500          6.55         2592000              120.0   \n",
       "\n",
       "   front_camera  rear_camera  memory_card  os_brand  \n",
       "0          50.0            3        False         1  \n",
       "1          16.0            3        False         1  \n",
       "2          16.0            3         True         1  \n",
       "3          32.0            3         True         1  \n",
       "4          12.0            2        False         0  \n",
       "5          16.0            2        False         1  "
      ]
     },
     "execution_count": 2,
     "metadata": {},
     "output_type": "execute_result"
    }
   ],
   "source": [
    "# read the preprocessed data\n",
    "phone = pd.read_csv('df.csv')\n",
    "\n",
    "# Our data has 695 rows and 18 columns.\n",
    "print(phone.shape)\n",
    "\n",
    "# Display of first 6 observations from our dataframe. \n",
    "phone.head(6)"
   ]
  },
  {
   "cell_type": "markdown",
   "id": "f119999c",
   "metadata": {},
   "source": [
    "Our data 'phone.csv' contains the data about each phone, such as price, rating, and specification scores. It also has information about the physical features of each phone, such as display size, and performance such as battery, storage capacity, the frequency for the processor, and whether the phone support 5G, NFC, and memory card. The limitation of our raw data (https://www.kaggle.com/datasets/ashpalsingh1525/mobilephones-dataset) was that we cannot know how some variables were defined. For example, we cannot know the size of respondents and the measurement of methods for column 'rating'. Also, we converted some variables of our raw data containing unit expressions (read as 'objects') into numeric type values while data cleaning. We unified the data unit into GB for variables related to size of memories. Other than that, for some categorical variables that include so many levels, we dropped off the levels that only had few rows. "
   ]
  },
  {
   "cell_type": "markdown",
   "id": "ee1964bf",
   "metadata": {},
   "source": [
    "## 2. Descriptive Analytics"
   ]
  },
  {
   "cell_type": "markdown",
   "id": "064d30af",
   "metadata": {},
   "source": [
    "**RQ 1** : What is the relationship between a **price** and a **processor frequency** of a phone?"
   ]
  },
  {
   "cell_type": "code",
   "execution_count": 3,
   "id": "18106d8b",
   "metadata": {},
   "outputs": [
    {
     "data": {
      "text/html": [
       "<div>\n",
       "<style scoped>\n",
       "    .dataframe tbody tr th:only-of-type {\n",
       "        vertical-align: middle;\n",
       "    }\n",
       "\n",
       "    .dataframe tbody tr th {\n",
       "        vertical-align: top;\n",
       "    }\n",
       "\n",
       "    .dataframe thead th {\n",
       "        text-align: right;\n",
       "    }\n",
       "</style>\n",
       "<table border=\"1\" class=\"dataframe\">\n",
       "  <thead>\n",
       "    <tr style=\"text-align: right;\">\n",
       "      <th></th>\n",
       "      <th>frequency</th>\n",
       "      <th>price</th>\n",
       "    </tr>\n",
       "  </thead>\n",
       "  <tbody>\n",
       "    <tr>\n",
       "      <th>count</th>\n",
       "      <td>695.000000</td>\n",
       "      <td>695.000000</td>\n",
       "    </tr>\n",
       "    <tr>\n",
       "      <th>mean</th>\n",
       "      <td>2.508058</td>\n",
       "      <td>32517.775540</td>\n",
       "    </tr>\n",
       "    <tr>\n",
       "      <th>std</th>\n",
       "      <td>0.457799</td>\n",
       "      <td>30898.501175</td>\n",
       "    </tr>\n",
       "    <tr>\n",
       "      <th>min</th>\n",
       "      <td>1.600000</td>\n",
       "      <td>5340.000000</td>\n",
       "    </tr>\n",
       "    <tr>\n",
       "      <th>25%</th>\n",
       "      <td>2.200000</td>\n",
       "      <td>13999.000000</td>\n",
       "    </tr>\n",
       "    <tr>\n",
       "      <th>50%</th>\n",
       "      <td>2.400000</td>\n",
       "      <td>19999.000000</td>\n",
       "    </tr>\n",
       "    <tr>\n",
       "      <th>75%</th>\n",
       "      <td>3.000000</td>\n",
       "      <td>36994.500000</td>\n",
       "    </tr>\n",
       "    <tr>\n",
       "      <th>max</th>\n",
       "      <td>3.460000</td>\n",
       "      <td>197999.000000</td>\n",
       "    </tr>\n",
       "  </tbody>\n",
       "</table>\n",
       "</div>"
      ],
      "text/plain": [
       "        frequency          price\n",
       "count  695.000000     695.000000\n",
       "mean     2.508058   32517.775540\n",
       "std      0.457799   30898.501175\n",
       "min      1.600000    5340.000000\n",
       "25%      2.200000   13999.000000\n",
       "50%      2.400000   19999.000000\n",
       "75%      3.000000   36994.500000\n",
       "max      3.460000  197999.000000"
      ]
     },
     "execution_count": 3,
     "metadata": {},
     "output_type": "execute_result"
    }
   ],
   "source": [
    "# summary statistics for each variables; 'frequency' and 'price'\n",
    "phone[['frequency', 'price']].describe()"
   ]
  },
  {
   "cell_type": "code",
   "execution_count": 4,
   "id": "0cb20a85",
   "metadata": {},
   "outputs": [
    {
     "name": "stdout",
     "output_type": "stream",
     "text": [
      "0.7233443545126061\n"
     ]
    }
   ],
   "source": [
    "# calculate a correlation between variable 'frequency' and 'price'\n",
    "print(phone['frequency'].corr(phone['price']))"
   ]
  },
  {
   "cell_type": "code",
   "execution_count": 5,
   "id": "a71cb58d",
   "metadata": {},
   "outputs": [
    {
     "data": {
      "text/plain": [
       "<AxesSubplot:xlabel='frequency', ylabel='price'>"
      ]
     },
     "execution_count": 5,
     "metadata": {},
     "output_type": "execute_result"
    },
    {
     "data": {
      "image/png": "[encoded data removed]",
      "text/plain": [
       "<Figure size 432x288 with 1 Axes>"
      ]
     },
     "metadata": {
      "needs_background": "light"
     },
     "output_type": "display_data"
    }
   ],
   "source": [
    "sns.scatterplot(data = phone, x = \"frequency\", y = \"price\")"
   ]
  },
  {
   "cell_type": "markdown",
   "id": "f0a89f53",
   "metadata": {},
   "source": [
    "The relationship between frequency and price is positive, non-linear, moderate in strength, and has one outlier in right above. Correlation value between two variables is 0.72, which also supports the relationship that we described with a scatterplot. \n",
    "\n",
    "Now, we would like to navigate through the relationship between a **price** and **processor frequency** by whether an extra **memory card** is supported or not.  "
   ]
  },
  {
   "cell_type": "code",
   "execution_count": 6,
   "id": "73d094aa",
   "metadata": {},
   "outputs": [
    {
     "data": {
      "text/plain": [
       "<AxesSubplot:xlabel='frequency', ylabel='price'>"
      ]
     },
     "execution_count": 6,
     "metadata": {},
     "output_type": "execute_result"
    },
    {
     "data": {
      "image/png": "[encoded data removed]",
      "text/plain": [
       "<Figure size 432x288 with 1 Axes>"
      ]
     },
     "metadata": {
      "needs_background": "light"
     },
     "output_type": "display_data"
    }
   ],
   "source": [
    "sns.scatterplot(data = phone, x = \"frequency\", y = \"price\", hue = \"memory_card\")"
   ]
  },
  {
   "cell_type": "markdown",
   "id": "3bb29d01",
   "metadata": {},
   "source": [
    "Whether an extra memory card is supported or not seems to affect the relationship between processor frequency and price. For those unavailable for extra memory cards are more likely to show positive relationship between frequency and price. Phones that are available of extra memory cards tend to have low frequency as well as low price, and do not show noticeable relationship between two variables according to the scatterplot above."
   ]
  },
  {
   "cell_type": "markdown",
   "id": "78329b93",
   "metadata": {},
   "source": [
    "**RQ 2** : Is there a relationship between a phone's **price** and **size of a ram**?"
   ]
  },
  {
   "cell_type": "code",
   "execution_count": 7,
   "id": "c6d6f149",
   "metadata": {},
   "outputs": [
    {
     "data": {
      "text/plain": [
       "<AxesSubplot:xlabel='ram', ylabel='price'>"
      ]
     },
     "execution_count": 7,
     "metadata": {},
     "output_type": "execute_result"
    },
    {
     "data": {
      "image/png": "[encoded data removed]",
      "text/plain": [
       "<Figure size 432x288 with 1 Axes>"
      ]
     },
     "metadata": {
      "needs_background": "light"
     },
     "output_type": "display_data"
    }
   ],
   "source": [
    "sns.scatterplot(data = phone, x = \"ram\", y = \"price\")"
   ]
  },
  {
   "cell_type": "code",
   "execution_count": 8,
   "id": "2ed91042",
   "metadata": {},
   "outputs": [
    {
     "name": "stdout",
     "output_type": "stream",
     "text": [
      "0.525221617625035\n"
     ]
    }
   ],
   "source": [
    "print(phone['ram'].corr(phone['price']))"
   ]
  },
  {
   "cell_type": "markdown",
   "id": "772ab690",
   "metadata": {},
   "source": [
    "The relationship between a size of ram and price is positive, non-linear (having too large variance), and weak in strength. Because there merely is a relationship between two variables, it is hard to say which data is an outlier. \n",
    "\n",
    "Correlation value also shows that it is hard to say that there is a relationship between those two variables. "
   ]
  },
  {
   "cell_type": "markdown",
   "id": "7ad0bbd1",
   "metadata": {},
   "source": [
    "## 3. Inference"
   ]
  },
  {
   "cell_type": "markdown",
   "id": "681a8f7b",
   "metadata": {},
   "source": [
    "We would like to conduct hypothesis testing for identifying the association between os brand and the price of all mobile phone. So, our research question is that **whether the population mean price of iOS is greater than the population mean price of Android**.<br>\n",
    "\n",
    "These are our **hypotheses**. <br>\n",
    "$H_0: \\mu_i - \\mu_A = 0$<br>\n",
    "$H_a: \\mu_i - \\mu_A > 0$<br>\n",
    "where $\\mu_i$ is the population mean price of iOS mobile phone and $\\mu_A$ is the population mean price of Android mobile phone.<br>"
   ]
  },
  {
   "cell_type": "code",
   "execution_count": 9,
   "id": "31646430",
   "metadata": {},
   "outputs": [
    {
     "name": "stdout",
     "output_type": "stream",
     "text": [
      "sample size of iOS:  40\n",
      "sample size of Android:  655\n",
      "\n",
      "sample mean price of iOS:  95348.45\n",
      "sample mean price of Android:  28680.78778625954\n",
      "\n",
      "sample standard deviation of iOS:  39663.917506294725\n",
      "sample standard deviation Android:  25750.718144835773\n"
     ]
    }
   ],
   "source": [
    "# iOS brand is mapped as 0, Android brand is mapped as 1\n",
    "\n",
    "os_i = phone[phone['os_brand']== 0]\n",
    "os_A = phone[phone['os_brand']== 1]\n",
    "\n",
    "n_i = len(os_i)\n",
    "n_A = len(os_A)\n",
    "\n",
    "mean_i = os_i['price'].mean()\n",
    "mean_A = os_A['price'].mean()\n",
    "\n",
    "std_i = os_i['price'].std()\n",
    "std_A = os_A['price'].std()\n",
    "\n",
    "print('sample size of iOS: ', n_i)\n",
    "print('sample size of Android: ', n_A)\n",
    "\n",
    "print('\\nsample mean price of iOS: ', mean_i)\n",
    "print('sample mean price of Android: ', mean_A)\n",
    "\n",
    "print('\\nsample standard deviation of iOS: ', std_i)\n",
    "print('sample standard deviation Android: ', std_A)"
   ]
  },
  {
   "cell_type": "markdown",
   "id": "b07c3a13",
   "metadata": {},
   "source": [
    "Next, let's heck the Central Limit Theorem conditions for differences of sample means to see if we can make valid interpretations and inferences with our hypothesis testing.<br>\n",
    "1. Sample with *iOS* mobile phone is randomly sampled.\n",
    "2. $n_i = 40 < 10\\%$ of all *iOS* mobile phone.\n",
    "3. Sample with *Android* mobile phone is randomly sampled.\n",
    "4. $n_A = 655 < 10\\%$ of all *Android* mobile phone.\n",
    "5. $n_i = 40 > 30$\n",
    "6. $n_A = 655 > 30$\n",
    "7. We can assume that there is no pairwise relationship between the mobilephone in both groups in this sample.\n",
    "All of the conditions are met, so we can proceed with conducting this hypothesis test."
   ]
  },
  {
   "cell_type": "markdown",
   "id": "3a8eaecf",
   "metadata": {},
   "source": [
    "We do not know $\\sigma_i$ and $\\sigma_A$, so we will calculate the t-score of our point estimate $(\\bar{x}_i - \\bar{x}_A)$ and use the t-distribution $df=min\\{n_i-1, n_A-1\\} = min\\{40-1, 655-1\\} = 39$ to calculate our p-value probability."
   ]
  },
  {
   "cell_type": "code",
   "execution_count": 10,
   "id": "5fa7350a",
   "metadata": {},
   "outputs": [
    {
     "name": "stdout",
     "output_type": "stream",
     "text": [
      "point estimate:  66667.66221374046\n",
      "\n",
      "standard error for point estimate:  6351.615890824122\n",
      "\n",
      "test statistic (t-score of the point estimate):  10.496173471392071\n",
      "p-value:  3.1896707497480747e-13\n"
     ]
    }
   ],
   "source": [
    "point_est = mean_i - mean_A\n",
    "print('point estimate: ', point_est)\n",
    "\n",
    "std_err = np.sqrt((std_i**2)/n_i + (std_A**2)/n_A)\n",
    "print('\\nstandard error for point estimate: ', std_err)\n",
    "\n",
    "test_stat = (point_est - 0) / std_err\n",
    "print('\\ntest statistic (t-score of the point estimate): ', test_stat)\n",
    "\n",
    "pval = 1-t.cdf(np.abs(test_stat), df=39)\n",
    "print('p-value: ', pval)"
   ]
  },
  {
   "cell_type": "markdown",
   "id": "ce547904",
   "metadata": {},
   "source": [
    "We will set the significance level 0.05. \n",
    "Because $p-value \\approx 0 < \\alpha = 0.05$, we reject the null hypothesis. Thus we do have sufficient evidence to suggest that $H_a: \\mu_i - \\mu_A > 0$ (i.e., the population mean price of *iOS* is greater than the population mean price of *Android*.)"
   ]
  },
  {
   "cell_type": "markdown",
   "id": "ec293d7b",
   "metadata": {},
   "source": [
    "## 4. Linear Regression"
   ]
  },
  {
   "cell_type": "markdown",
   "id": "b506c37e",
   "metadata": {},
   "source": [
    "Our research question is **Is there a linear relationship between price and ram, core, number of sim and whether the phone can put on extra memory card or not?**."
   ]
  },
  {
   "cell_type": "code",
   "execution_count": 11,
   "id": "c3a29722",
   "metadata": {},
   "outputs": [
    {
     "data": {
      "text/html": [
       "<table class=\"simpletable\">\n",
       "<caption>OLS Regression Results</caption>\n",
       "<tr>\n",
       "  <th>Dep. Variable:</th>          <td>price</td>      <th>  R-squared:         </th> <td>   0.516</td> \n",
       "</tr>\n",
       "<tr>\n",
       "  <th>Model:</th>                   <td>OLS</td>       <th>  Adj. R-squared:    </th> <td>   0.513</td> \n",
       "</tr>\n",
       "<tr>\n",
       "  <th>Method:</th>             <td>Least Squares</td>  <th>  F-statistic:       </th> <td>   183.8</td> \n",
       "</tr>\n",
       "<tr>\n",
       "  <th>Date:</th>             <td>Wed, 03 May 2023</td> <th>  Prob (F-statistic):</th> <td>3.68e-107</td>\n",
       "</tr>\n",
       "<tr>\n",
       "  <th>Time:</th>                 <td>00:44:06</td>     <th>  Log-Likelihood:    </th> <td> -7918.8</td> \n",
       "</tr>\n",
       "<tr>\n",
       "  <th>No. Observations:</th>      <td>   695</td>      <th>  AIC:               </th> <td>1.585e+04</td>\n",
       "</tr>\n",
       "<tr>\n",
       "  <th>Df Residuals:</th>          <td>   690</td>      <th>  BIC:               </th> <td>1.587e+04</td>\n",
       "</tr>\n",
       "<tr>\n",
       "  <th>Df Model:</th>              <td>     4</td>      <th>                     </th>     <td> </td>    \n",
       "</tr>\n",
       "<tr>\n",
       "  <th>Covariance Type:</th>      <td>nonrobust</td>    <th>                     </th>     <td> </td>    \n",
       "</tr>\n",
       "</table>\n",
       "<table class=\"simpletable\">\n",
       "<tr>\n",
       "           <td></td>              <th>coef</th>     <th>std err</th>      <th>t</th>      <th>P>|t|</th>  <th>[0.025</th>    <th>0.975]</th>  \n",
       "</tr>\n",
       "<tr>\n",
       "  <th>Intercept</th>           <td> 9.719e+04</td> <td> 3.11e+04</td> <td>    3.127</td> <td> 0.002</td> <td> 3.62e+04</td> <td> 1.58e+05</td>\n",
       "</tr>\n",
       "<tr>\n",
       "  <th>memory_card[T.True]</th> <td>-1.988e+04</td> <td> 2016.012</td> <td>   -9.862</td> <td> 0.000</td> <td>-2.38e+04</td> <td>-1.59e+04</td>\n",
       "</tr>\n",
       "<tr>\n",
       "  <th>ram</th>                 <td> 4967.3870</td> <td>  357.179</td> <td>   13.907</td> <td> 0.000</td> <td> 4266.099</td> <td> 5668.675</td>\n",
       "</tr>\n",
       "<tr>\n",
       "  <th>core</th>                <td>-1.592e+04</td> <td> 1325.185</td> <td>  -12.011</td> <td> 0.000</td> <td>-1.85e+04</td> <td>-1.33e+04</td>\n",
       "</tr>\n",
       "<tr>\n",
       "  <th>sim</th>                 <td> 1.892e+04</td> <td> 1.55e+04</td> <td>    1.222</td> <td> 0.222</td> <td>-1.15e+04</td> <td> 4.93e+04</td>\n",
       "</tr>\n",
       "</table>\n",
       "<table class=\"simpletable\">\n",
       "<tr>\n",
       "  <th>Omnibus:</th>       <td>241.287</td> <th>  Durbin-Watson:     </th> <td>   1.860</td> \n",
       "</tr>\n",
       "<tr>\n",
       "  <th>Prob(Omnibus):</th> <td> 0.000</td>  <th>  Jarque-Bera (JB):  </th> <td>1169.258</td> \n",
       "</tr>\n",
       "<tr>\n",
       "  <th>Skew:</th>          <td> 1.503</td>  <th>  Prob(JB):          </th> <td>1.26e-254</td>\n",
       "</tr>\n",
       "<tr>\n",
       "  <th>Kurtosis:</th>      <td> 8.598</td>  <th>  Cond. No.          </th> <td>    457.</td> \n",
       "</tr>\n",
       "</table><br/><br/>Notes:<br/>[1] Standard Errors assume that the covariance matrix of the errors is correctly specified."
      ],
      "text/plain": [
       "<class 'statsmodels.iolib.summary.Summary'>\n",
       "\"\"\"\n",
       "                            OLS Regression Results                            \n",
       "==============================================================================\n",
       "Dep. Variable:                  price   R-squared:                       0.516\n",
       "Model:                            OLS   Adj. R-squared:                  0.513\n",
       "Method:                 Least Squares   F-statistic:                     183.8\n",
       "Date:                Wed, 03 May 2023   Prob (F-statistic):          3.68e-107\n",
       "Time:                        00:44:06   Log-Likelihood:                -7918.8\n",
       "No. Observations:                 695   AIC:                         1.585e+04\n",
       "Df Residuals:                     690   BIC:                         1.587e+04\n",
       "Df Model:                           4                                         \n",
       "Covariance Type:            nonrobust                                         \n",
       "=======================================================================================\n",
       "                          coef    std err          t      P>|t|      [0.025      0.975]\n",
       "---------------------------------------------------------------------------------------\n",
       "Intercept            9.719e+04   3.11e+04      3.127      0.002    3.62e+04    1.58e+05\n",
       "memory_card[T.True] -1.988e+04   2016.012     -9.862      0.000   -2.38e+04   -1.59e+04\n",
       "ram                  4967.3870    357.179     13.907      0.000    4266.099    5668.675\n",
       "core                -1.592e+04   1325.185    -12.011      0.000   -1.85e+04   -1.33e+04\n",
       "sim                  1.892e+04   1.55e+04      1.222      0.222   -1.15e+04    4.93e+04\n",
       "==============================================================================\n",
       "Omnibus:                      241.287   Durbin-Watson:                   1.860\n",
       "Prob(Omnibus):                  0.000   Jarque-Bera (JB):             1169.258\n",
       "Skew:                           1.503   Prob(JB):                    1.26e-254\n",
       "Kurtosis:                       8.598   Cond. No.                         457.\n",
       "==============================================================================\n",
       "\n",
       "Notes:\n",
       "[1] Standard Errors assume that the covariance matrix of the errors is correctly specified.\n",
       "\"\"\""
      ]
     },
     "execution_count": 11,
     "metadata": {},
     "output_type": "execute_result"
    }
   ],
   "source": [
    "mod1 = smf.ols('price ~ ram+memory_card+core+sim', data=phone).fit()\n",
    "mod1.summary()"
   ]
  },
  {
   "cell_type": "markdown",
   "id": "305dc323",
   "metadata": {},
   "source": [
    "**Linear Regression Equation**<br>\n",
    "$\\hat{y} = 97190 - 19880(memory\\_card) + 4967(ram) - 15920(core) + 18920(sim)$"
   ]
  },
  {
   "cell_type": "markdown",
   "id": "c015773d",
   "metadata": {},
   "source": [
    "**Condition 1: Linearity Condition**<br>\n",
    "Because the distribution of points in the plot below are roughly evenly distributed above and below the line as we move from left to right, we can say the linearity condition is NOT met."
   ]
  },
  {
   "cell_type": "code",
   "execution_count": 12,
   "id": "09ef0956",
   "metadata": {},
   "outputs": [
    {
     "data": {
      "image/png": "[encoded data removed]",
      "text/plain": [
       "<Figure size 432x288 with 1 Axes>"
      ]
     },
     "metadata": {
      "needs_background": "light"
     },
     "output_type": "display_data"
    }
   ],
   "source": [
    "sns.regplot(x=mod1.fittedvalues, y=mod1.resid, ci=None)\n",
    "plt.ylabel('Residual')\n",
    "plt.xlabel('Fitted Value')\n",
    "plt.title('Linearity Condition')\n",
    "plt.show()"
   ]
  },
  {
   "cell_type": "markdown",
   "id": "72577c51",
   "metadata": {},
   "source": [
    "**Condition 2: Constant Variability of Residuals Condition**<br>\n",
    "Because the y‑axis spread of points in the plot below slightly change as we move from left to right, we can say that this condition is slightly NOT met."
   ]
  },
  {
   "cell_type": "code",
   "execution_count": 13,
   "id": "8f47ec17",
   "metadata": {},
   "outputs": [
    {
     "data": {
      "image/png": "[encoded data removed]",
      "text/plain": [
       "<Figure size 432x288 with 1 Axes>"
      ]
     },
     "metadata": {
      "needs_background": "light"
     },
     "output_type": "display_data"
    }
   ],
   "source": [
    "sns.regplot(x=mod1.fittedvalues, y=mod1.resid, ci=None)\n",
    "plt.ylabel('Residual')\n",
    "plt.xlabel('Fitted Value')\n",
    "plt.title('Constant Variability of Residuals Condition')\n",
    "plt.show()"
   ]
  },
  {
   "cell_type": "markdown",
   "id": "76efa928",
   "metadata": {},
   "source": [
    "We tried to transform one of the variables *ram* with a natural log and checked the condition again, but the constant variability of residual condition is still violated."
   ]
  },
  {
   "cell_type": "code",
   "execution_count": 14,
   "id": "7f0536b3",
   "metadata": {},
   "outputs": [
    {
     "data": {
      "image/png": "[encoded data removed]",
      "text/plain": [
       "<Figure size 432x288 with 1 Axes>"
      ]
     },
     "metadata": {
      "needs_background": "light"
     },
     "output_type": "display_data"
    }
   ],
   "source": [
    "df = phone.copy()\n",
    "df['ram_log'] = np.log(df['ram'])\n",
    "\n",
    "mod11 = smf.ols('price ~ ram_log+memory_card+core+sim', data=df).fit()\n",
    "\n",
    "sns.regplot(x=mod11.fittedvalues, y=mod11.resid, ci=None)\n",
    "plt.ylabel('Residual')\n",
    "plt.xlabel('Fitted Value')\n",
    "plt.title('Constant Variability of Residuals Condition for ram_log')\n",
    "plt.show()"
   ]
  },
  {
   "cell_type": "markdown",
   "id": "d52712e5",
   "metadata": {},
   "source": [
    "**Condition 3: Normality of Residuals (with Mean of 0) Condition**<br>\n",
    "Because the histogram of residuals is slightly skewed to the right, the assumption that the residuals are normally distributed is slightly not met. However, it does not look like the mean is about 0)."
   ]
  },
  {
   "cell_type": "code",
   "execution_count": 15,
   "id": "4e2e930e",
   "metadata": {},
   "outputs": [
    {
     "data": {
      "image/png": "[encoded data removed]",
      "text/plain": [
       "<Figure size 432x288 with 1 Axes>"
      ]
     },
     "metadata": {
      "needs_background": "light"
     },
     "output_type": "display_data"
    }
   ],
   "source": [
    "plt.hist(mod1.resid)\n",
    "plt.xlabel('Residuals')\n",
    "plt.title('Normality of Residuals')\n",
    "plt.show()"
   ]
  },
  {
   "cell_type": "markdown",
   "id": "7a1a4afe",
   "metadata": {},
   "source": [
    "**Condition 4 Independence of Residuals Condition**<br>\n",
    "As we mentioned above, we verify that:<br>\n",
    "- the data is randomly sampled and<br>\n",
    "- the sample size n=695<10% of ALL mobile phone<br>\n",
    "Thus the condition for independence of residuals may not be violated in this particular way. <br>\n",
    "However, it may still be the case that these residuals are not independent."
   ]
  },
  {
   "cell_type": "markdown",
   "id": "c31b1cc9",
   "metadata": {},
   "source": [
    "**Condition 5: No Multicolinearity Condition**<br>\n",
    "Even though there is a pretty moderate linear relationship $(R=-0.49)$ between the explanatory variables *ram* and *memory_card*, we can say that the multicollinearity condition is met."
   ]
  },
  {
   "cell_type": "code",
   "execution_count": 16,
   "id": "b6f0a55c",
   "metadata": {},
   "outputs": [
    {
     "data": {
      "text/html": [
       "<div>\n",
       "<style scoped>\n",
       "    .dataframe tbody tr th:only-of-type {\n",
       "        vertical-align: middle;\n",
       "    }\n",
       "\n",
       "    .dataframe tbody tr th {\n",
       "        vertical-align: top;\n",
       "    }\n",
       "\n",
       "    .dataframe thead th {\n",
       "        text-align: right;\n",
       "    }\n",
       "</style>\n",
       "<table border=\"1\" class=\"dataframe\">\n",
       "  <thead>\n",
       "    <tr style=\"text-align: right;\">\n",
       "      <th></th>\n",
       "      <th>ram</th>\n",
       "      <th>memory_card</th>\n",
       "      <th>core</th>\n",
       "      <th>sim</th>\n",
       "    </tr>\n",
       "  </thead>\n",
       "  <tbody>\n",
       "    <tr>\n",
       "      <th>ram</th>\n",
       "      <td>1.000000</td>\n",
       "      <td>-0.490080</td>\n",
       "      <td>0.247658</td>\n",
       "      <td>0.063610</td>\n",
       "    </tr>\n",
       "    <tr>\n",
       "      <th>memory_card</th>\n",
       "      <td>-0.490080</td>\n",
       "      <td>1.000000</td>\n",
       "      <td>0.133721</td>\n",
       "      <td>0.065993</td>\n",
       "    </tr>\n",
       "    <tr>\n",
       "      <th>core</th>\n",
       "      <td>0.247658</td>\n",
       "      <td>0.133721</td>\n",
       "      <td>1.000000</td>\n",
       "      <td>0.145616</td>\n",
       "    </tr>\n",
       "    <tr>\n",
       "      <th>sim</th>\n",
       "      <td>0.063610</td>\n",
       "      <td>0.065993</td>\n",
       "      <td>0.145616</td>\n",
       "      <td>1.000000</td>\n",
       "    </tr>\n",
       "  </tbody>\n",
       "</table>\n",
       "</div>"
      ],
      "text/plain": [
       "                  ram  memory_card      core       sim\n",
       "ram          1.000000    -0.490080  0.247658  0.063610\n",
       "memory_card -0.490080     1.000000  0.133721  0.065993\n",
       "core         0.247658     0.133721  1.000000  0.145616\n",
       "sim          0.063610     0.065993  0.145616  1.000000"
      ]
     },
     "execution_count": 16,
     "metadata": {},
     "output_type": "execute_result"
    }
   ],
   "source": [
    "features = ['ram', 'memory_card', 'core', 'sim']\n",
    "phone[features].corr()"
   ]
  },
  {
   "cell_type": "markdown",
   "id": "6c9b6b42",
   "metadata": {},
   "source": [
    "The percent of variablity in our response variable *price* is explained by this model in the dataset is **0.5159**. It is not that high percentage, but not that low. We guess our model could moderately explain the percent of variability in our response variable."
   ]
  },
  {
   "cell_type": "code",
   "execution_count": 17,
   "id": "4a84f6d1",
   "metadata": {},
   "outputs": [
    {
     "name": "stdout",
     "output_type": "stream",
     "text": [
      "R-squared the model:  0.5158668465850271\n"
     ]
    }
   ],
   "source": [
    "print('R-squared the model: ', mod1.rsquared)"
   ]
  },
  {
   "cell_type": "markdown",
   "id": "f1655668",
   "metadata": {},
   "source": [
    "According to our model, we predicted the price of a 8GB ram, 8GB core, 2 of sim that can put on extra memory card. As a result, predicted price is 27,547 Indian Rupee which is about 337 USD."
   ]
  },
  {
   "cell_type": "code",
   "execution_count": 18,
   "id": "d0f12154",
   "metadata": {},
   "outputs": [
    {
     "data": {
      "text/plain": [
       "0    27547.67832\n",
       "dtype: float64"
      ]
     },
     "execution_count": 18,
     "metadata": {},
     "output_type": "execute_result"
    }
   ],
   "source": [
    "mod1.predict(exog=dict(ram=8, memory_card=True, core=8, sim=2))"
   ]
  },
  {
   "cell_type": "code",
   "execution_count": 19,
   "id": "3963430b",
   "metadata": {},
   "outputs": [
    {
     "name": "stdout",
     "output_type": "stream",
     "text": [
      "p-value for memory_card:  0.0\n",
      "p-value for ram:  0.0\n",
      "p-value for core:  0.0\n",
      "p-value for sim:  0.2226349644538319\n"
     ]
    }
   ],
   "source": [
    "print('p-value for memory_card: ', 2*(1-t.cdf(np.abs((19880-0)/2016.012), df=df.shape[0]-1)))\n",
    "print('p-value for ram: ', 2*(1-t.cdf(np.abs((4967-0)/357.179), df=df.shape[0]-1)))\n",
    "print('p-value for core: ', 2*(1-t.cdf(np.abs((15920-0)/1325.185), df=df.shape[0]-1)))\n",
    "print('p-value for sim: ', 2*(1-t.cdf(np.abs((18920-0)/15500), df=df.shape[0]-1)))  "
   ]
  },
  {
   "cell_type": "markdown",
   "id": "1cf9d10a",
   "metadata": {},
   "source": [
    "Except the slope for *sim*, p-value for other slopes are small enough to reject the null hypothesis. Thus we have sufficient evidence to suggest that the **memory_card, ram, and core slope** in the multiple linear regression population model (that predicts the price of all mobile phone with memory_card, ram, core, and sim) is non-zero. However, the p-value for **sim slope** is 0.2, which is too big to reject the null hypothesis, so we cannot reject the null hypothesis(the sim slope is zero). Thus we do not have sufficient evidence to suggest that the sim slope in the MLR population model is non-zero.\n",
    "\n",
    "As we mentioned, our research question is **is there a linear relationship between price and ram, core, the number of sim and whether the phone can put on extra memory card or not**. We thought that our model is pretty not good to estimate the price. First, the R-Squared is 0.516 (0.513 for adjusted R-Squared) which is pretty low to have a significance. In addition, our linear regression model could not meet most conditions except Independence of Residuals Condition and No Multicolinearity Condition. But there is still possibility that the dependence of residuals due to the knowledge that we did not learn. Then, when we found the evidence to suggest which slope is non-zero in the population model, we did not have sufficient evidence to suggest that *sim* slope in the MLR population model is non-zero. \n",
    "Thus, our model is not appropriate to explain the predicted price for the mobile phone in the relationship with 4 explanatory variables we chose; ram, core, sim, and memory_card. "
   ]
  },
  {
   "cell_type": "markdown",
   "id": "3e407186",
   "metadata": {},
   "source": [
    "## 5. Logistic Regression"
   ]
  },
  {
   "cell_type": "markdown",
   "id": "08f8ebd4",
   "metadata": {},
   "source": [
    "Our final research question is, \"Is there a linear relationshop between the log-odds of the level of *rating* and *specs score*, *core*, *battery*, and *os brand* in the sample?\". Furthermore, we research what explanatory variables should we include in the model to build a parsimonious model. <br>\n",
    "In our dataset, 'rating' is a numerical variable, so we created a 0/1 categorical variable. Since the median value of recorded ratings is 4.35, ratings that are 4.35 or more are mapped to 1 (=highly rated) while the others are mapped to 0. "
   ]
  },
  {
   "cell_type": "code",
   "execution_count": 20,
   "id": "0c75eff6",
   "metadata": {},
   "outputs": [
    {
     "data": {
      "text/plain": [
       "count    695.000000\n",
       "mean       4.356763\n",
       "std        0.234069\n",
       "min        3.750000\n",
       "25%        4.150000\n",
       "50%        4.350000\n",
       "75%        4.550000\n",
       "max        4.750000\n",
       "Name: rating, dtype: float64"
      ]
     },
     "execution_count": 20,
     "metadata": {},
     "output_type": "execute_result"
    }
   ],
   "source": [
    "phone['rating'].describe()"
   ]
  },
  {
   "cell_type": "code",
   "execution_count": 21,
   "id": "1a35ccc3",
   "metadata": {},
   "outputs": [],
   "source": [
    "phone['high_rating'] = 1 * (phone['rating'] >= 4.35)"
   ]
  },
  {
   "cell_type": "markdown",
   "id": "ae17cd23",
   "metadata": {},
   "source": [
    "Reminder of our **RQ** : \"Is there a linear relationship between the log-odds of the level of rating and specs score, core, battery, and os brand in our sample?\""
   ]
  },
  {
   "cell_type": "code",
   "execution_count": 22,
   "id": "0904e24e",
   "metadata": {},
   "outputs": [
    {
     "name": "stdout",
     "output_type": "stream",
     "text": [
      "0.7496402877697842 0.2503597122302158\n"
     ]
    }
   ],
   "source": [
    "phone_train, phone_test = train_test_split(phone,test_size=0.25, random_state=428)\n",
    "\n",
    "print(phone_train.shape[0]/phone.shape[0], phone_test.shape[0]/phone.shape[0])"
   ]
  },
  {
   "cell_type": "code",
   "execution_count": 23,
   "id": "5231ed34",
   "metadata": {},
   "outputs": [
    {
     "name": "stdout",
     "output_type": "stream",
     "text": [
      "<class 'pandas.core.frame.DataFrame'>\n",
      "RangeIndex: 695 entries, 0 to 694\n",
      "Data columns (total 19 columns):\n",
      " #   Column             Non-Null Count  Dtype  \n",
      "---  ------             --------------  -----  \n",
      " 0   price              695 non-null    int64  \n",
      " 1   rating             695 non-null    float64\n",
      " 2   specs_score        695 non-null    int64  \n",
      " 3   sim                695 non-null    int64  \n",
      " 4   5G                 695 non-null    bool   \n",
      " 5   NFC                695 non-null    bool   \n",
      " 6   core               695 non-null    int64  \n",
      " 7   frequency          695 non-null    float64\n",
      " 8   ram_inbuilt        695 non-null    int64  \n",
      " 9   ram                695 non-null    int64  \n",
      " 10  battery            695 non-null    int64  \n",
      " 11  display_size       695 non-null    float64\n",
      " 12  display_pixels     695 non-null    int64  \n",
      " 13  display_frequency  695 non-null    float64\n",
      " 14  front_camera       695 non-null    float64\n",
      " 15  rear_camera        695 non-null    int64  \n",
      " 16  memory_card        695 non-null    bool   \n",
      " 17  os_brand           695 non-null    int64  \n",
      " 18  high_rating        695 non-null    int32  \n",
      "dtypes: bool(3), float64(5), int32(1), int64(10)\n",
      "memory usage: 86.3 KB\n"
     ]
    }
   ],
   "source": [
    "phone.info()"
   ]
  },
  {
   "cell_type": "code",
   "execution_count": 24,
   "id": "6d0ed495",
   "metadata": {},
   "outputs": [
    {
     "name": "stdout",
     "output_type": "stream",
     "text": [
      "Optimization terminated successfully.\n",
      "         Current function value: 0.686327\n",
      "         Iterations 5\n"
     ]
    },
    {
     "data": {
      "text/html": [
       "<table class=\"simpletable\">\n",
       "<caption>Logit Regression Results</caption>\n",
       "<tr>\n",
       "  <th>Dep. Variable:</th>      <td>high_rating</td>   <th>  No. Observations:  </th>  <td>   521</td> \n",
       "</tr>\n",
       "<tr>\n",
       "  <th>Model:</th>                 <td>Logit</td>      <th>  Df Residuals:      </th>  <td>   516</td> \n",
       "</tr>\n",
       "<tr>\n",
       "  <th>Method:</th>                 <td>MLE</td>       <th>  Df Model:          </th>  <td>     4</td> \n",
       "</tr>\n",
       "<tr>\n",
       "  <th>Date:</th>            <td>Wed, 03 May 2023</td> <th>  Pseudo R-squ.:     </th> <td>0.008889</td>\n",
       "</tr>\n",
       "<tr>\n",
       "  <th>Time:</th>                <td>00:48:36</td>     <th>  Log-Likelihood:    </th> <td> -357.58</td>\n",
       "</tr>\n",
       "<tr>\n",
       "  <th>converged:</th>             <td>True</td>       <th>  LL-Null:           </th> <td> -360.78</td>\n",
       "</tr>\n",
       "<tr>\n",
       "  <th>Covariance Type:</th>     <td>nonrobust</td>    <th>  LLR p-value:       </th>  <td>0.1703</td> \n",
       "</tr>\n",
       "</table>\n",
       "<table class=\"simpletable\">\n",
       "<tr>\n",
       "       <td></td>          <th>coef</th>     <th>std err</th>      <th>z</th>      <th>P>|z|</th>  <th>[0.025</th>    <th>0.975]</th>  \n",
       "</tr>\n",
       "<tr>\n",
       "  <th>Intercept</th>   <td>   -0.5900</td> <td>    1.300</td> <td>   -0.454</td> <td> 0.650</td> <td>   -3.138</td> <td>    1.958</td>\n",
       "</tr>\n",
       "<tr>\n",
       "  <th>specs_score</th> <td>    0.0190</td> <td>    0.011</td> <td>    1.656</td> <td> 0.098</td> <td>   -0.003</td> <td>    0.042</td>\n",
       "</tr>\n",
       "<tr>\n",
       "  <th>core</th>        <td>   -0.2499</td> <td>    0.187</td> <td>   -1.333</td> <td> 0.183</td> <td>   -0.617</td> <td>    0.118</td>\n",
       "</tr>\n",
       "<tr>\n",
       "  <th>battery</th>     <td>    0.0001</td> <td>    0.000</td> <td>    1.265</td> <td> 0.206</td> <td>-7.04e-05</td> <td>    0.000</td>\n",
       "</tr>\n",
       "<tr>\n",
       "  <th>os_brand</th>    <td>    0.5056</td> <td>    0.553</td> <td>    0.914</td> <td> 0.361</td> <td>   -0.579</td> <td>    1.590</td>\n",
       "</tr>\n",
       "</table>"
      ],
      "text/plain": [
       "<class 'statsmodels.iolib.summary.Summary'>\n",
       "\"\"\"\n",
       "                           Logit Regression Results                           \n",
       "==============================================================================\n",
       "Dep. Variable:            high_rating   No. Observations:                  521\n",
       "Model:                          Logit   Df Residuals:                      516\n",
       "Method:                           MLE   Df Model:                            4\n",
       "Date:                Wed, 03 May 2023   Pseudo R-squ.:                0.008889\n",
       "Time:                        00:48:36   Log-Likelihood:                -357.58\n",
       "converged:                       True   LL-Null:                       -360.78\n",
       "Covariance Type:            nonrobust   LLR p-value:                    0.1703\n",
       "===============================================================================\n",
       "                  coef    std err          z      P>|z|      [0.025      0.975]\n",
       "-------------------------------------------------------------------------------\n",
       "Intercept      -0.5900      1.300     -0.454      0.650      -3.138       1.958\n",
       "specs_score     0.0190      0.011      1.656      0.098      -0.003       0.042\n",
       "core           -0.2499      0.187     -1.333      0.183      -0.617       0.118\n",
       "battery         0.0001      0.000      1.265      0.206   -7.04e-05       0.000\n",
       "os_brand        0.5056      0.553      0.914      0.361      -0.579       1.590\n",
       "===============================================================================\n",
       "\"\"\""
      ]
     },
     "metadata": {},
     "output_type": "display_data"
    },
    {
     "name": "stdout",
     "output_type": "stream",
     "text": [
      "ITERATION 1: BIC of the Current Model 746.4311653893122\n"
     ]
    }
   ],
   "source": [
    "current_mod=smf.logit('high_rating~ specs_score + core + battery + os_brand', data=phone_train).fit()\n",
    "display(current_mod.summary())\n",
    "print('ITERATION 1: BIC of the Current Model',current_mod.bic)"
   ]
  },
  {
   "cell_type": "markdown",
   "id": "d0bcf28d",
   "metadata": {},
   "source": [
    "#### Iteration 1 of Backwards Elimination"
   ]
  },
  {
   "cell_type": "code",
   "execution_count": 25,
   "id": "5f1e5700",
   "metadata": {},
   "outputs": [
    {
     "name": "stdout",
     "output_type": "stream",
     "text": [
      "Optimization terminated successfully.\n",
      "         Current function value: 0.688978\n",
      "         Iterations 5\n",
      "BIC of Test Model that Deletes specs_score from the Current Model 742.9385244672534\n"
     ]
    }
   ],
   "source": [
    "test_mod = smf.logit('high_rating~ core + battery + os_brand', data=phone_train).fit()\n",
    "print('BIC of Test Model that Deletes specs_score from the Current Model',test_mod.bic)"
   ]
  },
  {
   "cell_type": "code",
   "execution_count": 26,
   "id": "12f3e246",
   "metadata": {},
   "outputs": [
    {
     "name": "stdout",
     "output_type": "stream",
     "text": [
      "Optimization terminated successfully.\n",
      "         Current function value: 0.688139\n",
      "         Iterations 5\n",
      "BIC of Test Model that Deletes core from the Current Model 742.0636227913823\n"
     ]
    }
   ],
   "source": [
    "test_mod = smf.logit('high_rating~ specs_score + battery + os_brand', data=phone_train).fit()\n",
    "print('BIC of Test Model that Deletes core from the Current Model',test_mod.bic)"
   ]
  },
  {
   "cell_type": "code",
   "execution_count": 27,
   "id": "7835409c",
   "metadata": {},
   "outputs": [
    {
     "name": "stdout",
     "output_type": "stream",
     "text": [
      "Optimization terminated successfully.\n",
      "         Current function value: 0.688386\n",
      "         Iterations 4\n",
      "BIC of Test Model that Deletes battery from the Current Model 742.3209563606689\n"
     ]
    }
   ],
   "source": [
    "test_mod = smf.logit('high_rating~ specs_score + core + os_brand', data=phone_train).fit()\n",
    "print('BIC of Test Model that Deletes battery from the Current Model',test_mod.bic)"
   ]
  },
  {
   "cell_type": "code",
   "execution_count": 28,
   "id": "ee48d422",
   "metadata": {},
   "outputs": [
    {
     "name": "stdout",
     "output_type": "stream",
     "text": [
      "Optimization terminated successfully.\n",
      "         Current function value: 0.687134\n",
      "         Iterations 6\n",
      "BIC of Test Model that Deletes os_brand from the Current Model 741.0162198871618\n"
     ]
    }
   ],
   "source": [
    "test_mod = smf.logit('high_rating~ specs_score + core + battery', data=phone_train).fit()\n",
    "print('BIC of Test Model that Deletes os_brand from the Current Model',test_mod.bic)"
   ]
  },
  {
   "cell_type": "markdown",
   "id": "41402653",
   "metadata": {},
   "source": [
    "Because there was at least one \"test model\" that has a BIC score that is lower than the BIC score of the current model, we continue on to step 4 in the algorithm.<br>\n",
    "The \"test model\" that had the lowest BIC score was the one that deleted the \"os_brand\" explanatory variable from the \"current model\". So we set the new \"current model\" to be the test model that does not include \"os_brand\" and we go back to step (2). We can call this a new iteration of the algorithm."
   ]
  },
  {
   "cell_type": "markdown",
   "id": "580bc9a5",
   "metadata": {},
   "source": [
    "#### Iteration 2 of Backwards Elimination"
   ]
  },
  {
   "cell_type": "code",
   "execution_count": 29,
   "id": "9606433d",
   "metadata": {},
   "outputs": [
    {
     "name": "stdout",
     "output_type": "stream",
     "text": [
      "Optimization terminated successfully.\n",
      "         Current function value: 0.687134\n",
      "         Iterations 6\n",
      "ITERATION 2: BIC of the Current Model 741.0162198871618\n"
     ]
    }
   ],
   "source": [
    "current_mod=smf.logit('high_rating~ specs_score + battery + core', data=phone_train).fit()\n",
    "print('ITERATION 2: BIC of the Current Model',current_mod.bic)\n",
    "cmbic = current_mod.bic"
   ]
  },
  {
   "cell_type": "code",
   "execution_count": 30,
   "id": "06882a65",
   "metadata": {},
   "outputs": [
    {
     "name": "stdout",
     "output_type": "stream",
     "text": [
      "Optimization terminated successfully.\n",
      "         Current function value: 0.689291\n",
      "         Iterations 5\n",
      "****************************************************************************************** \n",
      " BIC of Test Model that Deletes specs_score from the Current Model 737.0086541823088\n",
      "is this model has lower bic? True\n"
     ]
    }
   ],
   "source": [
    "test_mod=smf.logit('high_rating~ battery + core', data=phone_train).fit()\n",
    "print('*'*90,'\\n','BIC of Test Model that Deletes specs_score from the Current Model',test_mod.bic)\n",
    "print('is this model has lower bic?',test_mod.bic < cmbic)"
   ]
  },
  {
   "cell_type": "code",
   "execution_count": 31,
   "id": "c0457429",
   "metadata": {},
   "outputs": [
    {
     "name": "stdout",
     "output_type": "stream",
     "text": [
      "Optimization terminated successfully.\n",
      "         Current function value: 0.688141\n",
      "         Iterations 5\n",
      "****************************************************************************************** \n",
      " BIC of Test Model that Deletes core from the Current Model 735.8100524808224\n",
      "is this model has lower bic? True\n"
     ]
    }
   ],
   "source": [
    "test_mod=smf.logit('high_rating~ specs_score + battery', data=phone_train).fit()\n",
    "print('*'*90,'\\n','BIC of Test Model that Deletes core from the Current Model',test_mod.bic)\n",
    "print('is this model has lower bic?',test_mod.bic < cmbic) "
   ]
  },
  {
   "cell_type": "code",
   "execution_count": 32,
   "id": "bf405f1e",
   "metadata": {},
   "outputs": [
    {
     "name": "stdout",
     "output_type": "stream",
     "text": [
      "Optimization terminated successfully.\n",
      "         Current function value: 0.690603\n",
      "         Iterations 4\n",
      "****************************************************************************************** \n",
      " BIC of Test Model that Deletes battery from the Current Model 738.3754332645093\n",
      "is this model has lower bic? True\n"
     ]
    }
   ],
   "source": [
    "test_mod=smf.logit('high_rating~ specs_score + core', data=phone_train).fit()\n",
    "print('*'*90,'\\n','BIC of Test Model that Deletes battery from the Current Model',test_mod.bic)\n",
    "print('is this model has lower bic?',test_mod.bic < cmbic)"
   ]
  },
  {
   "cell_type": "markdown",
   "id": "1799639b",
   "metadata": {},
   "source": [
    "Because there was at least one \"test model\" that has a BIC score that is lower than the BIC score of the current model, we continue on to step 4 in the algorithm. The \"test model\" that had the lowest BIC score was the one that deleted the \"core\" explanatory variable from the \"current model\". So we set the new \"current model\" to be the test model that does not include \"core\" and we go back to step (2). We can call this a new iteration of the algorithm."
   ]
  },
  {
   "cell_type": "markdown",
   "id": "dc8afb42",
   "metadata": {},
   "source": [
    "#### Iteration 3 of Backwards Elimination"
   ]
  },
  {
   "cell_type": "code",
   "execution_count": 33,
   "id": "f773f2fb",
   "metadata": {},
   "outputs": [
    {
     "name": "stdout",
     "output_type": "stream",
     "text": [
      "Optimization terminated successfully.\n",
      "         Current function value: 0.688141\n",
      "         Iterations 5\n",
      "ITERATION 3: BIC of the Current Model 735.8100524808224\n"
     ]
    }
   ],
   "source": [
    "current_mod=smf.logit('high_rating~ specs_score + battery', data=phone_train).fit()\n",
    "print('ITERATION 3: BIC of the Current Model',current_mod.bic)\n",
    "cmbic = current_mod.bic"
   ]
  },
  {
   "cell_type": "code",
   "execution_count": 34,
   "id": "473fb049",
   "metadata": {},
   "outputs": [
    {
     "name": "stdout",
     "output_type": "stream",
     "text": [
      "Optimization terminated successfully.\n",
      "         Current function value: 0.689732\n",
      "         Iterations 5\n",
      "****************************************************************************************** \n",
      " BIC of Test Model that Deletes specs_score from the Current Model 731.2124162781321\n",
      "is this model has lower bic? True\n"
     ]
    }
   ],
   "source": [
    "test_mod=smf.logit('high_rating~ battery', data=phone_train).fit()\n",
    "print('*'*90,'\\n','BIC of Test Model that Deletes specs_score from the Current Model',test_mod.bic)\n",
    "print('is this model has lower bic?',test_mod.bic < cmbic)"
   ]
  },
  {
   "cell_type": "code",
   "execution_count": 35,
   "id": "f17af51a",
   "metadata": {},
   "outputs": [
    {
     "name": "stdout",
     "output_type": "stream",
     "text": [
      "Optimization terminated successfully.\n",
      "         Current function value: 0.690807\n",
      "         Iterations 4\n",
      "****************************************************************************************** \n",
      " BIC of Test Model that Deletes battery from the Current Model 732.332065335105\n",
      "is this model has lower bic? True\n"
     ]
    }
   ],
   "source": [
    "test_mod=smf.logit('high_rating~ specs_score', data=phone_train).fit()\n",
    "print('*'*90,'\\n','BIC of Test Model that Deletes battery from the Current Model',test_mod.bic)\n",
    "print('is this model has lower bic?',test_mod.bic < cmbic)"
   ]
  },
  {
   "cell_type": "markdown",
   "id": "7384a496",
   "metadata": {},
   "source": [
    "#### Final parsimonious logistic regression model "
   ]
  },
  {
   "cell_type": "code",
   "execution_count": 36,
   "id": "00bad944",
   "metadata": {},
   "outputs": [
    {
     "name": "stdout",
     "output_type": "stream",
     "text": [
      "Optimization terminated successfully.\n",
      "         Current function value: 0.689732\n",
      "         Iterations 5\n"
     ]
    },
    {
     "data": {
      "text/html": [
       "<table class=\"simpletable\">\n",
       "<caption>Logit Regression Results</caption>\n",
       "<tr>\n",
       "  <th>Dep. Variable:</th>      <td>high_rating</td>   <th>  No. Observations:  </th>  <td>   521</td> \n",
       "</tr>\n",
       "<tr>\n",
       "  <th>Model:</th>                 <td>Logit</td>      <th>  Df Residuals:      </th>  <td>   519</td> \n",
       "</tr>\n",
       "<tr>\n",
       "  <th>Method:</th>                 <td>MLE</td>       <th>  Df Model:          </th>  <td>     1</td> \n",
       "</tr>\n",
       "<tr>\n",
       "  <th>Date:</th>            <td>Wed, 03 May 2023</td> <th>  Pseudo R-squ.:     </th> <td>0.003971</td>\n",
       "</tr>\n",
       "<tr>\n",
       "  <th>Time:</th>                <td>00:52:17</td>     <th>  Log-Likelihood:    </th> <td> -359.35</td>\n",
       "</tr>\n",
       "<tr>\n",
       "  <th>converged:</th>             <td>True</td>       <th>  LL-Null:           </th> <td> -360.78</td>\n",
       "</tr>\n",
       "<tr>\n",
       "  <th>Covariance Type:</th>     <td>nonrobust</td>    <th>  LLR p-value:       </th>  <td>0.09050</td>\n",
       "</tr>\n",
       "</table>\n",
       "<table class=\"simpletable\">\n",
       "<tr>\n",
       "      <td></td>         <th>coef</th>     <th>std err</th>      <th>z</th>      <th>P>|z|</th>  <th>[0.025</th>    <th>0.975]</th>  \n",
       "</tr>\n",
       "<tr>\n",
       "  <th>Intercept</th> <td>   -0.5655</td> <td>    0.433</td> <td>   -1.306</td> <td> 0.192</td> <td>   -1.414</td> <td>    0.283</td>\n",
       "</tr>\n",
       "<tr>\n",
       "  <th>battery</th>   <td>    0.0001</td> <td> 8.73e-05</td> <td>    1.499</td> <td> 0.134</td> <td>-4.03e-05</td> <td>    0.000</td>\n",
       "</tr>\n",
       "</table>"
      ],
      "text/plain": [
       "<class 'statsmodels.iolib.summary.Summary'>\n",
       "\"\"\"\n",
       "                           Logit Regression Results                           \n",
       "==============================================================================\n",
       "Dep. Variable:            high_rating   No. Observations:                  521\n",
       "Model:                          Logit   Df Residuals:                      519\n",
       "Method:                           MLE   Df Model:                            1\n",
       "Date:                Wed, 03 May 2023   Pseudo R-squ.:                0.003971\n",
       "Time:                        00:52:17   Log-Likelihood:                -359.35\n",
       "converged:                       True   LL-Null:                       -360.78\n",
       "Covariance Type:            nonrobust   LLR p-value:                   0.09050\n",
       "==============================================================================\n",
       "                 coef    std err          z      P>|z|      [0.025      0.975]\n",
       "------------------------------------------------------------------------------\n",
       "Intercept     -0.5655      0.433     -1.306      0.192      -1.414       0.283\n",
       "battery        0.0001   8.73e-05      1.499      0.134   -4.03e-05       0.000\n",
       "==============================================================================\n",
       "\"\"\""
      ]
     },
     "execution_count": 36,
     "metadata": {},
     "output_type": "execute_result"
    }
   ],
   "source": [
    "fin_mod=smf.logit('high_rating~ battery', data=phone_train).fit()\n",
    "fin_mod.summary()"
   ]
  },
  {
   "cell_type": "markdown",
   "id": "15782efe",
   "metadata": {},
   "source": [
    "#### The logistic regression equation for the final model\n",
    "$log(\\frac{\\hat{p}}{1-\\hat{p}}) = -0.5655+0.0001battery$"
   ]
  },
  {
   "cell_type": "markdown",
   "id": "78927ac3",
   "metadata": {},
   "source": [
    "There is no slope that shows sufficient evidence to be non-zero as the battery, the only explanatory variable we have, has larger p-value than 0.05(our significant level)."
   ]
  },
  {
   "cell_type": "code",
   "execution_count": 37,
   "id": "19f5e3dc",
   "metadata": {},
   "outputs": [],
   "source": [
    "from sklearn.metrics import roc_curve\n",
    "from sklearn.metrics import roc_auc_score\n",
    "from sklearn.metrics import confusion_matrix\n",
    "pred_prob = fin_mod.predict(exog=phone_test)\n",
    "fpr, tpr, score = roc_curve(y_true=phone_test['high_rating'], y_score=pred_prob)\n",
    "auc = roc_auc_score(y_true=phone_test['high_rating'], y_score=pred_prob)"
   ]
  },
  {
   "cell_type": "code",
   "execution_count": 38,
   "id": "88dd2a05",
   "metadata": {},
   "outputs": [],
   "source": [
    "def plot_roc(fpr, tpr, auc, lw=2):\n",
    "    plt.plot(fpr, tpr, color='darkorange', lw=lw,\n",
    "    label='ROC curve (area = '+str(round(auc,3))+')')\n",
    "    plt.plot([0, 1], [0, 1], color='navy', lw=lw, linestyle='' )\n",
    "    plt.xlabel('False Positive Rate')\n",
    "    plt.ylabel('True Positive Rate')\n",
    "    plt.title('ROC Curve')\n",
    "    plt.legend(loc=\"lower right\")\n",
    "    plt.show()"
   ]
  },
  {
   "cell_type": "code",
   "execution_count": 39,
   "id": "d0612d46",
   "metadata": {},
   "outputs": [
    {
     "data": {
      "image/png": "[encoded data removed]",
      "text/plain": [
       "<Figure size 432x288 with 1 Axes>"
      ]
     },
     "metadata": {
      "needs_background": "light"
     },
     "output_type": "display_data"
    }
   ],
   "source": [
    "plot_roc(fpr, tpr, auc)"
   ]
  },
  {
   "cell_type": "code",
   "execution_count": 40,
   "id": "553ebf91",
   "metadata": {},
   "outputs": [],
   "source": [
    "def tpr_fpr_thresh(y, pred_prob, thresh):\n",
    "    yhat = 1*(pred_prob >= thresh)\n",
    "    tn, fp, fn, tp = confusion_matrix(y_true=y, y_pred=yhat).ravel()\n",
    "    tpr = tp / (fn + tp)\n",
    "    fpr = fp / (fp + tn)\n",
    "    dist = (fpr**2+(1-tpr)**2)**0.5\n",
    "    return pd.DataFrame({'threshold':[thresh],'tpr':[tpr],'fpr':[fpr],'distance':[dist]})"
   ]
  },
  {
   "cell_type": "code",
   "execution_count": 41,
   "id": "df48be81",
   "metadata": {},
   "outputs": [
    {
     "name": "stdout",
     "output_type": "stream",
     "text": [
      "   threshold       tpr   fpr  distance\n",
      "0       0.52  0.727273  0.68  0.732653\n"
     ]
    }
   ],
   "source": [
    "close1 = 1\n",
    "for thresh in np.arange(0,1,.01):\n",
    "    if tpr_fpr_thresh(phone_test['high_rating'], pred_prob, thresh)['distance'][0]<close1 :\n",
    "        closecase1 = tpr_fpr_thresh(phone_test['high_rating'], pred_prob, thresh)\n",
    "        close1 = tpr_fpr_thresh(phone_test['high_rating'], pred_prob, thresh)['distance'][0]\n",
    "print(closecase1)"
   ]
  },
  {
   "cell_type": "markdown",
   "id": "fb4158f9",
   "metadata": {},
   "source": [
    "##### It was found that the best predictive probability threshold is $0.52$ as the distance between the ideal point(false positive rate : 0,true positive rate : 1) and the point on the ROC curve corresponding to the threshold $0.52$ is the smallest. To achieve our goal of checking for linearity, it is important to fit the best model that accurately represents the relationship between the response and explanatory variables. By minimizing the distance and finding the best balancing point for sensitivity and specificity, we can develop the best classifier.\n",
    "\n",
    "Applying this threshold, the false positive rate is $0.68$ and the true positive rate is $0.727273$."
   ]
  },
  {
   "cell_type": "markdown",
   "id": "5beb1f3f",
   "metadata": {},
   "source": [
    "Our logistic regression analysis helps answer our research question by identifying which explanatory variables have an impact on the response variable and to what extent. Additionally, it allows us to determine the degree to which we can explain the response variable using the explanatory variables."
   ]
  },
  {
   "cell_type": "markdown",
   "id": "a2649c5e",
   "metadata": {},
   "source": [
    "## 6. Conclusion"
   ]
  },
  {
   "cell_type": "markdown",
   "id": "c367c433",
   "metadata": {},
   "source": [
    "**Summarization**\n",
    "\n",
    "First, we researched the relationship between price and frequency or size of a ram. We found out that there is a positive, but non-linear, moderate in strength relationship between frequency and price. A correlation value between two variables was 0.72. When we further looked the relationship of these variables depending on whether an extra memory card is supported or not, a presence of memory card was not a decisive feature to affect the relationship. Meanwhile, the relationship between price and size of a ram was not noticeable. \n",
    "Second research question was testing whether the population mean price of iOS brand would be greater than that of Android. The conclusion of this hypothesis testing was, to a 96% confidence level, we do have sufficient evidence to suggest that the population mean price of iOS is greater than the population mean price of Android. \n",
    "The third research question was conducted to explore the presence of linear relationship between price and ram, core, number of sim, whether the phone can put on extra memory card or not. Our model has a pretty low R-squared, so our model does not have enough significance to predict price with these explanatory variables. Nevertheless, we could find a kind of tendency between explanatory variables and the price. Our final research question is, \"Is there a linear relationshop between the log-odds of the level of *rating* and *specs score*, *core*, *battery*, and *os brand* in the sample?\". After iterations of backwards elimination, there was only one explanatory variable left. There was no slope that shows sufficient evidence to be non-zero as the battery, the only explanatory variable we have, has larger p-value than 0.05(our significant level).\n"
   ]
  },
  {
   "cell_type": "markdown",
   "id": "9fb1062d",
   "metadata": {},
   "source": [
    "**Future Work**\n",
    "\n",
    "In the conclusion of the analysis, it was found that the sim variable had no significant impact on the price of the product in the given dataset. However, the model used to make this conclusion was a linear regression model. There are other types of models that can be used for this type of analysis, such as decision trees or random forests. These models can capture nonlinear relationships between the variables, which the linear regression model might have missed. Therefore, trying out different types of models can be a valuable approach to increase the accuracy of price prediction.\n",
    "\n",
    "Additionally, the dataset used in the analysis may not be large enough to capture the full variability of the relationship between the variables and the price. Collecting more data and retraining the model on a larger dataset could improve the accuracy of price prediction. This approach would help to ensure that the model has enough information to capture the full range of variation in the data, and thus, would be more effective in predicting prices accurately.\n",
    "\n",
    "In summary, using different types of models and collecting more data are two potential avenues for improving the accuracy of price prediction. By applying these approaches, we can gain a better understanding of the underlying relationships between the variables and the price, and ultimately, develop a more accurate model for predicting prices."
   ]
  }
 ],
 "metadata": {
  "kernelspec": {
   "display_name": "Python 3 (ipykernel)",
   "language": "python",
   "name": "python3"
  },
  "language_info": {
   "codemirror_mode": {
    "name": "ipython",
    "version": 3
   },
   "file_extension": ".py",
   "mimetype": "text/x-python",
   "name": "python",
   "nbconvert_exporter": "python",
   "pygments_lexer": "ipython3",
   "version": "3.9.7"
  }
 },
 "nbformat": 4,
 "nbformat_minor": 5
}
