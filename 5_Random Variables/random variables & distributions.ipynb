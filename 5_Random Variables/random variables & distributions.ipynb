{
 "cells": [
  {
   "cell_type": "markdown",
   "id": "e746da0e",
   "metadata": {},
   "source": [
    "# Random Variables and Defined Distributions"
   ]
  },
  {
   "cell_type": "markdown",
   "id": "c4d94493",
   "metadata": {},
   "source": [
    "## Package Imports\n",
    "\n",
    "Run the cell provided below to import packages needed for this assignment.\n",
    "\n",
    "You may also need to read in additional packages below."
   ]
  },
  {
   "cell_type": "code",
   "execution_count": 1,
   "id": "25c92b96",
   "metadata": {},
   "outputs": [],
   "source": [
    "import pandas as pd\n",
    "import seaborn as sns\n",
    "import matplotlib.pyplot as plt\n",
    "import numpy as np\n",
    "from scipy.stats import geom\n",
    "from scipy.stats import norm\n",
    "from scipy.stats import expon"
   ]
  },
  {
   "cell_type": "markdown",
   "id": "ac088395",
   "metadata": {},
   "source": [
    "<hr>\n",
    "\n",
    "## <u>Case Study 1</u>: Slot Machine Gambling \n",
    "\n",
    "Suppose a gambler has a strategy to keep playing a slot matchine until they win a round. After the gambler **wins** a round, they stop playing for the day. The probability of **winning** any given slot machine round is 0.02."
   ]
  },
  {
   "cell_type": "markdown",
   "id": "d102aa01",
   "metadata": {},
   "source": [
    "**a)**  On average, how many rounds of the slot machine will the gambler play before stopping for the day? "
   ]
  },
  {
   "attachments": {},
   "cell_type": "markdown",
   "id": "02bbc6be",
   "metadata": {},
   "source": [
    "Let X denote number of rounds of the slot machine will the gambler play to win a round. (including a round he wins)\n",
    "\n",
    "X ~ Geom(0.02)\n",
    "\n",
    "E(X) = 1/p"
   ]
  },
  {
   "cell_type": "code",
   "execution_count": 2,
   "id": "7fee966e",
   "metadata": {},
   "outputs": [
    {
     "name": "stdout",
     "output_type": "stream",
     "text": [
      "50.0\n"
     ]
    }
   ],
   "source": [
    "p = 0.02\n",
    "print(1/p)\n",
    "\n",
    "# gambler will play 50 games on average before stopping for a day. "
   ]
  },
  {
   "cell_type": "markdown",
   "id": "5872fff5",
   "metadata": {},
   "source": [
    "**b)** Suppose that it costs $\\$1$ to play each round of the slot machine. The gambler always brings $\\$100$ with them to play the slot machine each day. If they run out of this $\\$100$ (i.e. they play the game more than 100 times), then they go to borrow money from their friend and keep playing the slot machine until they win. What percent of days does does the gambler need to borrow money from this friend?"
   ]
  },
  {
   "cell_type": "code",
   "execution_count": 3,
   "id": "e7046521",
   "metadata": {},
   "outputs": [
    {
     "data": {
      "text/plain": [
       "0.13261955589475316"
      ]
     },
     "execution_count": 3,
     "metadata": {},
     "output_type": "execute_result"
    }
   ],
   "source": [
    "# P(X>100)\n",
    "prob = 1 - geom.cdf(100, p)\n",
    "prob"
   ]
  },
  {
   "attachments": {},
   "cell_type": "markdown",
   "id": "fb8e1b89",
   "metadata": {},
   "source": [
    "Gambler needs about 13.3% of days to borrow money from friend. "
   ]
  },
  {
   "cell_type": "markdown",
   "id": "2e606086",
   "metadata": {},
   "source": [
    "<hr>\n",
    "\n",
    "## <u>Case Study 2</u>: SAT Score Scholarship Analysis \n",
    "\n",
    "Suppose the distribution of SAT scores for the seniors at a local high school (just math and verbal) has an average of 1000, a standard deviation of 100, and follows a normal distribution. \n",
    "\n",
    "**a)**  What is the probability that randomly selected senior from the high school scored more than 1250?"
   ]
  },
  {
   "cell_type": "code",
   "execution_count": 4,
   "id": "a5632fdc",
   "metadata": {},
   "outputs": [
    {
     "data": {
      "text/plain": [
       "0.006209665325776159"
      ]
     },
     "execution_count": 4,
     "metadata": {},
     "output_type": "execute_result"
    }
   ],
   "source": [
    "1 - norm.cdf(1250, 1000, 100)\n",
    "# about 0.6% randomly selected from the high school would have scored more than 1250."
   ]
  },
  {
   "cell_type": "markdown",
   "id": "92a41d0d",
   "metadata": {},
   "source": [
    "**b)** What percent of seniors at the school score between a 900 and 950?"
   ]
  },
  {
   "cell_type": "code",
   "execution_count": 5,
   "id": "902220b6",
   "metadata": {},
   "outputs": [
    {
     "data": {
      "text/plain": [
       "0.1498822847945298"
      ]
     },
     "execution_count": 5,
     "metadata": {},
     "output_type": "execute_result"
    }
   ],
   "source": [
    "norm.cdf(950, 1000, 100) - norm.cdf(900, 1000, 100)\n",
    "# about 15% of seniors at the school score between a 900 and 950"
   ]
  },
  {
   "cell_type": "markdown",
   "id": "19088aa7",
   "metadata": {},
   "source": [
    "**c)** Suppose that all seniors at the school who score higher than a 1200 get a scholarship from the county. Suppose that we randomly select a student that we KNOW got the scholarship. GIVEN that we know that the student has the scholarship, what is the probability that this student's SAT score was less than 1300?\n",
    "\n",
    "**Hint:** You might want to consider some of our basic probability rules."
   ]
  },
  {
   "cell_type": "code",
   "execution_count": 6,
   "id": "bf91e798",
   "metadata": {},
   "outputs": [
    {
     "data": {
      "text/plain": [
       "0.9406641669285728"
      ]
     },
     "execution_count": 6,
     "metadata": {},
     "output_type": "execute_result"
    }
   ],
   "source": [
    "p_A = 1 - norm.cdf(1200, 1000, 100)\n",
    "p_B = norm.cdf(1300, 1000, 100) - norm.cdf(1200, 1000, 100)\n",
    "p = p_B / p_A\n",
    "p"
   ]
  },
  {
   "cell_type": "markdown",
   "id": "2a07034a",
   "metadata": {},
   "source": [
    "<hr>\n",
    "\n",
    "## <u>Case Study 3</u>: Farm Workers Salaries \n",
    "\n",
    "Suppose the standard deviation of the hourly wage of a farm worker in Illinois is 4 dollars per hour and the distribution of hourly farm worker wages follows the normal distribution. Suppose that we know that 25% of farm workers in Illinois make at least 15 dollars per hour.\n",
    "\n",
    "What is the average hourly wage of farm workers in Illinois?"
   ]
  },
  {
   "cell_type": "code",
   "execution_count": 7,
   "id": "e251a331",
   "metadata": {},
   "outputs": [
    {
     "data": {
      "text/plain": [
       "12.302040999215674"
      ]
     },
     "execution_count": 7,
     "metadata": {},
     "output_type": "execute_result"
    }
   ],
   "source": [
    "std = 4\n",
    "15 - norm.ppf(1 - 0.25) * std "
   ]
  },
  {
   "cell_type": "markdown",
   "id": "3e654ee5",
   "metadata": {},
   "source": [
    "<hr>\n",
    "\n",
    "## <u>Case Study 4</u>: Wheelchair Basketball \n",
    "Suppose that you are a manager for a wheelchair basketball team with 12 players on the roster.  The length of time that an athletic wheelchair can function before needing to be serviced follows an exponential distribution (accessible within Python through the `expon` set of methods from `scipy.stats`).  For this exponential distribution, you should set the scale parameter to 7 weeks.\n",
    "\n",
    "**a)** Using Python, generate a set of 12 randomly selected draws from the exponential distribution defined above.  You can think of each draw as the amount of time before a wheelchair needs to be serviced for a single player on the roster.\n",
    "\n",
    "*Hint*: I recommend using a random_state here, so that you can recreate your draws, if needed."
   ]
  },
  {
   "cell_type": "code",
   "execution_count": 9,
   "id": "782fd5ff",
   "metadata": {},
   "outputs": [
    {
     "data": {
      "text/plain": [
       "array([ 8.345905  ,  2.35947238,  1.80098856,  5.61003577,  8.89749655,\n",
       "        3.85068275, 27.65687448,  8.08249592,  4.59004135,  3.48441592,\n",
       "        2.94239575,  9.14073928])"
      ]
     },
     "execution_count": 9,
     "metadata": {},
     "output_type": "execute_result"
    }
   ],
   "source": [
    "# length of time that a wheelchair can function : X\n",
    "# X ~ exponential (theta = 7weeks)\n",
    "rv = expon.rvs(scale = 7, size = 12, random_state = 123)\n",
    "rv"
   ]
  },
  {
   "cell_type": "markdown",
   "id": "dd07de9f",
   "metadata": {},
   "source": [
    "**b)**  Calculate the minimum, mean, median, standard deviation, and estimated probability of a wheelchair not needing to be serviced for the 16 weeks of the semester based on this particular set of draws from the exponential distribution, i.e. the time until a wheelchair needs to be serviced for each of the 12 players on the roster.\n",
    "\n",
    "*Hint*: You may want to use the tools demonstrated in the tutorial below to help perform these calculations.\n",
    "\n",
    "**Tutorial for working with arrays.**\n",
    "\n",
    "We don't always have objects in Python that allow us to use our typical methods for calculating summary values, including means, medians, and standard deviations.  If you find that your first attempt at a calculation doesn't work, try adjusting your code to the following format."
   ]
  },
  {
   "cell_type": "code",
   "execution_count": 10,
   "id": "e0475b65",
   "metadata": {},
   "outputs": [
    {
     "data": {
      "text/plain": [
       "3.0"
      ]
     },
     "execution_count": 10,
     "metadata": {},
     "output_type": "execute_result"
    }
   ],
   "source": [
    "x = np.array([1, 2, 3, 4, 5])\n",
    "# x.median() # doesn't work -- try it out my removing the first \"#\" to see the error message.\n",
    "np.median(x)"
   ]
  },
  {
   "cell_type": "code",
   "execution_count": 13,
   "id": "dd04cd0f",
   "metadata": {},
   "outputs": [
    {
     "name": "stdout",
     "output_type": "stream",
     "text": [
      "minimum: 1.8009885608193554 , mean: 7.230128642799365 , median: 5.100038563289445 , standard deviation: 6.660100531989132\n"
     ]
    }
   ],
   "source": [
    "minimum = np.min(rv)\n",
    "mean = np.mean(rv)\n",
    "median = np.median(rv)\n",
    "standard_deviation = np.std(rv)\n",
    "print ('minimum:', minimum, ', mean:', mean, ', median:', median, ', standard deviation:', standard_deviation)"
   ]
  },
  {
   "cell_type": "code",
   "execution_count": 27,
   "id": "ae25d60f",
   "metadata": {},
   "outputs": [
    {
     "data": {
      "text/plain": [
       "0.08333333333333333"
      ]
     },
     "execution_count": 27,
     "metadata": {},
     "output_type": "execute_result"
    }
   ],
   "source": [
    "# estimated probability of a wheelchair not needing to be serviced for the 16 weeks of the semester\n",
    "probability = np.mean(rv > 16)\n",
    "probability"
   ]
  },
  {
   "cell_type": "markdown",
   "id": "c22b2ca5",
   "metadata": {},
   "source": [
    "**c)** Based on your random sample, what is the first time that a player would need their wheelchair serviced?\n",
    "\n",
    "How many players would need their wheelchair serviced during the semester?"
   ]
  },
  {
   "cell_type": "code",
   "execution_count": 19,
   "id": "cb2798c4",
   "metadata": {},
   "outputs": [
    {
     "name": "stdout",
     "output_type": "stream",
     "text": [
      "1.8009885608193554\n",
      "11\n"
     ]
    }
   ],
   "source": [
    "print(minimum)\n",
    "print(sum(rv < 16))"
   ]
  },
  {
   "attachments": {},
   "cell_type": "markdown",
   "id": "b6960113",
   "metadata": {},
   "source": [
    "Based on my random sample, the first time that a player would need one's wheelchair to be serviced is about 1.8 weeks. \n",
    "\n",
    "11 players out of 12 sampled players would need their wheelchair seviced during the semester. "
   ]
  },
  {
   "cell_type": "markdown",
   "id": "275204de",
   "metadata": {},
   "source": [
    "**d)** For the theoretical exponential distribution with a scale of 7, calculate and report the mean, median, standard deviation, and probability of a wheelchair not needing to be serviced for the 16 weeks of the semester.\n",
    "\n",
    "*Hint*: The exponential distribution is a continuous random variable and has many of the same functions as other continuous random variables we have discussed in class.  You can also find documentation for this distribution online."
   ]
  },
  {
   "cell_type": "code",
   "execution_count": 21,
   "id": "9665f24d",
   "metadata": {},
   "outputs": [
    {
     "name": "stdout",
     "output_type": "stream",
     "text": [
      "mean :  7.0 , median :  4.852030263919617 , standard deviation :  7.0\n"
     ]
    }
   ],
   "source": [
    "th_mean = expon.mean(scale = 7)\n",
    "th_median = expon.median(scale = 7)\n",
    "th_std = expon.std(scale = 7)\n",
    "print ('mean : ', th_mean, ', median : ', th_median, ', standard deviation : ', th_std)"
   ]
  },
  {
   "cell_type": "code",
   "execution_count": 22,
   "id": "914dcbce",
   "metadata": {},
   "outputs": [
    {
     "data": {
      "text/plain": [
       "0.10170139230422681"
      ]
     },
     "execution_count": 22,
     "metadata": {},
     "output_type": "execute_result"
    }
   ],
   "source": [
    "prob_not_serviced = 1 - expon.cdf(x = 16, scale = 7)\n",
    "prob_not_serviced"
   ]
  },
  {
   "attachments": {},
   "cell_type": "markdown",
   "id": "f5a39109",
   "metadata": {},
   "source": [
    "**e)** How close are the mean, median, standard deviation, and probability values between **4b** and **4d**?"
   ]
  },
  {
   "attachments": {},
   "cell_type": "markdown",
   "id": "46b0fb4f",
   "metadata": {},
   "source": [
    "The mean value of my sample (7.23) is slightly higher than that of theoretical mean value(4). \n",
    "\n",
    "The median value of my sample (5.10) is slightly higher than that of theoretical median value(4.852).\n",
    "\n",
    "The standard deviation of my sample (6.66) is slightly lower than that of theoretical standard deviation value(7).\n",
    "\n",
    "The probability value of my sample (0.083) is slightly lower than that of theoretical probability value(0.1017). "
   ]
  },
  {
   "cell_type": "markdown",
   "id": "0036d664",
   "metadata": {},
   "source": [
    "<hr>\n",
    "\n",
    "## <u>Case Study 5</u>: Central Limit Theorem \n",
    "\n",
    "Consider the population of counties provided in the county.csv file.  We will examine the **per_capita_income** variable from this data.\n",
    "\n",
    "**a)** Read in the data.\n",
    "\n",
    "**Note that you will need to clean the data before you can perform your calculations.  The phrase 'data unavailable' represents missing data in this csv file.  You may assume that any counties with missing data are not included in our population for this calculation.**"
   ]
  },
  {
   "cell_type": "code",
   "execution_count": 32,
   "id": "5626f1bd",
   "metadata": {},
   "outputs": [
    {
     "data": {
      "text/plain": [
       "name                  object\n",
       "state                 object\n",
       "pop2000               object\n",
       "pop2010                int64\n",
       "pop2017               object\n",
       "pop_change            object\n",
       "poverty               object\n",
       "homeownership        float64\n",
       "multi_unit           float64\n",
       "unemployment_rate     object\n",
       "metro                 object\n",
       "median_edu            object\n",
       "per_capita_income     object\n",
       "median_hh_income      object\n",
       "smoking_ban           object\n",
       "dtype: object"
      ]
     },
     "execution_count": 32,
     "metadata": {},
     "output_type": "execute_result"
    }
   ],
   "source": [
    "county = pd.read_csv('county.csv')\n",
    "county.dtypes       # pop2000, pop2017, pop_change, poverty, unemployment_rate, per_capita_income, median_hh_value should be numerical values"
   ]
  },
  {
   "cell_type": "code",
   "execution_count": 38,
   "id": "32b1a14a",
   "metadata": {},
   "outputs": [
    {
     "data": {
      "text/plain": [
       "2559"
      ]
     },
     "execution_count": 38,
     "metadata": {},
     "output_type": "execute_result"
    }
   ],
   "source": [
    "county = pd.read_csv('county.csv', na_values= 'data unavailable')\n",
    "county.shape[0]     #3,142\n",
    "county = county.dropna()\n",
    "county.shape[0]     #2,559"
   ]
  },
  {
   "cell_type": "markdown",
   "id": "73006eff",
   "metadata": {},
   "source": [
    "**b)**  From the information about the population of all counties in the US, calculate the *theoretical* standard error of the sampling distribution for the sample mean (of 50 counties) per capita income (**per_capita_income**)."
   ]
  },
  {
   "cell_type": "code",
   "execution_count": 41,
   "id": "15ccaefe",
   "metadata": {},
   "outputs": [
    {
     "data": {
      "text/plain": [
       "6208.763069260853"
      ]
     },
     "execution_count": 41,
     "metadata": {},
     "output_type": "execute_result"
    }
   ],
   "source": [
    "county_std = county['per_capita_income'].std()\n",
    "county_std"
   ]
  },
  {
   "cell_type": "code",
   "execution_count": 42,
   "id": "a63a733f",
   "metadata": {},
   "outputs": [
    {
     "data": {
      "text/plain": [
       "878.0516938109902"
      ]
     },
     "execution_count": 42,
     "metadata": {},
     "output_type": "execute_result"
    }
   ],
   "source": [
    "import math\n",
    "theo_se = county_std / math.sqrt(50)\n",
    "theo_se"
   ]
  },
  {
   "cell_type": "markdown",
   "id": "35aa3f10",
   "metadata": {},
   "source": [
    "**c)** Are the conditions for the Central Limit Theorem met?  That is, will the Central Limit Theorem apply to the *theoretical* standard error of the sampling distribution for the sample mean (of 50 counties) per capita income?\n",
    "\n",
    "*Note:* You may make reasonable assumptions when needed."
   ]
  },
  {
   "attachments": {},
   "cell_type": "markdown",
   "id": "74b0bc5f",
   "metadata": {},
   "source": [
    "The sample size is 50, which means it will meet the condition for the CLT. (The condition : sample size should be over 30.)\n",
    "\n",
    "Also, the sampling can be thought as independent events because sample size (50) is smaller than 10% of the population size (255.9)."
   ]
  }
 ],
 "metadata": {
  "kernelspec": {
   "display_name": "Python 3 (ipykernel)",
   "language": "python",
   "name": "python3"
  },
  "language_info": {
   "codemirror_mode": {
    "name": "ipython",
    "version": 3
   },
   "file_extension": ".py",
   "mimetype": "text/x-python",
   "name": "python",
   "nbconvert_exporter": "python",
   "pygments_lexer": "ipython3",
   "version": "3.9.7"
  }
 },
 "nbformat": 4,
 "nbformat_minor": 5
}
