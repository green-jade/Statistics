{
 "cells": [
  {
   "cell_type": "markdown",
   "metadata": {},
   "source": [
    "# Group Lab 9 \n",
    "\n",
    "## Simple Linear Regression"
   ]
  },
  {
   "cell_type": "code",
   "execution_count": null,
   "metadata": {},
   "outputs": [],
   "source": [
    "import pandas as pd\n",
    "import numpy as np\n",
    "import matplotlib.pyplot as plt\n",
    "import seaborn as sns; sns.set()\n",
    "from scipy.stats import t\n",
    "import statsmodels.api as sm\n",
    "import statsmodels.formula.api as smf"
   ]
  },
  {
   "cell_type": "markdown",
   "metadata": {},
   "source": [
    "<hr>\n",
    "\n",
    "## <u>Part 1</u>: Concept-Based Questions\n",
    "\n",
    "### 1.  Guess the Correlation Game\n",
    "\n",
    "As a team, play the game on this website (http://guessthecorrelation.com/) and get at least 20 coins (as shown below). The point of the game is to accurately guess the correlation coefficients $r$ of the scatterplots that they show you. Once you have earned 20 coins, take a screenshot of the screen and save it as an image in the folder that this ipynb file is saved in (ie. the one that you will push to your Github repository.)\n",
    "\n",
    "\n",
    "![title](game_20.png)\n",
    "\n",
    "\n",
    "### 2.  Name That Scenario: Mail Time\n",
    "\n",
    "We've seen many different scenarios, so let's practice identifying our parameter of interest.  Write the appropriate symbol for the parameter of interest for each of the following inference procedures.  While not required, you may also think about what type of inference procedure (confidence interval or hypothesis test) would be most appropriate.\n",
    "\n",
    "**a)** A dorm manager would like to estimate the percentage of all mail items received at the dorm that are considered packages, defined as an item that cannot fit in the dorm mailbox."
   ]
  },
  {
   "attachments": {},
   "cell_type": "markdown",
   "metadata": {},
   "source": [
    "$p$ (population proportion of all mail items received at the dorm that are considered packages)"
   ]
  },
  {
   "cell_type": "markdown",
   "metadata": {},
   "source": [
    "**b)** A FedEx warehouse manager would like to assess if the average number of packages sent from online retailers to a neighborhood in Champaign is greater than the average number of packages sent from online retailers to a neighborhood in Urbana."
   ]
  },
  {
   "attachments": {},
   "cell_type": "markdown",
   "metadata": {},
   "source": [
    "$\\mu_1 - \\mu_2 $ (difference of the population average of packages sent from online retails to a neighborhood in Champaign and Urbana)"
   ]
  },
  {
   "cell_type": "markdown",
   "metadata": {},
   "source": [
    "**c)** A bakery sells many products, including cookies & cakes.  The bakery offers both shipping and store pick-up on the products.  The bakery manager would like to estimate the difference in store pick-up rates between all cookies and all cakes sold by the bakery."
   ]
  },
  {
   "attachments": {},
   "cell_type": "markdown",
   "metadata": {},
   "source": [
    "$p_1 - p_2$ (difference of the proportion of in store pick-up rates between all cookies and all cakes sold)"
   ]
  },
  {
   "cell_type": "markdown",
   "metadata": {},
   "source": [
    "**d)** How long does mail delivery take?  In a review of a mail delivery company, the reviewers would like to examine if there is an association between the weight of the package and the delivery time (the time for the package from pickup to delivery)."
   ]
  },
  {
   "attachments": {},
   "cell_type": "markdown",
   "metadata": {},
   "source": [
    "If I do a regression analysis between two variables : weight (as an independent variable : $x$) and delivery time (as a dependent variable : $y$), \n",
    "\n",
    "the parameters would be $\\beta_1$ as a slope and $\\beta_0$ as an intercept of the regression line."
   ]
  },
  {
   "cell_type": "markdown",
   "metadata": {},
   "source": [
    "## <u>Part 2</u>: Instagram Dataset Analysis\n",
    "\n",
    "For this part, we will return to the Instagram data example.  \n",
    "\n",
    "### 3. Summarizing a Relationship\n",
    "\n",
    "**a)** Read in the *pre-cleaned* Instagram dataset in this folder (ie. fake_insta_cleaned.csv).  Pick two numerical variables that you are interested in learning more about.  (Note: you should not use the combination of number of follows and number of followers, which are used in Case Study 2 of Homework 9.)  \n",
    "\n",
    "Create a scatterplot of these two numerical variables, and add a best fit line.  Be sure to include appropriate axis and main titles."
   ]
  },
  {
   "cell_type": "code",
   "execution_count": 2,
   "metadata": {},
   "outputs": [
    {
     "data": {
      "text/html": [
       "<div>\n",
       "<style scoped>\n",
       "    .dataframe tbody tr th:only-of-type {\n",
       "        vertical-align: middle;\n",
       "    }\n",
       "\n",
       "    .dataframe tbody tr th {\n",
       "        vertical-align: top;\n",
       "    }\n",
       "\n",
       "    .dataframe thead th {\n",
       "        text-align: right;\n",
       "    }\n",
       "</style>\n",
       "<table border=\"1\" class=\"dataframe\">\n",
       "  <thead>\n",
       "    <tr style=\"text-align: right;\">\n",
       "      <th></th>\n",
       "      <th>has_a_profile_pic</th>\n",
       "      <th>number_of_words_in_name</th>\n",
       "      <th>num_characters_in_bio</th>\n",
       "      <th>number_of_posts</th>\n",
       "      <th>number_of_followers</th>\n",
       "      <th>number_of_follows</th>\n",
       "      <th>account_type</th>\n",
       "    </tr>\n",
       "  </thead>\n",
       "  <tbody>\n",
       "    <tr>\n",
       "      <th>0</th>\n",
       "      <td>yes</td>\n",
       "      <td>1</td>\n",
       "      <td>30</td>\n",
       "      <td>35</td>\n",
       "      <td>488</td>\n",
       "      <td>604</td>\n",
       "      <td>real</td>\n",
       "    </tr>\n",
       "    <tr>\n",
       "      <th>1</th>\n",
       "      <td>yes</td>\n",
       "      <td>5</td>\n",
       "      <td>64</td>\n",
       "      <td>3</td>\n",
       "      <td>35</td>\n",
       "      <td>6</td>\n",
       "      <td>real</td>\n",
       "    </tr>\n",
       "    <tr>\n",
       "      <th>2</th>\n",
       "      <td>yes</td>\n",
       "      <td>2</td>\n",
       "      <td>82</td>\n",
       "      <td>319</td>\n",
       "      <td>328</td>\n",
       "      <td>668</td>\n",
       "      <td>real</td>\n",
       "    </tr>\n",
       "    <tr>\n",
       "      <th>3</th>\n",
       "      <td>yes</td>\n",
       "      <td>1</td>\n",
       "      <td>76</td>\n",
       "      <td>6</td>\n",
       "      <td>225</td>\n",
       "      <td>356</td>\n",
       "      <td>real</td>\n",
       "    </tr>\n",
       "    <tr>\n",
       "      <th>4</th>\n",
       "      <td>yes</td>\n",
       "      <td>1</td>\n",
       "      <td>0</td>\n",
       "      <td>6</td>\n",
       "      <td>362</td>\n",
       "      <td>424</td>\n",
       "      <td>real</td>\n",
       "    </tr>\n",
       "    <tr>\n",
       "      <th>...</th>\n",
       "      <td>...</td>\n",
       "      <td>...</td>\n",
       "      <td>...</td>\n",
       "      <td>...</td>\n",
       "      <td>...</td>\n",
       "      <td>...</td>\n",
       "      <td>...</td>\n",
       "    </tr>\n",
       "    <tr>\n",
       "      <th>107</th>\n",
       "      <td>yes</td>\n",
       "      <td>1</td>\n",
       "      <td>0</td>\n",
       "      <td>13</td>\n",
       "      <td>114</td>\n",
       "      <td>811</td>\n",
       "      <td>fake</td>\n",
       "    </tr>\n",
       "    <tr>\n",
       "      <th>108</th>\n",
       "      <td>yes</td>\n",
       "      <td>1</td>\n",
       "      <td>0</td>\n",
       "      <td>4</td>\n",
       "      <td>150</td>\n",
       "      <td>164</td>\n",
       "      <td>fake</td>\n",
       "    </tr>\n",
       "    <tr>\n",
       "      <th>109</th>\n",
       "      <td>yes</td>\n",
       "      <td>2</td>\n",
       "      <td>0</td>\n",
       "      <td>3</td>\n",
       "      <td>833</td>\n",
       "      <td>3572</td>\n",
       "      <td>fake</td>\n",
       "    </tr>\n",
       "    <tr>\n",
       "      <th>110</th>\n",
       "      <td>no</td>\n",
       "      <td>1</td>\n",
       "      <td>0</td>\n",
       "      <td>1</td>\n",
       "      <td>219</td>\n",
       "      <td>1695</td>\n",
       "      <td>fake</td>\n",
       "    </tr>\n",
       "    <tr>\n",
       "      <th>111</th>\n",
       "      <td>yes</td>\n",
       "      <td>1</td>\n",
       "      <td>0</td>\n",
       "      <td>3</td>\n",
       "      <td>39</td>\n",
       "      <td>68</td>\n",
       "      <td>fake</td>\n",
       "    </tr>\n",
       "  </tbody>\n",
       "</table>\n",
       "<p>112 rows × 7 columns</p>\n",
       "</div>"
      ],
      "text/plain": [
       "    has_a_profile_pic  number_of_words_in_name  num_characters_in_bio  \\\n",
       "0                 yes                        1                     30   \n",
       "1                 yes                        5                     64   \n",
       "2                 yes                        2                     82   \n",
       "3                 yes                        1                     76   \n",
       "4                 yes                        1                      0   \n",
       "..                ...                      ...                    ...   \n",
       "107               yes                        1                      0   \n",
       "108               yes                        1                      0   \n",
       "109               yes                        2                      0   \n",
       "110                no                        1                      0   \n",
       "111               yes                        1                      0   \n",
       "\n",
       "     number_of_posts  number_of_followers  number_of_follows account_type  \n",
       "0                 35                  488                604         real  \n",
       "1                  3                   35                  6         real  \n",
       "2                319                  328                668         real  \n",
       "3                  6                  225                356         real  \n",
       "4                  6                  362                424         real  \n",
       "..               ...                  ...                ...          ...  \n",
       "107               13                  114                811         fake  \n",
       "108                4                  150                164         fake  \n",
       "109                3                  833               3572         fake  \n",
       "110                1                  219               1695         fake  \n",
       "111                3                   39                 68         fake  \n",
       "\n",
       "[112 rows x 7 columns]"
      ]
     },
     "execution_count": 2,
     "metadata": {},
     "output_type": "execute_result"
    }
   ],
   "source": [
    "df = pd.read_csv('fake_insta_cleaned.csv')\n",
    "df"
   ]
  },
  {
   "cell_type": "code",
   "execution_count": 6,
   "metadata": {},
   "outputs": [
    {
     "data": {
      "image/png": "[encoded data removed]",
      "text/plain": [
       "<Figure size 432x288 with 1 Axes>"
      ]
     },
     "metadata": {
      "needs_background": "light"
     },
     "output_type": "display_data"
    }
   ],
   "source": [
    "sns.regplot(x='number_of_posts', y='number_of_followers', data=df, ci=False)\n",
    "plt.xlabel('number of posts')\n",
    "plt.ylabel('number of followers')\n",
    "plt.title('Relationship between number of posts and number of followers')\n",
    "plt.show()"
   ]
  },
  {
   "cell_type": "markdown",
   "metadata": {},
   "source": [
    "**b)** In your scatterplot, you selected one variable to plot on the x-axis and one variable to plot on the y-axis.  Explain how you made this decision."
   ]
  },
  {
   "attachments": {},
   "cell_type": "markdown",
   "metadata": {},
   "source": [
    "I thought a number of posts and a number of followers would be proportional. As a number of posts increases, a number of followers would increase.\n",
    "\n",
    "Maybe instagram accounts with more posts uploaded would be more active accounts, which would gather more followers."
   ]
  },
  {
   "cell_type": "markdown",
   "metadata": {},
   "source": [
    "**c)** Describe the scatterplot."
   ]
  },
  {
   "attachments": {},
   "cell_type": "markdown",
   "metadata": {},
   "source": [
    "The scatterplot itself doesn't show clear linear relationship between number of posts and number of followers, but the regression line shows the relationship of going up and to the right, therefore it is a positive relationship. \n",
    "\n",
    "The points of data do not perfectly fit on this line, so they don't have a strong relationship. I would call this relationship moderate weak. \n",
    "\n",
    "There are a few outliers. (accounts that have nearly no posts, but have over 1500 followers and account that has about 250 posts but has about 3,000 followers)"
   ]
  },
  {
   "cell_type": "markdown",
   "metadata": {},
   "source": [
    "**d)** Is it appropriate to use the best fit line to summarize/model the data?"
   ]
  },
  {
   "attachments": {},
   "cell_type": "markdown",
   "metadata": {},
   "source": [
    "Maybe not, because I cannot see strong linear relationship(small correlation) between two variables. \n",
    "\n",
    "Most of the accounts had less than 100 posts, which made it hard to see a relationship between number of posts and number of followers. "
   ]
  },
  {
   "cell_type": "markdown",
   "metadata": {},
   "source": [
    "### 4.  Performing Inference\n",
    "\n",
    "Next, we will assume that this dataset of Instagram accounts is a random sample of ALL Instagram accounts. We would like to learn more about the relationship between the two variables that you selected in Question 3 for ALL Instagram accounts. Specifically, we would like to determine if we have sufficient evidence to suggest that there is a linear relationship between these numerical variables *for all Instagram accounts*. More specifically, we would like to test if we have sufficient evidence to suggest that slope of the simple linear regression model is non-zero.\n",
    "\n",
    "**To do this, we will create a 90% confidence interval for this population slope.**\n",
    "\n",
    "**a)** Construct the 90% confidence interval below."
   ]
  },
  {
   "cell_type": "code",
   "execution_count": 8,
   "metadata": {},
   "outputs": [
    {
     "name": "stdout",
     "output_type": "stream",
     "text": [
      "Explanatory Variable Mean: 48.19642857142857\n",
      "Response Variable Mean: 427.625\n"
     ]
    }
   ],
   "source": [
    "mean_x=df['number_of_posts'].mean()\n",
    "print('Explanatory Variable Mean:',mean_x)\n",
    "\n",
    "mean_y=df['number_of_followers'].mean()\n",
    "print('Response Variable Mean:',mean_y)"
   ]
  },
  {
   "cell_type": "code",
   "execution_count": 9,
   "metadata": {},
   "outputs": [
    {
     "name": "stdout",
     "output_type": "stream",
     "text": [
      "Explanatory Variable Std: 102.85324446530551\n",
      "Response Variable Mean: 603.0260049223521\n"
     ]
    }
   ],
   "source": [
    "std_x=df['number_of_posts'].std()\n",
    "print('Explanatory Variable Std:',std_x)\n",
    "\n",
    "std_y=df['number_of_followers'].std()\n",
    "print('Response Variable Mean:',std_y)"
   ]
  },
  {
   "cell_type": "code",
   "execution_count": 12,
   "metadata": {},
   "outputs": [
    {
     "name": "stdout",
     "output_type": "stream",
     "text": [
      "Correlation: 0.31476929909083967\n"
     ]
    }
   ],
   "source": [
    "corr = df['number_of_posts'].corr(df['number_of_followers'])\n",
    "print('Correlation:', corr)"
   ]
  },
  {
   "cell_type": "code",
   "execution_count": 13,
   "metadata": {},
   "outputs": [
    {
     "name": "stdout",
     "output_type": "stream",
     "text": [
      "Slope: 1.845484543435926\n"
     ]
    }
   ],
   "source": [
    "slope=corr*(std_y/std_x)\n",
    "print('Slope:', slope)"
   ]
  },
  {
   "cell_type": "code",
   "execution_count": 19,
   "metadata": {},
   "outputs": [
    {
     "data": {
      "text/html": [
       "<table class=\"simpletable\">\n",
       "<tr>\n",
       "         <td></td>            <th>coef</th>     <th>std err</th>      <th>t</th>      <th>P>|t|</th>  <th>[0.025</th>    <th>0.975]</th>  \n",
       "</tr>\n",
       "<tr>\n",
       "  <th>Intercept</th>       <td>  338.6792</td> <td>   60.047</td> <td>    5.640</td> <td> 0.000</td> <td>  219.680</td> <td>  457.679</td>\n",
       "</tr>\n",
       "<tr>\n",
       "  <th>number_of_posts</th> <td>    1.8455</td> <td>    0.531</td> <td>    3.478</td> <td> 0.001</td> <td>    0.794</td> <td>    2.897</td>\n",
       "</tr>\n",
       "</table>"
      ],
      "text/plain": [
       "<class 'statsmodels.iolib.table.SimpleTable'>"
      ]
     },
     "execution_count": 19,
     "metadata": {},
     "output_type": "execute_result"
    }
   ],
   "source": [
    "import statsmodels.api as sm\n",
    "import statsmodels.formula.api as smf\n",
    "results = smf.ols('number_of_followers ~ number_of_posts', data=df).fit()\n",
    "results.summary().tables[1]"
   ]
  },
  {
   "cell_type": "code",
   "execution_count": 22,
   "metadata": {},
   "outputs": [
    {
     "data": {
      "text/html": [
       "<table class=\"simpletable\">\n",
       "<caption>OLS Regression Results</caption>\n",
       "<tr>\n",
       "  <th>Dep. Variable:</th>    <td>number_of_followers</td> <th>  R-squared:         </th> <td>   0.099</td>\n",
       "</tr>\n",
       "<tr>\n",
       "  <th>Model:</th>                    <td>OLS</td>         <th>  Adj. R-squared:    </th> <td>   0.091</td>\n",
       "</tr>\n",
       "<tr>\n",
       "  <th>Method:</th>              <td>Least Squares</td>    <th>  F-statistic:       </th> <td>   12.10</td>\n",
       "</tr>\n",
       "<tr>\n",
       "  <th>Date:</th>              <td>Wed, 29 Mar 2023</td>   <th>  Prob (F-statistic):</th> <td>0.000724</td>\n",
       "</tr>\n",
       "<tr>\n",
       "  <th>Time:</th>                  <td>15:57:59</td>       <th>  Log-Likelihood:    </th> <td> -869.60</td>\n",
       "</tr>\n",
       "<tr>\n",
       "  <th>No. Observations:</th>       <td>   112</td>        <th>  AIC:               </th> <td>   1743.</td>\n",
       "</tr>\n",
       "<tr>\n",
       "  <th>Df Residuals:</th>           <td>   110</td>        <th>  BIC:               </th> <td>   1749.</td>\n",
       "</tr>\n",
       "<tr>\n",
       "  <th>Df Model:</th>               <td>     1</td>        <th>                     </th>     <td> </td>   \n",
       "</tr>\n",
       "<tr>\n",
       "  <th>Covariance Type:</th>       <td>nonrobust</td>      <th>                     </th>     <td> </td>   \n",
       "</tr>\n",
       "</table>\n",
       "<table class=\"simpletable\">\n",
       "<tr>\n",
       "         <td></td>            <th>coef</th>     <th>std err</th>      <th>t</th>      <th>P>|t|</th>  <th>[0.025</th>    <th>0.975]</th>  \n",
       "</tr>\n",
       "<tr>\n",
       "  <th>Intercept</th>       <td>  338.6792</td> <td>   60.047</td> <td>    5.640</td> <td> 0.000</td> <td>  219.680</td> <td>  457.679</td>\n",
       "</tr>\n",
       "<tr>\n",
       "  <th>number_of_posts</th> <td>    1.8455</td> <td>    0.531</td> <td>    3.478</td> <td> 0.001</td> <td>    0.794</td> <td>    2.897</td>\n",
       "</tr>\n",
       "</table>\n",
       "<table class=\"simpletable\">\n",
       "<tr>\n",
       "  <th>Omnibus:</th>       <td>71.388</td> <th>  Durbin-Watson:     </th> <td>   1.686</td>\n",
       "</tr>\n",
       "<tr>\n",
       "  <th>Prob(Omnibus):</th> <td> 0.000</td> <th>  Jarque-Bera (JB):  </th> <td> 285.340</td>\n",
       "</tr>\n",
       "<tr>\n",
       "  <th>Skew:</th>          <td> 2.326</td> <th>  Prob(JB):          </th> <td>1.09e-62</td>\n",
       "</tr>\n",
       "<tr>\n",
       "  <th>Kurtosis:</th>      <td> 9.284</td> <th>  Cond. No.          </th> <td>    125.</td>\n",
       "</tr>\n",
       "</table><br/><br/>Notes:<br/>[1] Standard Errors assume that the covariance matrix of the errors is correctly specified."
      ],
      "text/plain": [
       "<class 'statsmodels.iolib.summary.Summary'>\n",
       "\"\"\"\n",
       "                             OLS Regression Results                            \n",
       "===============================================================================\n",
       "Dep. Variable:     number_of_followers   R-squared:                       0.099\n",
       "Model:                             OLS   Adj. R-squared:                  0.091\n",
       "Method:                  Least Squares   F-statistic:                     12.10\n",
       "Date:                 Wed, 29 Mar 2023   Prob (F-statistic):           0.000724\n",
       "Time:                         15:57:59   Log-Likelihood:                -869.60\n",
       "No. Observations:                  112   AIC:                             1743.\n",
       "Df Residuals:                      110   BIC:                             1749.\n",
       "Df Model:                            1                                         \n",
       "Covariance Type:             nonrobust                                         \n",
       "===================================================================================\n",
       "                      coef    std err          t      P>|t|      [0.025      0.975]\n",
       "-----------------------------------------------------------------------------------\n",
       "Intercept         338.6792     60.047      5.640      0.000     219.680     457.679\n",
       "number_of_posts     1.8455      0.531      3.478      0.001       0.794       2.897\n",
       "==============================================================================\n",
       "Omnibus:                       71.388   Durbin-Watson:                   1.686\n",
       "Prob(Omnibus):                  0.000   Jarque-Bera (JB):              285.340\n",
       "Skew:                           2.326   Prob(JB):                     1.09e-62\n",
       "Kurtosis:                       9.284   Cond. No.                         125.\n",
       "==============================================================================\n",
       "\n",
       "Notes:\n",
       "[1] Standard Errors assume that the covariance matrix of the errors is correctly specified.\n",
       "\"\"\""
      ]
     },
     "execution_count": 22,
     "metadata": {},
     "output_type": "execute_result"
    }
   ],
   "source": [
    "results.summary()"
   ]
  },
  {
   "cell_type": "code",
   "execution_count": 16,
   "metadata": {},
   "outputs": [
    {
     "name": "stdout",
     "output_type": "stream",
     "text": [
      "Critical Value 1.6588241874019427\n"
     ]
    }
   ],
   "source": [
    "from scipy.stats import t\n",
    "n=df.shape[0]\n",
    "critical_value=t.ppf(1-0.05, df=n-1-1)\n",
    "print('Critical Value',critical_value)"
   ]
  },
  {
   "cell_type": "code",
   "execution_count": 21,
   "metadata": {},
   "outputs": [
    {
     "name": "stdout",
     "output_type": "stream",
     "text": [
      "Point Estimate (sample slope): 1.8455\n",
      "Standard Error (of sample slopes): 0.531\n",
      "90% Confidence Interval: 0.9646643564895683 2.7263356435104313\n"
     ]
    }
   ],
   "source": [
    "point_estimate=1.8455\n",
    "print('Point Estimate (sample slope):', point_estimate)\n",
    "standard_error=0.531\n",
    "print('Standard Error (of sample slopes):', standard_error)\n",
    "\n",
    "lower_bound=point_estimate-critical_value*standard_error\n",
    "upper_bound=point_estimate+critical_value*standard_error\n",
    "\n",
    "print('90% Confidence Interval:', lower_bound, upper_bound)"
   ]
  },
  {
   "cell_type": "markdown",
   "metadata": {},
   "source": [
    "**b)** Based on the confidence interval, is it reasonable to say that the slope of your simple linear regression model is non-zero.  Explain."
   ]
  },
  {
   "attachments": {},
   "cell_type": "markdown",
   "metadata": {},
   "source": [
    "Since a value '0' is within the 90% confidence interval (0.9647, 2.7263), it is unreasonable to say the slope of my simple linear regression model is zero. "
   ]
  },
  {
   "cell_type": "markdown",
   "metadata": {},
   "source": [
    "**c)** Check the assumptions for the simple linear regression model."
   ]
  },
  {
   "cell_type": "code",
   "execution_count": 23,
   "metadata": {},
   "outputs": [
    {
     "data": {
      "text/plain": [
       "112"
      ]
     },
     "execution_count": 23,
     "metadata": {},
     "output_type": "execute_result"
    }
   ],
   "source": [
    "n= df.shape[0]\n",
    "n"
   ]
  },
  {
   "attachments": {},
   "cell_type": "markdown",
   "metadata": {},
   "source": [
    "Our sample of instagram is randomly sampled and sample size = 112 < 10% of all instagram users. "
   ]
  }
 ],
 "metadata": {
  "kernelspec": {
   "display_name": "Python 3 (ipykernel)",
   "language": "python",
   "name": "python3"
  },
  "language_info": {
   "codemirror_mode": {
    "name": "ipython",
    "version": 3
   },
   "file_extension": ".py",
   "mimetype": "text/x-python",
   "name": "python",
   "nbconvert_exporter": "python",
   "pygments_lexer": "ipython3",
   "version": "3.9.13"
  }
 },
 "nbformat": 4,
 "nbformat_minor": 2
}
