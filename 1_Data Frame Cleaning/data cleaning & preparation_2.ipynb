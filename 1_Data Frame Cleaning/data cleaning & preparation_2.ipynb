{
 "cells": [
  {
   "cell_type": "markdown",
   "metadata": {},
   "source": [
    "# Group Lab  3 \n",
    "\n",
    "## Cleaning & Preparing Data for Future Analysis"
   ]
  },
  {
   "cell_type": "code",
   "execution_count": null,
   "metadata": {},
   "outputs": [],
   "source": [
    "#Run this\n",
    "import pandas as pd                    # imports pandas and calls the imported version 'pd'\n",
    "import matplotlib.pyplot as plt        # imports the package and calls it 'plt'\n",
    "import seaborn as sns                  # imports the seaborn package with the imported name 'sns'\n",
    "sns.set()  "
   ]
  },
  {
   "cell_type": "markdown",
   "metadata": {},
   "source": [
    "### Steam Data\n",
    "\n",
    "Steam is the world's most popular PC Gaming hub. With a massive collection that includes everything from AAA blockbusters to small indie titles, great discovery tools can be super valuable for Steam. What can we learn about Steam gaming behavior?\n",
    "\n",
    "The dataset we will be analyzing is comprised of a random sample of 500 steam users and their game play and purchase behaviors. It has the following columns:\n",
    "* user_id\n",
    "* game_name,\n",
    "* activity:\n",
    "    - purchase: indicating that the user has *purchased* the corresponding game\n",
    "    - play: indicating that the user has *played* the corresponding game (for at least some amount of time.) \n",
    "* hours_played_if_play:\n",
    "    - if the row corresponds to a 'play' activity, this number represents the number of hours the user has played the game\n",
    "    - if the row corresponds to a 'purchase' activity, this number is always a 1 (and means nothing... it's a placeholder).\n",
    "\n",
    "Observational units in this data frame are defined by the user-game combination.\n",
    "\n",
    "For this lab, you will be preparing the dataset for future analysis.  To do this, you will need to clean the data as requested below.  \n",
    "\n",
    "### 1. Preparing in the Data\n",
    "\n",
    "We will again be analyzing the steam data, using the same data as Lab 2 and Homework 3.\n",
    "\n",
    "First, read in a cleaned version of the steam_sample.csv file into a dataframe.  You do not need to show all steps used to prepare the data, but you should prepare your data by having all **missing values** correctly identified as missing by Python and dropping all rows with a missing value."
   ]
  },
  {
   "cell_type": "code",
   "execution_count": 4,
   "metadata": {},
   "outputs": [],
   "source": [
    "df = pd.read_csv('steam_sample.csv')"
   ]
  },
  {
   "cell_type": "code",
   "execution_count": 7,
   "metadata": {},
   "outputs": [],
   "source": [
    "df = pd.read_csv('steam_sample.csv', na_values ='unknown')"
   ]
  },
  {
   "cell_type": "code",
   "execution_count": 52,
   "metadata": {},
   "outputs": [
    {
     "data": {
      "text/html": [
       "<div>\n",
       "<style scoped>\n",
       "    .dataframe tbody tr th:only-of-type {\n",
       "        vertical-align: middle;\n",
       "    }\n",
       "\n",
       "    .dataframe tbody tr th {\n",
       "        vertical-align: top;\n",
       "    }\n",
       "\n",
       "    .dataframe thead th {\n",
       "        text-align: right;\n",
       "    }\n",
       "</style>\n",
       "<table border=\"1\" class=\"dataframe\">\n",
       "  <thead>\n",
       "    <tr style=\"text-align: right;\">\n",
       "      <th></th>\n",
       "      <th>user_id</th>\n",
       "      <th>game_name</th>\n",
       "      <th>activity</th>\n",
       "      <th>hours_played_if_play</th>\n",
       "    </tr>\n",
       "  </thead>\n",
       "  <tbody>\n",
       "    <tr>\n",
       "      <th>0</th>\n",
       "      <td>308653033</td>\n",
       "      <td>Unturned</td>\n",
       "      <td>purchase</td>\n",
       "      <td>1.0</td>\n",
       "    </tr>\n",
       "    <tr>\n",
       "      <th>1</th>\n",
       "      <td>308653033</td>\n",
       "      <td>Unturned</td>\n",
       "      <td>play</td>\n",
       "      <td>0.6</td>\n",
       "    </tr>\n",
       "    <tr>\n",
       "      <th>2</th>\n",
       "      <td>308653033</td>\n",
       "      <td>theHunter</td>\n",
       "      <td>purchase</td>\n",
       "      <td>1.0</td>\n",
       "    </tr>\n",
       "    <tr>\n",
       "      <th>3</th>\n",
       "      <td>144004384</td>\n",
       "      <td>Dota 2</td>\n",
       "      <td>purchase</td>\n",
       "      <td>1.0</td>\n",
       "    </tr>\n",
       "    <tr>\n",
       "      <th>4</th>\n",
       "      <td>144004384</td>\n",
       "      <td>Dota 2</td>\n",
       "      <td>play</td>\n",
       "      <td>22.0</td>\n",
       "    </tr>\n",
       "    <tr>\n",
       "      <th>...</th>\n",
       "      <td>...</td>\n",
       "      <td>...</td>\n",
       "      <td>...</td>\n",
       "      <td>...</td>\n",
       "    </tr>\n",
       "    <tr>\n",
       "      <th>7801</th>\n",
       "      <td>99096740</td>\n",
       "      <td>SimCity 4 Deluxe</td>\n",
       "      <td>play</td>\n",
       "      <td>0.2</td>\n",
       "    </tr>\n",
       "    <tr>\n",
       "      <th>7802</th>\n",
       "      <td>99096740</td>\n",
       "      <td>BioShock Infinite Burial at Sea - Episode 2</td>\n",
       "      <td>purchase</td>\n",
       "      <td>1.0</td>\n",
       "    </tr>\n",
       "    <tr>\n",
       "      <th>7803</th>\n",
       "      <td>99096740</td>\n",
       "      <td>The Elder Scrolls V Skyrim - Dawnguard</td>\n",
       "      <td>purchase</td>\n",
       "      <td>1.0</td>\n",
       "    </tr>\n",
       "    <tr>\n",
       "      <th>7804</th>\n",
       "      <td>99096740</td>\n",
       "      <td>The Elder Scrolls V Skyrim - Dragonborn</td>\n",
       "      <td>purchase</td>\n",
       "      <td>1.0</td>\n",
       "    </tr>\n",
       "    <tr>\n",
       "      <th>7805</th>\n",
       "      <td>99096740</td>\n",
       "      <td>The Elder Scrolls V Skyrim - Hearthfire</td>\n",
       "      <td>purchase</td>\n",
       "      <td>1.0</td>\n",
       "    </tr>\n",
       "  </tbody>\n",
       "</table>\n",
       "<p>7800 rows × 4 columns</p>\n",
       "</div>"
      ],
      "text/plain": [
       "        user_id                                    game_name  activity  \\\n",
       "0     308653033                                     Unturned  purchase   \n",
       "1     308653033                                     Unturned      play   \n",
       "2     308653033                                    theHunter  purchase   \n",
       "3     144004384                                       Dota 2  purchase   \n",
       "4     144004384                                       Dota 2      play   \n",
       "...         ...                                          ...       ...   \n",
       "7801   99096740                             SimCity 4 Deluxe      play   \n",
       "7802   99096740  BioShock Infinite Burial at Sea - Episode 2  purchase   \n",
       "7803   99096740       The Elder Scrolls V Skyrim - Dawnguard  purchase   \n",
       "7804   99096740      The Elder Scrolls V Skyrim - Dragonborn  purchase   \n",
       "7805   99096740      The Elder Scrolls V Skyrim - Hearthfire  purchase   \n",
       "\n",
       "      hours_played_if_play  \n",
       "0                      1.0  \n",
       "1                      0.6  \n",
       "2                      1.0  \n",
       "3                      1.0  \n",
       "4                     22.0  \n",
       "...                    ...  \n",
       "7801                   0.2  \n",
       "7802                   1.0  \n",
       "7803                   1.0  \n",
       "7804                   1.0  \n",
       "7805                   1.0  \n",
       "\n",
       "[7800 rows x 4 columns]"
      ]
     },
     "execution_count": 52,
     "metadata": {},
     "output_type": "execute_result"
    }
   ],
   "source": [
    "df.dropna()"
   ]
  },
  {
   "cell_type": "code",
   "execution_count": 8,
   "metadata": {},
   "outputs": [
    {
     "data": {
      "text/plain": [
       "user_id                   int64\n",
       "game_name                object\n",
       "activity                 object\n",
       "hours_played_if_play    float64\n",
       "dtype: object"
      ]
     },
     "execution_count": 8,
     "metadata": {},
     "output_type": "execute_result"
    }
   ],
   "source": [
    "df.dtypes"
   ]
  },
  {
   "cell_type": "markdown",
   "metadata": {},
   "source": [
    "### 2. Pick Two Games\n",
    "\n",
    "Select two games of your choosing from the data other than Counter-Strike and Sid Meier's Civilization V, which are analyzed in Homework 3.  Perform the following steps to analyze the amount of time users played each game.\n",
    "\n",
    "**a)** Plot two histograms, one for the number of hours played for each of these two games.  Make sure your histograms have clear labels and titles."
   ]
  },
  {
   "cell_type": "code",
   "execution_count": 43,
   "metadata": {},
   "outputs": [
    {
     "data": {
      "image/png": "[encoded data removed]",
      "text/plain": [
       "<Figure size 432x288 with 1 Axes>"
      ]
     },
     "metadata": {
      "needs_background": "light"
     },
     "output_type": "display_data"
    }
   ],
   "source": [
    "Dota2 = df[df['game_name']=='Dota 2']\n",
    "Dota2 = Dota2[Dota2['activity']=='play']\n",
    "Dota2['hours_played_if_play'].hist()\n",
    "plt.xlabel('Hours Played')\n",
    "plt.ylabel('Frequency')\n",
    "plt.title('Hours played for Dota 2')\n",
    "plt.show()"
   ]
  },
  {
   "cell_type": "code",
   "execution_count": 44,
   "metadata": {},
   "outputs": [
    {
     "data": {
      "image/png": "[encoded data removed]",
      "text/plain": [
       "<Figure size 432x288 with 1 Axes>"
      ]
     },
     "metadata": {
      "needs_background": "light"
     },
     "output_type": "display_data"
    }
   ],
   "source": [
    "Unturned = df[df['game_name']=='Unturned']\n",
    "Unturned = Unturned[Unturned['activity']=='play']\n",
    "Unturned['hours_played_if_play'].hist()\n",
    "plt.xlabel('Hours Played')\n",
    "plt.ylabel('Frequency')\n",
    "plt.title('Hours played for Unturned')\n",
    "plt.show()"
   ]
  },
  {
   "cell_type": "markdown",
   "metadata": {},
   "source": [
    "**b)** Describe and compare the shapes of these histograms."
   ]
  },
  {
   "attachments": {},
   "cell_type": "markdown",
   "metadata": {},
   "source": [
    "The hours played are skewed left in both histograms. \n",
    "\n",
    "The skewness is more higher for the game 'Dota2' than the game 'Unturned'. \n",
    "\n"
   ]
  },
  {
   "cell_type": "markdown",
   "metadata": {},
   "source": [
    "**c)** Calculate and compare a measure of center for the number of hours played for each of these two games.  Explain why you chose your particular measure of center."
   ]
  },
  {
   "cell_type": "code",
   "execution_count": 45,
   "metadata": {},
   "outputs": [
    {
     "data": {
      "text/plain": [
       "4.8"
      ]
     },
     "execution_count": 45,
     "metadata": {},
     "output_type": "execute_result"
    }
   ],
   "source": [
    "Dota2['hours_played_if_play'].median()"
   ]
  },
  {
   "cell_type": "code",
   "execution_count": 46,
   "metadata": {},
   "outputs": [
    {
     "data": {
      "text/plain": [
       "4.5"
      ]
     },
     "execution_count": 46,
     "metadata": {},
     "output_type": "execute_result"
    }
   ],
   "source": [
    "Unturned['hours_played_if_play'].median()"
   ]
  },
  {
   "attachments": {},
   "cell_type": "markdown",
   "metadata": {},
   "source": [
    "The reason I chose median for a measure of center is there are extreme hours that have been played, so the mean value of the hours_played are too large. This does not represent a proper measure of center. "
   ]
  },
  {
   "cell_type": "markdown",
   "metadata": {},
   "source": [
    "**d)** Calculate and compare a measure of spread for the number of hours played for each of these two games.  Explain why you chose your particular measure of spread."
   ]
  },
  {
   "cell_type": "code",
   "execution_count": 47,
   "metadata": {},
   "outputs": [
    {
     "data": {
      "text/plain": [
       "430.4688471478012"
      ]
     },
     "execution_count": 47,
     "metadata": {},
     "output_type": "execute_result"
    }
   ],
   "source": [
    "Dota2['hours_played_if_play'].std()"
   ]
  },
  {
   "cell_type": "code",
   "execution_count": 48,
   "metadata": {},
   "outputs": [
    {
     "data": {
      "text/plain": [
       "23.08324863755846"
      ]
     },
     "execution_count": 48,
     "metadata": {},
     "output_type": "execute_result"
    }
   ],
   "source": [
    "Unturned['hours_played_if_play'].std()"
   ]
  },
  {
   "attachments": {},
   "cell_type": "markdown",
   "metadata": {},
   "source": [
    "The reason I chose standard deviation as a measure of spread for the number of hours played is "
   ]
  },
  {
   "cell_type": "markdown",
   "metadata": {},
   "source": [
    "**e)** Calculate the cutoff points for observations to be considered an outlier for each of these two games.  Would you consider the set of cutoff points to be similar or different?"
   ]
  },
  {
   "cell_type": "code",
   "execution_count": 49,
   "metadata": {},
   "outputs": [
    {
     "name": "stdout",
     "output_type": "stream",
     "text": [
      "-100.49999999999999 1.2 69.0 170.7\n"
     ]
    }
   ],
   "source": [
    "Q1 = Dota2 ['hours_played_if_play'].quantile(q=0.25)\n",
    "Q3 = Dota2['hours_played_if_play'].quantile(q=0.75)\n",
    "IQR = Q3 - Q1\n",
    "cutoff_1 = Q1 - 1.5 * IQR\n",
    "cutoff_2 = Q3 + 1.5 * IQR\n",
    "print(cutoff_1, Q1, Q3, cutoff_2)"
   ]
  },
  {
   "cell_type": "code",
   "execution_count": 50,
   "metadata": {},
   "outputs": [
    {
     "name": "stdout",
     "output_type": "stream",
     "text": [
      "-24.300000000000008 1.6500000000000001 18.950000000000003 44.900000000000006\n"
     ]
    }
   ],
   "source": [
    "q1 = Unturned ['hours_played_if_play'].quantile(q=0.25)\n",
    "q3 = Unturned['hours_played_if_play'].quantile(q=0.75)\n",
    "iqr = q3 - q1\n",
    "cutoff_11 = q1 - 1.5 * iqr\n",
    "cutoff_22 = q3 + 1.5 * iqr\n",
    "print(cutoff_11, q1, q3, cutoff_22)"
   ]
  },
  {
   "attachments": {},
   "cell_type": "markdown",
   "metadata": {},
   "source": [
    "The lower cutoff point for both games (q1 - 1.5*iqr) had a negative value, so we should not consider the lower cutoff points. \n",
    "\n",
    "The cutoff point for game 'Dota 2' is 170.7 (hours) and the point for game Unturned is 45 (hours). This should be different because the hour played for game 'Dota 2' was more skewed to left when we plotted a histogram. This means, there were higher values (hours played) for the game 'Dota 2'. This concludes that the cutoff for 'Dota 2' is higher than 'Unturned'. "
   ]
  },
  {
   "cell_type": "markdown",
   "metadata": {},
   "source": [
    "### 3. Probability Calculation\n",
    "\n",
    "Select one of the games from the two games you selected in Question 2 to further explore how popular that game is.  We will work to determine how popular that game is, based on how often the game is purchased and based on if the game has been played for our Steam users.\n",
    "\n",
    "**a)** If a single game were to be randomly selected from the games (rows) that were purchased in this dataset, what is the probability that it is your selected game?"
   ]
  },
  {
   "cell_type": "code",
   "execution_count": 53,
   "metadata": {},
   "outputs": [
    {
     "data": {
      "text/plain": [
       "4931"
      ]
     },
     "execution_count": 53,
     "metadata": {},
     "output_type": "execute_result"
    }
   ],
   "source": [
    "purchased_df = df[df['activity']=='purchase']\n",
    "len(purchased_df)"
   ]
  },
  {
   "cell_type": "code",
   "execution_count": 55,
   "metadata": {},
   "outputs": [
    {
     "data": {
      "text/plain": [
       "0.01095112553234638"
      ]
     },
     "execution_count": 55,
     "metadata": {},
     "output_type": "execute_result"
    }
   ],
   "source": [
    "len(purchased_df[purchased_df['game_name']=='Unturned'])/len(purchased_df)"
   ]
  },
  {
   "cell_type": "markdown",
   "metadata": {},
   "source": [
    "**b)** Now, take a random sample of the user-game combinations (rows) of games that have been purchased of size 1000 with replacement.  Be sure to set the random_state beforehand, so that this sampling is replicable; you may choose any value for your random state.  Based on this random sample, what proportion of the games are your selected game."
   ]
  },
  {
   "cell_type": "code",
   "execution_count": 58,
   "metadata": {},
   "outputs": [],
   "source": [
    "random_sample = purchased_df.sample(1000,replace = True, random_state= 123 )"
   ]
  },
  {
   "cell_type": "code",
   "execution_count": 61,
   "metadata": {},
   "outputs": [
    {
     "data": {
      "text/plain": [
       "11"
      ]
     },
     "execution_count": 61,
     "metadata": {},
     "output_type": "execute_result"
    }
   ],
   "source": [
    "sum(random_sample['game_name'] == 'Unturned')"
   ]
  },
  {
   "cell_type": "code",
   "execution_count": 62,
   "metadata": {},
   "outputs": [
    {
     "data": {
      "text/plain": [
       "0.011"
      ]
     },
     "execution_count": 62,
     "metadata": {},
     "output_type": "execute_result"
    }
   ],
   "source": [
    "11/ 1000"
   ]
  },
  {
   "attachments": {},
   "cell_type": "markdown",
   "metadata": {},
   "source": [
    "0.011"
   ]
  },
  {
   "cell_type": "markdown",
   "metadata": {},
   "source": [
    "**c)** We'll continue examining the same game's popularity, now based on if that game is played.  If a single game were to be randomly selected from the user-game combination (rows) that have been played, what is the probability that it is your selected game?"
   ]
  },
  {
   "cell_type": "code",
   "execution_count": 64,
   "metadata": {},
   "outputs": [],
   "source": [
    "played_df = df[df['activity']=='play']\n",
    "random_sample_played = played_df.sample(1000,replace = True, random_state= 123 )"
   ]
  },
  {
   "cell_type": "code",
   "execution_count": 66,
   "metadata": {},
   "outputs": [
    {
     "data": {
      "text/plain": [
       "0.017"
      ]
     },
     "execution_count": 66,
     "metadata": {},
     "output_type": "execute_result"
    }
   ],
   "source": [
    "sum(random_sample_played['game_name'] == 'Unturned') / 1000"
   ]
  },
  {
   "attachments": {},
   "cell_type": "markdown",
   "metadata": {},
   "source": [
    "0.017"
   ]
  },
  {
   "cell_type": "markdown",
   "metadata": {},
   "source": [
    "**d)** Finally, take a random sample of the user-game combinations (rows) of games that have been played of size 1000 with replacement.  Be sure to set the random_state beforehand, so that this sampling is replicable; you may choose any random state.  Based on this random sample, what proportion of the games are your selected game."
   ]
  },
  {
   "cell_type": "code",
   "execution_count": 67,
   "metadata": {},
   "outputs": [],
   "source": [
    "random_sampling = df.sample(1000, replace=True, random_state=123)"
   ]
  },
  {
   "cell_type": "code",
   "execution_count": 68,
   "metadata": {},
   "outputs": [
    {
     "data": {
      "text/plain": [
       "0.01"
      ]
     },
     "execution_count": 68,
     "metadata": {},
     "output_type": "execute_result"
    }
   ],
   "source": [
    "sum(random_sampling['game_name'] == 'Unturned') / 1000"
   ]
  },
  {
   "attachments": {},
   "cell_type": "markdown",
   "metadata": {},
   "source": [
    "0.01"
   ]
  },
  {
   "cell_type": "markdown",
   "metadata": {},
   "source": [
    "**e)** Does the popularity of your game of interest differ based on whether it is played or purchased?  Explain your answer."
   ]
  },
  {
   "attachments": {},
   "cell_type": "markdown",
   "metadata": {},
   "source": [
    "The popularity of my game of interest does differ based on whether it is played or purchased. The difference is little, but there surely was a difference bwtween the probabilites. \n",
    "\n",
    "0.01095112553234638\n",
    "\n",
    "0.011\n",
    "\n",
    "0.017\n",
    "\n",
    "0.01\n",
    "\n",
    "\n",
    "\n"
   ]
  }
 ],
 "metadata": {
  "kernelspec": {
   "display_name": "Python 3",
   "language": "python",
   "name": "python3"
  },
  "language_info": {
   "codemirror_mode": {
    "name": "ipython",
    "version": 3
   },
   "file_extension": ".py",
   "mimetype": "text/x-python",
   "name": "python",
   "nbconvert_exporter": "python",
   "pygments_lexer": "ipython3",
   "version": "3.9.13"
  },
  "vscode": {
   "interpreter": {
    "hash": "bf5817c8b02cc5c6d9d556b5b283d9f8666d377278bd43aea9cee48641f43644"
   }
  }
 },
 "nbformat": 4,
 "nbformat_minor": 2
}
