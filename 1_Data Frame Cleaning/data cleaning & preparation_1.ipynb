{
 "cells": [
  {
   "cell_type": "markdown",
   "metadata": {},
   "source": [
    "# Group Lab 2 \n",
    "\n",
    "## Cleaning & Preparing Data for Future Analysis"
   ]
  },
  {
   "cell_type": "code",
   "execution_count": 1,
   "metadata": {},
   "outputs": [],
   "source": [
    "#Run this\n",
    "import pandas as pd                    # imports pandas and calls the imported version 'pd'\n",
    "import matplotlib.pyplot as plt        # imports the package and calls it 'plt'\n",
    "import seaborn as sns                  # imports the seaborn package with the imported name 'sns'\n",
    "sns.set()  "
   ]
  },
  {
   "cell_type": "markdown",
   "metadata": {},
   "source": [
    "### Steam Data\n",
    "\n",
    "Steam is the world's most popular PC Gaming hub. With a massive collection that includes everything from AAA blockbusters to small indie titles, great discovery tools can be super valuable for Steam. What can we learn about Steam gaming behavior?\n",
    "\n",
    "The dataset we will be analyzing is comprised of a random sample of 500 steam users and their game play and purchase behaviors. It has the following columns:\n",
    "* user_id\n",
    "* game_name,\n",
    "* activity:\n",
    "    - purchase: indicating that the user has *purchased* the corresponding game\n",
    "    - play: indicating that the user has *played* the corresponding game (for at least some amount of time.) \n",
    "* hours_played_if_play:\n",
    "    - if the row corresponds to a 'play' activity, this number represents the number of hours the user has played the game\n",
    "    - if the row corresponds to a 'purchase' activity, this number is always a 1 (and means nothing... it's a placeholder).\n",
    "\n",
    "Observational units in this data frame are defined by the user-game combination.\n",
    "\n",
    "For this lab, you will be preparing the dataset for future analysis.  To do this, you will need to clean the data as requested below.  \n",
    "\n",
    "### 1. Reading in the Data\n",
    "\n",
    "First, read the steam_sample.csv file into a dataframe.  Display the first five rows and the number of observations in the data."
   ]
  },
  {
   "cell_type": "code",
   "execution_count": 2,
   "metadata": {},
   "outputs": [],
   "source": [
    "df = pd.read_csv('steam_sample.csv')"
   ]
  },
  {
   "cell_type": "code",
   "execution_count": 3,
   "metadata": {},
   "outputs": [
    {
     "data": {
      "text/html": [
       "<div>\n",
       "<style scoped>\n",
       "    .dataframe tbody tr th:only-of-type {\n",
       "        vertical-align: middle;\n",
       "    }\n",
       "\n",
       "    .dataframe tbody tr th {\n",
       "        vertical-align: top;\n",
       "    }\n",
       "\n",
       "    .dataframe thead th {\n",
       "        text-align: right;\n",
       "    }\n",
       "</style>\n",
       "<table border=\"1\" class=\"dataframe\">\n",
       "  <thead>\n",
       "    <tr style=\"text-align: right;\">\n",
       "      <th></th>\n",
       "      <th>user_id</th>\n",
       "      <th>game_name</th>\n",
       "      <th>activity</th>\n",
       "      <th>hours_played_if_play</th>\n",
       "    </tr>\n",
       "  </thead>\n",
       "  <tbody>\n",
       "    <tr>\n",
       "      <th>0</th>\n",
       "      <td>308653033</td>\n",
       "      <td>Unturned</td>\n",
       "      <td>purchase</td>\n",
       "      <td>1</td>\n",
       "    </tr>\n",
       "    <tr>\n",
       "      <th>1</th>\n",
       "      <td>308653033</td>\n",
       "      <td>Unturned</td>\n",
       "      <td>play</td>\n",
       "      <td>0.6</td>\n",
       "    </tr>\n",
       "    <tr>\n",
       "      <th>2</th>\n",
       "      <td>308653033</td>\n",
       "      <td>theHunter</td>\n",
       "      <td>purchase</td>\n",
       "      <td>1</td>\n",
       "    </tr>\n",
       "    <tr>\n",
       "      <th>3</th>\n",
       "      <td>144004384</td>\n",
       "      <td>Dota 2</td>\n",
       "      <td>purchase</td>\n",
       "      <td>1</td>\n",
       "    </tr>\n",
       "    <tr>\n",
       "      <th>4</th>\n",
       "      <td>144004384</td>\n",
       "      <td>Dota 2</td>\n",
       "      <td>play</td>\n",
       "      <td>22</td>\n",
       "    </tr>\n",
       "  </tbody>\n",
       "</table>\n",
       "</div>"
      ],
      "text/plain": [
       "     user_id  game_name  activity hours_played_if_play\n",
       "0  308653033   Unturned  purchase                    1\n",
       "1  308653033   Unturned      play                  0.6\n",
       "2  308653033  theHunter  purchase                    1\n",
       "3  144004384     Dota 2  purchase                    1\n",
       "4  144004384     Dota 2      play                   22"
      ]
     },
     "execution_count": 3,
     "metadata": {},
     "output_type": "execute_result"
    }
   ],
   "source": [
    "df.head()"
   ]
  },
  {
   "cell_type": "code",
   "execution_count": 12,
   "metadata": {},
   "outputs": [
    {
     "data": {
      "text/plain": [
       "7806"
      ]
     },
     "execution_count": 12,
     "metadata": {},
     "output_type": "execute_result"
    }
   ],
   "source": [
    "len(df)"
   ]
  },
  {
   "cell_type": "markdown",
   "metadata": {},
   "source": [
    "### 2. Prepare the Data for Analysis\n",
    "\n",
    "Suppose you are an intern at Steam.  Your supervisor would like to analyze the data that you have but knows that its current format is not ideal for the questions that she'd like to answer.  Therefore, she asks you to prepare the data for her.  She gives you a list of the criteria that she would like for the final data to have.  Complete each of the following data preparation and analysis tasks:\n",
    "\n",
    "1. Identify any values (if any) that have been encoded in the csv to represent a **missing value**, whether detectable by default or not.  Make sure that Python reads these missing values correctly.  Then, drop any observations with missing values.\n",
    "2. Filter the data to include only the user-game combinations that have been **played** for at least 1 hour.\n",
    "3. We'd like to exclude any super-users of Steam, as some of these users are not representative of a typical Steam user.  Exclude the **users** that have the 5 largest user-game play times.  That is, find the users with the 5 largest play times for a single game, and then exclude their data for all games.\n",
    "4. Identify the most popular game based on the number of users who have **purchased** that game.  Filter the data to include only that game.\n",
    "5. Finally, order the data by the number of game hours played for each user-game combination.  Identify the fourth highest amount of time spent playing the game, the median time that a user spent playing that game, and the total number of hours that users in our data set spent playing the game."
   ]
  },
  {
   "attachments": {},
   "cell_type": "markdown",
   "metadata": {},
   "source": [
    "#1"
   ]
  },
  {
   "cell_type": "code",
   "execution_count": 5,
   "metadata": {},
   "outputs": [
    {
     "data": {
      "text/plain": [
       "user_id                 0\n",
       "game_name               0\n",
       "activity                0\n",
       "hours_played_if_play    0\n",
       "dtype: int64"
      ]
     },
     "execution_count": 5,
     "metadata": {},
     "output_type": "execute_result"
    }
   ],
   "source": [
    "df.isna().sum()"
   ]
  },
  {
   "cell_type": "code",
   "execution_count": 6,
   "metadata": {},
   "outputs": [
    {
     "data": {
      "text/plain": [
       "user_id                  int64\n",
       "game_name               object\n",
       "activity                object\n",
       "hours_played_if_play    object\n",
       "dtype: object"
      ]
     },
     "execution_count": 6,
     "metadata": {},
     "output_type": "execute_result"
    }
   ],
   "source": [
    "df.dtypes"
   ]
  },
  {
   "cell_type": "code",
   "execution_count": 7,
   "metadata": {},
   "outputs": [
    {
     "data": {
      "text/plain": [
       "array(['1', '0.6', '22', '1028', '1008', '148', '108', '72', '36', '35',\n",
       "       '32', '21', '16', '15.8', '8.6', '7.8', '7.3', '3.1', '1.9', '1.7',\n",
       "       '1.1', '0.4', '153', '63', '26', '1.4', '639', '479', '70', '65',\n",
       "       '33', '30', '19.8', '16.2', '11.3', '4.2', '3.9', '2.3', '0.8',\n",
       "       '0.7', '0.5', '0.3', '396', '227', '13.4', '12.6', '11.2', '10.1',\n",
       "       '2.4', '210', '1.2', '0.2', '13.2', '48', '110', '0.1', '67',\n",
       "       '429', '5.5', '61', '1.6', '18.3', '9.9', '4.7', '1714', '441',\n",
       "       '197', '147', '117', '86', '73', '49', '46', '31', '24', '20',\n",
       "       '19.7', '18.2', '14.2', '11.6', '9.8', '9.7', '8.4', '6.5', '4.8',\n",
       "       '4.1', '3.7', '2.9', '2.7', '2.1', '222', 'unknown', '14.9',\n",
       "       '14.1', '83', '11.1', '3.2', '6.9', '395', '251', '9.3', '7.4',\n",
       "       '54', '34', '1.8', '99', '98', '96', '29', '27', '23', '19.1',\n",
       "       '18.7', '17.5', '17', '16.6', '14.7', '13.3', '10.7', '10.2', '10',\n",
       "       '9.6', '9.5', '8', '7.9', '7.6', '7', '6.6', '6', '5.8', '5.6',\n",
       "       '5.3', '4.4', '4.3', '3.3', '3', '2.6', '2.5', '0.9', '6.2',\n",
       "       '18.9', '2.8', '4814', '4', '494', '1.3', '184', '13.8', '11.4',\n",
       "       '8.9', '6.7', '496', '1086', '525', '370', '270', '151', '85',\n",
       "       '66', '56', '15.3', '15.1', '11.5', '7.2', '3.8', '19.6', '2',\n",
       "       '274', '7.1', '4.9', '4.6', '3.6', '12.1', '103', '13.1', '60',\n",
       "       '3309', '524', '431', '428', '262', '250', '180', '154', '137',\n",
       "       '106', '100', '80', '68', '62', '50', '47', '44', '38', '37',\n",
       "       '13.5', '12', '11.9', '11', '9', '8.2', '8.1', '7.5', '6.8', '5.1',\n",
       "       '5', '2.2', '1.5', '57', '964', '41', '12.5', '10.4', '361', '88',\n",
       "       '82', '17.6', '17.1', '16.3', '15.2', '14.6', '11.7', '8.8', '8.3',\n",
       "       '5.9', '717', '303', '13.9', '10.6', '2179', '526', '28', '14.5',\n",
       "       '12.4', '149', '10.8', '15', '19.9', '113', '76', '646', '25',\n",
       "       '14', '546', '11.8', '381', '16.1', '215', '81', '19.5', '248',\n",
       "       '59', '42', '13.7', '3626', '997', '665', '622', '522', '344',\n",
       "       '224', '213', '208', '186', '95', '79', '78', '40', '18.1', '18',\n",
       "       '17.8', '17.4', '15.9', '15.5', '14.8', '12.3', '3.5', '3.4',\n",
       "       '116', '6.1', '393', '332', '238', '307', '157', '550', '52',\n",
       "       '9.2', '1343', '13.6', '8.5', '15.7', '202', '530', '43', '6.3',\n",
       "       '518', '232', '175', '58', '90', '15.4', '14.4', '193', '173',\n",
       "       '12.2', '1339', '190', '121', '7.7', '4.5', '249', '77', '399',\n",
       "       '278', '91', '6.4', '162', '89', '17.2', '9.1', '652', '517',\n",
       "       '125', '105', '75', '55', '17.9', '10.9', '8.7', '10.3', '5.7',\n",
       "       '5.4', '10.5', '118', '9.4', '284', '71', '19.3', '209', '5.2',\n",
       "       '1605', '1540', '710', '617', '312', '644', '189', '191', '176',\n",
       "       '136', '115', '39', '19', '69', '1912', '777', '686', '15.6',\n",
       "       '18.4', '539', '1760', '165', '17.3', '112', '386', '720', '466',\n",
       "       '124', '109', '87', '14.3', '676', '449', '236', '119', '53', '45',\n",
       "       '3178', '1302', '795', '174', '123', '104', '101', '64', '51',\n",
       "       '16.9', '16.8', '16.5', '1030', '145', '214', '11754', '144',\n",
       "       '579', '263', '241', '160', '141', '120', '92', '13', '289',\n",
       "       '1337', '17.7', '2258', '217', '135', '389', '228', '187', '111',\n",
       "       '357', '923', '172', '1369', '1049', '488', '130', '126', '93',\n",
       "       '18.8', '1064', '18.5', '12.9', '458', '418', '194', '272', '16.4',\n",
       "       '419', '107', '290', '1499', '891', '693', '302', '273', '264',\n",
       "       '158', '133', '1301', '485', '1754', '231', '12.8', '132', '733',\n",
       "       '230', '127', '627', '994', '387', '487', '528', '138', '809',\n",
       "       '511', '2055', '402', '451', '170', '527', '206', '164', '207',\n",
       "       '196', '143', '1295', '520', '364', '1704'], dtype=object)"
      ]
     },
     "execution_count": 7,
     "metadata": {},
     "output_type": "execute_result"
    }
   ],
   "source": [
    "df['hours_played_if_play'].unique()"
   ]
  },
  {
   "cell_type": "code",
   "execution_count": 16,
   "metadata": {},
   "outputs": [
    {
     "name": "stdout",
     "output_type": "stream",
     "text": [
      "7806\n"
     ]
    },
    {
     "data": {
      "text/html": [
       "<div>\n",
       "<style scoped>\n",
       "    .dataframe tbody tr th:only-of-type {\n",
       "        vertical-align: middle;\n",
       "    }\n",
       "\n",
       "    .dataframe tbody tr th {\n",
       "        vertical-align: top;\n",
       "    }\n",
       "\n",
       "    .dataframe thead th {\n",
       "        text-align: right;\n",
       "    }\n",
       "</style>\n",
       "<table border=\"1\" class=\"dataframe\">\n",
       "  <thead>\n",
       "    <tr style=\"text-align: right;\">\n",
       "      <th></th>\n",
       "      <th>user_id</th>\n",
       "      <th>game_name</th>\n",
       "      <th>activity</th>\n",
       "      <th>hours_played_if_play</th>\n",
       "    </tr>\n",
       "  </thead>\n",
       "  <tbody>\n",
       "    <tr>\n",
       "      <th>0</th>\n",
       "      <td>308653033</td>\n",
       "      <td>Unturned</td>\n",
       "      <td>purchase</td>\n",
       "      <td>1.0</td>\n",
       "    </tr>\n",
       "    <tr>\n",
       "      <th>1</th>\n",
       "      <td>308653033</td>\n",
       "      <td>Unturned</td>\n",
       "      <td>play</td>\n",
       "      <td>0.6</td>\n",
       "    </tr>\n",
       "    <tr>\n",
       "      <th>2</th>\n",
       "      <td>308653033</td>\n",
       "      <td>theHunter</td>\n",
       "      <td>purchase</td>\n",
       "      <td>1.0</td>\n",
       "    </tr>\n",
       "    <tr>\n",
       "      <th>3</th>\n",
       "      <td>144004384</td>\n",
       "      <td>Dota 2</td>\n",
       "      <td>purchase</td>\n",
       "      <td>1.0</td>\n",
       "    </tr>\n",
       "    <tr>\n",
       "      <th>4</th>\n",
       "      <td>144004384</td>\n",
       "      <td>Dota 2</td>\n",
       "      <td>play</td>\n",
       "      <td>22.0</td>\n",
       "    </tr>\n",
       "  </tbody>\n",
       "</table>\n",
       "</div>"
      ],
      "text/plain": [
       "     user_id  game_name  activity  hours_played_if_play\n",
       "0  308653033   Unturned  purchase                   1.0\n",
       "1  308653033   Unturned      play                   0.6\n",
       "2  308653033  theHunter  purchase                   1.0\n",
       "3  144004384     Dota 2  purchase                   1.0\n",
       "4  144004384     Dota 2      play                  22.0"
      ]
     },
     "execution_count": 16,
     "metadata": {},
     "output_type": "execute_result"
    }
   ],
   "source": [
    "dfc = pd.read_csv('steam_sample.csv', na_values ='unknown')\n",
    "print(len(dfc))\n",
    "dfc.head()"
   ]
  },
  {
   "cell_type": "code",
   "execution_count": 31,
   "metadata": {},
   "outputs": [
    {
     "data": {
      "text/plain": [
       "array([1.0000e+00, 6.0000e-01, 2.2000e+01, 1.0280e+03, 1.0080e+03,\n",
       "       1.4800e+02, 1.0800e+02, 7.2000e+01, 3.6000e+01, 3.5000e+01,\n",
       "       3.2000e+01, 2.1000e+01, 1.6000e+01, 1.5800e+01, 8.6000e+00,\n",
       "       7.8000e+00, 7.3000e+00, 3.1000e+00, 1.9000e+00, 1.7000e+00,\n",
       "       1.1000e+00, 4.0000e-01, 1.5300e+02, 6.3000e+01, 2.6000e+01,\n",
       "       1.4000e+00, 6.3900e+02, 4.7900e+02, 7.0000e+01, 6.5000e+01,\n",
       "       3.3000e+01, 3.0000e+01, 1.9800e+01, 1.6200e+01, 1.1300e+01,\n",
       "       4.2000e+00, 3.9000e+00, 2.3000e+00, 8.0000e-01, 7.0000e-01,\n",
       "       5.0000e-01, 3.0000e-01, 3.9600e+02, 2.2700e+02, 1.3400e+01,\n",
       "       1.2600e+01, 1.1200e+01, 1.0100e+01, 2.4000e+00, 2.1000e+02,\n",
       "       1.2000e+00, 2.0000e-01, 1.3200e+01, 4.8000e+01, 1.1000e+02,\n",
       "       1.0000e-01, 6.7000e+01, 4.2900e+02, 5.5000e+00, 6.1000e+01,\n",
       "       1.6000e+00, 1.8300e+01, 9.9000e+00, 4.7000e+00, 1.7140e+03,\n",
       "       4.4100e+02, 1.9700e+02, 1.4700e+02, 1.1700e+02, 8.6000e+01,\n",
       "       7.3000e+01, 4.9000e+01, 4.6000e+01, 3.1000e+01, 2.4000e+01,\n",
       "       2.0000e+01, 1.9700e+01, 1.8200e+01, 1.4200e+01, 1.1600e+01,\n",
       "       9.8000e+00, 9.7000e+00, 8.4000e+00, 6.5000e+00, 4.8000e+00,\n",
       "       4.1000e+00, 3.7000e+00, 2.9000e+00, 2.7000e+00, 2.1000e+00,\n",
       "       2.2200e+02,        nan, 1.4900e+01, 1.4100e+01, 8.3000e+01,\n",
       "       1.1100e+01, 3.2000e+00, 6.9000e+00, 3.9500e+02, 2.5100e+02,\n",
       "       9.3000e+00, 7.4000e+00, 5.4000e+01, 3.4000e+01, 1.8000e+00,\n",
       "       9.9000e+01, 9.8000e+01, 9.6000e+01, 2.9000e+01, 2.7000e+01,\n",
       "       2.3000e+01, 1.9100e+01, 1.8700e+01, 1.7500e+01, 1.7000e+01,\n",
       "       1.6600e+01, 1.4700e+01, 1.3300e+01, 1.0700e+01, 1.0200e+01,\n",
       "       1.0000e+01, 9.6000e+00, 9.5000e+00, 8.0000e+00, 7.9000e+00,\n",
       "       7.6000e+00, 7.0000e+00, 6.6000e+00, 6.0000e+00, 5.8000e+00,\n",
       "       5.6000e+00, 5.3000e+00, 4.4000e+00, 4.3000e+00, 3.3000e+00,\n",
       "       3.0000e+00, 2.6000e+00, 2.5000e+00, 9.0000e-01, 6.2000e+00,\n",
       "       1.8900e+01, 2.8000e+00, 4.8140e+03, 4.0000e+00, 4.9400e+02,\n",
       "       1.3000e+00, 1.8400e+02, 1.3800e+01, 1.1400e+01, 8.9000e+00,\n",
       "       6.7000e+00, 4.9600e+02, 1.0860e+03, 5.2500e+02, 3.7000e+02,\n",
       "       2.7000e+02, 1.5100e+02, 8.5000e+01, 6.6000e+01, 5.6000e+01,\n",
       "       1.5300e+01, 1.5100e+01, 1.1500e+01, 7.2000e+00, 3.8000e+00,\n",
       "       1.9600e+01, 2.0000e+00, 2.7400e+02, 7.1000e+00, 4.9000e+00,\n",
       "       4.6000e+00, 3.6000e+00, 1.2100e+01, 1.0300e+02, 1.3100e+01,\n",
       "       6.0000e+01, 3.3090e+03, 5.2400e+02, 4.3100e+02, 4.2800e+02,\n",
       "       2.6200e+02, 2.5000e+02, 1.8000e+02, 1.5400e+02, 1.3700e+02,\n",
       "       1.0600e+02, 1.0000e+02, 8.0000e+01, 6.8000e+01, 6.2000e+01,\n",
       "       5.0000e+01, 4.7000e+01, 4.4000e+01, 3.8000e+01, 3.7000e+01,\n",
       "       1.3500e+01, 1.2000e+01, 1.1900e+01, 1.1000e+01, 9.0000e+00,\n",
       "       8.2000e+00, 8.1000e+00, 7.5000e+00, 6.8000e+00, 5.1000e+00,\n",
       "       5.0000e+00, 2.2000e+00, 1.5000e+00, 5.7000e+01, 9.6400e+02,\n",
       "       4.1000e+01, 1.2500e+01, 1.0400e+01, 3.6100e+02, 8.8000e+01,\n",
       "       8.2000e+01, 1.7600e+01, 1.7100e+01, 1.6300e+01, 1.5200e+01,\n",
       "       1.4600e+01, 1.1700e+01, 8.8000e+00, 8.3000e+00, 5.9000e+00,\n",
       "       7.1700e+02, 3.0300e+02, 1.3900e+01, 1.0600e+01, 2.1790e+03,\n",
       "       5.2600e+02, 2.8000e+01, 1.4500e+01, 1.2400e+01, 1.4900e+02,\n",
       "       1.0800e+01, 1.5000e+01, 1.9900e+01, 1.1300e+02, 7.6000e+01,\n",
       "       6.4600e+02, 2.5000e+01, 1.4000e+01, 5.4600e+02, 1.1800e+01,\n",
       "       3.8100e+02, 1.6100e+01, 2.1500e+02, 8.1000e+01, 1.9500e+01,\n",
       "       2.4800e+02, 5.9000e+01, 4.2000e+01, 1.3700e+01, 3.6260e+03,\n",
       "       9.9700e+02, 6.6500e+02, 6.2200e+02, 5.2200e+02, 3.4400e+02,\n",
       "       2.2400e+02, 2.1300e+02, 2.0800e+02, 1.8600e+02, 9.5000e+01,\n",
       "       7.9000e+01, 7.8000e+01, 4.0000e+01, 1.8100e+01, 1.8000e+01,\n",
       "       1.7800e+01, 1.7400e+01, 1.5900e+01, 1.5500e+01, 1.4800e+01,\n",
       "       1.2300e+01, 3.5000e+00, 3.4000e+00, 1.1600e+02, 6.1000e+00,\n",
       "       3.9300e+02, 3.3200e+02, 2.3800e+02, 3.0700e+02, 1.5700e+02,\n",
       "       5.5000e+02, 5.2000e+01, 9.2000e+00, 1.3430e+03, 1.3600e+01,\n",
       "       8.5000e+00, 1.5700e+01, 2.0200e+02, 5.3000e+02, 4.3000e+01,\n",
       "       6.3000e+00, 5.1800e+02, 2.3200e+02, 1.7500e+02, 5.8000e+01,\n",
       "       9.0000e+01, 1.5400e+01, 1.4400e+01, 1.9300e+02, 1.7300e+02,\n",
       "       1.2200e+01, 1.3390e+03, 1.9000e+02, 1.2100e+02, 7.7000e+00,\n",
       "       4.5000e+00, 2.4900e+02, 7.7000e+01, 3.9900e+02, 2.7800e+02,\n",
       "       9.1000e+01, 6.4000e+00, 1.6200e+02, 8.9000e+01, 1.7200e+01,\n",
       "       9.1000e+00, 6.5200e+02, 5.1700e+02, 1.2500e+02, 1.0500e+02,\n",
       "       7.5000e+01, 5.5000e+01, 1.7900e+01, 1.0900e+01, 8.7000e+00,\n",
       "       1.0300e+01, 5.7000e+00, 5.4000e+00, 1.0500e+01, 1.1800e+02,\n",
       "       9.4000e+00, 2.8400e+02, 7.1000e+01, 1.9300e+01, 2.0900e+02,\n",
       "       5.2000e+00, 1.6050e+03, 1.5400e+03, 7.1000e+02, 6.1700e+02,\n",
       "       3.1200e+02, 6.4400e+02, 1.8900e+02, 1.9100e+02, 1.7600e+02,\n",
       "       1.3600e+02, 1.1500e+02, 3.9000e+01, 1.9000e+01, 6.9000e+01,\n",
       "       1.9120e+03, 7.7700e+02, 6.8600e+02, 1.5600e+01, 1.8400e+01,\n",
       "       5.3900e+02, 1.7600e+03, 1.6500e+02, 1.7300e+01, 1.1200e+02,\n",
       "       3.8600e+02, 7.2000e+02, 4.6600e+02, 1.2400e+02, 1.0900e+02,\n",
       "       8.7000e+01, 1.4300e+01, 6.7600e+02, 4.4900e+02, 2.3600e+02,\n",
       "       1.1900e+02, 5.3000e+01, 4.5000e+01, 3.1780e+03, 1.3020e+03,\n",
       "       7.9500e+02, 1.7400e+02, 1.2300e+02, 1.0400e+02, 1.0100e+02,\n",
       "       6.4000e+01, 5.1000e+01, 1.6900e+01, 1.6800e+01, 1.6500e+01,\n",
       "       1.0300e+03, 1.4500e+02, 2.1400e+02, 1.1754e+04, 1.4400e+02,\n",
       "       5.7900e+02, 2.6300e+02, 2.4100e+02, 1.6000e+02, 1.4100e+02,\n",
       "       1.2000e+02, 9.2000e+01, 1.3000e+01, 2.8900e+02, 1.3370e+03,\n",
       "       1.7700e+01, 2.2580e+03, 2.1700e+02, 1.3500e+02, 3.8900e+02,\n",
       "       2.2800e+02, 1.8700e+02, 1.1100e+02, 3.5700e+02, 9.2300e+02,\n",
       "       1.7200e+02, 1.3690e+03, 1.0490e+03, 4.8800e+02, 1.3000e+02,\n",
       "       1.2600e+02, 9.3000e+01, 1.8800e+01, 1.0640e+03, 1.8500e+01,\n",
       "       1.2900e+01, 4.5800e+02, 4.1800e+02, 1.9400e+02, 2.7200e+02,\n",
       "       1.6400e+01, 4.1900e+02, 1.0700e+02, 2.9000e+02, 1.4990e+03,\n",
       "       8.9100e+02, 6.9300e+02, 3.0200e+02, 2.7300e+02, 2.6400e+02,\n",
       "       1.5800e+02, 1.3300e+02, 1.3010e+03, 4.8500e+02, 1.7540e+03,\n",
       "       2.3100e+02, 1.2800e+01, 1.3200e+02, 7.3300e+02, 2.3000e+02,\n",
       "       1.2700e+02, 6.2700e+02, 9.9400e+02, 3.8700e+02, 4.8700e+02,\n",
       "       5.2800e+02, 1.3800e+02, 8.0900e+02, 5.1100e+02, 2.0550e+03,\n",
       "       4.0200e+02, 4.5100e+02, 1.7000e+02, 5.2700e+02, 2.0600e+02,\n",
       "       1.6400e+02, 2.0700e+02, 1.9600e+02, 1.4300e+02, 1.2950e+03,\n",
       "       5.2000e+02, 3.6400e+02, 1.7040e+03])"
      ]
     },
     "execution_count": 31,
     "metadata": {},
     "output_type": "execute_result"
    }
   ],
   "source": [
    "dfc['hours_played_if_play'].unique()"
   ]
  },
  {
   "attachments": {},
   "cell_type": "markdown",
   "metadata": {},
   "source": [
    "#2"
   ]
  },
  {
   "cell_type": "code",
   "execution_count": 22,
   "metadata": {},
   "outputs": [
    {
     "data": {
      "text/html": [
       "<div>\n",
       "<style scoped>\n",
       "    .dataframe tbody tr th:only-of-type {\n",
       "        vertical-align: middle;\n",
       "    }\n",
       "\n",
       "    .dataframe tbody tr th {\n",
       "        vertical-align: top;\n",
       "    }\n",
       "\n",
       "    .dataframe thead th {\n",
       "        text-align: right;\n",
       "    }\n",
       "</style>\n",
       "<table border=\"1\" class=\"dataframe\">\n",
       "  <thead>\n",
       "    <tr style=\"text-align: right;\">\n",
       "      <th></th>\n",
       "      <th>user_id</th>\n",
       "      <th>game_name</th>\n",
       "      <th>activity</th>\n",
       "      <th>hours_played_if_play</th>\n",
       "    </tr>\n",
       "  </thead>\n",
       "  <tbody>\n",
       "    <tr>\n",
       "      <th>4</th>\n",
       "      <td>144004384</td>\n",
       "      <td>Dota 2</td>\n",
       "      <td>play</td>\n",
       "      <td>22.0</td>\n",
       "    </tr>\n",
       "    <tr>\n",
       "      <th>6</th>\n",
       "      <td>54103616</td>\n",
       "      <td>Counter-Strike Global Offensive</td>\n",
       "      <td>play</td>\n",
       "      <td>1028.0</td>\n",
       "    </tr>\n",
       "    <tr>\n",
       "      <th>8</th>\n",
       "      <td>54103616</td>\n",
       "      <td>Counter-Strike</td>\n",
       "      <td>play</td>\n",
       "      <td>1008.0</td>\n",
       "    </tr>\n",
       "    <tr>\n",
       "      <th>10</th>\n",
       "      <td>54103616</td>\n",
       "      <td>Left 4 Dead</td>\n",
       "      <td>play</td>\n",
       "      <td>148.0</td>\n",
       "    </tr>\n",
       "    <tr>\n",
       "      <th>12</th>\n",
       "      <td>54103616</td>\n",
       "      <td>The Sims(TM) 3</td>\n",
       "      <td>play</td>\n",
       "      <td>108.0</td>\n",
       "    </tr>\n",
       "    <tr>\n",
       "      <th>...</th>\n",
       "      <td>...</td>\n",
       "      <td>...</td>\n",
       "      <td>...</td>\n",
       "      <td>...</td>\n",
       "    </tr>\n",
       "    <tr>\n",
       "      <th>7789</th>\n",
       "      <td>99096740</td>\n",
       "      <td>Assassin's Creed</td>\n",
       "      <td>play</td>\n",
       "      <td>10.5</td>\n",
       "    </tr>\n",
       "    <tr>\n",
       "      <th>7791</th>\n",
       "      <td>99096740</td>\n",
       "      <td>Darkest Dungeon</td>\n",
       "      <td>play</td>\n",
       "      <td>6.4</td>\n",
       "    </tr>\n",
       "    <tr>\n",
       "      <th>7793</th>\n",
       "      <td>99096740</td>\n",
       "      <td>Crysis</td>\n",
       "      <td>play</td>\n",
       "      <td>5.3</td>\n",
       "    </tr>\n",
       "    <tr>\n",
       "      <th>7795</th>\n",
       "      <td>99096740</td>\n",
       "      <td>Assassin's Creed II</td>\n",
       "      <td>play</td>\n",
       "      <td>2.7</td>\n",
       "    </tr>\n",
       "    <tr>\n",
       "      <th>7797</th>\n",
       "      <td>99096740</td>\n",
       "      <td>Hitman Blood Money</td>\n",
       "      <td>play</td>\n",
       "      <td>1.3</td>\n",
       "    </tr>\n",
       "  </tbody>\n",
       "</table>\n",
       "<p>2222 rows × 4 columns</p>\n",
       "</div>"
      ],
      "text/plain": [
       "        user_id                        game_name activity  \\\n",
       "4     144004384                           Dota 2     play   \n",
       "6      54103616  Counter-Strike Global Offensive     play   \n",
       "8      54103616                   Counter-Strike     play   \n",
       "10     54103616                      Left 4 Dead     play   \n",
       "12     54103616                   The Sims(TM) 3     play   \n",
       "...         ...                              ...      ...   \n",
       "7789   99096740                 Assassin's Creed     play   \n",
       "7791   99096740                  Darkest Dungeon     play   \n",
       "7793   99096740                           Crysis     play   \n",
       "7795   99096740              Assassin's Creed II     play   \n",
       "7797   99096740               Hitman Blood Money     play   \n",
       "\n",
       "      hours_played_if_play  \n",
       "4                     22.0  \n",
       "6                   1028.0  \n",
       "8                   1008.0  \n",
       "10                   148.0  \n",
       "12                   108.0  \n",
       "...                    ...  \n",
       "7789                  10.5  \n",
       "7791                   6.4  \n",
       "7793                   5.3  \n",
       "7795                   2.7  \n",
       "7797                   1.3  \n",
       "\n",
       "[2222 rows x 4 columns]"
      ]
     },
     "execution_count": 22,
     "metadata": {},
     "output_type": "execute_result"
    }
   ],
   "source": [
    "filtered = dfc[(dfc['hours_played_if_play']>=1) & (dfc['activity']=='play')]\n",
    "filtered"
   ]
  },
  {
   "cell_type": "code",
   "execution_count": 23,
   "metadata": {},
   "outputs": [
    {
     "data": {
      "text/plain": [
       "2222"
      ]
     },
     "execution_count": 23,
     "metadata": {},
     "output_type": "execute_result"
    }
   ],
   "source": [
    "len(filtered)"
   ]
  },
  {
   "attachments": {},
   "cell_type": "markdown",
   "metadata": {},
   "source": [
    "#3"
   ]
  },
  {
   "cell_type": "code",
   "execution_count": 25,
   "metadata": {},
   "outputs": [
    {
     "data": {
      "text/html": [
       "<div>\n",
       "<style scoped>\n",
       "    .dataframe tbody tr th:only-of-type {\n",
       "        vertical-align: middle;\n",
       "    }\n",
       "\n",
       "    .dataframe tbody tr th {\n",
       "        vertical-align: top;\n",
       "    }\n",
       "\n",
       "    .dataframe thead th {\n",
       "        text-align: right;\n",
       "    }\n",
       "</style>\n",
       "<table border=\"1\" class=\"dataframe\">\n",
       "  <thead>\n",
       "    <tr style=\"text-align: right;\">\n",
       "      <th></th>\n",
       "      <th>user_id</th>\n",
       "      <th>game_name</th>\n",
       "      <th>activity</th>\n",
       "      <th>hours_played_if_play</th>\n",
       "    </tr>\n",
       "  </thead>\n",
       "  <tbody>\n",
       "    <tr>\n",
       "      <th>0</th>\n",
       "      <td>100719181</td>\n",
       "      <td>FreeStyle2 Street Basketball</td>\n",
       "      <td>play</td>\n",
       "      <td>1.0</td>\n",
       "    </tr>\n",
       "    <tr>\n",
       "      <th>1</th>\n",
       "      <td>118852041</td>\n",
       "      <td>Dirty Bomb</td>\n",
       "      <td>play</td>\n",
       "      <td>1.0</td>\n",
       "    </tr>\n",
       "    <tr>\n",
       "      <th>2</th>\n",
       "      <td>118852041</td>\n",
       "      <td>Age of Chivalry</td>\n",
       "      <td>play</td>\n",
       "      <td>1.0</td>\n",
       "    </tr>\n",
       "    <tr>\n",
       "      <th>3</th>\n",
       "      <td>161623464</td>\n",
       "      <td>sZone-Online</td>\n",
       "      <td>play</td>\n",
       "      <td>1.0</td>\n",
       "    </tr>\n",
       "    <tr>\n",
       "      <th>4</th>\n",
       "      <td>106147454</td>\n",
       "      <td>Dishonored</td>\n",
       "      <td>play</td>\n",
       "      <td>1.0</td>\n",
       "    </tr>\n",
       "    <tr>\n",
       "      <th>...</th>\n",
       "      <td>...</td>\n",
       "      <td>...</td>\n",
       "      <td>...</td>\n",
       "      <td>...</td>\n",
       "    </tr>\n",
       "    <tr>\n",
       "      <th>2217</th>\n",
       "      <td>48798067</td>\n",
       "      <td>Mount &amp; Blade Warband</td>\n",
       "      <td>play</td>\n",
       "      <td>3178.0</td>\n",
       "    </tr>\n",
       "    <tr>\n",
       "      <th>2218</th>\n",
       "      <td>99077905</td>\n",
       "      <td>Dota 2</td>\n",
       "      <td>play</td>\n",
       "      <td>3309.0</td>\n",
       "    </tr>\n",
       "    <tr>\n",
       "      <th>2219</th>\n",
       "      <td>43684632</td>\n",
       "      <td>Counter-Strike Global Offensive</td>\n",
       "      <td>play</td>\n",
       "      <td>3626.0</td>\n",
       "    </tr>\n",
       "    <tr>\n",
       "      <th>2220</th>\n",
       "      <td>32749624</td>\n",
       "      <td>Counter-Strike</td>\n",
       "      <td>play</td>\n",
       "      <td>4814.0</td>\n",
       "    </tr>\n",
       "    <tr>\n",
       "      <th>2221</th>\n",
       "      <td>73017395</td>\n",
       "      <td>Sid Meier's Civilization V</td>\n",
       "      <td>play</td>\n",
       "      <td>11754.0</td>\n",
       "    </tr>\n",
       "  </tbody>\n",
       "</table>\n",
       "<p>2222 rows × 4 columns</p>\n",
       "</div>"
      ],
      "text/plain": [
       "        user_id                        game_name activity  \\\n",
       "0     100719181     FreeStyle2 Street Basketball     play   \n",
       "1     118852041                       Dirty Bomb     play   \n",
       "2     118852041                  Age of Chivalry     play   \n",
       "3     161623464                     sZone-Online     play   \n",
       "4     106147454                       Dishonored     play   \n",
       "...         ...                              ...      ...   \n",
       "2217   48798067            Mount & Blade Warband     play   \n",
       "2218   99077905                           Dota 2     play   \n",
       "2219   43684632  Counter-Strike Global Offensive     play   \n",
       "2220   32749624                   Counter-Strike     play   \n",
       "2221   73017395       Sid Meier's Civilization V     play   \n",
       "\n",
       "      hours_played_if_play  \n",
       "0                      1.0  \n",
       "1                      1.0  \n",
       "2                      1.0  \n",
       "3                      1.0  \n",
       "4                      1.0  \n",
       "...                    ...  \n",
       "2217                3178.0  \n",
       "2218                3309.0  \n",
       "2219                3626.0  \n",
       "2220                4814.0  \n",
       "2221               11754.0  \n",
       "\n",
       "[2222 rows x 4 columns]"
      ]
     },
     "execution_count": 25,
     "metadata": {},
     "output_type": "execute_result"
    }
   ],
   "source": [
    "newdf = filtered.sort_values(by='hours_played_if_play', na_position = 'first', ignore_index = True)\n",
    "newdf"
   ]
  },
  {
   "cell_type": "code",
   "execution_count": 26,
   "metadata": {},
   "outputs": [
    {
     "data": {
      "text/plain": [
       "1833"
      ]
     },
     "execution_count": 26,
     "metadata": {},
     "output_type": "execute_result"
    }
   ],
   "source": [
    "exclude_top5 = newdf[(newdf['user_id'] != 48798067) & (newdf['user_id'] != 99077905) & (newdf['user_id'] != 43684632)\t\n",
    "                     & (newdf['user_id'] != 32749624) & (newdf['user_id'] != 73017395)]\n",
    "len(exclude_top5)"
   ]
  },
  {
   "attachments": {},
   "cell_type": "markdown",
   "metadata": {},
   "source": [
    "#4"
   ]
  },
  {
   "cell_type": "code",
   "execution_count": 85,
   "metadata": {},
   "outputs": [
    {
     "data": {
      "text/plain": [
       "Dota 2                             197\n",
       "Team Fortress 2                     95\n",
       "Counter-Strike Global Offensive     67\n",
       "Unturned                            54\n",
       "Counter-Strike Source               50\n",
       "                                  ... \n",
       "Edna & Harvey The Breakout           1\n",
       "Memoria                              1\n",
       "The Dark Eye Chains of Satinav       1\n",
       "The Night of the Rabbit              1\n",
       "Ori and the Blind Forest             1\n",
       "Name: game_name, Length: 1445, dtype: int64"
      ]
     },
     "execution_count": 85,
     "metadata": {},
     "output_type": "execute_result"
    }
   ],
   "source": [
    "purchased = dfc[dfc['activity']=='purchase']\n",
    "purchased['game_name'].value_counts()"
   ]
  },
  {
   "cell_type": "code",
   "execution_count": 144,
   "metadata": {},
   "outputs": [
    {
     "data": {
      "text/plain": [
       "4931"
      ]
     },
     "execution_count": 144,
     "metadata": {},
     "output_type": "execute_result"
    }
   ],
   "source": [
    "len(purchased)"
   ]
  },
  {
   "cell_type": "code",
   "execution_count": 87,
   "metadata": {},
   "outputs": [
    {
     "data": {
      "text/html": [
       "<div>\n",
       "<style scoped>\n",
       "    .dataframe tbody tr th:only-of-type {\n",
       "        vertical-align: middle;\n",
       "    }\n",
       "\n",
       "    .dataframe tbody tr th {\n",
       "        vertical-align: top;\n",
       "    }\n",
       "\n",
       "    .dataframe thead th {\n",
       "        text-align: right;\n",
       "    }\n",
       "</style>\n",
       "<table border=\"1\" class=\"dataframe\">\n",
       "  <thead>\n",
       "    <tr style=\"text-align: right;\">\n",
       "      <th></th>\n",
       "      <th>user_id</th>\n",
       "      <th>game_name</th>\n",
       "      <th>activity</th>\n",
       "      <th>hours_played_if_play</th>\n",
       "    </tr>\n",
       "  </thead>\n",
       "  <tbody>\n",
       "    <tr>\n",
       "      <th>3</th>\n",
       "      <td>144004384</td>\n",
       "      <td>Dota 2</td>\n",
       "      <td>purchase</td>\n",
       "      <td>1.0</td>\n",
       "    </tr>\n",
       "    <tr>\n",
       "      <th>35</th>\n",
       "      <td>54103616</td>\n",
       "      <td>Dota 2</td>\n",
       "      <td>purchase</td>\n",
       "      <td>1.0</td>\n",
       "    </tr>\n",
       "    <tr>\n",
       "      <th>67</th>\n",
       "      <td>239397807</td>\n",
       "      <td>Dota 2</td>\n",
       "      <td>purchase</td>\n",
       "      <td>1.0</td>\n",
       "    </tr>\n",
       "    <tr>\n",
       "      <th>127</th>\n",
       "      <td>173857208</td>\n",
       "      <td>Dota 2</td>\n",
       "      <td>purchase</td>\n",
       "      <td>1.0</td>\n",
       "    </tr>\n",
       "    <tr>\n",
       "      <th>147</th>\n",
       "      <td>219446813</td>\n",
       "      <td>Dota 2</td>\n",
       "      <td>purchase</td>\n",
       "      <td>1.0</td>\n",
       "    </tr>\n",
       "    <tr>\n",
       "      <th>...</th>\n",
       "      <td>...</td>\n",
       "      <td>...</td>\n",
       "      <td>...</td>\n",
       "      <td>...</td>\n",
       "    </tr>\n",
       "    <tr>\n",
       "      <th>7673</th>\n",
       "      <td>218668551</td>\n",
       "      <td>Dota 2</td>\n",
       "      <td>purchase</td>\n",
       "      <td>1.0</td>\n",
       "    </tr>\n",
       "    <tr>\n",
       "      <th>7724</th>\n",
       "      <td>126690600</td>\n",
       "      <td>Dota 2</td>\n",
       "      <td>purchase</td>\n",
       "      <td>1.0</td>\n",
       "    </tr>\n",
       "    <tr>\n",
       "      <th>7750</th>\n",
       "      <td>147444403</td>\n",
       "      <td>Dota 2</td>\n",
       "      <td>purchase</td>\n",
       "      <td>1.0</td>\n",
       "    </tr>\n",
       "    <tr>\n",
       "      <th>7752</th>\n",
       "      <td>154531790</td>\n",
       "      <td>Dota 2</td>\n",
       "      <td>purchase</td>\n",
       "      <td>1.0</td>\n",
       "    </tr>\n",
       "    <tr>\n",
       "      <th>7754</th>\n",
       "      <td>99096740</td>\n",
       "      <td>Dota 2</td>\n",
       "      <td>purchase</td>\n",
       "      <td>1.0</td>\n",
       "    </tr>\n",
       "  </tbody>\n",
       "</table>\n",
       "<p>197 rows × 4 columns</p>\n",
       "</div>"
      ],
      "text/plain": [
       "        user_id game_name  activity  hours_played_if_play\n",
       "3     144004384    Dota 2  purchase                   1.0\n",
       "35     54103616    Dota 2  purchase                   1.0\n",
       "67    239397807    Dota 2  purchase                   1.0\n",
       "127   173857208    Dota 2  purchase                   1.0\n",
       "147   219446813    Dota 2  purchase                   1.0\n",
       "...         ...       ...       ...                   ...\n",
       "7673  218668551    Dota 2  purchase                   1.0\n",
       "7724  126690600    Dota 2  purchase                   1.0\n",
       "7750  147444403    Dota 2  purchase                   1.0\n",
       "7752  154531790    Dota 2  purchase                   1.0\n",
       "7754   99096740    Dota 2  purchase                   1.0\n",
       "\n",
       "[197 rows x 4 columns]"
      ]
     },
     "execution_count": 87,
     "metadata": {},
     "output_type": "execute_result"
    }
   ],
   "source": [
    "most_pop = purchased[purchased['game_name']=='Dota 2']\n",
    "most_pop"
   ]
  },
  {
   "cell_type": "code",
   "execution_count": 145,
   "metadata": {},
   "outputs": [
    {
     "data": {
      "text/plain": [
       "197"
      ]
     },
     "execution_count": 145,
     "metadata": {},
     "output_type": "execute_result"
    }
   ],
   "source": [
    "len(most_pop)"
   ]
  },
  {
   "attachments": {},
   "cell_type": "markdown",
   "metadata": {},
   "source": [
    "#5"
   ]
  },
  {
   "cell_type": "code",
   "execution_count": 148,
   "metadata": {
    "scrolled": true
   },
   "outputs": [
    {
     "name": "stdout",
     "output_type": "stream",
     "text": [
      "150\n"
     ]
    },
    {
     "data": {
      "text/html": [
       "<div>\n",
       "<style scoped>\n",
       "    .dataframe tbody tr th:only-of-type {\n",
       "        vertical-align: middle;\n",
       "    }\n",
       "\n",
       "    .dataframe tbody tr th {\n",
       "        vertical-align: top;\n",
       "    }\n",
       "\n",
       "    .dataframe thead th {\n",
       "        text-align: right;\n",
       "    }\n",
       "</style>\n",
       "<table border=\"1\" class=\"dataframe\">\n",
       "  <thead>\n",
       "    <tr style=\"text-align: right;\">\n",
       "      <th></th>\n",
       "      <th>user_id</th>\n",
       "      <th>game_name</th>\n",
       "      <th>activity</th>\n",
       "      <th>hours_played_if_play</th>\n",
       "    </tr>\n",
       "  </thead>\n",
       "  <tbody>\n",
       "    <tr>\n",
       "      <th>11</th>\n",
       "      <td>149081421</td>\n",
       "      <td>Dota 2</td>\n",
       "      <td>play</td>\n",
       "      <td>1.0</td>\n",
       "    </tr>\n",
       "    <tr>\n",
       "      <th>20</th>\n",
       "      <td>210018093</td>\n",
       "      <td>Dota 2</td>\n",
       "      <td>play</td>\n",
       "      <td>1.0</td>\n",
       "    </tr>\n",
       "    <tr>\n",
       "      <th>81</th>\n",
       "      <td>204412693</td>\n",
       "      <td>Dota 2</td>\n",
       "      <td>play</td>\n",
       "      <td>1.1</td>\n",
       "    </tr>\n",
       "    <tr>\n",
       "      <th>116</th>\n",
       "      <td>165907900</td>\n",
       "      <td>Dota 2</td>\n",
       "      <td>play</td>\n",
       "      <td>1.2</td>\n",
       "    </tr>\n",
       "    <tr>\n",
       "      <th>122</th>\n",
       "      <td>227153589</td>\n",
       "      <td>Dota 2</td>\n",
       "      <td>play</td>\n",
       "      <td>1.2</td>\n",
       "    </tr>\n",
       "    <tr>\n",
       "      <th>...</th>\n",
       "      <td>...</td>\n",
       "      <td>...</td>\n",
       "      <td>...</td>\n",
       "      <td>...</td>\n",
       "    </tr>\n",
       "    <tr>\n",
       "      <th>2208</th>\n",
       "      <td>212915541</td>\n",
       "      <td>Dota 2</td>\n",
       "      <td>play</td>\n",
       "      <td>1605.0</td>\n",
       "    </tr>\n",
       "    <tr>\n",
       "      <th>2209</th>\n",
       "      <td>99096740</td>\n",
       "      <td>Dota 2</td>\n",
       "      <td>play</td>\n",
       "      <td>1704.0</td>\n",
       "    </tr>\n",
       "    <tr>\n",
       "      <th>2210</th>\n",
       "      <td>87071236</td>\n",
       "      <td>Dota 2</td>\n",
       "      <td>play</td>\n",
       "      <td>1714.0</td>\n",
       "    </tr>\n",
       "    <tr>\n",
       "      <th>2212</th>\n",
       "      <td>93290614</td>\n",
       "      <td>Dota 2</td>\n",
       "      <td>play</td>\n",
       "      <td>1760.0</td>\n",
       "    </tr>\n",
       "    <tr>\n",
       "      <th>2215</th>\n",
       "      <td>131217195</td>\n",
       "      <td>Dota 2</td>\n",
       "      <td>play</td>\n",
       "      <td>2179.0</td>\n",
       "    </tr>\n",
       "  </tbody>\n",
       "</table>\n",
       "<p>150 rows × 4 columns</p>\n",
       "</div>"
      ],
      "text/plain": [
       "        user_id game_name activity  hours_played_if_play\n",
       "11    149081421    Dota 2     play                   1.0\n",
       "20    210018093    Dota 2     play                   1.0\n",
       "81    204412693    Dota 2     play                   1.1\n",
       "116   165907900    Dota 2     play                   1.2\n",
       "122   227153589    Dota 2     play                   1.2\n",
       "...         ...       ...      ...                   ...\n",
       "2208  212915541    Dota 2     play                1605.0\n",
       "2209   99096740    Dota 2     play                1704.0\n",
       "2210   87071236    Dota 2     play                1714.0\n",
       "2212   93290614    Dota 2     play                1760.0\n",
       "2215  131217195    Dota 2     play                2179.0\n",
       "\n",
       "[150 rows x 4 columns]"
      ]
     },
     "execution_count": 148,
     "metadata": {},
     "output_type": "execute_result"
    }
   ],
   "source": [
    "df_5 = exclude_top5[exclude_top5['game_name']=='Dota 2']\n",
    "print(len(df_5))\n",
    "df_5"
   ]
  },
  {
   "cell_type": "code",
   "execution_count": 135,
   "metadata": {},
   "outputs": [
    {
     "data": {
      "text/plain": [
       "2209    1704.0\n",
       "Name: hours_played_if_play, dtype: float64"
      ]
     },
     "execution_count": 135,
     "metadata": {},
     "output_type": "execute_result"
    }
   ],
   "source": [
    "df_5.hours_played_if_play.nlargest(4).iloc[[-1]]"
   ]
  },
  {
   "cell_type": "markdown",
   "metadata": {},
   "source": [
    " The fourth highest amount of time spent playing the game is 1704 hours. "
   ]
  },
  {
   "cell_type": "code",
   "execution_count": 93,
   "metadata": {},
   "outputs": [
    {
     "data": {
      "text/plain": [
       "13.55"
      ]
     },
     "execution_count": 93,
     "metadata": {},
     "output_type": "execute_result"
    }
   ],
   "source": [
    "df_5['hours_played_if_play'].median()"
   ]
  },
  {
   "cell_type": "markdown",
   "metadata": {},
   "source": [
    "The median time that a user spent playing that game is 13.55hours. "
   ]
  },
  {
   "cell_type": "code",
   "execution_count": 94,
   "metadata": {},
   "outputs": [
    {
     "data": {
      "text/plain": [
       "28634.0"
      ]
     },
     "execution_count": 94,
     "metadata": {},
     "output_type": "execute_result"
    }
   ],
   "source": [
    "df_5['hours_played_if_play'].sum()"
   ]
  },
  {
   "cell_type": "markdown",
   "metadata": {},
   "source": [
    "Total time that a user spent playing that game is 28634 hours. "
   ]
  },
  {
   "cell_type": "markdown",
   "metadata": {},
   "source": [
    "### 3. A Supervisor Misunderstanding? \n",
    "\n",
    "As an intern, you aren't quite sure if you've understood your supervisor's instructions correctly.  Your supervisor is now on vacation, so you can't reach out for clarification immediately.  You find yourself wondering \"have I prepared the data properly?\"\n",
    "\n",
    "As one way to check if you have followed her intended instructions, you decide to try to prepare the data by completing the tasks listed above in a different order.\n",
    "\n",
    "For this question, you should complete the same preparation tasks, but this time in a different order.  Again, after each task has been completed, print the number of rows in the data.\n",
    "\n",
    "1. Identify any values (if any) that have been encoded in the csv to represent a **missing value**, whether detectable by default or not.  Make sure that Python reads these missing values correctly.  \n",
    "2. Identify the most second popular game based on the number of users who have **purchased** that game.\n",
    "3. Filter the data to include only the number of hours **played** for the game identified in step 2.\n",
    "4. Drop any observations in the dataset from Step 3 that have missing values.\n",
    "4. We'd like to exclude any super-users of Steam, as some of these users are not representative of a typical Steam user.  Exclude the **users** in our current data that have the 5 largest user-game play times.  That is, find the users with the 5 largest play times for a single game, and then exclude all of their data.\n",
    "5. Filter the data to include only the games that have been played for at least 1 hour.\n",
    "6. Finally, order the data by the number of game hours played for each user-game combination.  Identify the fourth highest amount of time spent playing the game, the median time that a user spent playing that game, and the total number of hours that users in our dataset spent playing the game.\n",
    "\n",
    "Do you have the same data and results as task 2?"
   ]
  },
  {
   "attachments": {},
   "cell_type": "markdown",
   "metadata": {},
   "source": [
    "#1"
   ]
  },
  {
   "cell_type": "code",
   "execution_count": 28,
   "metadata": {},
   "outputs": [
    {
     "data": {
      "text/plain": [
       "user_id                 0\n",
       "game_name               0\n",
       "activity                0\n",
       "hours_played_if_play    0\n",
       "dtype: int64"
      ]
     },
     "execution_count": 28,
     "metadata": {},
     "output_type": "execute_result"
    }
   ],
   "source": [
    "df_2 = pd.read_csv('steam_sample.csv')\n",
    "df_2.isna().sum()"
   ]
  },
  {
   "cell_type": "code",
   "execution_count": 29,
   "metadata": {},
   "outputs": [
    {
     "data": {
      "text/plain": [
       "user_id                  int64\n",
       "game_name               object\n",
       "activity                object\n",
       "hours_played_if_play    object\n",
       "dtype: object"
      ]
     },
     "execution_count": 29,
     "metadata": {},
     "output_type": "execute_result"
    }
   ],
   "source": [
    "df_2.dtypes"
   ]
  },
  {
   "cell_type": "code",
   "execution_count": 30,
   "metadata": {},
   "outputs": [
    {
     "data": {
      "text/plain": [
       "array(['1', '0.6', '22', '1028', '1008', '148', '108', '72', '36', '35',\n",
       "       '32', '21', '16', '15.8', '8.6', '7.8', '7.3', '3.1', '1.9', '1.7',\n",
       "       '1.1', '0.4', '153', '63', '26', '1.4', '639', '479', '70', '65',\n",
       "       '33', '30', '19.8', '16.2', '11.3', '4.2', '3.9', '2.3', '0.8',\n",
       "       '0.7', '0.5', '0.3', '396', '227', '13.4', '12.6', '11.2', '10.1',\n",
       "       '2.4', '210', '1.2', '0.2', '13.2', '48', '110', '0.1', '67',\n",
       "       '429', '5.5', '61', '1.6', '18.3', '9.9', '4.7', '1714', '441',\n",
       "       '197', '147', '117', '86', '73', '49', '46', '31', '24', '20',\n",
       "       '19.7', '18.2', '14.2', '11.6', '9.8', '9.7', '8.4', '6.5', '4.8',\n",
       "       '4.1', '3.7', '2.9', '2.7', '2.1', '222', 'unknown', '14.9',\n",
       "       '14.1', '83', '11.1', '3.2', '6.9', '395', '251', '9.3', '7.4',\n",
       "       '54', '34', '1.8', '99', '98', '96', '29', '27', '23', '19.1',\n",
       "       '18.7', '17.5', '17', '16.6', '14.7', '13.3', '10.7', '10.2', '10',\n",
       "       '9.6', '9.5', '8', '7.9', '7.6', '7', '6.6', '6', '5.8', '5.6',\n",
       "       '5.3', '4.4', '4.3', '3.3', '3', '2.6', '2.5', '0.9', '6.2',\n",
       "       '18.9', '2.8', '4814', '4', '494', '1.3', '184', '13.8', '11.4',\n",
       "       '8.9', '6.7', '496', '1086', '525', '370', '270', '151', '85',\n",
       "       '66', '56', '15.3', '15.1', '11.5', '7.2', '3.8', '19.6', '2',\n",
       "       '274', '7.1', '4.9', '4.6', '3.6', '12.1', '103', '13.1', '60',\n",
       "       '3309', '524', '431', '428', '262', '250', '180', '154', '137',\n",
       "       '106', '100', '80', '68', '62', '50', '47', '44', '38', '37',\n",
       "       '13.5', '12', '11.9', '11', '9', '8.2', '8.1', '7.5', '6.8', '5.1',\n",
       "       '5', '2.2', '1.5', '57', '964', '41', '12.5', '10.4', '361', '88',\n",
       "       '82', '17.6', '17.1', '16.3', '15.2', '14.6', '11.7', '8.8', '8.3',\n",
       "       '5.9', '717', '303', '13.9', '10.6', '2179', '526', '28', '14.5',\n",
       "       '12.4', '149', '10.8', '15', '19.9', '113', '76', '646', '25',\n",
       "       '14', '546', '11.8', '381', '16.1', '215', '81', '19.5', '248',\n",
       "       '59', '42', '13.7', '3626', '997', '665', '622', '522', '344',\n",
       "       '224', '213', '208', '186', '95', '79', '78', '40', '18.1', '18',\n",
       "       '17.8', '17.4', '15.9', '15.5', '14.8', '12.3', '3.5', '3.4',\n",
       "       '116', '6.1', '393', '332', '238', '307', '157', '550', '52',\n",
       "       '9.2', '1343', '13.6', '8.5', '15.7', '202', '530', '43', '6.3',\n",
       "       '518', '232', '175', '58', '90', '15.4', '14.4', '193', '173',\n",
       "       '12.2', '1339', '190', '121', '7.7', '4.5', '249', '77', '399',\n",
       "       '278', '91', '6.4', '162', '89', '17.2', '9.1', '652', '517',\n",
       "       '125', '105', '75', '55', '17.9', '10.9', '8.7', '10.3', '5.7',\n",
       "       '5.4', '10.5', '118', '9.4', '284', '71', '19.3', '209', '5.2',\n",
       "       '1605', '1540', '710', '617', '312', '644', '189', '191', '176',\n",
       "       '136', '115', '39', '19', '69', '1912', '777', '686', '15.6',\n",
       "       '18.4', '539', '1760', '165', '17.3', '112', '386', '720', '466',\n",
       "       '124', '109', '87', '14.3', '676', '449', '236', '119', '53', '45',\n",
       "       '3178', '1302', '795', '174', '123', '104', '101', '64', '51',\n",
       "       '16.9', '16.8', '16.5', '1030', '145', '214', '11754', '144',\n",
       "       '579', '263', '241', '160', '141', '120', '92', '13', '289',\n",
       "       '1337', '17.7', '2258', '217', '135', '389', '228', '187', '111',\n",
       "       '357', '923', '172', '1369', '1049', '488', '130', '126', '93',\n",
       "       '18.8', '1064', '18.5', '12.9', '458', '418', '194', '272', '16.4',\n",
       "       '419', '107', '290', '1499', '891', '693', '302', '273', '264',\n",
       "       '158', '133', '1301', '485', '1754', '231', '12.8', '132', '733',\n",
       "       '230', '127', '627', '994', '387', '487', '528', '138', '809',\n",
       "       '511', '2055', '402', '451', '170', '527', '206', '164', '207',\n",
       "       '196', '143', '1295', '520', '364', '1704'], dtype=object)"
      ]
     },
     "execution_count": 30,
     "metadata": {},
     "output_type": "execute_result"
    }
   ],
   "source": [
    "df_2['hours_played_if_play'].unique()"
   ]
  },
  {
   "attachments": {},
   "cell_type": "markdown",
   "metadata": {},
   "source": [
    "#2"
   ]
  },
  {
   "cell_type": "code",
   "execution_count": 32,
   "metadata": {},
   "outputs": [
    {
     "name": "stdout",
     "output_type": "stream",
     "text": [
      "4931\n"
     ]
    },
    {
     "data": {
      "text/plain": [
       "Dota 2                             197\n",
       "Team Fortress 2                     95\n",
       "Counter-Strike Global Offensive     67\n",
       "Unturned                            54\n",
       "Counter-Strike Source               50\n",
       "                                  ... \n",
       "Edna & Harvey The Breakout           1\n",
       "Memoria                              1\n",
       "The Dark Eye Chains of Satinav       1\n",
       "The Night of the Rabbit              1\n",
       "Ori and the Blind Forest             1\n",
       "Name: game_name, Length: 1445, dtype: int64"
      ]
     },
     "execution_count": 32,
     "metadata": {},
     "output_type": "execute_result"
    }
   ],
   "source": [
    "purchased_2 = df_2[df_2['activity']=='purchase']\n",
    "print(len(purchased_2))\n",
    "purchased_2['game_name'].value_counts()"
   ]
  },
  {
   "attachments": {},
   "cell_type": "markdown",
   "metadata": {},
   "source": [
    "The most popular game is Dota 2. "
   ]
  },
  {
   "attachments": {},
   "cell_type": "markdown",
   "metadata": {},
   "source": [
    "#3"
   ]
  },
  {
   "cell_type": "code",
   "execution_count": 34,
   "metadata": {},
   "outputs": [
    {
     "name": "stdout",
     "output_type": "stream",
     "text": [
      "197\n"
     ]
    },
    {
     "data": {
      "text/html": [
       "<div>\n",
       "<style scoped>\n",
       "    .dataframe tbody tr th:only-of-type {\n",
       "        vertical-align: middle;\n",
       "    }\n",
       "\n",
       "    .dataframe tbody tr th {\n",
       "        vertical-align: top;\n",
       "    }\n",
       "\n",
       "    .dataframe thead th {\n",
       "        text-align: right;\n",
       "    }\n",
       "</style>\n",
       "<table border=\"1\" class=\"dataframe\">\n",
       "  <thead>\n",
       "    <tr style=\"text-align: right;\">\n",
       "      <th></th>\n",
       "      <th>user_id</th>\n",
       "      <th>game_name</th>\n",
       "      <th>activity</th>\n",
       "      <th>hours_played_if_play</th>\n",
       "    </tr>\n",
       "  </thead>\n",
       "  <tbody>\n",
       "    <tr>\n",
       "      <th>4</th>\n",
       "      <td>144004384</td>\n",
       "      <td>Dota 2</td>\n",
       "      <td>play</td>\n",
       "      <td>22.0</td>\n",
       "    </tr>\n",
       "    <tr>\n",
       "      <th>36</th>\n",
       "      <td>54103616</td>\n",
       "      <td>Dota 2</td>\n",
       "      <td>play</td>\n",
       "      <td>3.1</td>\n",
       "    </tr>\n",
       "    <tr>\n",
       "      <th>68</th>\n",
       "      <td>239397807</td>\n",
       "      <td>Dota 2</td>\n",
       "      <td>play</td>\n",
       "      <td>0.4</td>\n",
       "    </tr>\n",
       "    <tr>\n",
       "      <th>128</th>\n",
       "      <td>173857208</td>\n",
       "      <td>Dota 2</td>\n",
       "      <td>play</td>\n",
       "      <td>0.6</td>\n",
       "    </tr>\n",
       "    <tr>\n",
       "      <th>148</th>\n",
       "      <td>219446813</td>\n",
       "      <td>Dota 2</td>\n",
       "      <td>play</td>\n",
       "      <td>210.0</td>\n",
       "    </tr>\n",
       "    <tr>\n",
       "      <th>...</th>\n",
       "      <td>...</td>\n",
       "      <td>...</td>\n",
       "      <td>...</td>\n",
       "      <td>...</td>\n",
       "    </tr>\n",
       "    <tr>\n",
       "      <th>7674</th>\n",
       "      <td>218668551</td>\n",
       "      <td>Dota 2</td>\n",
       "      <td>play</td>\n",
       "      <td>2.2</td>\n",
       "    </tr>\n",
       "    <tr>\n",
       "      <th>7725</th>\n",
       "      <td>126690600</td>\n",
       "      <td>Dota 2</td>\n",
       "      <td>play</td>\n",
       "      <td>0.2</td>\n",
       "    </tr>\n",
       "    <tr>\n",
       "      <th>7751</th>\n",
       "      <td>147444403</td>\n",
       "      <td>Dota 2</td>\n",
       "      <td>play</td>\n",
       "      <td>0.7</td>\n",
       "    </tr>\n",
       "    <tr>\n",
       "      <th>7753</th>\n",
       "      <td>154531790</td>\n",
       "      <td>Dota 2</td>\n",
       "      <td>play</td>\n",
       "      <td>0.1</td>\n",
       "    </tr>\n",
       "    <tr>\n",
       "      <th>7755</th>\n",
       "      <td>99096740</td>\n",
       "      <td>Dota 2</td>\n",
       "      <td>play</td>\n",
       "      <td>1704.0</td>\n",
       "    </tr>\n",
       "  </tbody>\n",
       "</table>\n",
       "<p>197 rows × 4 columns</p>\n",
       "</div>"
      ],
      "text/plain": [
       "        user_id game_name activity  hours_played_if_play\n",
       "4     144004384    Dota 2     play                  22.0\n",
       "36     54103616    Dota 2     play                   3.1\n",
       "68    239397807    Dota 2     play                   0.4\n",
       "128   173857208    Dota 2     play                   0.6\n",
       "148   219446813    Dota 2     play                 210.0\n",
       "...         ...       ...      ...                   ...\n",
       "7674  218668551    Dota 2     play                   2.2\n",
       "7725  126690600    Dota 2     play                   0.2\n",
       "7751  147444403    Dota 2     play                   0.7\n",
       "7753  154531790    Dota 2     play                   0.1\n",
       "7755   99096740    Dota 2     play                1704.0\n",
       "\n",
       "[197 rows x 4 columns]"
      ]
     },
     "execution_count": 34,
     "metadata": {},
     "output_type": "execute_result"
    }
   ],
   "source": [
    "filtered_2 = dfc[(dfc['game_name']=='Dota 2') & (dfc['activity']=='play')]\n",
    "print(len(filtered_2))\n",
    "filtered_2"
   ]
  },
  {
   "attachments": {},
   "cell_type": "markdown",
   "metadata": {},
   "source": [
    "#4"
   ]
  },
  {
   "cell_type": "code",
   "execution_count": 36,
   "metadata": {},
   "outputs": [
    {
     "data": {
      "text/plain": [
       "user_id                 0\n",
       "game_name               0\n",
       "activity                0\n",
       "hours_played_if_play    0\n",
       "dtype: int64"
      ]
     },
     "execution_count": 36,
     "metadata": {},
     "output_type": "execute_result"
    }
   ],
   "source": [
    "filtered_2.isna().sum()"
   ]
  },
  {
   "cell_type": "code",
   "execution_count": 37,
   "metadata": {},
   "outputs": [
    {
     "data": {
      "text/plain": [
       "user_id                   int64\n",
       "game_name                object\n",
       "activity                 object\n",
       "hours_played_if_play    float64\n",
       "dtype: object"
      ]
     },
     "execution_count": 37,
     "metadata": {},
     "output_type": "execute_result"
    }
   ],
   "source": [
    "filtered_2.dtypes"
   ]
  },
  {
   "cell_type": "code",
   "execution_count": 42,
   "metadata": {},
   "outputs": [
    {
     "data": {
      "text/plain": [
       "197"
      ]
     },
     "execution_count": 42,
     "metadata": {},
     "output_type": "execute_result"
    }
   ],
   "source": [
    "len(filtered_2)"
   ]
  },
  {
   "attachments": {},
   "cell_type": "markdown",
   "metadata": {},
   "source": [
    "#5"
   ]
  },
  {
   "cell_type": "code",
   "execution_count": 44,
   "metadata": {},
   "outputs": [
    {
     "data": {
      "text/html": [
       "<div>\n",
       "<style scoped>\n",
       "    .dataframe tbody tr th:only-of-type {\n",
       "        vertical-align: middle;\n",
       "    }\n",
       "\n",
       "    .dataframe tbody tr th {\n",
       "        vertical-align: top;\n",
       "    }\n",
       "\n",
       "    .dataframe thead th {\n",
       "        text-align: right;\n",
       "    }\n",
       "</style>\n",
       "<table border=\"1\" class=\"dataframe\">\n",
       "  <thead>\n",
       "    <tr style=\"text-align: right;\">\n",
       "      <th></th>\n",
       "      <th>user_id</th>\n",
       "      <th>game_name</th>\n",
       "      <th>activity</th>\n",
       "      <th>hours_played_if_play</th>\n",
       "    </tr>\n",
       "  </thead>\n",
       "  <tbody>\n",
       "    <tr>\n",
       "      <th>0</th>\n",
       "      <td>236191066</td>\n",
       "      <td>Dota 2</td>\n",
       "      <td>play</td>\n",
       "      <td>0.1</td>\n",
       "    </tr>\n",
       "    <tr>\n",
       "      <th>1</th>\n",
       "      <td>141156585</td>\n",
       "      <td>Dota 2</td>\n",
       "      <td>play</td>\n",
       "      <td>0.1</td>\n",
       "    </tr>\n",
       "    <tr>\n",
       "      <th>2</th>\n",
       "      <td>133231400</td>\n",
       "      <td>Dota 2</td>\n",
       "      <td>play</td>\n",
       "      <td>0.1</td>\n",
       "    </tr>\n",
       "    <tr>\n",
       "      <th>3</th>\n",
       "      <td>165906966</td>\n",
       "      <td>Dota 2</td>\n",
       "      <td>play</td>\n",
       "      <td>0.1</td>\n",
       "    </tr>\n",
       "    <tr>\n",
       "      <th>4</th>\n",
       "      <td>154531790</td>\n",
       "      <td>Dota 2</td>\n",
       "      <td>play</td>\n",
       "      <td>0.1</td>\n",
       "    </tr>\n",
       "    <tr>\n",
       "      <th>...</th>\n",
       "      <td>...</td>\n",
       "      <td>...</td>\n",
       "      <td>...</td>\n",
       "      <td>...</td>\n",
       "    </tr>\n",
       "    <tr>\n",
       "      <th>192</th>\n",
       "      <td>99096740</td>\n",
       "      <td>Dota 2</td>\n",
       "      <td>play</td>\n",
       "      <td>1704.0</td>\n",
       "    </tr>\n",
       "    <tr>\n",
       "      <th>193</th>\n",
       "      <td>87071236</td>\n",
       "      <td>Dota 2</td>\n",
       "      <td>play</td>\n",
       "      <td>1714.0</td>\n",
       "    </tr>\n",
       "    <tr>\n",
       "      <th>194</th>\n",
       "      <td>93290614</td>\n",
       "      <td>Dota 2</td>\n",
       "      <td>play</td>\n",
       "      <td>1760.0</td>\n",
       "    </tr>\n",
       "    <tr>\n",
       "      <th>195</th>\n",
       "      <td>131217195</td>\n",
       "      <td>Dota 2</td>\n",
       "      <td>play</td>\n",
       "      <td>2179.0</td>\n",
       "    </tr>\n",
       "    <tr>\n",
       "      <th>196</th>\n",
       "      <td>99077905</td>\n",
       "      <td>Dota 2</td>\n",
       "      <td>play</td>\n",
       "      <td>3309.0</td>\n",
       "    </tr>\n",
       "  </tbody>\n",
       "</table>\n",
       "<p>197 rows × 4 columns</p>\n",
       "</div>"
      ],
      "text/plain": [
       "       user_id game_name activity  hours_played_if_play\n",
       "0    236191066    Dota 2     play                   0.1\n",
       "1    141156585    Dota 2     play                   0.1\n",
       "2    133231400    Dota 2     play                   0.1\n",
       "3    165906966    Dota 2     play                   0.1\n",
       "4    154531790    Dota 2     play                   0.1\n",
       "..         ...       ...      ...                   ...\n",
       "192   99096740    Dota 2     play                1704.0\n",
       "193   87071236    Dota 2     play                1714.0\n",
       "194   93290614    Dota 2     play                1760.0\n",
       "195  131217195    Dota 2     play                2179.0\n",
       "196   99077905    Dota 2     play                3309.0\n",
       "\n",
       "[197 rows x 4 columns]"
      ]
     },
     "execution_count": 44,
     "metadata": {},
     "output_type": "execute_result"
    }
   ],
   "source": [
    "filtered_2.sort_values(by='hours_played_if_play', na_position='first', ignore_index=True)"
   ]
  },
  {
   "cell_type": "code",
   "execution_count": 45,
   "metadata": {},
   "outputs": [
    {
     "name": "stdout",
     "output_type": "stream",
     "text": [
      "192\n"
     ]
    }
   ],
   "source": [
    "exclude_top5_2 = filtered_2[(filtered_2['user_id'] != 99077905) & (filtered_2['user_id'] != 131217195) & (filtered_2['user_id'] != 93290614)\n",
    "                     & (filtered_2['user_id'] != 87071236) & (filtered_2['user_id'] != 99096740)]\n",
    "print(len(exclude_top5_2))"
   ]
  },
  {
   "attachments": {},
   "cell_type": "markdown",
   "metadata": {},
   "source": [
    "#6"
   ]
  },
  {
   "cell_type": "code",
   "execution_count": 41,
   "metadata": {},
   "outputs": [
    {
     "data": {
      "text/plain": [
       "147"
      ]
     },
     "execution_count": 41,
     "metadata": {},
     "output_type": "execute_result"
    }
   ],
   "source": [
    "played_atleast_1hour = exclude_top5_2[exclude_top5_2['hours_played_if_play']>=1]\n",
    "len(played_atleast_1hour)"
   ]
  },
  {
   "cell_type": "code",
   "execution_count": 128,
   "metadata": {},
   "outputs": [
    {
     "data": {
      "text/html": [
       "<div>\n",
       "<style scoped>\n",
       "    .dataframe tbody tr th:only-of-type {\n",
       "        vertical-align: middle;\n",
       "    }\n",
       "\n",
       "    .dataframe tbody tr th {\n",
       "        vertical-align: top;\n",
       "    }\n",
       "\n",
       "    .dataframe thead th {\n",
       "        text-align: right;\n",
       "    }\n",
       "</style>\n",
       "<table border=\"1\" class=\"dataframe\">\n",
       "  <thead>\n",
       "    <tr style=\"text-align: right;\">\n",
       "      <th></th>\n",
       "      <th>user_id</th>\n",
       "      <th>game_name</th>\n",
       "      <th>activity</th>\n",
       "      <th>hours_played_if_play</th>\n",
       "    </tr>\n",
       "  </thead>\n",
       "  <tbody>\n",
       "    <tr>\n",
       "      <th>5392</th>\n",
       "      <td>210018093</td>\n",
       "      <td>Dota 2</td>\n",
       "      <td>play</td>\n",
       "      <td>1.0</td>\n",
       "    </tr>\n",
       "    <tr>\n",
       "      <th>608</th>\n",
       "      <td>149081421</td>\n",
       "      <td>Dota 2</td>\n",
       "      <td>play</td>\n",
       "      <td>1.0</td>\n",
       "    </tr>\n",
       "    <tr>\n",
       "      <th>5116</th>\n",
       "      <td>204412693</td>\n",
       "      <td>Dota 2</td>\n",
       "      <td>play</td>\n",
       "      <td>1.1</td>\n",
       "    </tr>\n",
       "    <tr>\n",
       "      <th>3012</th>\n",
       "      <td>183315077</td>\n",
       "      <td>Dota 2</td>\n",
       "      <td>play</td>\n",
       "      <td>1.2</td>\n",
       "    </tr>\n",
       "    <tr>\n",
       "      <th>152</th>\n",
       "      <td>227153589</td>\n",
       "      <td>Dota 2</td>\n",
       "      <td>play</td>\n",
       "      <td>1.2</td>\n",
       "    </tr>\n",
       "    <tr>\n",
       "      <th>...</th>\n",
       "      <td>...</td>\n",
       "      <td>...</td>\n",
       "      <td>...</td>\n",
       "      <td>...</td>\n",
       "    </tr>\n",
       "    <tr>\n",
       "      <th>6451</th>\n",
       "      <td>123917008</td>\n",
       "      <td>Dota 2</td>\n",
       "      <td>play</td>\n",
       "      <td>1301.0</td>\n",
       "    </tr>\n",
       "    <tr>\n",
       "      <th>5434</th>\n",
       "      <td>122620165</td>\n",
       "      <td>Dota 2</td>\n",
       "      <td>play</td>\n",
       "      <td>1337.0</td>\n",
       "    </tr>\n",
       "    <tr>\n",
       "      <th>2063</th>\n",
       "      <td>116831291</td>\n",
       "      <td>Dota 2</td>\n",
       "      <td>play</td>\n",
       "      <td>1343.0</td>\n",
       "    </tr>\n",
       "    <tr>\n",
       "      <th>3170</th>\n",
       "      <td>86866292</td>\n",
       "      <td>Dota 2</td>\n",
       "      <td>play</td>\n",
       "      <td>1540.0</td>\n",
       "    </tr>\n",
       "    <tr>\n",
       "      <th>3065</th>\n",
       "      <td>212915541</td>\n",
       "      <td>Dota 2</td>\n",
       "      <td>play</td>\n",
       "      <td>1605.0</td>\n",
       "    </tr>\n",
       "  </tbody>\n",
       "</table>\n",
       "<p>147 rows × 4 columns</p>\n",
       "</div>"
      ],
      "text/plain": [
       "        user_id game_name activity  hours_played_if_play\n",
       "5392  210018093    Dota 2     play                   1.0\n",
       "608   149081421    Dota 2     play                   1.0\n",
       "5116  204412693    Dota 2     play                   1.1\n",
       "3012  183315077    Dota 2     play                   1.2\n",
       "152   227153589    Dota 2     play                   1.2\n",
       "...         ...       ...      ...                   ...\n",
       "6451  123917008    Dota 2     play                1301.0\n",
       "5434  122620165    Dota 2     play                1337.0\n",
       "2063  116831291    Dota 2     play                1343.0\n",
       "3170   86866292    Dota 2     play                1540.0\n",
       "3065  212915541    Dota 2     play                1605.0\n",
       "\n",
       "[147 rows x 4 columns]"
      ]
     },
     "execution_count": 128,
     "metadata": {},
     "output_type": "execute_result"
    }
   ],
   "source": [
    "played_atleast_1hour.sort_values(by='hours_played_if_play')"
   ]
  },
  {
   "cell_type": "code",
   "execution_count": 134,
   "metadata": {},
   "outputs": [
    {
     "data": {
      "text/plain": [
       "5434    1337.0\n",
       "Name: hours_played_if_play, dtype: float64"
      ]
     },
     "execution_count": 134,
     "metadata": {},
     "output_type": "execute_result"
    }
   ],
   "source": [
    "played_atleast_1hour.hours_played_if_play.nlargest(4).iloc[[-1]]"
   ]
  },
  {
   "cell_type": "code",
   "execution_count": 130,
   "metadata": {},
   "outputs": [
    {
     "data": {
      "text/plain": [
       "11.1"
      ]
     },
     "execution_count": 130,
     "metadata": {},
     "output_type": "execute_result"
    }
   ],
   "source": [
    "played_atleast_1hour['hours_played_if_play'].median()"
   ]
  },
  {
   "cell_type": "code",
   "execution_count": 131,
   "metadata": {},
   "outputs": [
    {
     "data": {
      "text/plain": [
       "21279.4"
      ]
     },
     "execution_count": 131,
     "metadata": {},
     "output_type": "execute_result"
    }
   ],
   "source": [
    "played_atleast_1hour['hours_played_if_play'].sum()"
   ]
  },
  {
   "attachments": {},
   "cell_type": "markdown",
   "metadata": {},
   "source": [
    "The fourth highest amount of time spent playing the game is 1337 hours.\n",
    "\n",
    "The median time that a user spent playing that game is 11.1 hours and the total number of hours that users in our dataset spent playing the game is 21279.4 hours.\n",
    "\n",
    "The result of task 1 and task 2 is different. "
   ]
  },
  {
   "cell_type": "markdown",
   "metadata": {},
   "source": [
    "### 4. Match the description\n",
    "\n",
    "You are a resourceful intern, so you keep searching for guidance on how best to clean the data.  You find an article that seems to have performed similar data processing steps.\n",
    "\n",
    "The article describes their data processing as follows:\n",
    "\n",
    "Only complete observations were considered for the second most popular game based on purchases.  Players who had played the game for 1 hour or more and were not in the top 5 players based on time were considered as the primary users for analysis.\n",
    "\n",
    "Which of the two data preparations that you completed above most closely matches the article description?  Explain why you made this selection."
   ]
  },
  {
   "attachments": {},
   "cell_type": "markdown",
   "metadata": {},
   "source": [
    "The first analysis dropped out the extreme players including the players who played the other games, not only 'Dota 2' (the most purchased game). \n",
    "\n",
    "On the contrary, the second analysis dropped out the extreme-time players only for the players of 'Dota 2'(the most purchased game). \n",
    "\n",
    "So, the second data preparation was the datat that matches the article discription.  "
   ]
  }
 ],
 "metadata": {
  "kernelspec": {
   "display_name": "Python 3",
   "language": "python",
   "name": "python3"
  },
  "language_info": {
   "codemirror_mode": {
    "name": "ipython",
    "version": 3
   },
   "file_extension": ".py",
   "mimetype": "text/x-python",
   "name": "python",
   "nbconvert_exporter": "python",
   "pygments_lexer": "ipython3",
   "version": "3.9.13"
  },
  "vscode": {
   "interpreter": {
    "hash": "bf5817c8b02cc5c6d9d556b5b283d9f8666d377278bd43aea9cee48641f43644"
   }
  }
 },
 "nbformat": 4,
 "nbformat_minor": 2
}
