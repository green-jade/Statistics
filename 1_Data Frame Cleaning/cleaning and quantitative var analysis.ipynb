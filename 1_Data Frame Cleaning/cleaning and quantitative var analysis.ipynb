{
 "cells": [
  {
   "cell_type": "markdown",
   "id": "e746da0e",
   "metadata": {},
   "source": [
    "## Data Frame Cleaning and Quantitative Variable Descriptive Analytics"
   ]
  },
  {
   "cell_type": "markdown",
   "id": "bf7fc583",
   "metadata": {},
   "source": [
    "## <u>Case Study</u>: Steam Game Play and Purchase Analysis\n",
    "Steam is the world's most popular PC Gaming hub. With a massive collection that includes everything from AAA blockbusters to small indie titles, great discovery tools can be super valuable for Steam. What can we learn about Steam gaming behavior?\n",
    "\n",
    "The dataset we will be analyzing is comprised of a random sample of 500 steam users and their game play and purchase behaviors. It has the following columns:\n",
    "* user_id\n",
    "* game_name,\n",
    "* activity:\n",
    "    - purchase: indicating that the user has *purchased* the corresponding game\n",
    "    - play: indicating that the user has *played* the corresponding game (for at least some amount of time.) \n",
    "* hours_played_if_play:\n",
    "    - if the row corresponds to a 'play' activity, this number represents the number of hours the user has played the game\n",
    "    - if the row corresponds to a 'purchase' activity, this number is always a 1 (and means nothing... it's a placeholder).\n",
    "    \n",
    "This is the same data that you worked with in Lab 2.\n",
    "\n",
    "<hr>"
   ]
  },
  {
   "cell_type": "markdown",
   "id": "c4d94493",
   "metadata": {},
   "source": [
    "## Package Imports\n",
    "\n",
    "We'll import four Python packages that we've used so far and will need for this assignment.  Those packages are pandas, numpy, matplotlib.pyplot, and seaborn.  \n",
    "\n",
    "Run the cell provided below to access the functions in these packages."
   ]
  },
  {
   "cell_type": "code",
   "execution_count": 1,
   "id": "25c92b96",
   "metadata": {},
   "outputs": [],
   "source": [
    "import pandas as pd\n",
    "import numpy as np\n",
    "import seaborn as sns\n",
    "import matplotlib.pyplot as plt"
   ]
  },
  {
   "cell_type": "markdown",
   "id": "849447fc",
   "metadata": {},
   "source": [
    "## Tutorial\n",
    "\n",
    "*Hint*: we can index the output of the shape attribute like a list.  See the Tutorial provided below for an example.\n",
    "\n",
    "You may find this helpful as you work on this Homework assignment."
   ]
  },
  {
   "cell_type": "code",
   "execution_count": 2,
   "id": "e871b95c",
   "metadata": {},
   "outputs": [
    {
     "data": {
      "text/html": [
       "<div>\n",
       "<style scoped>\n",
       "    .dataframe tbody tr th:only-of-type {\n",
       "        vertical-align: middle;\n",
       "    }\n",
       "\n",
       "    .dataframe tbody tr th {\n",
       "        vertical-align: top;\n",
       "    }\n",
       "\n",
       "    .dataframe thead th {\n",
       "        text-align: right;\n",
       "    }\n",
       "</style>\n",
       "<table border=\"1\" class=\"dataframe\">\n",
       "  <thead>\n",
       "    <tr style=\"text-align: right;\">\n",
       "      <th></th>\n",
       "      <th>a</th>\n",
       "      <th>b</th>\n",
       "    </tr>\n",
       "  </thead>\n",
       "  <tbody>\n",
       "    <tr>\n",
       "      <th>0</th>\n",
       "      <td>1</td>\n",
       "      <td>4</td>\n",
       "    </tr>\n",
       "    <tr>\n",
       "      <th>1</th>\n",
       "      <td>2</td>\n",
       "      <td>5</td>\n",
       "    </tr>\n",
       "    <tr>\n",
       "      <th>2</th>\n",
       "      <td>3</td>\n",
       "      <td>6</td>\n",
       "    </tr>\n",
       "  </tbody>\n",
       "</table>\n",
       "</div>"
      ],
      "text/plain": [
       "   a  b\n",
       "0  1  4\n",
       "1  2  5\n",
       "2  3  6"
      ]
     },
     "execution_count": 2,
     "metadata": {},
     "output_type": "execute_result"
    }
   ],
   "source": [
    "#Tutorial\n",
    "import pandas as pd\n",
    "demo_df=pd.DataFrame({'a': [1,2,3], 'b': [4,5,6]})\n",
    "demo_df"
   ]
  },
  {
   "cell_type": "code",
   "execution_count": 3,
   "id": "4ecd91e6",
   "metadata": {},
   "outputs": [
    {
     "name": "stdout",
     "output_type": "stream",
     "text": [
      "(3, 2)\n",
      "3\n",
      "2\n"
     ]
    }
   ],
   "source": [
    "#Tutorial\n",
    "print(demo_df.shape)\n",
    "print(demo_df.shape[0])\n",
    "print(demo_df.shape[1])"
   ]
  },
  {
   "cell_type": "markdown",
   "id": "ac088395",
   "metadata": {},
   "source": [
    "## 1. Read in the Data \n",
    "\n",
    "Read in the steam_sample.csv data."
   ]
  },
  {
   "cell_type": "code",
   "execution_count": 4,
   "id": "02bbc6be",
   "metadata": {},
   "outputs": [],
   "source": [
    "df = pd.read_csv('steam_sample.csv')"
   ]
  },
  {
   "cell_type": "code",
   "execution_count": 5,
   "id": "863d8732",
   "metadata": {},
   "outputs": [
    {
     "name": "stdout",
     "output_type": "stream",
     "text": [
      "(7806, 4)\n"
     ]
    }
   ],
   "source": [
    "print(df.shape)"
   ]
  },
  {
   "cell_type": "markdown",
   "id": "2e606086",
   "metadata": {},
   "source": [
    "## 2. Cleaning the Data\n",
    "\n",
    "We plan to analyze the \"hours_played_if_play\" variable from the steam data.\n",
    "\n",
    "Before beginning our analysis, we need to prepare the data.  To do so, one step is to check for missing data.  While doing so, be sure to pay careful attention to our variable of interest.\n",
    "\n",
    "Complete the following steps to clean the data:\n",
    "\n",
    "1. Identify values (if any) that have been encoded in the csv to represent a **missing value**.\n",
    "2. Read in the csv file so that the missing values are written as NaN in the data.\n",
    "3. Confirm that the \"hours_played_if_play\" is recognized as numerical values (either float64 or int64 type).\n",
    "4. Delete any rows from your data that have missing values.\n",
    "5. Report the number of observations dropped from the data."
   ]
  },
  {
   "cell_type": "code",
   "execution_count": 6,
   "id": "d32357a4",
   "metadata": {},
   "outputs": [
    {
     "data": {
      "text/html": [
       "<div>\n",
       "<style scoped>\n",
       "    .dataframe tbody tr th:only-of-type {\n",
       "        vertical-align: middle;\n",
       "    }\n",
       "\n",
       "    .dataframe tbody tr th {\n",
       "        vertical-align: top;\n",
       "    }\n",
       "\n",
       "    .dataframe thead th {\n",
       "        text-align: right;\n",
       "    }\n",
       "</style>\n",
       "<table border=\"1\" class=\"dataframe\">\n",
       "  <thead>\n",
       "    <tr style=\"text-align: right;\">\n",
       "      <th></th>\n",
       "      <th>user_id</th>\n",
       "      <th>game_name</th>\n",
       "      <th>activity</th>\n",
       "      <th>hours_played_if_play</th>\n",
       "    </tr>\n",
       "  </thead>\n",
       "  <tbody>\n",
       "    <tr>\n",
       "      <th>0</th>\n",
       "      <td>308653033</td>\n",
       "      <td>Unturned</td>\n",
       "      <td>purchase</td>\n",
       "      <td>1</td>\n",
       "    </tr>\n",
       "    <tr>\n",
       "      <th>1</th>\n",
       "      <td>308653033</td>\n",
       "      <td>Unturned</td>\n",
       "      <td>play</td>\n",
       "      <td>0.6</td>\n",
       "    </tr>\n",
       "    <tr>\n",
       "      <th>2</th>\n",
       "      <td>308653033</td>\n",
       "      <td>theHunter</td>\n",
       "      <td>purchase</td>\n",
       "      <td>1</td>\n",
       "    </tr>\n",
       "    <tr>\n",
       "      <th>3</th>\n",
       "      <td>144004384</td>\n",
       "      <td>Dota 2</td>\n",
       "      <td>purchase</td>\n",
       "      <td>1</td>\n",
       "    </tr>\n",
       "    <tr>\n",
       "      <th>4</th>\n",
       "      <td>144004384</td>\n",
       "      <td>Dota 2</td>\n",
       "      <td>play</td>\n",
       "      <td>22</td>\n",
       "    </tr>\n",
       "  </tbody>\n",
       "</table>\n",
       "</div>"
      ],
      "text/plain": [
       "     user_id  game_name  activity hours_played_if_play\n",
       "0  308653033   Unturned  purchase                    1\n",
       "1  308653033   Unturned      play                  0.6\n",
       "2  308653033  theHunter  purchase                    1\n",
       "3  144004384     Dota 2  purchase                    1\n",
       "4  144004384     Dota 2      play                   22"
      ]
     },
     "execution_count": 6,
     "metadata": {},
     "output_type": "execute_result"
    }
   ],
   "source": [
    "df.head()"
   ]
  },
  {
   "cell_type": "code",
   "execution_count": 7,
   "id": "a31615f1",
   "metadata": {
    "collapsed": true
   },
   "outputs": [
    {
     "data": {
      "text/plain": [
       "array([308653033, 144004384,  54103616,  49769103, 239397807, 171847029,\n",
       "        92173524,  92342574, 173857208,  95898619, 219446813, 227153589,\n",
       "       246892835, 139352395, 115003799, 149501464,  60760816, 144508237,\n",
       "       214388411, 303269114, 176033341, 227777777, 127813787,  87071236,\n",
       "        76319436, 156458299, 139854220, 135177440, 299833904, 299914260,\n",
       "       204495708, 299440710, 158655873, 184899103, 108183518, 159777976,\n",
       "       242094123, 110489310,  33479807, 202585832, 218292423, 141246626,\n",
       "       106147454, 126876615, 242471645, 206155181,  32749624,  55906627,\n",
       "       257422299, 123546767, 252200924, 249570072, 138460230,  28633466,\n",
       "       136341868, 149081421,  35729292, 219554846, 197279094, 160844169,\n",
       "       185914106, 156742049,  73094226, 163801892, 252540851, 254814380,\n",
       "        23096237, 304435173,  82448039,  99077905, 249096057, 252159775,\n",
       "       150386429, 124763074, 188768764, 298557690, 120055850,  25445382,\n",
       "       294834367,  35021321, 115163074, 122188548,  81556495,  94961328,\n",
       "        51766884,  92091548,  60296891, 213610494, 233407123, 207860755,\n",
       "        10869571, 167935300, 120171057, 110304598, 231414706, 131217195,\n",
       "       186154929,  79219608,  47500408, 240955030, 250364324, 104408704,\n",
       "       188627637,  35442153, 252386228,  54477968, 296285114, 230967602,\n",
       "       199637398, 208680989,  47164966, 302004137, 254095448, 186010200,\n",
       "       182478684, 130581074,  24872208, 139122042, 164948794, 256613211,\n",
       "       136301597, 131533123, 265103440, 222259537, 226111113, 165683591,\n",
       "        64689644,  14153959, 220235189,  92600849, 124070622,  36611463,\n",
       "        43684632, 181070203, 148546383, 155277811, 155155363, 114325392,\n",
       "       180648547, 200714421,  41205215, 171594027,  78560022,  49372322,\n",
       "       169254022, 112474535, 168135178,   4877411, 249176501, 203729080,\n",
       "       111728146, 209830063, 129102620, 202057920,  72557176, 125404736,\n",
       "       116831291, 141156585, 298431593,  30699429, 188250158, 129585692,\n",
       "       150100130,  61389725, 174287424, 226320653, 168882105, 183421285,\n",
       "       144716176,  89531096, 303252325,  66090440, 302652704,  95028545,\n",
       "       210413509, 187462398,  91900241,  79474322, 293929390, 305086197,\n",
       "        88603472, 108950666, 157467012, 142151125, 125518594, 102831764,\n",
       "       134809146, 264500948, 288274882,  80351692,  88035166,  65909415,\n",
       "       241186290, 251004841, 216047087, 235788745, 102016550,  99613502,\n",
       "        37026839, 146257187, 223210213, 194463248,    683019,  58897206,\n",
       "        97883175, 200243546,  88921433, 295883706, 183315077,  34679511,\n",
       "       101902528,  27872805,  94234855, 212915541, 174021956,  29078995,\n",
       "       134516625, 148118934, 244314033,  86866292, 188988198, 202760244,\n",
       "        55136688, 284555178,  38337633, 217751926, 229950378, 157692363,\n",
       "        69371602, 240933441,  37419728, 211785658, 179368446, 177426132,\n",
       "       197871154, 201269065, 195072781,  26583023, 205145940, 182862561,\n",
       "       178233300, 251819763,  17894253, 188144733,  48718309, 262577480,\n",
       "       162580876,  23608098, 162179350, 206214102, 259934836,  42043359,\n",
       "       301445962,  64079170, 204198891,  62078957, 229465233, 228209477,\n",
       "       286178286,  95780749,  95472968, 247858756, 220680498,  61935579,\n",
       "       101399037,  29302014,  93290614, 259611075, 287147708,  39334748,\n",
       "       122332010, 236854541, 165645559, 117657402, 165907900,  80630217,\n",
       "       241903800, 241357186, 254497372,  80342096,  55763270, 118852041,\n",
       "        16084897,  48798067, 215334587, 254924405,  68828361,  43551909,\n",
       "       159077305,  99484728,  29268335, 113546110,  73017395, 220157121,\n",
       "       199709157, 121481890, 149386510, 204412693, 255027745,   9740704,\n",
       "       200059104,  19696244, 306636026, 105934631,  48921893, 210018093,\n",
       "       230321601, 194800299, 147795278, 158447093, 308468736, 182592900,\n",
       "       154330480, 110226344, 239937501, 122620165,  39911920, 115109218,\n",
       "        14962163,  85136214, 116000122, 236191066, 300892049, 189123038,\n",
       "        88626156, 298644721, 197652539, 306950369,  56436338, 165755355,\n",
       "       304908910, 204304907,  14416572,  82029808, 205753843, 201708562,\n",
       "       107476377, 204453243,  39319649, 194191204, 193087158, 303413869,\n",
       "       174276289,  61632730, 254234513, 129602040, 214619754, 229794682,\n",
       "       221746589,  94152935, 172941662, 222433695, 296345822, 301189920,\n",
       "       206599635, 251087552,  57541240,  51020486,  65533730, 280819916,\n",
       "       196609297,   4897767,   1665511,   5600822, 178893016, 150871288,\n",
       "       174266284,  63962362, 227752807, 246733980, 135911271, 219823929,\n",
       "        77262863, 196016696,  75600128, 119365702,   9245216, 263021912,\n",
       "       128570709, 100719181, 191817434, 297730803, 101339059, 123917008,\n",
       "       238959078,  25272022,  66725148,  29405242, 248266820, 127117386,\n",
       "       239606395, 118971362, 205983773,  46856734,  38978172,  75377823,\n",
       "        95363375, 219414811,  89255174, 176551599, 168753571, 161623464,\n",
       "       181158622,  70489471,  71583368, 176761800, 187085206,  94195027,\n",
       "       204381357, 172452539, 294931250, 297536213, 270303324, 176445735,\n",
       "        15432026, 236427707,  79942253, 159034250, 126191291, 221657386,\n",
       "       153028703, 196799100, 268578780, 133231400, 189225514, 234931110,\n",
       "       239076426,  55352649, 162661783, 174226719, 128995325,  23918050,\n",
       "       240149426,  70327507,  87740541, 220918911,  42669917,  58289184,\n",
       "       209043288, 256920108, 112504953, 174907851,  75598925, 165906966,\n",
       "       284284114,  14095190, 186123132, 199908506, 140757969, 166439004,\n",
       "        79155765, 127555883,  30402259, 132840940, 184507299,  71952079,\n",
       "       158260880, 144188136, 174838943, 303345566,  15878832, 155945477,\n",
       "       126595775, 169006380,  92651253, 304358859, 163712958, 194694340,\n",
       "       203813088,  43462452,  48688347, 281657804, 160937329,  57333945,\n",
       "       236023531, 203455698, 220428551, 208321471, 227929763, 163968268,\n",
       "       152137140, 257278221,  22865756, 195354965, 209023275, 213854339,\n",
       "       186134916,  76211030, 274420264, 120342002, 218668551,  33614428,\n",
       "        85673716, 126690600, 309265377,  75970863, 229229843, 147444403,\n",
       "       154531790,  99096740], dtype=int64)"
      ]
     },
     "execution_count": 7,
     "metadata": {},
     "output_type": "execute_result"
    }
   ],
   "source": [
    "df['user_id'].unique()"
   ]
  },
  {
   "cell_type": "code",
   "execution_count": 8,
   "id": "43844085",
   "metadata": {
    "collapsed": true
   },
   "outputs": [
    {
     "data": {
      "text/plain": [
       "array(['Unturned', 'theHunter', 'Dota 2', ..., 'Diner Dash Hometown Hero',\n",
       "       'DinerTown Tycoon', 'Ori and the Blind Forest'], dtype=object)"
      ]
     },
     "execution_count": 8,
     "metadata": {},
     "output_type": "execute_result"
    }
   ],
   "source": [
    "df['game_name'].unique()"
   ]
  },
  {
   "cell_type": "code",
   "execution_count": 9,
   "id": "9357138e",
   "metadata": {
    "collapsed": true
   },
   "outputs": [
    {
     "data": {
      "text/plain": [
       "array(['purchase', 'play'], dtype=object)"
      ]
     },
     "execution_count": 9,
     "metadata": {},
     "output_type": "execute_result"
    }
   ],
   "source": [
    "df['activity'].unique()"
   ]
  },
  {
   "cell_type": "code",
   "execution_count": 10,
   "id": "f90a4106",
   "metadata": {
    "collapsed": true
   },
   "outputs": [
    {
     "data": {
      "text/plain": [
       "array(['1', '0.6', '22', '1028', '1008', '148', '108', '72', '36', '35',\n",
       "       '32', '21', '16', '15.8', '8.6', '7.8', '7.3', '3.1', '1.9', '1.7',\n",
       "       '1.1', '0.4', '153', '63', '26', '1.4', '639', '479', '70', '65',\n",
       "       '33', '30', '19.8', '16.2', '11.3', '4.2', '3.9', '2.3', '0.8',\n",
       "       '0.7', '0.5', '0.3', '396', '227', '13.4', '12.6', '11.2', '10.1',\n",
       "       '2.4', '210', '1.2', '0.2', '13.2', '48', '110', '0.1', '67',\n",
       "       '429', '5.5', '61', '1.6', '18.3', '9.9', '4.7', '1714', '441',\n",
       "       '197', '147', '117', '86', '73', '49', '46', '31', '24', '20',\n",
       "       '19.7', '18.2', '14.2', '11.6', '9.8', '9.7', '8.4', '6.5', '4.8',\n",
       "       '4.1', '3.7', '2.9', '2.7', '2.1', '222', 'unknown', '14.9',\n",
       "       '14.1', '83', '11.1', '3.2', '6.9', '395', '251', '9.3', '7.4',\n",
       "       '54', '34', '1.8', '99', '98', '96', '29', '27', '23', '19.1',\n",
       "       '18.7', '17.5', '17', '16.6', '14.7', '13.3', '10.7', '10.2', '10',\n",
       "       '9.6', '9.5', '8', '7.9', '7.6', '7', '6.6', '6', '5.8', '5.6',\n",
       "       '5.3', '4.4', '4.3', '3.3', '3', '2.6', '2.5', '0.9', '6.2',\n",
       "       '18.9', '2.8', '4814', '4', '494', '1.3', '184', '13.8', '11.4',\n",
       "       '8.9', '6.7', '496', '1086', '525', '370', '270', '151', '85',\n",
       "       '66', '56', '15.3', '15.1', '11.5', '7.2', '3.8', '19.6', '2',\n",
       "       '274', '7.1', '4.9', '4.6', '3.6', '12.1', '103', '13.1', '60',\n",
       "       '3309', '524', '431', '428', '262', '250', '180', '154', '137',\n",
       "       '106', '100', '80', '68', '62', '50', '47', '44', '38', '37',\n",
       "       '13.5', '12', '11.9', '11', '9', '8.2', '8.1', '7.5', '6.8', '5.1',\n",
       "       '5', '2.2', '1.5', '57', '964', '41', '12.5', '10.4', '361', '88',\n",
       "       '82', '17.6', '17.1', '16.3', '15.2', '14.6', '11.7', '8.8', '8.3',\n",
       "       '5.9', '717', '303', '13.9', '10.6', '2179', '526', '28', '14.5',\n",
       "       '12.4', '149', '10.8', '15', '19.9', '113', '76', '646', '25',\n",
       "       '14', '546', '11.8', '381', '16.1', '215', '81', '19.5', '248',\n",
       "       '59', '42', '13.7', '3626', '997', '665', '622', '522', '344',\n",
       "       '224', '213', '208', '186', '95', '79', '78', '40', '18.1', '18',\n",
       "       '17.8', '17.4', '15.9', '15.5', '14.8', '12.3', '3.5', '3.4',\n",
       "       '116', '6.1', '393', '332', '238', '307', '157', '550', '52',\n",
       "       '9.2', '1343', '13.6', '8.5', '15.7', '202', '530', '43', '6.3',\n",
       "       '518', '232', '175', '58', '90', '15.4', '14.4', '193', '173',\n",
       "       '12.2', '1339', '190', '121', '7.7', '4.5', '249', '77', '399',\n",
       "       '278', '91', '6.4', '162', '89', '17.2', '9.1', '652', '517',\n",
       "       '125', '105', '75', '55', '17.9', '10.9', '8.7', '10.3', '5.7',\n",
       "       '5.4', '10.5', '118', '9.4', '284', '71', '19.3', '209', '5.2',\n",
       "       '1605', '1540', '710', '617', '312', '644', '189', '191', '176',\n",
       "       '136', '115', '39', '19', '69', '1912', '777', '686', '15.6',\n",
       "       '18.4', '539', '1760', '165', '17.3', '112', '386', '720', '466',\n",
       "       '124', '109', '87', '14.3', '676', '449', '236', '119', '53', '45',\n",
       "       '3178', '1302', '795', '174', '123', '104', '101', '64', '51',\n",
       "       '16.9', '16.8', '16.5', '1030', '145', '214', '11754', '144',\n",
       "       '579', '263', '241', '160', '141', '120', '92', '13', '289',\n",
       "       '1337', '17.7', '2258', '217', '135', '389', '228', '187', '111',\n",
       "       '357', '923', '172', '1369', '1049', '488', '130', '126', '93',\n",
       "       '18.8', '1064', '18.5', '12.9', '458', '418', '194', '272', '16.4',\n",
       "       '419', '107', '290', '1499', '891', '693', '302', '273', '264',\n",
       "       '158', '133', '1301', '485', '1754', '231', '12.8', '132', '733',\n",
       "       '230', '127', '627', '994', '387', '487', '528', '138', '809',\n",
       "       '511', '2055', '402', '451', '170', '527', '206', '164', '207',\n",
       "       '196', '143', '1295', '520', '364', '1704'], dtype=object)"
      ]
     },
     "execution_count": 10,
     "metadata": {},
     "output_type": "execute_result"
    }
   ],
   "source": [
    "df['hours_played_if_play'].unique()"
   ]
  },
  {
   "attachments": {},
   "cell_type": "markdown",
   "id": "3e8510e3",
   "metadata": {},
   "source": [
    "There is a missing value \"unknown\" in the column \"hours_played_if_play\". "
   ]
  },
  {
   "cell_type": "code",
   "execution_count": 11,
   "id": "a1266c03",
   "metadata": {},
   "outputs": [],
   "source": [
    "df = pd.read_csv('steam_sample.csv', na_values= \"unknown\")"
   ]
  },
  {
   "cell_type": "code",
   "execution_count": 12,
   "id": "01840b4c",
   "metadata": {},
   "outputs": [
    {
     "data": {
      "text/plain": [
       "dtype('float64')"
      ]
     },
     "execution_count": 12,
     "metadata": {},
     "output_type": "execute_result"
    }
   ],
   "source": [
    "df['hours_played_if_play'].dtype"
   ]
  },
  {
   "cell_type": "code",
   "execution_count": 13,
   "id": "f432ef31",
   "metadata": {},
   "outputs": [],
   "source": [
    "df = df.dropna()"
   ]
  },
  {
   "cell_type": "code",
   "execution_count": 14,
   "id": "9e299bbf",
   "metadata": {},
   "outputs": [
    {
     "data": {
      "text/plain": [
       "user_id                 0\n",
       "game_name               0\n",
       "activity                0\n",
       "hours_played_if_play    0\n",
       "dtype: int64"
      ]
     },
     "execution_count": 14,
     "metadata": {},
     "output_type": "execute_result"
    }
   ],
   "source": [
    "df.isna().sum()"
   ]
  },
  {
   "cell_type": "code",
   "execution_count": 15,
   "id": "fbb9b755",
   "metadata": {},
   "outputs": [
    {
     "name": "stdout",
     "output_type": "stream",
     "text": [
      "(7800, 4)\n"
     ]
    }
   ],
   "source": [
    "print(df.shape)"
   ]
  },
  {
   "attachments": {},
   "cell_type": "markdown",
   "id": "d8c7c8d5",
   "metadata": {},
   "source": [
    "6 rows were dropped out from the original dataset. "
   ]
  },
  {
   "cell_type": "markdown",
   "id": "f4baf91a",
   "metadata": {},
   "source": [
    "## 3. Purchases & Played Games\n",
    "\n",
    "**a)** Separate the Steam data into two different data frames:\n",
    "\n",
    "- one for the user-game entries that have been played\n",
    "- one for the user-game entries that represent purchases"
   ]
  },
  {
   "cell_type": "code",
   "execution_count": 16,
   "id": "ad953733",
   "metadata": {},
   "outputs": [],
   "source": [
    "played = df[df['activity'] == \"play\"]"
   ]
  },
  {
   "cell_type": "code",
   "execution_count": 17,
   "id": "e251a331",
   "metadata": {},
   "outputs": [],
   "source": [
    "purchase = df[df['activity'] == \"purchase\"]"
   ]
  },
  {
   "cell_type": "markdown",
   "id": "660ef939",
   "metadata": {},
   "source": [
    "**b)** What proportion of games purchased have been played?"
   ]
  },
  {
   "cell_type": "code",
   "execution_count": 18,
   "id": "217033c8",
   "metadata": {},
   "outputs": [
    {
     "name": "stdout",
     "output_type": "stream",
     "text": [
      "0.3682051282051282\n"
     ]
    }
   ],
   "source": [
    "print(played.shape[0] / df.shape[0])"
   ]
  },
  {
   "cell_type": "markdown",
   "id": "576d0418",
   "metadata": {},
   "source": [
    "## 4. A High Game User\n",
    "\n",
    "**a)** Extract the row, which represents a user-game combination, that has the **sixth** highest amount of total hours played in the dataset."
   ]
  },
  {
   "cell_type": "code",
   "execution_count": 39,
   "id": "113ceae0",
   "metadata": {},
   "outputs": [
    {
     "data": {
      "text/html": [
       "<div>\n",
       "<style scoped>\n",
       "    .dataframe tbody tr th:only-of-type {\n",
       "        vertical-align: middle;\n",
       "    }\n",
       "\n",
       "    .dataframe tbody tr th {\n",
       "        vertical-align: top;\n",
       "    }\n",
       "\n",
       "    .dataframe thead th {\n",
       "        text-align: right;\n",
       "    }\n",
       "</style>\n",
       "<table border=\"1\" class=\"dataframe\">\n",
       "  <thead>\n",
       "    <tr style=\"text-align: right;\">\n",
       "      <th></th>\n",
       "      <th>user_id</th>\n",
       "      <th>game_name</th>\n",
       "      <th>activity</th>\n",
       "      <th>hours_played_if_play</th>\n",
       "    </tr>\n",
       "  </thead>\n",
       "  <tbody>\n",
       "    <tr>\n",
       "      <th>5463</th>\n",
       "      <td>39911920</td>\n",
       "      <td>Counter-Strike</td>\n",
       "      <td>play</td>\n",
       "      <td>2258.0</td>\n",
       "    </tr>\n",
       "  </tbody>\n",
       "</table>\n",
       "</div>"
      ],
      "text/plain": [
       "       user_id       game_name activity  hours_played_if_play\n",
       "5463  39911920  Counter-Strike     play                2258.0"
      ]
     },
     "execution_count": 39,
     "metadata": {},
     "output_type": "execute_result"
    }
   ],
   "source": [
    "df.sort_values(by='hours_played_if_play', ascending=False).iloc[[5],:]\n"
   ]
  },
  {
   "cell_type": "markdown",
   "id": "49737e14",
   "metadata": {},
   "source": [
    "**b)** Filter the data to contain only the transactions (purchases and games played) for this user.  Display this data frame."
   ]
  },
  {
   "cell_type": "code",
   "execution_count": 40,
   "id": "c7afca30",
   "metadata": {},
   "outputs": [
    {
     "data": {
      "text/html": [
       "<div>\n",
       "<style scoped>\n",
       "    .dataframe tbody tr th:only-of-type {\n",
       "        vertical-align: middle;\n",
       "    }\n",
       "\n",
       "    .dataframe tbody tr th {\n",
       "        vertical-align: top;\n",
       "    }\n",
       "\n",
       "    .dataframe thead th {\n",
       "        text-align: right;\n",
       "    }\n",
       "</style>\n",
       "<table border=\"1\" class=\"dataframe\">\n",
       "  <thead>\n",
       "    <tr style=\"text-align: right;\">\n",
       "      <th></th>\n",
       "      <th>user_id</th>\n",
       "      <th>game_name</th>\n",
       "      <th>activity</th>\n",
       "      <th>hours_played_if_play</th>\n",
       "    </tr>\n",
       "  </thead>\n",
       "  <tbody>\n",
       "    <tr>\n",
       "      <th>5462</th>\n",
       "      <td>39911920</td>\n",
       "      <td>Counter-Strike</td>\n",
       "      <td>purchase</td>\n",
       "      <td>1.0</td>\n",
       "    </tr>\n",
       "    <tr>\n",
       "      <th>5463</th>\n",
       "      <td>39911920</td>\n",
       "      <td>Counter-Strike</td>\n",
       "      <td>play</td>\n",
       "      <td>2258.0</td>\n",
       "    </tr>\n",
       "    <tr>\n",
       "      <th>5464</th>\n",
       "      <td>39911920</td>\n",
       "      <td>Counter-Strike Condition Zero</td>\n",
       "      <td>purchase</td>\n",
       "      <td>1.0</td>\n",
       "    </tr>\n",
       "    <tr>\n",
       "      <th>5465</th>\n",
       "      <td>39911920</td>\n",
       "      <td>Counter-Strike Condition Zero</td>\n",
       "      <td>play</td>\n",
       "      <td>32.0</td>\n",
       "    </tr>\n",
       "    <tr>\n",
       "      <th>5466</th>\n",
       "      <td>39911920</td>\n",
       "      <td>Counter-Strike Condition Zero Deleted Scenes</td>\n",
       "      <td>purchase</td>\n",
       "      <td>1.0</td>\n",
       "    </tr>\n",
       "    <tr>\n",
       "      <th>5467</th>\n",
       "      <td>39911920</td>\n",
       "      <td>Day of Defeat</td>\n",
       "      <td>purchase</td>\n",
       "      <td>1.0</td>\n",
       "    </tr>\n",
       "    <tr>\n",
       "      <th>5468</th>\n",
       "      <td>39911920</td>\n",
       "      <td>Deathmatch Classic</td>\n",
       "      <td>purchase</td>\n",
       "      <td>1.0</td>\n",
       "    </tr>\n",
       "    <tr>\n",
       "      <th>5469</th>\n",
       "      <td>39911920</td>\n",
       "      <td>Ricochet</td>\n",
       "      <td>purchase</td>\n",
       "      <td>1.0</td>\n",
       "    </tr>\n",
       "  </tbody>\n",
       "</table>\n",
       "</div>"
      ],
      "text/plain": [
       "       user_id                                     game_name  activity  \\\n",
       "5462  39911920                                Counter-Strike  purchase   \n",
       "5463  39911920                                Counter-Strike      play   \n",
       "5464  39911920                 Counter-Strike Condition Zero  purchase   \n",
       "5465  39911920                 Counter-Strike Condition Zero      play   \n",
       "5466  39911920  Counter-Strike Condition Zero Deleted Scenes  purchase   \n",
       "5467  39911920                                 Day of Defeat  purchase   \n",
       "5468  39911920                            Deathmatch Classic  purchase   \n",
       "5469  39911920                                      Ricochet  purchase   \n",
       "\n",
       "      hours_played_if_play  \n",
       "5462                   1.0  \n",
       "5463                2258.0  \n",
       "5464                   1.0  \n",
       "5465                  32.0  \n",
       "5466                   1.0  \n",
       "5467                   1.0  \n",
       "5468                   1.0  \n",
       "5469                   1.0  "
      ]
     },
     "execution_count": 40,
     "metadata": {},
     "output_type": "execute_result"
    }
   ],
   "source": [
    "df_user = df[df['user_id'] == 39911920]\n",
    "df_user"
   ]
  },
  {
   "cell_type": "markdown",
   "id": "c5a6cbac",
   "metadata": {},
   "source": [
    "**c)** Calculate the percentage of purchased games that this user actually played.  \n",
    "\n",
    "**To get full credit, you should do this in one line of code using the dataframe created in part 4b**."
   ]
  },
  {
   "cell_type": "code",
   "execution_count": 43,
   "id": "c55d77e6",
   "metadata": {},
   "outputs": [
    {
     "data": {
      "text/plain": [
       "0.25"
      ]
     },
     "execution_count": 43,
     "metadata": {},
     "output_type": "execute_result"
    }
   ],
   "source": [
    "df_user[df_user['activity'] == 'play'].shape[0] / df_user.shape[0]"
   ]
  },
  {
   "cell_type": "markdown",
   "id": "3e654ee5",
   "metadata": {},
   "source": [
    "## 5. Distribution of Hours Played\n",
    "\n",
    "We will now focus on the time spent playing games.  \n",
    "\n",
    "Generate a **frequency** histogram for the time spent playing an individual game by an individual user.  Make sure to include clear axes labels and titles on your graph.  Then, describe the distribution."
   ]
  },
  {
   "cell_type": "code",
   "execution_count": 22,
   "id": "f76cfa19",
   "metadata": {},
   "outputs": [
    {
     "data": {
      "image/png": "[encoded data removed]",
      "text/plain": [
       "<Figure size 432x288 with 1 Axes>"
      ]
     },
     "metadata": {
      "needs_background": "light"
     },
     "output_type": "display_data"
    }
   ],
   "source": [
    "played['hours_played_if_play'].hist()\n",
    "plt.xlabel('Hours Played')\n",
    "plt.ylabel('Frequency')\n",
    "plt.title('Time spent playing')\n",
    "plt.show()"
   ]
  },
  {
   "cell_type": "code",
   "execution_count": 23,
   "id": "69d6aecd",
   "metadata": {},
   "outputs": [
    {
     "data": {
      "text/plain": [
       "11754.0"
      ]
     },
     "execution_count": 23,
     "metadata": {},
     "output_type": "execute_result"
    }
   ],
   "source": [
    "played['hours_played_if_play'].max()"
   ]
  },
  {
   "attachments": {},
   "cell_type": "markdown",
   "id": "9814dc52",
   "metadata": {},
   "source": [
    "For its shape, it is unimodal and it is skewed right. \n",
    "\n",
    "It is hard to know the exact number of the center of this distribution, but it is supposed to have a peak around 500 (hours played). \n",
    "\n",
    "The observation of hours played is approximately up to 12,000(hours)."
   ]
  },
  {
   "cell_type": "markdown",
   "id": "ba9afbf4",
   "metadata": {},
   "source": [
    "## 6. Low and High Game Users\n",
    "\n",
    "**a)** Calculate the minimum time spent playing a game in our data.  How many rows represent user-game combinations that were played for the minimum number of hours?"
   ]
  },
  {
   "cell_type": "code",
   "execution_count": 24,
   "id": "188341b3",
   "metadata": {},
   "outputs": [
    {
     "data": {
      "text/plain": [
       "0.1"
      ]
     },
     "execution_count": 24,
     "metadata": {},
     "output_type": "execute_result"
    }
   ],
   "source": [
    "played['hours_played_if_play'].min()"
   ]
  },
  {
   "cell_type": "code",
   "execution_count": 25,
   "id": "f3bc9843",
   "metadata": {},
   "outputs": [
    {
     "data": {
      "text/plain": [
       "67"
      ]
     },
     "execution_count": 25,
     "metadata": {},
     "output_type": "execute_result"
    }
   ],
   "source": [
    "played[played['hours_played_if_play'] == 0.1].shape[0]"
   ]
  },
  {
   "attachments": {},
   "cell_type": "markdown",
   "id": "d785a7dc",
   "metadata": {},
   "source": [
    "There are 67 rows of user-game combination that were played for the minimum number of hours(0.1). "
   ]
  },
  {
   "cell_type": "markdown",
   "id": "a3a6a97e",
   "metadata": {},
   "source": [
    "**b)** Repeat the calculation from part a for the maximum time spent playing a game."
   ]
  },
  {
   "cell_type": "code",
   "execution_count": 26,
   "id": "dc4001d7",
   "metadata": {},
   "outputs": [
    {
     "data": {
      "text/plain": [
       "11754.0"
      ]
     },
     "execution_count": 26,
     "metadata": {},
     "output_type": "execute_result"
    }
   ],
   "source": [
    "played['hours_played_if_play'].max()"
   ]
  },
  {
   "cell_type": "code",
   "execution_count": 27,
   "id": "da60f280",
   "metadata": {},
   "outputs": [
    {
     "data": {
      "text/plain": [
       "1"
      ]
     },
     "execution_count": 27,
     "metadata": {},
     "output_type": "execute_result"
    }
   ],
   "source": [
    "played[played['hours_played_if_play'] == 11754].shape[0]"
   ]
  },
  {
   "attachments": {},
   "cell_type": "markdown",
   "id": "e9cf743a",
   "metadata": {},
   "source": [
    "There are 1 row of user-game combination that were played for the minimum number of hours(11754). "
   ]
  },
  {
   "cell_type": "markdown",
   "id": "6dfc26c3",
   "metadata": {},
   "source": [
    "## 7. Comparing Play Times of Two Games \n",
    "\n",
    "We want to compare the play times that users spent with two games of different genres:\n",
    "\n",
    "- Counter-Strike is a first-person shooter game\n",
    "- Sid Meier's Civilization V is a turn-based strategy game\n",
    "\n",
    "**a)** First, filter the data to create two separate data frames that contain the play times for users of these two games.  How many users played each of these two games?  \n",
    "\n",
    "*Note*: calculating the number of users with Python is sufficient; you do not need to report the number of users in a Markdown cell."
   ]
  },
  {
   "cell_type": "code",
   "execution_count": 28,
   "id": "1f792bcd",
   "metadata": {},
   "outputs": [],
   "source": [
    "counter_strike = played[played['game_name'] == \"Counter-Strike\"]\n",
    "civilization = played[played['game_name'] == \"Sid Meier's Civilization V\"]"
   ]
  },
  {
   "cell_type": "code",
   "execution_count": 29,
   "id": "132beadb",
   "metadata": {},
   "outputs": [
    {
     "name": "stdout",
     "output_type": "stream",
     "text": [
      "30\n",
      "20\n"
     ]
    }
   ],
   "source": [
    "print(counter_strike.shape[0])\n",
    "print(civilization.shape[0])"
   ]
  },
  {
   "cell_type": "markdown",
   "id": "333539a8",
   "metadata": {},
   "source": [
    "**b)** Stack the separate data frames from part **a** into one data frame.  Then, generate a side-by-side box plot of the play times for these two games."
   ]
  },
  {
   "cell_type": "code",
   "execution_count": 30,
   "id": "44741d12",
   "metadata": {},
   "outputs": [
    {
     "data": {
      "text/html": [
       "<div>\n",
       "<style scoped>\n",
       "    .dataframe tbody tr th:only-of-type {\n",
       "        vertical-align: middle;\n",
       "    }\n",
       "\n",
       "    .dataframe tbody tr th {\n",
       "        vertical-align: top;\n",
       "    }\n",
       "\n",
       "    .dataframe thead th {\n",
       "        text-align: right;\n",
       "    }\n",
       "</style>\n",
       "<table border=\"1\" class=\"dataframe\">\n",
       "  <thead>\n",
       "    <tr style=\"text-align: right;\">\n",
       "      <th></th>\n",
       "      <th>user_id</th>\n",
       "      <th>game_name</th>\n",
       "      <th>activity</th>\n",
       "      <th>hours_played_if_play</th>\n",
       "    </tr>\n",
       "  </thead>\n",
       "  <tbody>\n",
       "    <tr>\n",
       "      <th>0</th>\n",
       "      <td>54103616</td>\n",
       "      <td>Counter-Strike</td>\n",
       "      <td>play</td>\n",
       "      <td>1008.0</td>\n",
       "    </tr>\n",
       "    <tr>\n",
       "      <th>1</th>\n",
       "      <td>95898619</td>\n",
       "      <td>Counter-Strike</td>\n",
       "      <td>play</td>\n",
       "      <td>2.4</td>\n",
       "    </tr>\n",
       "    <tr>\n",
       "      <th>2</th>\n",
       "      <td>87071236</td>\n",
       "      <td>Counter-Strike</td>\n",
       "      <td>play</td>\n",
       "      <td>31.0</td>\n",
       "    </tr>\n",
       "    <tr>\n",
       "      <th>3</th>\n",
       "      <td>76319436</td>\n",
       "      <td>Counter-Strike</td>\n",
       "      <td>play</td>\n",
       "      <td>3.7</td>\n",
       "    </tr>\n",
       "    <tr>\n",
       "      <th>4</th>\n",
       "      <td>32749624</td>\n",
       "      <td>Counter-Strike</td>\n",
       "      <td>play</td>\n",
       "      <td>4814.0</td>\n",
       "    </tr>\n",
       "    <tr>\n",
       "      <th>5</th>\n",
       "      <td>35729292</td>\n",
       "      <td>Counter-Strike</td>\n",
       "      <td>play</td>\n",
       "      <td>370.0</td>\n",
       "    </tr>\n",
       "    <tr>\n",
       "      <th>6</th>\n",
       "      <td>54477968</td>\n",
       "      <td>Counter-Strike</td>\n",
       "      <td>play</td>\n",
       "      <td>15.2</td>\n",
       "    </tr>\n",
       "    <tr>\n",
       "      <th>7</th>\n",
       "      <td>47164966</td>\n",
       "      <td>Counter-Strike</td>\n",
       "      <td>play</td>\n",
       "      <td>646.0</td>\n",
       "    </tr>\n",
       "    <tr>\n",
       "      <th>8</th>\n",
       "      <td>14153959</td>\n",
       "      <td>Counter-Strike</td>\n",
       "      <td>play</td>\n",
       "      <td>2.0</td>\n",
       "    </tr>\n",
       "    <tr>\n",
       "      <th>9</th>\n",
       "      <td>36611463</td>\n",
       "      <td>Counter-Strike</td>\n",
       "      <td>play</td>\n",
       "      <td>1.7</td>\n",
       "    </tr>\n",
       "    <tr>\n",
       "      <th>10</th>\n",
       "      <td>43684632</td>\n",
       "      <td>Counter-Strike</td>\n",
       "      <td>play</td>\n",
       "      <td>8.3</td>\n",
       "    </tr>\n",
       "    <tr>\n",
       "      <th>11</th>\n",
       "      <td>4877411</td>\n",
       "      <td>Counter-Strike</td>\n",
       "      <td>play</td>\n",
       "      <td>38.0</td>\n",
       "    </tr>\n",
       "    <tr>\n",
       "      <th>12</th>\n",
       "      <td>30699429</td>\n",
       "      <td>Counter-Strike</td>\n",
       "      <td>play</td>\n",
       "      <td>1.0</td>\n",
       "    </tr>\n",
       "    <tr>\n",
       "      <th>13</th>\n",
       "      <td>91900241</td>\n",
       "      <td>Counter-Strike</td>\n",
       "      <td>play</td>\n",
       "      <td>20.0</td>\n",
       "    </tr>\n",
       "    <tr>\n",
       "      <th>14</th>\n",
       "      <td>37026839</td>\n",
       "      <td>Counter-Strike</td>\n",
       "      <td>play</td>\n",
       "      <td>1.0</td>\n",
       "    </tr>\n",
       "    <tr>\n",
       "      <th>15</th>\n",
       "      <td>27872805</td>\n",
       "      <td>Counter-Strike</td>\n",
       "      <td>play</td>\n",
       "      <td>1.6</td>\n",
       "    </tr>\n",
       "    <tr>\n",
       "      <th>16</th>\n",
       "      <td>17894253</td>\n",
       "      <td>Counter-Strike</td>\n",
       "      <td>play</td>\n",
       "      <td>0.2</td>\n",
       "    </tr>\n",
       "    <tr>\n",
       "      <th>17</th>\n",
       "      <td>23608098</td>\n",
       "      <td>Counter-Strike</td>\n",
       "      <td>play</td>\n",
       "      <td>1.0</td>\n",
       "    </tr>\n",
       "    <tr>\n",
       "      <th>18</th>\n",
       "      <td>42043359</td>\n",
       "      <td>Counter-Strike</td>\n",
       "      <td>play</td>\n",
       "      <td>1.1</td>\n",
       "    </tr>\n",
       "    <tr>\n",
       "      <th>19</th>\n",
       "      <td>62078957</td>\n",
       "      <td>Counter-Strike</td>\n",
       "      <td>play</td>\n",
       "      <td>777.0</td>\n",
       "    </tr>\n",
       "    <tr>\n",
       "      <th>20</th>\n",
       "      <td>39334748</td>\n",
       "      <td>Counter-Strike</td>\n",
       "      <td>play</td>\n",
       "      <td>165.0</td>\n",
       "    </tr>\n",
       "    <tr>\n",
       "      <th>21</th>\n",
       "      <td>117657402</td>\n",
       "      <td>Counter-Strike</td>\n",
       "      <td>play</td>\n",
       "      <td>3.2</td>\n",
       "    </tr>\n",
       "    <tr>\n",
       "      <th>22</th>\n",
       "      <td>159077305</td>\n",
       "      <td>Counter-Strike</td>\n",
       "      <td>play</td>\n",
       "      <td>1.4</td>\n",
       "    </tr>\n",
       "    <tr>\n",
       "      <th>23</th>\n",
       "      <td>9740704</td>\n",
       "      <td>Counter-Strike</td>\n",
       "      <td>play</td>\n",
       "      <td>23.0</td>\n",
       "    </tr>\n",
       "    <tr>\n",
       "      <th>24</th>\n",
       "      <td>122620165</td>\n",
       "      <td>Counter-Strike</td>\n",
       "      <td>play</td>\n",
       "      <td>17.7</td>\n",
       "    </tr>\n",
       "    <tr>\n",
       "      <th>25</th>\n",
       "      <td>39911920</td>\n",
       "      <td>Counter-Strike</td>\n",
       "      <td>play</td>\n",
       "      <td>2258.0</td>\n",
       "    </tr>\n",
       "    <tr>\n",
       "      <th>26</th>\n",
       "      <td>14962163</td>\n",
       "      <td>Counter-Strike</td>\n",
       "      <td>play</td>\n",
       "      <td>7.2</td>\n",
       "    </tr>\n",
       "    <tr>\n",
       "      <th>27</th>\n",
       "      <td>4897767</td>\n",
       "      <td>Counter-Strike</td>\n",
       "      <td>play</td>\n",
       "      <td>1.6</td>\n",
       "    </tr>\n",
       "    <tr>\n",
       "      <th>28</th>\n",
       "      <td>126191291</td>\n",
       "      <td>Counter-Strike</td>\n",
       "      <td>play</td>\n",
       "      <td>51.0</td>\n",
       "    </tr>\n",
       "    <tr>\n",
       "      <th>29</th>\n",
       "      <td>15878832</td>\n",
       "      <td>Counter-Strike</td>\n",
       "      <td>play</td>\n",
       "      <td>1.8</td>\n",
       "    </tr>\n",
       "    <tr>\n",
       "      <th>30</th>\n",
       "      <td>87071236</td>\n",
       "      <td>Sid Meier's Civilization V</td>\n",
       "      <td>play</td>\n",
       "      <td>197.0</td>\n",
       "    </tr>\n",
       "    <tr>\n",
       "      <th>31</th>\n",
       "      <td>99077905</td>\n",
       "      <td>Sid Meier's Civilization V</td>\n",
       "      <td>play</td>\n",
       "      <td>50.0</td>\n",
       "    </tr>\n",
       "    <tr>\n",
       "      <th>32</th>\n",
       "      <td>80351692</td>\n",
       "      <td>Sid Meier's Civilization V</td>\n",
       "      <td>play</td>\n",
       "      <td>162.0</td>\n",
       "    </tr>\n",
       "    <tr>\n",
       "      <th>33</th>\n",
       "      <td>88035166</td>\n",
       "      <td>Sid Meier's Civilization V</td>\n",
       "      <td>play</td>\n",
       "      <td>36.0</td>\n",
       "    </tr>\n",
       "    <tr>\n",
       "      <th>34</th>\n",
       "      <td>134516625</td>\n",
       "      <td>Sid Meier's Civilization V</td>\n",
       "      <td>play</td>\n",
       "      <td>103.0</td>\n",
       "    </tr>\n",
       "    <tr>\n",
       "      <th>35</th>\n",
       "      <td>220680498</td>\n",
       "      <td>Sid Meier's Civilization V</td>\n",
       "      <td>play</td>\n",
       "      <td>31.0</td>\n",
       "    </tr>\n",
       "    <tr>\n",
       "      <th>36</th>\n",
       "      <td>117657402</td>\n",
       "      <td>Sid Meier's Civilization V</td>\n",
       "      <td>play</td>\n",
       "      <td>55.0</td>\n",
       "    </tr>\n",
       "    <tr>\n",
       "      <th>37</th>\n",
       "      <td>80342096</td>\n",
       "      <td>Sid Meier's Civilization V</td>\n",
       "      <td>play</td>\n",
       "      <td>0.5</td>\n",
       "    </tr>\n",
       "    <tr>\n",
       "      <th>38</th>\n",
       "      <td>118852041</td>\n",
       "      <td>Sid Meier's Civilization V</td>\n",
       "      <td>play</td>\n",
       "      <td>4.1</td>\n",
       "    </tr>\n",
       "    <tr>\n",
       "      <th>39</th>\n",
       "      <td>113546110</td>\n",
       "      <td>Sid Meier's Civilization V</td>\n",
       "      <td>play</td>\n",
       "      <td>10.2</td>\n",
       "    </tr>\n",
       "    <tr>\n",
       "      <th>40</th>\n",
       "      <td>73017395</td>\n",
       "      <td>Sid Meier's Civilization V</td>\n",
       "      <td>play</td>\n",
       "      <td>11754.0</td>\n",
       "    </tr>\n",
       "    <tr>\n",
       "      <th>41</th>\n",
       "      <td>197652539</td>\n",
       "      <td>Sid Meier's Civilization V</td>\n",
       "      <td>play</td>\n",
       "      <td>11.1</td>\n",
       "    </tr>\n",
       "    <tr>\n",
       "      <th>42</th>\n",
       "      <td>165755355</td>\n",
       "      <td>Sid Meier's Civilization V</td>\n",
       "      <td>play</td>\n",
       "      <td>130.0</td>\n",
       "    </tr>\n",
       "    <tr>\n",
       "      <th>43</th>\n",
       "      <td>39319649</td>\n",
       "      <td>Sid Meier's Civilization V</td>\n",
       "      <td>play</td>\n",
       "      <td>67.0</td>\n",
       "    </tr>\n",
       "    <tr>\n",
       "      <th>44</th>\n",
       "      <td>77262863</td>\n",
       "      <td>Sid Meier's Civilization V</td>\n",
       "      <td>play</td>\n",
       "      <td>80.0</td>\n",
       "    </tr>\n",
       "    <tr>\n",
       "      <th>45</th>\n",
       "      <td>75600128</td>\n",
       "      <td>Sid Meier's Civilization V</td>\n",
       "      <td>play</td>\n",
       "      <td>6.2</td>\n",
       "    </tr>\n",
       "    <tr>\n",
       "      <th>46</th>\n",
       "      <td>9245216</td>\n",
       "      <td>Sid Meier's Civilization V</td>\n",
       "      <td>play</td>\n",
       "      <td>5.8</td>\n",
       "    </tr>\n",
       "    <tr>\n",
       "      <th>47</th>\n",
       "      <td>75377823</td>\n",
       "      <td>Sid Meier's Civilization V</td>\n",
       "      <td>play</td>\n",
       "      <td>1754.0</td>\n",
       "    </tr>\n",
       "    <tr>\n",
       "      <th>48</th>\n",
       "      <td>70489471</td>\n",
       "      <td>Sid Meier's Civilization V</td>\n",
       "      <td>play</td>\n",
       "      <td>22.0</td>\n",
       "    </tr>\n",
       "    <tr>\n",
       "      <th>49</th>\n",
       "      <td>126595775</td>\n",
       "      <td>Sid Meier's Civilization V</td>\n",
       "      <td>play</td>\n",
       "      <td>11.1</td>\n",
       "    </tr>\n",
       "  </tbody>\n",
       "</table>\n",
       "</div>"
      ],
      "text/plain": [
       "      user_id                   game_name activity  hours_played_if_play\n",
       "0    54103616              Counter-Strike     play                1008.0\n",
       "1    95898619              Counter-Strike     play                   2.4\n",
       "2    87071236              Counter-Strike     play                  31.0\n",
       "3    76319436              Counter-Strike     play                   3.7\n",
       "4    32749624              Counter-Strike     play                4814.0\n",
       "5    35729292              Counter-Strike     play                 370.0\n",
       "6    54477968              Counter-Strike     play                  15.2\n",
       "7    47164966              Counter-Strike     play                 646.0\n",
       "8    14153959              Counter-Strike     play                   2.0\n",
       "9    36611463              Counter-Strike     play                   1.7\n",
       "10   43684632              Counter-Strike     play                   8.3\n",
       "11    4877411              Counter-Strike     play                  38.0\n",
       "12   30699429              Counter-Strike     play                   1.0\n",
       "13   91900241              Counter-Strike     play                  20.0\n",
       "14   37026839              Counter-Strike     play                   1.0\n",
       "15   27872805              Counter-Strike     play                   1.6\n",
       "16   17894253              Counter-Strike     play                   0.2\n",
       "17   23608098              Counter-Strike     play                   1.0\n",
       "18   42043359              Counter-Strike     play                   1.1\n",
       "19   62078957              Counter-Strike     play                 777.0\n",
       "20   39334748              Counter-Strike     play                 165.0\n",
       "21  117657402              Counter-Strike     play                   3.2\n",
       "22  159077305              Counter-Strike     play                   1.4\n",
       "23    9740704              Counter-Strike     play                  23.0\n",
       "24  122620165              Counter-Strike     play                  17.7\n",
       "25   39911920              Counter-Strike     play                2258.0\n",
       "26   14962163              Counter-Strike     play                   7.2\n",
       "27    4897767              Counter-Strike     play                   1.6\n",
       "28  126191291              Counter-Strike     play                  51.0\n",
       "29   15878832              Counter-Strike     play                   1.8\n",
       "30   87071236  Sid Meier's Civilization V     play                 197.0\n",
       "31   99077905  Sid Meier's Civilization V     play                  50.0\n",
       "32   80351692  Sid Meier's Civilization V     play                 162.0\n",
       "33   88035166  Sid Meier's Civilization V     play                  36.0\n",
       "34  134516625  Sid Meier's Civilization V     play                 103.0\n",
       "35  220680498  Sid Meier's Civilization V     play                  31.0\n",
       "36  117657402  Sid Meier's Civilization V     play                  55.0\n",
       "37   80342096  Sid Meier's Civilization V     play                   0.5\n",
       "38  118852041  Sid Meier's Civilization V     play                   4.1\n",
       "39  113546110  Sid Meier's Civilization V     play                  10.2\n",
       "40   73017395  Sid Meier's Civilization V     play               11754.0\n",
       "41  197652539  Sid Meier's Civilization V     play                  11.1\n",
       "42  165755355  Sid Meier's Civilization V     play                 130.0\n",
       "43   39319649  Sid Meier's Civilization V     play                  67.0\n",
       "44   77262863  Sid Meier's Civilization V     play                  80.0\n",
       "45   75600128  Sid Meier's Civilization V     play                   6.2\n",
       "46    9245216  Sid Meier's Civilization V     play                   5.8\n",
       "47   75377823  Sid Meier's Civilization V     play                1754.0\n",
       "48   70489471  Sid Meier's Civilization V     play                  22.0\n",
       "49  126595775  Sid Meier's Civilization V     play                  11.1"
      ]
     },
     "execution_count": 30,
     "metadata": {},
     "output_type": "execute_result"
    }
   ],
   "source": [
    "fulldf = pd.concat([counter_strike, civilization], ignore_index=True) \n",
    "fulldf "
   ]
  },
  {
   "cell_type": "code",
   "execution_count": 31,
   "id": "4ca1c67b",
   "metadata": {},
   "outputs": [
    {
     "data": {
      "image/png": "[encoded data removed]",
      "text/plain": [
       "<Figure size 432x288 with 1 Axes>"
      ]
     },
     "metadata": {
      "needs_background": "light"
     },
     "output_type": "display_data"
    }
   ],
   "source": [
    "sns.boxplot(x = 'game_name', y = 'hours_played_if_play', data = fulldf)\n",
    "plt.title('Hours played of Games')\n",
    "plt.xlabel('Name of Games')\n",
    "plt.ylabel('Hours played')\n",
    "plt.show()"
   ]
  },
  {
   "cell_type": "markdown",
   "id": "168aecb9",
   "metadata": {},
   "source": [
    "**c)** Calculate two sets of summary statistics, one for each game above.  Be sure to include the five number summary, mean, and standard deviation of the play times."
   ]
  },
  {
   "cell_type": "code",
   "execution_count": 32,
   "id": "e7e53c65",
   "metadata": {},
   "outputs": [],
   "source": [
    "def mysummary(DataFrame):\n",
    "    index = ['min', 'Q1', 'med', 'Q3', 'max', 'mean', 'std']\n",
    "    value = [DataFrame.min(),\n",
    "            DataFrame.quantile(q=0.25),\n",
    "            DataFrame.median(),\n",
    "            DataFrame.quantile(q=0.75),\n",
    "            DataFrame.max(),\n",
    "            DataFrame.mean(),\n",
    "            DataFrame.std()]\n",
    "    return pd.DataFrame({'value': value}, index = index)"
   ]
  },
  {
   "cell_type": "code",
   "execution_count": 33,
   "id": "9df45714",
   "metadata": {},
   "outputs": [
    {
     "data": {
      "text/html": [
       "<div>\n",
       "<style scoped>\n",
       "    .dataframe tbody tr th:only-of-type {\n",
       "        vertical-align: middle;\n",
       "    }\n",
       "\n",
       "    .dataframe tbody tr th {\n",
       "        vertical-align: top;\n",
       "    }\n",
       "\n",
       "    .dataframe thead th {\n",
       "        text-align: right;\n",
       "    }\n",
       "</style>\n",
       "<table border=\"1\" class=\"dataframe\">\n",
       "  <thead>\n",
       "    <tr style=\"text-align: right;\">\n",
       "      <th></th>\n",
       "      <th>value</th>\n",
       "    </tr>\n",
       "  </thead>\n",
       "  <tbody>\n",
       "    <tr>\n",
       "      <th>min</th>\n",
       "      <td>0.200000</td>\n",
       "    </tr>\n",
       "    <tr>\n",
       "      <th>Q1</th>\n",
       "      <td>1.625000</td>\n",
       "    </tr>\n",
       "    <tr>\n",
       "      <th>med</th>\n",
       "      <td>7.750000</td>\n",
       "    </tr>\n",
       "    <tr>\n",
       "      <th>Q3</th>\n",
       "      <td>47.750000</td>\n",
       "    </tr>\n",
       "    <tr>\n",
       "      <th>max</th>\n",
       "      <td>4814.000000</td>\n",
       "    </tr>\n",
       "    <tr>\n",
       "      <th>mean</th>\n",
       "      <td>342.436667</td>\n",
       "    </tr>\n",
       "    <tr>\n",
       "      <th>std</th>\n",
       "      <td>964.242763</td>\n",
       "    </tr>\n",
       "  </tbody>\n",
       "</table>\n",
       "</div>"
      ],
      "text/plain": [
       "            value\n",
       "min      0.200000\n",
       "Q1       1.625000\n",
       "med      7.750000\n",
       "Q3      47.750000\n",
       "max   4814.000000\n",
       "mean   342.436667\n",
       "std    964.242763"
      ]
     },
     "execution_count": 33,
     "metadata": {},
     "output_type": "execute_result"
    }
   ],
   "source": [
    "mysummary(counter_strike['hours_played_if_play'])"
   ]
  },
  {
   "cell_type": "code",
   "execution_count": 34,
   "id": "1098aed1",
   "metadata": {},
   "outputs": [
    {
     "data": {
      "text/html": [
       "<div>\n",
       "<style scoped>\n",
       "    .dataframe tbody tr th:only-of-type {\n",
       "        vertical-align: middle;\n",
       "    }\n",
       "\n",
       "    .dataframe tbody tr th {\n",
       "        vertical-align: top;\n",
       "    }\n",
       "\n",
       "    .dataframe thead th {\n",
       "        text-align: right;\n",
       "    }\n",
       "</style>\n",
       "<table border=\"1\" class=\"dataframe\">\n",
       "  <thead>\n",
       "    <tr style=\"text-align: right;\">\n",
       "      <th></th>\n",
       "      <th>value</th>\n",
       "    </tr>\n",
       "  </thead>\n",
       "  <tbody>\n",
       "    <tr>\n",
       "      <th>min</th>\n",
       "      <td>0.500000</td>\n",
       "    </tr>\n",
       "    <tr>\n",
       "      <th>Q1</th>\n",
       "      <td>10.875000</td>\n",
       "    </tr>\n",
       "    <tr>\n",
       "      <th>med</th>\n",
       "      <td>43.000000</td>\n",
       "    </tr>\n",
       "    <tr>\n",
       "      <th>Q3</th>\n",
       "      <td>109.750000</td>\n",
       "    </tr>\n",
       "    <tr>\n",
       "      <th>max</th>\n",
       "      <td>11754.000000</td>\n",
       "    </tr>\n",
       "    <tr>\n",
       "      <th>mean</th>\n",
       "      <td>724.500000</td>\n",
       "    </tr>\n",
       "    <tr>\n",
       "      <th>std</th>\n",
       "      <td>2624.251107</td>\n",
       "    </tr>\n",
       "  </tbody>\n",
       "</table>\n",
       "</div>"
      ],
      "text/plain": [
       "             value\n",
       "min       0.500000\n",
       "Q1       10.875000\n",
       "med      43.000000\n",
       "Q3      109.750000\n",
       "max   11754.000000\n",
       "mean    724.500000\n",
       "std    2624.251107"
      ]
     },
     "execution_count": 34,
     "metadata": {},
     "output_type": "execute_result"
    }
   ],
   "source": [
    "mysummary(civilization['hours_played_if_play'])"
   ]
  },
  {
   "cell_type": "markdown",
   "id": "a68ab0df",
   "metadata": {},
   "source": [
    "**d)** Finally, do the two distributions for the different games seem to be remarkably different?  Explain."
   ]
  },
  {
   "attachments": {},
   "cell_type": "markdown",
   "id": "3a1e1892",
   "metadata": {},
   "source": [
    "Yes. The distrubutions of played hours for two different games seem to be remarkably different. \n",
    "\n",
    "Most of all, the standard deviation of game 'Sid Meier's Civilization V' (2624) is higher than the one of game 'Counter-Strike'(964). \n",
    "\n",
    "This stands for the data of 'Sid Meier's Civilization V' is more widely spread than 'Counter Strike'. \n",
    "\n",
    "The reason why standard deviation of 'Sid Meier's Civilization V' was higher could be supposed because of the outliers which have high values. The maximum hours played of this game is 11754 hours, which is extremely higher than the median hours played, which is 43 hours. "
   ]
  }
 ],
 "metadata": {
  "kernelspec": {
   "display_name": "Python 3",
   "language": "python",
   "name": "python3"
  },
  "language_info": {
   "codemirror_mode": {
    "name": "ipython",
    "version": 3
   },
   "file_extension": ".py",
   "mimetype": "text/x-python",
   "name": "python",
   "nbconvert_exporter": "python",
   "pygments_lexer": "ipython3",
   "version": "3.9.13"
  },
  "vscode": {
   "interpreter": {
    "hash": "bf5817c8b02cc5c6d9d556b5b283d9f8666d377278bd43aea9cee48641f43644"
   }
  }
 },
 "nbformat": 4,
 "nbformat_minor": 5
}
