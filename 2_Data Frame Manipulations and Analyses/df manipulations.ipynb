{
 "cells": [
  {
   "cell_type": "markdown",
   "id": "e746da0e",
   "metadata": {},
   "source": [
    "## Data Frame Manipulations and Analyses"
   ]
  },
  {
   "cell_type": "markdown",
   "id": "c4d94493",
   "metadata": {},
   "source": [
    "## 1. Imports \n",
    "\n",
    "First, we'll import three Python packages that we've used so far and will need for this assignment.  Those packages are pandas, matplotlib.pyplot, and seaborn.  \n",
    "\n",
    "In the cell below, type the commands and run them in order to import the packages into our workspace."
   ]
  },
  {
   "cell_type": "code",
   "execution_count": 1,
   "id": "25c92b96",
   "metadata": {},
   "outputs": [],
   "source": [
    "import pandas as pd\n",
    "import matplotlib.pyplot as plt\n",
    "import seaborn as sns"
   ]
  },
  {
   "cell_type": "markdown",
   "id": "ac088395",
   "metadata": {},
   "source": [
    "## 2. Read in the Data\n",
    "For most of this analysis, we'll work with a data set about the world's billionaires from 2021 (https://www.forbes.com/real-time-billionaires/#49c85f6e3d78).  This data is contained in the \"Billionaire.csv\" file located in the same folder.\n",
    "\n",
    "Read the file into a pandas data frame. You can give it any name, including \"df\"."
   ]
  },
  {
   "cell_type": "code",
   "execution_count": 2,
   "id": "02bbc6be",
   "metadata": {},
   "outputs": [
    {
     "data": {
      "text/html": [
       "<div>\n",
       "<style scoped>\n",
       "    .dataframe tbody tr th:only-of-type {\n",
       "        vertical-align: middle;\n",
       "    }\n",
       "\n",
       "    .dataframe tbody tr th {\n",
       "        vertical-align: top;\n",
       "    }\n",
       "\n",
       "    .dataframe thead th {\n",
       "        text-align: right;\n",
       "    }\n",
       "</style>\n",
       "<table border=\"1\" class=\"dataframe\">\n",
       "  <thead>\n",
       "    <tr style=\"text-align: right;\">\n",
       "      <th></th>\n",
       "      <th>Name</th>\n",
       "      <th>NetWorth</th>\n",
       "      <th>Country</th>\n",
       "      <th>Source</th>\n",
       "      <th>Rank</th>\n",
       "      <th>Age</th>\n",
       "      <th>Industry</th>\n",
       "    </tr>\n",
       "  </thead>\n",
       "  <tbody>\n",
       "    <tr>\n",
       "      <th>0</th>\n",
       "      <td>Jeff Bezos</td>\n",
       "      <td>$177 B</td>\n",
       "      <td>United States</td>\n",
       "      <td>Amazon</td>\n",
       "      <td>1</td>\n",
       "      <td>57.0</td>\n",
       "      <td>Technology</td>\n",
       "    </tr>\n",
       "    <tr>\n",
       "      <th>1</th>\n",
       "      <td>Elon Musk</td>\n",
       "      <td>$151 B</td>\n",
       "      <td>United States</td>\n",
       "      <td>Tesla, SpaceX</td>\n",
       "      <td>2</td>\n",
       "      <td>49.0</td>\n",
       "      <td>Automotive</td>\n",
       "    </tr>\n",
       "    <tr>\n",
       "      <th>2</th>\n",
       "      <td>Bernard Arnault &amp; family</td>\n",
       "      <td>$150 B</td>\n",
       "      <td>France</td>\n",
       "      <td>LVMH</td>\n",
       "      <td>3</td>\n",
       "      <td>72.0</td>\n",
       "      <td>Fashion &amp; Retail</td>\n",
       "    </tr>\n",
       "    <tr>\n",
       "      <th>3</th>\n",
       "      <td>Bill Gates</td>\n",
       "      <td>$124 B</td>\n",
       "      <td>United States</td>\n",
       "      <td>Microsoft</td>\n",
       "      <td>4</td>\n",
       "      <td>65.0</td>\n",
       "      <td>Technology</td>\n",
       "    </tr>\n",
       "    <tr>\n",
       "      <th>4</th>\n",
       "      <td>Mark Zuckerberg</td>\n",
       "      <td>$97 B</td>\n",
       "      <td>United States</td>\n",
       "      <td>Facebook</td>\n",
       "      <td>5</td>\n",
       "      <td>36.0</td>\n",
       "      <td>Technology</td>\n",
       "    </tr>\n",
       "    <tr>\n",
       "      <th>...</th>\n",
       "      <td>...</td>\n",
       "      <td>...</td>\n",
       "      <td>...</td>\n",
       "      <td>...</td>\n",
       "      <td>...</td>\n",
       "      <td>...</td>\n",
       "      <td>...</td>\n",
       "    </tr>\n",
       "    <tr>\n",
       "      <th>2750</th>\n",
       "      <td>Daniel Yong Zhang</td>\n",
       "      <td>$1 B</td>\n",
       "      <td>China</td>\n",
       "      <td>e-commerce</td>\n",
       "      <td>2674</td>\n",
       "      <td>49.0</td>\n",
       "      <td>Technology</td>\n",
       "    </tr>\n",
       "    <tr>\n",
       "      <th>2751</th>\n",
       "      <td>Zhang Yuqiang</td>\n",
       "      <td>$1 B</td>\n",
       "      <td>China</td>\n",
       "      <td>Fiberglass</td>\n",
       "      <td>2674</td>\n",
       "      <td>65.0</td>\n",
       "      <td>Manufacturing</td>\n",
       "    </tr>\n",
       "    <tr>\n",
       "      <th>2752</th>\n",
       "      <td>Zhao Meiguang</td>\n",
       "      <td>$1 B</td>\n",
       "      <td>China</td>\n",
       "      <td>gold mining</td>\n",
       "      <td>2674</td>\n",
       "      <td>58.0</td>\n",
       "      <td>Metals &amp; Mining</td>\n",
       "    </tr>\n",
       "    <tr>\n",
       "      <th>2753</th>\n",
       "      <td>Zhong Naixiong</td>\n",
       "      <td>$1 B</td>\n",
       "      <td>China</td>\n",
       "      <td>conglomerate</td>\n",
       "      <td>2674</td>\n",
       "      <td>58.0</td>\n",
       "      <td>Diversified</td>\n",
       "    </tr>\n",
       "    <tr>\n",
       "      <th>2754</th>\n",
       "      <td>Zhou Wei family</td>\n",
       "      <td>$1 B</td>\n",
       "      <td>China</td>\n",
       "      <td>Software</td>\n",
       "      <td>2674</td>\n",
       "      <td>54.0</td>\n",
       "      <td>Technology</td>\n",
       "    </tr>\n",
       "  </tbody>\n",
       "</table>\n",
       "<p>2755 rows × 7 columns</p>\n",
       "</div>"
      ],
      "text/plain": [
       "                          Name NetWorth        Country         Source  Rank  \\\n",
       "0                   Jeff Bezos   $177 B  United States         Amazon     1   \n",
       "1                    Elon Musk   $151 B  United States  Tesla, SpaceX     2   \n",
       "2     Bernard Arnault & family   $150 B         France           LVMH     3   \n",
       "3                   Bill Gates   $124 B  United States      Microsoft     4   \n",
       "4              Mark Zuckerberg    $97 B  United States       Facebook     5   \n",
       "...                        ...      ...            ...            ...   ...   \n",
       "2750         Daniel Yong Zhang     $1 B          China     e-commerce  2674   \n",
       "2751             Zhang Yuqiang     $1 B          China     Fiberglass  2674   \n",
       "2752             Zhao Meiguang     $1 B          China    gold mining  2674   \n",
       "2753            Zhong Naixiong     $1 B          China   conglomerate  2674   \n",
       "2754           Zhou Wei family     $1 B          China       Software  2674   \n",
       "\n",
       "       Age          Industry  \n",
       "0     57.0        Technology  \n",
       "1     49.0        Automotive  \n",
       "2     72.0  Fashion & Retail  \n",
       "3     65.0        Technology  \n",
       "4     36.0        Technology  \n",
       "...    ...               ...  \n",
       "2750  49.0        Technology  \n",
       "2751  65.0     Manufacturing  \n",
       "2752  58.0   Metals & Mining  \n",
       "2753  58.0       Diversified  \n",
       "2754  54.0        Technology  \n",
       "\n",
       "[2755 rows x 7 columns]"
      ]
     },
     "execution_count": 2,
     "metadata": {},
     "output_type": "execute_result"
    }
   ],
   "source": [
    "df = pd.read_csv('Billionaire.csv')\n",
    "df"
   ]
  },
  {
   "cell_type": "markdown",
   "id": "f4baf91a",
   "metadata": {},
   "source": [
    "## 3. Understanding the Billionaires Data \n",
    "**a)** Use the `.head()` function to display the first several lines of the data frame."
   ]
  },
  {
   "cell_type": "code",
   "execution_count": 3,
   "id": "ad953733",
   "metadata": {
    "scrolled": true
   },
   "outputs": [
    {
     "data": {
      "text/html": [
       "<div>\n",
       "<style scoped>\n",
       "    .dataframe tbody tr th:only-of-type {\n",
       "        vertical-align: middle;\n",
       "    }\n",
       "\n",
       "    .dataframe tbody tr th {\n",
       "        vertical-align: top;\n",
       "    }\n",
       "\n",
       "    .dataframe thead th {\n",
       "        text-align: right;\n",
       "    }\n",
       "</style>\n",
       "<table border=\"1\" class=\"dataframe\">\n",
       "  <thead>\n",
       "    <tr style=\"text-align: right;\">\n",
       "      <th></th>\n",
       "      <th>Name</th>\n",
       "      <th>NetWorth</th>\n",
       "      <th>Country</th>\n",
       "      <th>Source</th>\n",
       "      <th>Rank</th>\n",
       "      <th>Age</th>\n",
       "      <th>Industry</th>\n",
       "    </tr>\n",
       "  </thead>\n",
       "  <tbody>\n",
       "    <tr>\n",
       "      <th>0</th>\n",
       "      <td>Jeff Bezos</td>\n",
       "      <td>$177 B</td>\n",
       "      <td>United States</td>\n",
       "      <td>Amazon</td>\n",
       "      <td>1</td>\n",
       "      <td>57.0</td>\n",
       "      <td>Technology</td>\n",
       "    </tr>\n",
       "    <tr>\n",
       "      <th>1</th>\n",
       "      <td>Elon Musk</td>\n",
       "      <td>$151 B</td>\n",
       "      <td>United States</td>\n",
       "      <td>Tesla, SpaceX</td>\n",
       "      <td>2</td>\n",
       "      <td>49.0</td>\n",
       "      <td>Automotive</td>\n",
       "    </tr>\n",
       "    <tr>\n",
       "      <th>2</th>\n",
       "      <td>Bernard Arnault &amp; family</td>\n",
       "      <td>$150 B</td>\n",
       "      <td>France</td>\n",
       "      <td>LVMH</td>\n",
       "      <td>3</td>\n",
       "      <td>72.0</td>\n",
       "      <td>Fashion &amp; Retail</td>\n",
       "    </tr>\n",
       "    <tr>\n",
       "      <th>3</th>\n",
       "      <td>Bill Gates</td>\n",
       "      <td>$124 B</td>\n",
       "      <td>United States</td>\n",
       "      <td>Microsoft</td>\n",
       "      <td>4</td>\n",
       "      <td>65.0</td>\n",
       "      <td>Technology</td>\n",
       "    </tr>\n",
       "    <tr>\n",
       "      <th>4</th>\n",
       "      <td>Mark Zuckerberg</td>\n",
       "      <td>$97 B</td>\n",
       "      <td>United States</td>\n",
       "      <td>Facebook</td>\n",
       "      <td>5</td>\n",
       "      <td>36.0</td>\n",
       "      <td>Technology</td>\n",
       "    </tr>\n",
       "  </tbody>\n",
       "</table>\n",
       "</div>"
      ],
      "text/plain": [
       "                       Name NetWorth        Country         Source  Rank  \\\n",
       "0                Jeff Bezos   $177 B  United States         Amazon     1   \n",
       "1                 Elon Musk   $151 B  United States  Tesla, SpaceX     2   \n",
       "2  Bernard Arnault & family   $150 B         France           LVMH     3   \n",
       "3                Bill Gates   $124 B  United States      Microsoft     4   \n",
       "4           Mark Zuckerberg    $97 B  United States       Facebook     5   \n",
       "\n",
       "    Age          Industry  \n",
       "0  57.0        Technology  \n",
       "1  49.0        Automotive  \n",
       "2  72.0  Fashion & Retail  \n",
       "3  65.0        Technology  \n",
       "4  36.0        Technology  "
      ]
     },
     "execution_count": 3,
     "metadata": {},
     "output_type": "execute_result"
    }
   ],
   "source": [
    "df.head()"
   ]
  },
  {
   "cell_type": "markdown",
   "id": "3dc0ca6c",
   "metadata": {},
   "source": [
    "**b)** Use the `.shape` attribute to determine how many observations (rows) and columns (variables) there are."
   ]
  },
  {
   "cell_type": "code",
   "execution_count": 4,
   "id": "dd8101ea",
   "metadata": {},
   "outputs": [
    {
     "data": {
      "text/plain": [
       "(2755, 7)"
      ]
     },
     "execution_count": 4,
     "metadata": {},
     "output_type": "execute_result"
    }
   ],
   "source": [
    "df.shape"
   ]
  },
  {
   "cell_type": "markdown",
   "id": "ed37486b",
   "metadata": {},
   "source": [
    "**c)** What is an observational unit for the Billionaire data?  That is, what does each row in this data contain information about."
   ]
  },
  {
   "cell_type": "markdown",
   "id": "076e01dc",
   "metadata": {},
   "source": [
    "A person. Each row in this data contains information of Name, NetWorth, Country, Source, Rank, Age, and Industry of each person. "
   ]
  },
  {
   "cell_type": "markdown",
   "id": "baf91551",
   "metadata": {},
   "source": [
    "**d)** For each variable in the Billionaire data, what is its type?  \n",
    "\n",
    "*Hint*: I am asking about the conceptual variable type, not the programming variable type.  There is no code needed to answer this question."
   ]
  },
  {
   "attachments": {},
   "cell_type": "markdown",
   "id": "c231f118",
   "metadata": {},
   "source": [
    "'Name', 'Country', 'Source', 'Rank', and 'Industry' are categorical variables. \n",
    "'NetWorth' and 'Age' are quantitative variables. "
   ]
  },
  {
   "cell_type": "markdown",
   "id": "576d0418",
   "metadata": {},
   "source": [
    "## 4. Residence of Billionaires \n",
    "\n",
    "The data contains several variables describing each of the billionaires.  The third column, 'Country', lists where the billionaire lived in 2021.\n",
    "\n",
    "**a)** Determine how many billionaires there are from each country, using Python commands."
   ]
  },
  {
   "cell_type": "code",
   "execution_count": 5,
   "id": "113ceae0",
   "metadata": {},
   "outputs": [
    {
     "data": {
      "text/plain": [
       "United States           724\n",
       "China                   626\n",
       "India                   140\n",
       "Germany                 136\n",
       "Russia                  118\n",
       "                       ... \n",
       "Venezuela                 1\n",
       "Eswatini (Swaziland)      1\n",
       "Algeria                   1\n",
       "Liechtenstein             1\n",
       "Nepal                     1\n",
       "Name: Country, Length: 70, dtype: int64"
      ]
     },
     "execution_count": 5,
     "metadata": {},
     "output_type": "execute_result"
    }
   ],
   "source": [
    "df['Country'].value_counts()"
   ]
  },
  {
   "cell_type": "markdown",
   "id": "49737e14",
   "metadata": {},
   "source": [
    "**b)** What proportion of billionaires lived in the United States in 2021?  In China?\n",
    "\n",
    "Be sure to type your answer in the Markdown cell below."
   ]
  },
  {
   "cell_type": "code",
   "execution_count": 6,
   "id": "c7afca30",
   "metadata": {},
   "outputs": [
    {
     "data": {
      "text/plain": [
       "United States           0.262795\n",
       "China                   0.227223\n",
       "India                   0.050817\n",
       "Germany                 0.049365\n",
       "Russia                  0.042831\n",
       "                          ...   \n",
       "Venezuela               0.000363\n",
       "Eswatini (Swaziland)    0.000363\n",
       "Algeria                 0.000363\n",
       "Liechtenstein           0.000363\n",
       "Nepal                   0.000363\n",
       "Name: Country, Length: 70, dtype: float64"
      ]
     },
     "execution_count": 6,
     "metadata": {},
     "output_type": "execute_result"
    }
   ],
   "source": [
    "df['Country'].value_counts(normalize=True)"
   ]
  },
  {
   "cell_type": "markdown",
   "id": "b966d411",
   "metadata": {},
   "source": [
    "United States :   0.262795\n",
    "China :  0.227223"
   ]
  },
  {
   "cell_type": "markdown",
   "id": "3e654ee5",
   "metadata": {},
   "source": [
    "## 5. Industry Source of Income of Billionaires \n",
    "\n",
    "The seventh column of the dataset, 'Industry', provides the industry that the billionaire derived their income from.\n",
    "\n",
    "**a)** Determine the **counts** of billionaires that derived their income from each industry, using Python commands."
   ]
  },
  {
   "cell_type": "code",
   "execution_count": 6,
   "id": "f76cfa19",
   "metadata": {},
   "outputs": [
    {
     "data": {
      "text/plain": [
       "Finance & Investments         371\n",
       "Technology                    365\n",
       "Manufacturing                 331\n",
       "Fashion & Retail              273\n",
       "Healthcare                    221\n",
       "Food & Beverage               219\n",
       "Real Estate                   215\n",
       "Diversified                   188\n",
       "Energy                        100\n",
       "Media & Entertainment          95\n",
       "Service                        75\n",
       "Metals & Mining                74\n",
       "Automotive                     68\n",
       "Construction & Engineering     44\n",
       "Logistics                      35\n",
       "Telecom                        32\n",
       "Gambling & Casinos             25\n",
       "Sports                         24\n",
       "Name: Industry, dtype: int64"
      ]
     },
     "execution_count": 6,
     "metadata": {},
     "output_type": "execute_result"
    }
   ],
   "source": [
    "df['Industry'].value_counts()"
   ]
  },
  {
   "cell_type": "markdown",
   "id": "a9fc7819",
   "metadata": {},
   "source": [
    "**b)** Make a barplot that shows the counts how many billionaires there are that get their income from each type of industry.\n",
    "\n",
    "Be sure to include:\n",
    "* a title\n",
    "* an appropriate label for your x-axis\n",
    "* an appropriate label for your y-axis."
   ]
  },
  {
   "cell_type": "code",
   "execution_count": 7,
   "id": "0a8e9d78",
   "metadata": {},
   "outputs": [
    {
     "data": {
      "text/plain": [
       "Finance & Investments         371\n",
       "Technology                    365\n",
       "Manufacturing                 331\n",
       "Fashion & Retail              273\n",
       "Healthcare                    221\n",
       "Food & Beverage               219\n",
       "Real Estate                   215\n",
       "Diversified                   188\n",
       "Energy                        100\n",
       "Media & Entertainment          95\n",
       "Service                        75\n",
       "Metals & Mining                74\n",
       "Automotive                     68\n",
       "Construction & Engineering     44\n",
       "Logistics                      35\n",
       "Telecom                        32\n",
       "Gambling & Casinos             25\n",
       "Sports                         24\n",
       "Name: Industry, dtype: int64"
      ]
     },
     "execution_count": 7,
     "metadata": {},
     "output_type": "execute_result"
    }
   ],
   "source": [
    "industry_count = df['Industry'].value_counts()\n",
    "industry_count"
   ]
  },
  {
   "cell_type": "code",
   "execution_count": 8,
   "id": "02b4e7be",
   "metadata": {},
   "outputs": [
    {
     "data": {
      "image/png": "[encoded data removed]",
      "text/plain": [
       "<Figure size 432x288 with 1 Axes>"
      ]
     },
     "metadata": {
      "needs_background": "light"
     },
     "output_type": "display_data"
    }
   ],
   "source": [
    "sns.set()\n",
    "sns.barplot(x=industry_count.index, y=industry_count)\n",
    "plt.title('Number of Billionaires by Industry')\n",
    "plt.xlabel('Industry Type')\n",
    "plt.ylabel('Count')\n",
    "plt.show()"
   ]
  },
  {
   "cell_type": "markdown",
   "id": "7e44cbb5",
   "metadata": {},
   "source": [
    "**c)** Most likely you were unable to to see the labels on the x-axis in your plot above. Run the same code that you have in 5b below, but add the following line of code just above the **plt.show()** line.\n",
    "\n",
    "```plt.xticks(rotation = 90)```\n",
    "\n",
    "This will rotate your x-axis labels by 90 degrees."
   ]
  },
  {
   "cell_type": "code",
   "execution_count": 10,
   "id": "ee26e4b3",
   "metadata": {},
   "outputs": [
    {
     "data": {
      "image/png": "[encoded data removed]",
      "text/plain": [
       "<Figure size 432x288 with 1 Axes>"
      ]
     },
     "metadata": {
      "needs_background": "light"
     },
     "output_type": "display_data"
    }
   ],
   "source": [
    "sns.barplot(x=industry_count.index, y=industry_count)\n",
    "plt.title('Number of Billionaires by Industry')\n",
    "plt.xlabel('Industry Type')\n",
    "plt.ylabel('Count')\n",
    "plt.xticks(rotation=90)\n",
    "plt.show()"
   ]
  },
  {
   "cell_type": "markdown",
   "id": "77d7facf",
   "metadata": {},
   "source": [
    "**d)** Of the billionaires that derived their income from the Technology industry, what **proportion** lived in the United States in 2021?  In China?  Compare these numbers to what you found in **4b** above.\n",
    "\n",
    "Use the code cell below to calculate your answer.  Be sure to type the relevant numbers in the Markdown cell below that."
   ]
  },
  {
   "cell_type": "code",
   "execution_count": 11,
   "id": "e4524cd9",
   "metadata": {},
   "outputs": [
    {
     "data": {
      "text/plain": [
       "United States     0.383562\n",
       "China             0.304110\n",
       "Germany           0.041096\n",
       "South Korea       0.032877\n",
       "India             0.032877\n",
       "Japan             0.032877\n",
       "Taiwan            0.030137\n",
       "Canada            0.027397\n",
       "Israel            0.013699\n",
       "Brazil            0.010959\n",
       "United Kingdom    0.010959\n",
       "Hong Kong         0.010959\n",
       "Russia            0.010959\n",
       "Australia         0.008219\n",
       "Sweden            0.008219\n",
       "Netherlands       0.008219\n",
       "Singapore         0.005479\n",
       "Switzerland       0.005479\n",
       "Ireland           0.005479\n",
       "Czechia           0.005479\n",
       "France            0.002740\n",
       "Romania           0.002740\n",
       "Argentina         0.002740\n",
       "Iceland           0.002740\n",
       "Name: Country, dtype: float64"
      ]
     },
     "execution_count": 11,
     "metadata": {},
     "output_type": "execute_result"
    }
   ],
   "source": [
    "billionaires_of_tech = df[df['Industry']=='Technology']\n",
    "billionaires_of_tech['Country'].value_counts(normalize=True)"
   ]
  },
  {
   "cell_type": "markdown",
   "id": "2b4db571",
   "metadata": {},
   "source": [
    "United States : 0.383562\n",
    "China : 0.304110"
   ]
  },
  {
   "cell_type": "markdown",
   "id": "ba9afbf4",
   "metadata": {},
   "source": [
    "## 6. Billionaires in Sweden \n",
    "\n",
    "We'd like to learn more about the billionaires that lived in Sweden in 2021.\n",
    "\n",
    "**a)** First, create a new version of the data that only contains the billionaires that lived in Sweden.  Be sure to give this data frame a different name, so you can still access the original data.  How many billionaires lived in Sweden?"
   ]
  },
  {
   "cell_type": "code",
   "execution_count": 13,
   "id": "188341b3",
   "metadata": {},
   "outputs": [
    {
     "data": {
      "text/plain": [
       "41"
      ]
     },
     "execution_count": 13,
     "metadata": {},
     "output_type": "execute_result"
    }
   ],
   "source": [
    "Billionaires_Sweden = df[df['Country']=='Sweden']\n",
    "len(Billionaires_Sweden)"
   ]
  },
  {
   "cell_type": "markdown",
   "id": "d785a7dc",
   "metadata": {},
   "source": [
    "41 "
   ]
  },
  {
   "cell_type": "markdown",
   "id": "a3a6a97e",
   "metadata": {},
   "source": [
    "**b)** Then, how many industries did the Swedish billionaires derive their income from?  That is, what is the number of distinct industries that these billionaires used?  Compare this to the number of industries that appeared in the full data."
   ]
  },
  {
   "cell_type": "code",
   "execution_count": 13,
   "id": "dc4001d7",
   "metadata": {},
   "outputs": [
    {
     "data": {
      "text/plain": [
       "Finance & Investments         10\n",
       "Diversified                    9\n",
       "Fashion & Retail               5\n",
       "Real Estate                    4\n",
       "Food & Beverage                3\n",
       "Technology                     3\n",
       "Media & Entertainment          2\n",
       "Healthcare                     1\n",
       "Service                        1\n",
       "Energy                         1\n",
       "Manufacturing                  1\n",
       "Construction & Engineering     1\n",
       "Name: Industry, dtype: int64"
      ]
     },
     "execution_count": 13,
     "metadata": {},
     "output_type": "execute_result"
    }
   ],
   "source": [
    "Billionaires_Sweden['Industry'].value_counts()"
   ]
  },
  {
   "cell_type": "markdown",
   "id": "e9cf743a",
   "metadata": {},
   "source": [
    "There are 12 distinct industries that Sweden billionaires used. Meanwhile, there were 18 distinct industries that appeared in the full data. "
   ]
  },
  {
   "cell_type": "markdown",
   "id": "6dfc26c3",
   "metadata": {},
   "source": [
    "## 7. Top 100 Barplot\n",
    "The first column in the billionaires data contains the 'Name' of each billionaire.  Use Python to create a barplot of the first 100 values of this variable.\n",
    "\n",
    "Does this barplot contain helpful information?"
   ]
  },
  {
   "cell_type": "code",
   "execution_count": 14,
   "id": "9e880d93",
   "metadata": {},
   "outputs": [
    {
     "data": {
      "text/plain": [
       "Jeff Bezos                1\n",
       "Leonard Lauder            1\n",
       "Iris Fontbona & family    1\n",
       "Zhang Zhidong             1\n",
       "Shiv Nadar                1\n",
       "                         ..\n",
       "Tadashi Yanai & family    1\n",
       "Michael Dell              1\n",
       "Masayoshi Son             1\n",
       "Julia Koch & family       1\n",
       "Robert Pera               1\n",
       "Name: Name, Length: 100, dtype: int64"
      ]
     },
     "execution_count": 14,
     "metadata": {},
     "output_type": "execute_result"
    }
   ],
   "source": [
    "littledf = df.iloc[0:100,:]\n",
    "count = littledf['Name'].value_counts()\n",
    "count"
   ]
  },
  {
   "cell_type": "code",
   "execution_count": 15,
   "id": "36cf381e",
   "metadata": {},
   "outputs": [
    {
     "data": {
      "image/png": "[encoded data removed]",
      "text/plain": [
       "<Figure size 432x288 with 1 Axes>"
      ]
     },
     "metadata": {},
     "output_type": "display_data"
    }
   ],
   "source": [
    "sns.barplot( x=count.index, y=count)\n",
    "plt.show()"
   ]
  },
  {
   "attachments": {},
   "cell_type": "markdown",
   "id": "3a1e1892",
   "metadata": {},
   "source": [
    "Every billionaires in the data have different names. The 'Name' variable is a categorical variable. So, the count by their names is all the same as '1'. \n",
    "Therefore, this barplot does not contain helpful information because 'Name' was not a numerical variable and there are nothing to compare between the height of 100 sticks in the barplot. "
   ]
  },
  {
   "cell_type": "markdown",
   "id": "7300fb57",
   "metadata": {},
   "source": [
    "## 8. Creating a Data Frame \n",
    "\n",
    "On Groundhog Day (February 2), a groundhog in Pennsylvania named Punxsutawney Phil is observed while leaving his burrow.  The legend is that if the groundhog can see his shadow on a clear day, that winter will continue for 6 weeks.  If clouds prevent him from seeing his shadow, spring will come early.\n",
    "\n",
    "We'd like to analyze some data about Phil, but unfortunately we misplaced our original csv file.  Luckily, we have a picture of the data frame.\n",
    "\n",
    "![Image_of_Phil_df](phil_dataframe.png)\n",
    "\n",
    "Using the tools that you've learned so far, recreate this data frame in Python below.  Be sure to print your recreated data frame below."
   ]
  },
  {
   "cell_type": "code",
   "execution_count": 16,
   "id": "ae65d280",
   "metadata": {},
   "outputs": [
    {
     "data": {
      "text/html": [
       "<div>\n",
       "<style scoped>\n",
       "    .dataframe tbody tr th:only-of-type {\n",
       "        vertical-align: middle;\n",
       "    }\n",
       "\n",
       "    .dataframe tbody tr th {\n",
       "        vertical-align: top;\n",
       "    }\n",
       "\n",
       "    .dataframe thead th {\n",
       "        text-align: right;\n",
       "    }\n",
       "</style>\n",
       "<table border=\"1\" class=\"dataframe\">\n",
       "  <thead>\n",
       "    <tr style=\"text-align: right;\">\n",
       "      <th></th>\n",
       "      <th>Year</th>\n",
       "      <th>Shadow</th>\n",
       "      <th>Feb_Temp</th>\n",
       "      <th>Mar_Temp</th>\n",
       "    </tr>\n",
       "  </thead>\n",
       "  <tbody>\n",
       "    <tr>\n",
       "      <th>0</th>\n",
       "      <td>2012</td>\n",
       "      <td>yes</td>\n",
       "      <td>27.4</td>\n",
       "      <td>33.9</td>\n",
       "    </tr>\n",
       "    <tr>\n",
       "      <th>1</th>\n",
       "      <td>2013</td>\n",
       "      <td>no</td>\n",
       "      <td>22.8</td>\n",
       "      <td>30.3</td>\n",
       "    </tr>\n",
       "    <tr>\n",
       "      <th>2</th>\n",
       "      <td>2014</td>\n",
       "      <td>yes</td>\n",
       "      <td>16.1</td>\n",
       "      <td>31.6</td>\n",
       "    </tr>\n",
       "    <tr>\n",
       "      <th>3</th>\n",
       "      <td>2015</td>\n",
       "      <td>yes</td>\n",
       "      <td>30.8</td>\n",
       "      <td>43.4</td>\n",
       "    </tr>\n",
       "    <tr>\n",
       "      <th>4</th>\n",
       "      <td>2016</td>\n",
       "      <td>no</td>\n",
       "      <td>26.5</td>\n",
       "      <td>35.9</td>\n",
       "    </tr>\n",
       "  </tbody>\n",
       "</table>\n",
       "</div>"
      ],
      "text/plain": [
       "   Year Shadow  Feb_Temp  Mar_Temp\n",
       "0  2012    yes      27.4      33.9\n",
       "1  2013     no      22.8      30.3\n",
       "2  2014    yes      16.1      31.6\n",
       "3  2015    yes      30.8      43.4\n",
       "4  2016     no      26.5      35.9"
      ]
     },
     "execution_count": 16,
     "metadata": {},
     "output_type": "execute_result"
    }
   ],
   "source": [
    "years = [2012, 2013, 2014, 2015, 2016]\n",
    "shadows = ['yes', 'no', 'yes', 'yes', 'no']\n",
    "FEB_temperature = [27.4, 22.8, 16.1, 30.8, 26.5]\n",
    "MAR_temperature = [33.9, 30.3, 31.6, 43.4, 35.9]\n",
    "df = pd.DataFrame({'Year':years, 'Shadow':shadows, 'Feb_Temp':FEB_temperature, 'Mar_Temp': MAR_temperature})\n",
    "df"
   ]
  }
 ],
 "metadata": {
  "kernelspec": {
   "display_name": "Python 3",
   "language": "python",
   "name": "python3"
  },
  "language_info": {
   "codemirror_mode": {
    "name": "ipython",
    "version": 3
   },
   "file_extension": ".py",
   "mimetype": "text/x-python",
   "name": "python",
   "nbconvert_exporter": "python",
   "pygments_lexer": "ipython3",
   "version": "3.9.13"
  },
  "vscode": {
   "interpreter": {
    "hash": "bf5817c8b02cc5c6d9d556b5b283d9f8666d377278bd43aea9cee48641f43644"
   }
  }
 },
 "nbformat": 4,
 "nbformat_minor": 5
}
