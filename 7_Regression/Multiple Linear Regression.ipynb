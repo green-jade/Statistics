{
 "cells": [
  {
   "cell_type": "markdown",
   "id": "e746da0e",
   "metadata": {},
   "source": [
    "# Multiple Linear Regression"
   ]
  },
  {
   "cell_type": "markdown",
   "id": "c4d94493",
   "metadata": {},
   "source": [
    "## Package Imports\n",
    "\n",
    "Code to import some packages has been included below.  Feel free to import any additional packages that you need here, or later in the assignment."
   ]
  },
  {
   "cell_type": "code",
   "execution_count": 1,
   "id": "f2de8a3f",
   "metadata": {},
   "outputs": [],
   "source": [
    "import pandas as pd\n",
    "import numpy as np\n",
    "import matplotlib.pyplot as plt\n",
    "import seaborn as sns; sns.set()\n",
    "from scipy.stats import norm\n",
    "from scipy.stats import t\n",
    "import statsmodels.api as sm\n",
    "import statsmodels.formula.api as smf"
   ]
  },
  {
   "cell_type": "markdown",
   "id": "ac088395",
   "metadata": {},
   "source": [
    "## <u>Case Study</u>: Popular Netflix Programs\n",
    "\n",
    "We would like to predict the ratings of titles that are listed on Netflix, based on various characteristics about those titles.  To do so, we will analyze the netflix.csv dataset that is located in this folder.\n",
    "\n",
    "The netflix dataset contains the following variables for each of the programs:\n",
    "\n",
    "- **title**: the title of the program\n",
    "- **popular_rank**: ranking as determined by IMDb when filtered by popularity\n",
    "- **startYear**: when the program was first broadcasted\n",
    "- **runtime**: the length of a typical episode or the length of the movie, measured in minutes\n",
    "- **type**: the type of program (e.g. tv show or movie)\n",
    "- **origin_country**: country of origin of the program\n",
    "- **language**: the language of the program\n",
    "- **rating**: average rating given to the show, out of 10.\n",
    "\n",
    "Of these variables, we will explore the startYear, runtime, type, origin_country, language, and rating in our analysis.  We will focus on predicting the rating from some or all of the other variables in our dataset.\n",
    "\n",
    "## 1. Data Processing and Cleaning \n",
    "\n",
    "**a)** First, we need to read in and clean the data.\n",
    "\n",
    "1. Read the netflix.csv into a dataframe.\n",
    " - *This dataset has missing values!  Specifically, the phrases \"\" (empty), \"\\\\N\", and \"-\" are all used to represent missing values in this csv.  Make sure you encode these values as NaN when you read the data in.  Quick tip: include a double \\ in front of the N for Python to read this string correctly.  You can look at the markdown code in this cell to see how this should look.*\n",
    "2. Print the dimensions of the netflix dataset.\n",
    "3. Drop the missing values from the netflix dataset.\n",
    "4. Report how many complete titles remain in the dataset as well as how many titles were dropped from the dataset."
   ]
  },
  {
   "cell_type": "code",
   "execution_count": 2,
   "id": "30911347",
   "metadata": {},
   "outputs": [],
   "source": [
    "# 1 \n",
    "missing_values = [\"\", \"\\\\N\", \"-\"]\n",
    "df = pd.read_csv('netflix.csv', na_values=missing_values)"
   ]
  },
  {
   "cell_type": "code",
   "execution_count": 3,
   "id": "cf5686ac",
   "metadata": {},
   "outputs": [
    {
     "data": {
      "text/plain": [
       "(7008, 8)"
      ]
     },
     "execution_count": 3,
     "metadata": {},
     "output_type": "execute_result"
    }
   ],
   "source": [
    "# 2\n",
    "df.shape"
   ]
  },
  {
   "cell_type": "code",
   "execution_count": 4,
   "id": "e5da7aa4",
   "metadata": {},
   "outputs": [],
   "source": [
    "# 3\n",
    "netflix = df.dropna().reset_index(drop = True)"
   ]
  },
  {
   "cell_type": "code",
   "execution_count": 5,
   "id": "7e610381",
   "metadata": {},
   "outputs": [
    {
     "name": "stdout",
     "output_type": "stream",
     "text": [
      "(5047, 8)\n",
      "1961\n"
     ]
    }
   ],
   "source": [
    "# 4\n",
    "print(netflix.shape)\n",
    "# 5047 complete titles remain in the dataset. \n",
    "print(df.shape[0] - netflix.shape[0])\n",
    "# 1961 titles were dropped from the dataset. "
   ]
  },
  {
   "cell_type": "markdown",
   "id": "2d4deaf3",
   "metadata": {},
   "source": [
    "**b)** Create two new variables in the dataset:\n",
    "\n",
    "- **US_country**, an indicator variable for the program having a country of origin of the United States\n",
    "- **English_language**, an indicator variable for the program's language being English"
   ]
  },
  {
   "cell_type": "code",
   "execution_count": 6,
   "id": "2cafa71b",
   "metadata": {},
   "outputs": [
    {
     "data": {
      "text/html": [
       "<div>\n",
       "<style scoped>\n",
       "    .dataframe tbody tr th:only-of-type {\n",
       "        vertical-align: middle;\n",
       "    }\n",
       "\n",
       "    .dataframe tbody tr th {\n",
       "        vertical-align: top;\n",
       "    }\n",
       "\n",
       "    .dataframe thead th {\n",
       "        text-align: right;\n",
       "    }\n",
       "</style>\n",
       "<table border=\"1\" class=\"dataframe\">\n",
       "  <thead>\n",
       "    <tr style=\"text-align: right;\">\n",
       "      <th></th>\n",
       "      <th>title</th>\n",
       "      <th>popular_rank</th>\n",
       "      <th>startYear</th>\n",
       "      <th>runtime</th>\n",
       "      <th>type</th>\n",
       "      <th>origin_country</th>\n",
       "      <th>language</th>\n",
       "      <th>rating</th>\n",
       "      <th>US_country</th>\n",
       "      <th>English_language</th>\n",
       "    </tr>\n",
       "  </thead>\n",
       "  <tbody>\n",
       "    <tr>\n",
       "      <th>0</th>\n",
       "      <td>Lucifer</td>\n",
       "      <td>1</td>\n",
       "      <td>2016.0</td>\n",
       "      <td>42.0</td>\n",
       "      <td>tvSeries</td>\n",
       "      <td>United States</td>\n",
       "      <td>English</td>\n",
       "      <td>8.1</td>\n",
       "      <td>True</td>\n",
       "      <td>True</td>\n",
       "    </tr>\n",
       "    <tr>\n",
       "      <th>1</th>\n",
       "      <td>Army of the Dead</td>\n",
       "      <td>2</td>\n",
       "      <td>2021.0</td>\n",
       "      <td>148.0</td>\n",
       "      <td>movie</td>\n",
       "      <td>United States</td>\n",
       "      <td>English</td>\n",
       "      <td>5.8</td>\n",
       "      <td>True</td>\n",
       "      <td>True</td>\n",
       "    </tr>\n",
       "    <tr>\n",
       "      <th>2</th>\n",
       "      <td>The Kominsky Method</td>\n",
       "      <td>3</td>\n",
       "      <td>2018.0</td>\n",
       "      <td>30.0</td>\n",
       "      <td>tvSeries</td>\n",
       "      <td>United States</td>\n",
       "      <td>English</td>\n",
       "      <td>8.2</td>\n",
       "      <td>True</td>\n",
       "      <td>True</td>\n",
       "    </tr>\n",
       "    <tr>\n",
       "      <th>3</th>\n",
       "      <td>Friends</td>\n",
       "      <td>4</td>\n",
       "      <td>1994.0</td>\n",
       "      <td>22.0</td>\n",
       "      <td>tvSeries</td>\n",
       "      <td>United States</td>\n",
       "      <td>English</td>\n",
       "      <td>8.9</td>\n",
       "      <td>True</td>\n",
       "      <td>True</td>\n",
       "    </tr>\n",
       "    <tr>\n",
       "      <th>4</th>\n",
       "      <td>Ragnarok</td>\n",
       "      <td>5</td>\n",
       "      <td>2020.0</td>\n",
       "      <td>45.0</td>\n",
       "      <td>tvSeries</td>\n",
       "      <td>Norway</td>\n",
       "      <td>Norwegian</td>\n",
       "      <td>7.5</td>\n",
       "      <td>False</td>\n",
       "      <td>False</td>\n",
       "    </tr>\n",
       "  </tbody>\n",
       "</table>\n",
       "</div>"
      ],
      "text/plain": [
       "                 title  popular_rank  startYear  runtime      type  \\\n",
       "0              Lucifer             1     2016.0     42.0  tvSeries   \n",
       "1     Army of the Dead             2     2021.0    148.0     movie   \n",
       "2  The Kominsky Method             3     2018.0     30.0  tvSeries   \n",
       "3              Friends             4     1994.0     22.0  tvSeries   \n",
       "4             Ragnarok             5     2020.0     45.0  tvSeries   \n",
       "\n",
       "  origin_country   language  rating  US_country  English_language  \n",
       "0  United States    English     8.1        True              True  \n",
       "1  United States    English     5.8        True              True  \n",
       "2  United States    English     8.2        True              True  \n",
       "3  United States    English     8.9        True              True  \n",
       "4         Norway  Norwegian     7.5       False             False  "
      ]
     },
     "execution_count": 6,
     "metadata": {},
     "output_type": "execute_result"
    }
   ],
   "source": [
    "netflix['US_country'] = (netflix['origin_country'] == 'United States')\n",
    "netflix['English_language'] = (netflix['language'] == 'English')\n",
    "netflix.head()"
   ]
  },
  {
   "cell_type": "markdown",
   "id": "425934e6",
   "metadata": {},
   "source": [
    "## 2. Fit & Use a Model "
   ]
  },
  {
   "cell_type": "markdown",
   "id": "a9573b85",
   "metadata": {},
   "source": [
    "**a)** Fit a linear model predicting the rating of a program on Netflix from the original broadcast year, runtime, type of program, whether the country of origin is the US, and whether the language of the program is English.\n",
    "\n",
    "Print the summary results of the fitted linear model. "
   ]
  },
  {
   "cell_type": "code",
   "execution_count": 7,
   "id": "c03030b2",
   "metadata": {},
   "outputs": [
    {
     "data": {
      "text/html": [
       "<table class=\"simpletable\">\n",
       "<caption>OLS Regression Results</caption>\n",
       "<tr>\n",
       "  <th>Dep. Variable:</th>         <td>rating</td>      <th>  R-squared:         </th> <td>   0.254</td> \n",
       "</tr>\n",
       "<tr>\n",
       "  <th>Model:</th>                   <td>OLS</td>       <th>  Adj. R-squared:    </th> <td>   0.252</td> \n",
       "</tr>\n",
       "<tr>\n",
       "  <th>Method:</th>             <td>Least Squares</td>  <th>  F-statistic:       </th> <td>   142.7</td> \n",
       "</tr>\n",
       "<tr>\n",
       "  <th>Date:</th>             <td>Fri, 14 Apr 2023</td> <th>  Prob (F-statistic):</th> <td>7.18e-309</td>\n",
       "</tr>\n",
       "<tr>\n",
       "  <th>Time:</th>                 <td>09:59:13</td>     <th>  Log-Likelihood:    </th> <td> -7441.2</td> \n",
       "</tr>\n",
       "<tr>\n",
       "  <th>No. Observations:</th>      <td>  5047</td>      <th>  AIC:               </th> <td>1.491e+04</td>\n",
       "</tr>\n",
       "<tr>\n",
       "  <th>Df Residuals:</th>          <td>  5034</td>      <th>  BIC:               </th> <td>1.499e+04</td>\n",
       "</tr>\n",
       "<tr>\n",
       "  <th>Df Model:</th>              <td>    12</td>      <th>                     </th>     <td> </td>    \n",
       "</tr>\n",
       "<tr>\n",
       "  <th>Covariance Type:</th>      <td>nonrobust</td>    <th>                     </th>     <td> </td>    \n",
       "</tr>\n",
       "</table>\n",
       "<table class=\"simpletable\">\n",
       "<tr>\n",
       "              <td></td>                <th>coef</th>     <th>std err</th>      <th>t</th>      <th>P>|t|</th>  <th>[0.025</th>    <th>0.975]</th>  \n",
       "</tr>\n",
       "<tr>\n",
       "  <th>Intercept</th>                <td>   40.3319</td> <td>    3.595</td> <td>   11.219</td> <td> 0.000</td> <td>   33.284</td> <td>   47.380</td>\n",
       "</tr>\n",
       "<tr>\n",
       "  <th>type[T.short]</th>            <td>    0.9260</td> <td>    0.129</td> <td>    7.166</td> <td> 0.000</td> <td>    0.673</td> <td>    1.179</td>\n",
       "</tr>\n",
       "<tr>\n",
       "  <th>type[T.tvEpisode]</th>        <td>    1.6404</td> <td>    0.062</td> <td>   26.558</td> <td> 0.000</td> <td>    1.519</td> <td>    1.761</td>\n",
       "</tr>\n",
       "<tr>\n",
       "  <th>type[T.tvMiniSeries]</th>     <td>    1.1762</td> <td>    0.078</td> <td>   14.988</td> <td> 0.000</td> <td>    1.022</td> <td>    1.330</td>\n",
       "</tr>\n",
       "<tr>\n",
       "  <th>type[T.tvMovie]</th>          <td>    0.2173</td> <td>    0.096</td> <td>    2.263</td> <td> 0.024</td> <td>    0.029</td> <td>    0.406</td>\n",
       "</tr>\n",
       "<tr>\n",
       "  <th>type[T.tvSeries]</th>         <td>    1.3732</td> <td>    0.041</td> <td>   33.297</td> <td> 0.000</td> <td>    1.292</td> <td>    1.454</td>\n",
       "</tr>\n",
       "<tr>\n",
       "  <th>type[T.tvShort]</th>          <td>    2.0414</td> <td>    0.475</td> <td>    4.297</td> <td> 0.000</td> <td>    1.110</td> <td>    2.973</td>\n",
       "</tr>\n",
       "<tr>\n",
       "  <th>type[T.tvSpecial]</th>        <td>    0.7426</td> <td>    0.065</td> <td>   11.375</td> <td> 0.000</td> <td>    0.615</td> <td>    0.871</td>\n",
       "</tr>\n",
       "<tr>\n",
       "  <th>type[T.video]</th>            <td>    0.3976</td> <td>    0.123</td> <td>    3.231</td> <td> 0.001</td> <td>    0.156</td> <td>    0.639</td>\n",
       "</tr>\n",
       "<tr>\n",
       "  <th>US_country[T.True]</th>       <td>   -0.0962</td> <td>    0.041</td> <td>   -2.337</td> <td> 0.019</td> <td>   -0.177</td> <td>   -0.015</td>\n",
       "</tr>\n",
       "<tr>\n",
       "  <th>English_language[T.True]</th> <td>    0.0817</td> <td>    0.042</td> <td>    1.967</td> <td> 0.049</td> <td>    0.000</td> <td>    0.163</td>\n",
       "</tr>\n",
       "<tr>\n",
       "  <th>startYear</th>                <td>   -0.0171</td> <td>    0.002</td> <td>   -9.610</td> <td> 0.000</td> <td>   -0.021</td> <td>   -0.014</td>\n",
       "</tr>\n",
       "<tr>\n",
       "  <th>runtime</th>                  <td>    0.0030</td> <td>    0.000</td> <td>    7.967</td> <td> 0.000</td> <td>    0.002</td> <td>    0.004</td>\n",
       "</tr>\n",
       "</table>\n",
       "<table class=\"simpletable\">\n",
       "<tr>\n",
       "  <th>Omnibus:</th>       <td>480.215</td> <th>  Durbin-Watson:     </th> <td>   1.922</td> \n",
       "</tr>\n",
       "<tr>\n",
       "  <th>Prob(Omnibus):</th> <td> 0.000</td>  <th>  Jarque-Bera (JB):  </th> <td> 680.758</td> \n",
       "</tr>\n",
       "<tr>\n",
       "  <th>Skew:</th>          <td>-0.753</td>  <th>  Prob(JB):          </th> <td>1.50e-148</td>\n",
       "</tr>\n",
       "<tr>\n",
       "  <th>Kurtosis:</th>      <td> 3.986</td>  <th>  Cond. No.          </th> <td>4.87e+05</td> \n",
       "</tr>\n",
       "</table><br/><br/>Notes:<br/>[1] Standard Errors assume that the covariance matrix of the errors is correctly specified.<br/>[2] The condition number is large, 4.87e+05. This might indicate that there are<br/>strong multicollinearity or other numerical problems."
      ],
      "text/plain": [
       "<class 'statsmodels.iolib.summary.Summary'>\n",
       "\"\"\"\n",
       "                            OLS Regression Results                            \n",
       "==============================================================================\n",
       "Dep. Variable:                 rating   R-squared:                       0.254\n",
       "Model:                            OLS   Adj. R-squared:                  0.252\n",
       "Method:                 Least Squares   F-statistic:                     142.7\n",
       "Date:                Fri, 14 Apr 2023   Prob (F-statistic):          7.18e-309\n",
       "Time:                        09:59:13   Log-Likelihood:                -7441.2\n",
       "No. Observations:                5047   AIC:                         1.491e+04\n",
       "Df Residuals:                    5034   BIC:                         1.499e+04\n",
       "Df Model:                          12                                         \n",
       "Covariance Type:            nonrobust                                         \n",
       "============================================================================================\n",
       "                               coef    std err          t      P>|t|      [0.025      0.975]\n",
       "--------------------------------------------------------------------------------------------\n",
       "Intercept                   40.3319      3.595     11.219      0.000      33.284      47.380\n",
       "type[T.short]                0.9260      0.129      7.166      0.000       0.673       1.179\n",
       "type[T.tvEpisode]            1.6404      0.062     26.558      0.000       1.519       1.761\n",
       "type[T.tvMiniSeries]         1.1762      0.078     14.988      0.000       1.022       1.330\n",
       "type[T.tvMovie]              0.2173      0.096      2.263      0.024       0.029       0.406\n",
       "type[T.tvSeries]             1.3732      0.041     33.297      0.000       1.292       1.454\n",
       "type[T.tvShort]              2.0414      0.475      4.297      0.000       1.110       2.973\n",
       "type[T.tvSpecial]            0.7426      0.065     11.375      0.000       0.615       0.871\n",
       "type[T.video]                0.3976      0.123      3.231      0.001       0.156       0.639\n",
       "US_country[T.True]          -0.0962      0.041     -2.337      0.019      -0.177      -0.015\n",
       "English_language[T.True]     0.0817      0.042      1.967      0.049       0.000       0.163\n",
       "startYear                   -0.0171      0.002     -9.610      0.000      -0.021      -0.014\n",
       "runtime                      0.0030      0.000      7.967      0.000       0.002       0.004\n",
       "==============================================================================\n",
       "Omnibus:                      480.215   Durbin-Watson:                   1.922\n",
       "Prob(Omnibus):                  0.000   Jarque-Bera (JB):              680.758\n",
       "Skew:                          -0.753   Prob(JB):                    1.50e-148\n",
       "Kurtosis:                       3.986   Cond. No.                     4.87e+05\n",
       "==============================================================================\n",
       "\n",
       "Notes:\n",
       "[1] Standard Errors assume that the covariance matrix of the errors is correctly specified.\n",
       "[2] The condition number is large, 4.87e+05. This might indicate that there are\n",
       "strong multicollinearity or other numerical problems.\n",
       "\"\"\""
      ]
     },
     "execution_count": 7,
     "metadata": {},
     "output_type": "execute_result"
    }
   ],
   "source": [
    "results = smf.ols('rating ~ startYear + runtime + type + US_country + English_language', data=netflix).fit()\n",
    "results.summary()"
   ]
  },
  {
   "cell_type": "code",
   "execution_count": 8,
   "id": "b9b9619b",
   "metadata": {},
   "outputs": [
    {
     "data": {
      "text/plain": [
       "array(['tvSeries', 'movie', 'tvSpecial', 'tvMiniSeries', 'short', 'video',\n",
       "       'tvMovie', 'tvShort', 'videoGame', 'tvEpisode', nan], dtype=object)"
      ]
     },
     "execution_count": 8,
     "metadata": {},
     "output_type": "execute_result"
    }
   ],
   "source": [
    "df['type'].unique()"
   ]
  },
  {
   "cell_type": "markdown",
   "id": "f84ac8e7",
   "metadata": {},
   "source": [
    "**b)** What is the predicted rating for a tv Special from 2021 that is 87 minutes, filmed in the US, and uses the English lanugage?"
   ]
  },
  {
   "cell_type": "code",
   "execution_count": 9,
   "id": "c514aa49",
   "metadata": {},
   "outputs": [
    {
     "data": {
      "text/plain": [
       "6.7619"
      ]
     },
     "execution_count": 9,
     "metadata": {},
     "output_type": "execute_result"
    }
   ],
   "source": [
    "40.3319 + 0.7426 -0.0171 * 2021 + 0.0030 * 87 -0.0962 + 0.0817"
   ]
  },
  {
   "cell_type": "markdown",
   "id": "c6db6a66",
   "metadata": {},
   "source": [
    "**c)** What is the corresponding residual for an Netflix program that has the characteristics described in **2b** and that has an actual rating of 5.3?"
   ]
  },
  {
   "cell_type": "code",
   "execution_count": 10,
   "id": "86480ac1",
   "metadata": {},
   "outputs": [
    {
     "data": {
      "text/plain": [
       "-1.4619"
      ]
     },
     "execution_count": 10,
     "metadata": {},
     "output_type": "execute_result"
    }
   ],
   "source": [
    "5.3 - 6.7619"
   ]
  },
  {
   "cell_type": "markdown",
   "id": "b7fa1f49",
   "metadata": {},
   "source": [
    "**d)** How strong is the linear model?  Report a numerical measure of the strength of the overall model, and provide an interpretation for this value."
   ]
  },
  {
   "cell_type": "code",
   "execution_count": 11,
   "id": "369e82b6",
   "metadata": {},
   "outputs": [
    {
     "name": "stdout",
     "output_type": "stream",
     "text": [
      "R-squared is 0.254\n"
     ]
    }
   ],
   "source": [
    "print('R-squared is',\t0.254)"
   ]
  },
  {
   "attachments": {},
   "cell_type": "markdown",
   "id": "785180de",
   "metadata": {},
   "source": [
    "This means that 25.4 % of the variation in our response variable (ratings) is explained by its linear relationship with our predictor variables. "
   ]
  },
  {
   "cell_type": "markdown",
   "id": "d102aa01",
   "metadata": {},
   "source": [
    "## 3. Interpreting A Model \n",
    "\n",
    "We'll continue analyzing the model fit in Question 2a.  For this question, we'll put a specific emphasis on understanding and interpreting the model.\n",
    "\n",
    "**a)** Write out one model using all of the coefficients.  Be sure to use appropriate notation & define any variables needed."
   ]
  },
  {
   "attachments": {},
   "cell_type": "markdown",
   "id": "fa13f662",
   "metadata": {},
   "source": [
    "One model using all of the coefficients would be a model predicting rating for a tv short from starting year of $x_1$, which running time is $x_2$ minutes, filmed in U.S, and uses English. \n",
    "\n",
    "$\\hat{y}  = 40.3319  +  0.9260  -0.0962  + 0.0817 - 0.0171  * x_1 + 0.0030\t* x_2$\n",
    "\n",
    "$\\hat{y}$ is the estimated expected rating of this Netflix program(tv short, from the  U.S, using English) for a given $x_1$ and $x_2$ where $x_1$ is the startyear and $x_2$ is running time. "
   ]
  },
  {
   "cell_type": "markdown",
   "id": "5872fff5",
   "metadata": {},
   "source": [
    "**b)** Write out a simplified model for a movie that is not from the US & whose language is English.\n",
    "\n",
    "Be sure to use appropriate notation."
   ]
  },
  {
   "attachments": {},
   "cell_type": "markdown",
   "id": "0df7e769",
   "metadata": {},
   "source": [
    "$\\hat{y} = 40.3319 + 0.0817 - 0.0171 * x_1 + 0.0030 * x_2$\n",
    "\n",
    "$\\hat{y}$ is the estimated expected rating of a Netflix program (movie, not from the US, whose language is English) for a given $x_1$(startyear) and $x_2$(runtime). "
   ]
  },
  {
   "cell_type": "markdown",
   "id": "e1e5104a",
   "metadata": {},
   "source": [
    "**c)** What is the baseline or reference level for this model?"
   ]
  },
  {
   "attachments": {},
   "cell_type": "markdown",
   "id": "86e028a6",
   "metadata": {},
   "source": [
    "A netflix program which type is 'movie' and the origin country is not United States, and its language is not English. "
   ]
  },
  {
   "cell_type": "markdown",
   "id": "77a5ffd4",
   "metadata": {},
   "source": [
    "**d)** Describe in words (interpret) the following coefficients for the regression model:\n",
    "\n",
    "- the coefficient for runtime\n",
    "- the coefficient for whether the language of the program is English"
   ]
  },
  {
   "attachments": {},
   "cell_type": "markdown",
   "id": "1bdcdd51",
   "metadata": {},
   "source": [
    "All else held equal, for every 1 additional minute of running time, I estimate that the expected rating of a program will increase by 0.003, on average. \n",
    "\n",
    "All else held equal, if the language of the program is English, I estimate that the expected rating of a program will be higher than the program which language is not English by 0.0817. "
   ]
  },
  {
   "cell_type": "markdown",
   "id": "d4e1f2d2",
   "metadata": {},
   "source": [
    "## 4. Linear Model Assumptions\n",
    "\n",
    "In order for any inference that we'd like to perform from our model to be valid, we need to check some assumptions.  For this question, generate three graphs that we can use to check our assumptions.  \n",
    "\n",
    "Then check each of our conditions for the linear model, based on the graphs or other information about the sample of programs in our dataset."
   ]
  },
  {
   "cell_type": "code",
   "execution_count": 13,
   "id": "7ed315c8",
   "metadata": {},
   "outputs": [
    {
     "data": {
      "image/png": "[encoded data removed]",
      "text/plain": [
       "<Figure size 432x288 with 1 Axes>"
      ]
     },
     "metadata": {},
     "output_type": "display_data"
    }
   ],
   "source": [
    "sns. regplot (x = results.fittedvalues, y = results.resid, ci = None)\n",
    "plt.ylabel('Residual')\n",
    "plt.xlabel('Fitted Value')\n",
    "plt.show()"
   ]
  },
  {
   "attachments": {},
   "cell_type": "markdown",
   "id": "dd4bc850",
   "metadata": {},
   "source": [
    "First, we check linearity, checking if the true relationship between X and Y is linear. I can see not all observations are centered at e = 0 line for every estimated y(fitted values). So, I doubt that my linear assumption is reasonable. \n",
    "\n",
    "Second, I have to check if the variance of Y at each X is equal by checking if the scatter is equal at all fitted values. I don't think this equal variance assumption is plausible as my observations do not have similar scatter at almost all fitted values. "
   ]
  },
  {
   "attachments": {},
   "cell_type": "markdown",
   "id": "d1fcf05d",
   "metadata": {},
   "source": [
    "Third, I should check if the true errors are independent. \n",
    "\n",
    "We cannot plot graphs to check this, but I think this is a random sample from our population and our sample size (5047) is less than 10% of population size, so this sample meets an assumption for independence. "
   ]
  },
  {
   "cell_type": "code",
   "execution_count": 61,
   "id": "91c90d91",
   "metadata": {},
   "outputs": [
    {
     "data": {
      "text/plain": [
       "Text(0.5, 1.0, 'Histogram of Residuals')"
      ]
     },
     "execution_count": 61,
     "metadata": {},
     "output_type": "execute_result"
    },
    {
     "data": {
      "image/png": "[encoded data removed]",
      "text/plain": [
       "<Figure size 432x288 with 1 Axes>"
      ]
     },
     "metadata": {},
     "output_type": "display_data"
    }
   ],
   "source": [
    "plt.hist(results.resid)\n",
    "plt.xlabel('Residuals')\n",
    "plt.ylabel('frequency')\n",
    "plt.title('Histogram of Residuals')"
   ]
  },
  {
   "attachments": {},
   "cell_type": "markdown",
   "id": "7330a87f",
   "metadata": {},
   "source": [
    "Fourth, I should check if the true errors are normally distributed. The residuals are asymmetric, rather left-skewed. (maybe its mean is 0 but I am not sure if it is exactly centered at 0) \n",
    "\n",
    "Therefore, our sample is not meeting an assumption of normality. "
   ]
  },
  {
   "cell_type": "code",
   "execution_count": 55,
   "id": "a0d1325e",
   "metadata": {},
   "outputs": [
    {
     "data": {
      "image/png": "[encoded data removed]",
      "text/plain": [
       "<Figure size 432x288 with 1 Axes>"
      ]
     },
     "metadata": {},
     "output_type": "display_data"
    }
   ],
   "source": [
    "sns.scatterplot(x = 'startYear', y = 'runtime', data= netflix)\n",
    "plt.title('Runtime of a program by starting years')\n",
    "plt.show()"
   ]
  },
  {
   "cell_type": "code",
   "execution_count": 14,
   "id": "dcf0970d",
   "metadata": {},
   "outputs": [
    {
     "data": {
      "text/html": [
       "<div>\n",
       "<style scoped>\n",
       "    .dataframe tbody tr th:only-of-type {\n",
       "        vertical-align: middle;\n",
       "    }\n",
       "\n",
       "    .dataframe tbody tr th {\n",
       "        vertical-align: top;\n",
       "    }\n",
       "\n",
       "    .dataframe thead th {\n",
       "        text-align: right;\n",
       "    }\n",
       "</style>\n",
       "<table border=\"1\" class=\"dataframe\">\n",
       "  <thead>\n",
       "    <tr style=\"text-align: right;\">\n",
       "      <th></th>\n",
       "      <th>startYear</th>\n",
       "      <th>runtime</th>\n",
       "    </tr>\n",
       "  </thead>\n",
       "  <tbody>\n",
       "    <tr>\n",
       "      <th>startYear</th>\n",
       "      <td>1.000000</td>\n",
       "      <td>-0.031254</td>\n",
       "    </tr>\n",
       "    <tr>\n",
       "      <th>runtime</th>\n",
       "      <td>-0.031254</td>\n",
       "      <td>1.000000</td>\n",
       "    </tr>\n",
       "  </tbody>\n",
       "</table>\n",
       "</div>"
      ],
      "text/plain": [
       "           startYear   runtime\n",
       "startYear   1.000000 -0.031254\n",
       "runtime    -0.031254  1.000000"
      ]
     },
     "execution_count": 14,
     "metadata": {},
     "output_type": "execute_result"
    }
   ],
   "source": [
    "netflix[['startYear', 'runtime']].corr()"
   ]
  },
  {
   "attachments": {},
   "cell_type": "markdown",
   "id": "0eb8f9db",
   "metadata": {},
   "source": [
    "We have to check 4 assumptions for linear regression (LINE) and one more assumption that our predictors are independent. \n",
    "\n",
    "We should check if there exists a multicollinearity between quantitaive variables (runtime and startYear), so I scatterplotted. \n",
    "\n",
    "Also, the correlation between two numerical variables is -0.031 so there do not seem to be a linear relationship between those two variables. "
   ]
  },
  {
   "cell_type": "markdown",
   "id": "725d266e",
   "metadata": {},
   "source": [
    "## 5. Inference for Regression \n",
    "\n",
    "While we know that our inference results may not be valid if our conditions are not met from Question 4, we will proceed with the inference procedures.  Be aware that if our conditions are not met, we should be cautious in our interpretations of our inference results.\n",
    "\n",
    "**a)**  Using the output from the Python regression, report the 95% confidence interval for whether the language of the program is English (after accounting for our other predictor variables).  Based on this confidence interval, is it reasonable to conclude that there is sufficient evidence to suggest a difference in the mean ratings for English language programs compared to those not in English, after accounting for the other variables in our model from Question 2?"
   ]
  },
  {
   "cell_type": "code",
   "execution_count": 12,
   "id": "b0fa14bd",
   "metadata": {},
   "outputs": [
    {
     "data": {
      "text/plain": [
       "(0.0, 0.163)"
      ]
     },
     "execution_count": 12,
     "metadata": {},
     "output_type": "execute_result"
    }
   ],
   "source": [
    "# 95% confidence interval for whether the language of the program is English\n",
    "(0.000, 0.163)"
   ]
  },
  {
   "attachments": {},
   "cell_type": "markdown",
   "id": "8c05fd9d",
   "metadata": {},
   "source": [
    "We are 95% confident that the slope of a variable (0.0817), whether the language of the program is English (after accounting for our other predictor variables) is between 0 and 0.163. \n",
    "\n",
    "Therefore, it is reasonable to conclude that there is sufficient evidence to suggest there is a difference in the mean ratings for English language programs compared to those not in English. "
   ]
  },
  {
   "cell_type": "markdown",
   "id": "1b8226ce",
   "metadata": {},
   "source": [
    "**b)** Suppose we are interested in determining if there is a linear relationship between the program ratings and the runtime of a show, after controlling for our other predictor variables from Q2.  Write out the corresponding hypotheses that we are testing.  Report the test statistic & p-value for this test.  Do we have evidence to support that there is a linear relationship?  You may use the Python output from the regression, if appropriate, for full credit for this question."
   ]
  },
  {
   "attachments": {},
   "cell_type": "markdown",
   "id": "473b6e48",
   "metadata": {},
   "source": [
    "$H_0: \\beta=0$\n",
    "\n",
    "$H_A: \\beta\\neq0$\n",
    "\n",
    "($\\beta$ is the population slope that corresponds to the runtime of a show)"
   ]
  },
  {
   "attachments": {},
   "cell_type": "markdown",
   "id": "69f16b1a",
   "metadata": {},
   "source": [
    "According to a table summary above, for a significance level $\\alpha = 0.05$ the test statistic is 7.967 and p-value is 0.000. \n",
    "\n",
    "Therefore $p-value < \\alpha$ and I can reject the null hypothesis. \n",
    "\n",
    "We have sufficient evidence to support that there is a linear relationship between the program ratings and the runtime of a show, after controlling for our other predictor variables from Q2. "
   ]
  },
  {
   "cell_type": "markdown",
   "id": "837d88bc",
   "metadata": {},
   "source": [
    "**c)**  Suppose that we previously have seen that the slope for the year the program was first broadcast used to predict program ratings is -0.015.  Is this reasonable in the context of the model fit from Q2?  In other words, if we assume that runtime, show type, whether the program is from the US, and whether the program is in English is held fixed, is this still a reasonable slope based on our sample data?\n",
    "\n",
    "Perform the hypothesis test, specifically highlighting:\n",
    "\n",
    "- the hypotheses being tested\n",
    "- the test statistic\n",
    "- the **exact** p-value\n",
    "- the decision for the test\n",
    "\n",
    "You may use the Python output from the regression, if appropriate, for full credit for this question."
   ]
  },
  {
   "attachments": {},
   "cell_type": "markdown",
   "id": "91cd2203",
   "metadata": {},
   "source": [
    "1. We want to test if we have evidence to say that the value -0.015 would be a reasonable value as a slope for the year the program was first broadcast used to predict program ratings.\n",
    "\n",
    "$H_0: \\beta=-0.015$\n",
    "\n",
    "$H_A: \\beta\\neq-0.015$\n",
    "\n",
    "($\\beta$ is the population slope that corresponds to the start year)"
   ]
  },
  {
   "cell_type": "code",
   "execution_count": 15,
   "id": "025aef25",
   "metadata": {},
   "outputs": [
    {
     "name": "stdout",
     "output_type": "stream",
     "text": [
      "Point Estimate = Sample Slope =  -0.0171\n",
      "Standard Error 0.002\n",
      "Null Value: -0.015\n",
      "Test Statistic: -1.0500000000000005\n",
      "p-value 0.2937685167631301\n"
     ]
    }
   ],
   "source": [
    "#2. calculate the test statistic and p-value\n",
    "\n",
    "point_estimate=-0.0171\n",
    "print('Point Estimate = Sample Slope = ', point_estimate)\n",
    "\n",
    "standard_error=0.002\n",
    "print('Standard Error', standard_error)\n",
    "\n",
    "null_value=-0.015\n",
    "print('Null Value:', null_value)\n",
    "\n",
    "test_stat=(point_estimate-null_value)/standard_error\n",
    "print('Test Statistic:', test_stat)\n",
    "\n",
    "pvalue=2*(1-t.cdf(np.abs(test_stat), df=5034))\n",
    "print('p-value', pvalue)"
   ]
  },
  {
   "attachments": {},
   "cell_type": "markdown",
   "id": "5bfe1212",
   "metadata": {},
   "source": [
    "3. The decision for the test : My p-value is 0.294, which is quite large. Therefore I would reject the null hypothesis that the population slope for the start year of a program is -0.015. This means I decide that a value of -0.015 as a slope for the startyear is unreasonable. "
   ]
  },
  {
   "cell_type": "markdown",
   "id": "6b86a79a",
   "metadata": {},
   "source": [
    "## 6. Choosing a Best Model \n",
    "\n",
    "A data scientist is concerned that the model that we've just fit is a bit too complex for her preferences.  She'd like to remove a variable, either type or whether the project originates from the US.  In this problem, you will help her decide which variable to remove.\n",
    "\n",
    "First, fit two new models:\n",
    "\n",
    "- one with all of the variables from the Q3 model **except type**, and\n",
    "- one with all of the variables from the Q3 model **except US_country**.\n",
    "\n",
    "Then, you'll need to decide which of the two models that you prefer.  Specifically, you should examine the strength of these two models.  Based on the strength of these two models, which model would you prefer?"
   ]
  },
  {
   "cell_type": "code",
   "execution_count": 16,
   "id": "53ff8985",
   "metadata": {},
   "outputs": [
    {
     "data": {
      "text/plain": [
       "0.019798351397630864"
      ]
     },
     "execution_count": 16,
     "metadata": {},
     "output_type": "execute_result"
    }
   ],
   "source": [
    "results_2 = smf.ols('rating ~ startYear + runtime + US_country + English_language', data=netflix).fit()\n",
    "results_2.rsquared"
   ]
  },
  {
   "cell_type": "code",
   "execution_count": 17,
   "id": "6ba353c6",
   "metadata": {},
   "outputs": [
    {
     "data": {
      "text/plain": [
       "0.018281330788866734"
      ]
     },
     "execution_count": 17,
     "metadata": {},
     "output_type": "execute_result"
    }
   ],
   "source": [
    "results_3 = smf.ols('rating ~ startYear + runtime + English_language', data=netflix).fit()\n",
    "results_3.rsquared"
   ]
  },
  {
   "attachments": {},
   "cell_type": "markdown",
   "id": "a39d48cf",
   "metadata": {},
   "source": [
    "I prefer the first model, beacause it the result for the regression shows that the model which removed a variable 'type' has slightly higher R-squared value, implying the higher strength to explain the model."
   ]
  }
 ],
 "metadata": {
  "kernelspec": {
   "display_name": "Python 3 (ipykernel)",
   "language": "python",
   "name": "python3"
  },
  "language_info": {
   "codemirror_mode": {
    "name": "ipython",
    "version": 3
   },
   "file_extension": ".py",
   "mimetype": "text/x-python",
   "name": "python",
   "nbconvert_exporter": "python",
   "pygments_lexer": "ipython3",
   "version": "3.9.7"
  }
 },
 "nbformat": 4,
 "nbformat_minor": 5
}
