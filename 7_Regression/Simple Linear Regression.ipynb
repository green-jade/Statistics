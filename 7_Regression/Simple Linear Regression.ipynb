{
 "cells": [
  {
   "cell_type": "markdown",
   "id": "e746da0e",
   "metadata": {},
   "source": [
    "\n",
    "# Difference Parameters and Simple Linear Regression"
   ]
  },
  {
   "cell_type": "code",
   "execution_count": 1,
   "id": "f2de8a3f",
   "metadata": {},
   "outputs": [],
   "source": [
    "import pandas as pd\n",
    "import numpy as np\n",
    "import matplotlib.pyplot as plt\n",
    "import seaborn as sns; sns.set()\n",
    "from scipy.stats import norm\n",
    "from scipy.stats import binom\n",
    "from scipy.stats import t\n",
    "import statsmodels.api as sm\n",
    "import statsmodels.formula.api as smf"
   ]
  },
  {
   "cell_type": "markdown",
   "id": "ac088395",
   "metadata": {},
   "source": [
    "## <u>Case Study 1</u>: College Volleyball\n",
    "\n",
    "One of your classmates posed the following question at the beginning of the semester: Is there a home court advantage for volleyball?  In this case study, we will assess whether the data supports the idea of a home court advantage for the population of all home and all away volleyball matches.\n",
    "\n",
    "We will define our population of interest as all women's NCAA Division 1 volleyball matches played for the season from this academic year (2022).\n",
    "\n",
    "## 1. Home Court Advantage for Winning\n",
    "\n",
    "In our recent statistical terms, one way to formalize this question is as: is there an association between winning a match and whether the match is played at home for volleyball matches?\n",
    "\n",
    "We will let $p_1$ represent the proportion of all home volleyball matches that are won and $p_2$ represent the proportion of all away volleyball matches that are won.\n",
    "\n",
    "Recall our question of interest: Is there a home court advantage for volleyball?  In other words, is a team more likely to win if a match is played at home compared to if a match is played away?\n",
    "\n",
    "**a)** Define the hypotheses for this situation.  We will assume a significance level $\\alpha$ of $0.25$."
   ]
  },
  {
   "attachments": {},
   "cell_type": "markdown",
   "id": "30911347",
   "metadata": {},
   "source": [
    "$H_0 : p_1 - p_2 = 0$\n",
    "\n",
    "$H_1 : p_1 - p_2 > 0$"
   ]
  },
  {
   "cell_type": "markdown",
   "id": "a9573b85",
   "metadata": {},
   "source": [
    "**b)** The following table provides sample data for women's volleyball matches, where the sample is the results of the current season for the University of Illinois women's volleyball team.\n",
    "\n",
    "| Outcome | Home | Away |\n",
    "| ------- | ---- | ---- |\n",
    "| Wins    | 6    | 7    |\n",
    "| Losses  | 4    | 8    |\n",
    "\n",
    "Check the conditions that would need to be met for the standard hypothesis test procedure to be valid."
   ]
  },
  {
   "cell_type": "code",
   "execution_count": 2,
   "id": "c03030b2",
   "metadata": {},
   "outputs": [
    {
     "data": {
      "text/plain": [
       "0.52"
      ]
     },
     "execution_count": 2,
     "metadata": {},
     "output_type": "execute_result"
    }
   ],
   "source": [
    "# match played at home\n",
    "n_1 = 10\n",
    "p_1 = 6 / 10\n",
    "# match played away\n",
    "n_2 = 15\n",
    "p_2 = 7 / 15\n",
    "# proportion of volleyball games that are won\n",
    "sample_proportion = (6+7) / (10+15)\n",
    "sample_proportion"
   ]
  },
  {
   "cell_type": "code",
   "execution_count": 3,
   "id": "3617a7eb",
   "metadata": {},
   "outputs": [
    {
     "name": "stdout",
     "output_type": "stream",
     "text": [
      "False\n",
      "False\n",
      "False\n",
      "False\n"
     ]
    }
   ],
   "source": [
    "print(n_1 * sample_proportion >=10)\n",
    "print(n_1 * (1 - sample_proportion)>=10)\n",
    "print(n_2 * sample_proportion >=10)\n",
    "print(n_2 * (1 - sample_proportion)>=10)"
   ]
  },
  {
   "attachments": {},
   "cell_type": "markdown",
   "id": "77681db2",
   "metadata": {},
   "source": [
    "1. $n_1p_1\\approx n_1\\hat{p}=10(.52)< 10$ and $n_1(1-p_1)\\approx n_1(1-\\hat{p})=10(1-.52)< 10$\n",
    "2. $n_2p_2\\approx n_2\\hat{p}=15(.52)< 10$ and $n_2(1-p_2)\\approx n_2(1-\\hat{p})=15(1-.52)< 10$\n",
    "3. Sample of matches played home is randomly selected and $n_1=10<10$% of all home volleyball matches. \n",
    "4. Sample of matches played away is randomly selected and $n_2=15<10$% of all away volleyball matches. \n",
    "5. Sample of home matches is independent of sample of away matches."
   ]
  },
  {
   "cell_type": "markdown",
   "id": "f84ac8e7",
   "metadata": {},
   "source": [
    "**c)** Are the conditions in part b met, so that the results of a hypothesis test would be valid?"
   ]
  },
  {
   "attachments": {},
   "cell_type": "markdown",
   "id": "e9a5f48a",
   "metadata": {},
   "source": [
    "The samples are independent and randomly samples. (condition 3, 4, and 5)\n",
    "\n",
    "However, the conditions for central limit theorem is not met. (condition 1 and 2)"
   ]
  },
  {
   "cell_type": "markdown",
   "id": "c6db6a66",
   "metadata": {},
   "source": [
    "**d)** Regardless of your answer in part b & c, we will perform the hypothesis test according to our standardard (or traditional) procedure.\n",
    "\n",
    "Calculate the test statistic for this scenario.  Then, calculate the *p*-value."
   ]
  },
  {
   "cell_type": "code",
   "execution_count": 4,
   "id": "86480ac1",
   "metadata": {},
   "outputs": [
    {
     "name": "stdout",
     "output_type": "stream",
     "text": [
      "Point Estimate: 0.1333333333333333\n"
     ]
    }
   ],
   "source": [
    "point_estimate=p_1-p_2\n",
    "print('Point Estimate:', point_estimate)"
   ]
  },
  {
   "cell_type": "code",
   "execution_count": 7,
   "id": "52dae37a",
   "metadata": {},
   "outputs": [
    {
     "name": "stdout",
     "output_type": "stream",
     "text": [
      "Standard Error: 0.2039607805437114\n"
     ]
    }
   ],
   "source": [
    "standard_error = np.sqrt(sample_proportion*(1-sample_proportion)/n_1 + sample_proportion*(1-sample_proportion)/n_2)\n",
    "print('Standard Error:', standard_error)"
   ]
  },
  {
   "cell_type": "code",
   "execution_count": 8,
   "id": "5c575619",
   "metadata": {},
   "outputs": [
    {
     "name": "stdout",
     "output_type": "stream",
     "text": [
      "Test Statistic: 0.6537204504606133\n"
     ]
    }
   ],
   "source": [
    "test_statistic = (point_estimate - 0) / standard_error\n",
    "print('Test Statistic:', test_statistic)"
   ]
  },
  {
   "cell_type": "code",
   "execution_count": 9,
   "id": "a14fc53d",
   "metadata": {},
   "outputs": [
    {
     "name": "stdout",
     "output_type": "stream",
     "text": [
      "p value: 0.25664596265164485\n"
     ]
    }
   ],
   "source": [
    "p_value = 1 - norm.cdf(test_statistic)\n",
    "print('p value:', p_value)"
   ]
  },
  {
   "cell_type": "markdown",
   "id": "b7fa1f49",
   "metadata": {},
   "source": [
    "**e)** Based on your *p*-value, what decision is suggested by the sample data?"
   ]
  },
  {
   "cell_type": "code",
   "execution_count": 10,
   "id": "c73552a7",
   "metadata": {},
   "outputs": [
    {
     "data": {
      "text/plain": [
       "False"
      ]
     },
     "execution_count": 10,
     "metadata": {},
     "output_type": "execute_result"
    }
   ],
   "source": [
    "p_value < 0.25"
   ]
  },
  {
   "attachments": {},
   "cell_type": "markdown",
   "id": "785180de",
   "metadata": {},
   "source": [
    "Because p value is 0.2566 > $\\alpha = 0.25$, I reject null hypothesis. Thus I have sufficient evidence to suggest that $p_1 - p_2 > 0$ (or in other words team is more likely to win when played home.)"
   ]
  },
  {
   "cell_type": "markdown",
   "id": "d102aa01",
   "metadata": {},
   "source": [
    "## 2. An Alternate Hypothesis Test Procedure \n",
    "\n",
    "Consider the results from parts b and c in Question 1.  Did they introduce any concerns about the validity of your hypothesis test procedure?\n",
    "\n",
    "In case you did have concerns, we will consider an alternate approach that could be taken to hypothesis testing that loosens the distributional requirements.  We can use this regardless of any concerns surrounding the assumptions.\n",
    "\n",
    "**a)** Consider the null hypothesis.  If the null hypothesis were true, what would our estimate for the common population proportion be?"
   ]
  },
  {
   "cell_type": "code",
   "execution_count": 12,
   "id": "fdadfa59",
   "metadata": {},
   "outputs": [],
   "source": [
    "common_pop_p = 0.5"
   ]
  },
  {
   "cell_type": "markdown",
   "id": "5872fff5",
   "metadata": {},
   "source": [
    "**b)** Assuming that the null hypothesis is true, we are going to simulate the possible values for $\\hat{p}_1-\\hat{p}_2$.  \n",
    "\n",
    "To do this, use the appropriate distribution to simulate the number of wins that a team might have out of the number of home matches played.  Then, use the appropriate distribution to simulate the number of wins that a team might have out of the number of away matches.  Using this new data, estimate the difference in proportions for this simulated sample.\n",
    "\n",
    "You should then repeat this process many times, until we have repeated 800 values for the difference in sample proportions.  This is our estimated (or simulated) sampling distribution.\n",
    "\n",
    "*Hint*: You may want to check Case Study 1 of Lab 8 for a hint about simulating a new sample from a hypothesis for parameters."
   ]
  },
  {
   "cell_type": "code",
   "execution_count": 13,
   "id": "e7046521",
   "metadata": {},
   "outputs": [
    {
     "name": "stdout",
     "output_type": "stream",
     "text": [
      "0.5 0.5333333333333333\n"
     ]
    }
   ],
   "source": [
    "# the number of wins that a team might have out of the number of home matches played\n",
    "# binomial distribution with parameter n_1 and p_1\n",
    "home = binom.rvs(n_1, p_1, random_state = 10)\n",
    "p1 = home / n_1\n",
    "\n",
    "# the number of wins that a team might have out of the number of away matches played\n",
    "# binomial distribution with parameter n_2 and p_2\n",
    "away = binom.rvs(n_2, p_2, random_state = 10)\n",
    "p2 = away / n_2\n",
    "\n",
    "print(p1, p2)"
   ]
  },
  {
   "cell_type": "code",
   "execution_count": 14,
   "id": "4d97a326",
   "metadata": {},
   "outputs": [
    {
     "data": {
      "text/html": [
       "<div>\n",
       "<style scoped>\n",
       "    .dataframe tbody tr th:only-of-type {\n",
       "        vertical-align: middle;\n",
       "    }\n",
       "\n",
       "    .dataframe tbody tr th {\n",
       "        vertical-align: top;\n",
       "    }\n",
       "\n",
       "    .dataframe thead th {\n",
       "        text-align: right;\n",
       "    }\n",
       "</style>\n",
       "<table border=\"1\" class=\"dataframe\">\n",
       "  <thead>\n",
       "    <tr style=\"text-align: right;\">\n",
       "      <th></th>\n",
       "      <th>difference</th>\n",
       "    </tr>\n",
       "  </thead>\n",
       "  <tbody>\n",
       "    <tr>\n",
       "      <th>0</th>\n",
       "      <td>0.200000</td>\n",
       "    </tr>\n",
       "    <tr>\n",
       "      <th>1</th>\n",
       "      <td>0.300000</td>\n",
       "    </tr>\n",
       "    <tr>\n",
       "      <th>2</th>\n",
       "      <td>0.200000</td>\n",
       "    </tr>\n",
       "    <tr>\n",
       "      <th>3</th>\n",
       "      <td>0.333333</td>\n",
       "    </tr>\n",
       "    <tr>\n",
       "      <th>4</th>\n",
       "      <td>0.200000</td>\n",
       "    </tr>\n",
       "    <tr>\n",
       "      <th>...</th>\n",
       "      <td>...</td>\n",
       "    </tr>\n",
       "    <tr>\n",
       "      <th>795</th>\n",
       "      <td>0.100000</td>\n",
       "    </tr>\n",
       "    <tr>\n",
       "      <th>796</th>\n",
       "      <td>0.100000</td>\n",
       "    </tr>\n",
       "    <tr>\n",
       "      <th>797</th>\n",
       "      <td>0.433333</td>\n",
       "    </tr>\n",
       "    <tr>\n",
       "      <th>798</th>\n",
       "      <td>0.200000</td>\n",
       "    </tr>\n",
       "    <tr>\n",
       "      <th>799</th>\n",
       "      <td>-0.066667</td>\n",
       "    </tr>\n",
       "  </tbody>\n",
       "</table>\n",
       "<p>800 rows × 1 columns</p>\n",
       "</div>"
      ],
      "text/plain": [
       "     difference\n",
       "0      0.200000\n",
       "1      0.300000\n",
       "2      0.200000\n",
       "3      0.333333\n",
       "4      0.200000\n",
       "..          ...\n",
       "795    0.100000\n",
       "796    0.100000\n",
       "797    0.433333\n",
       "798    0.200000\n",
       "799   -0.066667\n",
       "\n",
       "[800 rows x 1 columns]"
      ]
     },
     "execution_count": 14,
     "metadata": {},
     "output_type": "execute_result"
    }
   ],
   "source": [
    "diff = []\n",
    "\n",
    "for i in range(800):\n",
    "    home = binom.rvs(n_1, p_1)\n",
    "    p1 = home / n_1\n",
    "    away = binom.rvs(n_2, p_2)\n",
    "    p2 = away / n_2\n",
    "    \n",
    "    difference = p1 - p2\n",
    "    \n",
    "    diff.append(difference)\n",
    "    \n",
    "\n",
    "df = pd.DataFrame({\"difference\": diff})\n",
    "df"
   ]
  },
  {
   "cell_type": "markdown",
   "id": "e1e5104a",
   "metadata": {},
   "source": [
    "**c)** Generate a histogram for the simulated sampling distribution.  Describe this histogram."
   ]
  },
  {
   "cell_type": "code",
   "execution_count": 15,
   "id": "87c67d38",
   "metadata": {},
   "outputs": [
    {
     "data": {
      "text/plain": [
       "Text(0.5, 1.0, 'Difference in sample proportions of home and away matches')"
      ]
     },
     "execution_count": 15,
     "metadata": {},
     "output_type": "execute_result"
    },
    {
     "data": {
      "image/png": "[encoded data removed]",
      "text/plain": [
       "<Figure size 432x288 with 1 Axes>"
      ]
     },
     "metadata": {
      "needs_background": "light"
     },
     "output_type": "display_data"
    }
   ],
   "source": [
    "df['difference'].hist()\n",
    "plt.title('Difference in sample proportions of home and away matches')"
   ]
  },
  {
   "attachments": {},
   "cell_type": "markdown",
   "id": "86e028a6",
   "metadata": {},
   "source": [
    "This histogram's shape is unimodal and look normaly distributed(symmetric). It's center seems to be on a value of 0.1. "
   ]
  },
  {
   "cell_type": "markdown",
   "id": "77a5ffd4",
   "metadata": {},
   "source": [
    "**d)** From the simulated sampling distribution, obtain a *p*-value.  That is, what proportion of simulated values from our simulated sampling distribution are as extreme or more extreme than what we observed from our real sample, assuming that the null hypothesis is true?"
   ]
  },
  {
   "cell_type": "code",
   "execution_count": 34,
   "id": "1674e232",
   "metadata": {},
   "outputs": [
    {
     "data": {
      "text/plain": [
       "0.0025"
      ]
     },
     "execution_count": 34,
     "metadata": {},
     "output_type": "execute_result"
    }
   ],
   "source": [
    "( df['difference'] > test_statistic  ).mean() + ( df['difference'] < -test_statistic ).mean()"
   ]
  },
  {
   "cell_type": "markdown",
   "id": "72fe1d72",
   "metadata": {},
   "source": [
    "**e)** Based on your hypothesis test results, what **conclusion** would you make about our hypotheses at a significance level of $0.25$?"
   ]
  },
  {
   "attachments": {},
   "cell_type": "markdown",
   "id": "6883cd4c",
   "metadata": {},
   "source": [
    "Because p value is 0.0025 < $\\alpha = 0.25$, I fail to reject null hypothesis. Thus I do not have sufficient evidence to suggest that $p_1 - p_2 > 0$ (or in other words I can't suggest that team is more likely to win when played home.)"
   ]
  },
  {
   "cell_type": "markdown",
   "id": "6ededd1e",
   "metadata": {},
   "source": [
    "**f)**  Compare your *p*-values from 1e (the traditional method) and from 2d (the simulation-based method).  How similar are they?"
   ]
  },
  {
   "attachments": {},
   "cell_type": "markdown",
   "id": "d4257be8",
   "metadata": {},
   "source": [
    "p values form two methods are quite different. p value from 1e is much larger than p value from 2d. "
   ]
  },
  {
   "cell_type": "markdown",
   "id": "d4e1f2d2",
   "metadata": {},
   "source": [
    "## 3. Volleyball Points Scored \n",
    "\n",
    "In Questions 1 and 2, you explored whether we have data to support a home court advantage for winning a match for NCAA D1 women's volleyball.  Can we think of the home court advantage as applying only to winning a match, or does it also affect game play on a play-by-play basis?  To answer this question, we will explore if or how home court advantage extends to the number of kills, which can be thought of as \"earned points\" by a volleyball team.\n",
    "\n",
    "Our population of interest will be all NCAA Division 1 women's volleyball sets for the 2022 season.  \n",
    "\n",
    "To answer this question, we will calculate a 99% confidence interval for the difference in population means, $\\mu_1 - \\mu_2$, where $\\mu_1$ is defined as the population mean kills for home volleyball sets, and $\\mu_2$ is defined as the population mean kills for away volleyball sets.\n",
    "\n",
    "**a)** Read in the data in the vball.csv file included with this assignment.  \n",
    "\n",
    "There are no missing values for our variables of interest.\n",
    "\n",
    "Each row contains information about a set of volleyball played by Illinois for the 2022 season.  We will use the variables \"Location\" and \"K\" for our analysis.  Location records whether the set was played at an Away, Home, or Neutral location.  K records the number of kills by Illinois for that set. "
   ]
  },
  {
   "cell_type": "code",
   "execution_count": 35,
   "id": "7ed315c8",
   "metadata": {},
   "outputs": [
    {
     "data": {
      "text/html": [
       "<div>\n",
       "<style scoped>\n",
       "    .dataframe tbody tr th:only-of-type {\n",
       "        vertical-align: middle;\n",
       "    }\n",
       "\n",
       "    .dataframe tbody tr th {\n",
       "        vertical-align: top;\n",
       "    }\n",
       "\n",
       "    .dataframe thead th {\n",
       "        text-align: right;\n",
       "    }\n",
       "</style>\n",
       "<table border=\"1\" class=\"dataframe\">\n",
       "  <thead>\n",
       "    <tr style=\"text-align: right;\">\n",
       "      <th></th>\n",
       "      <th>Opponent</th>\n",
       "      <th>Set</th>\n",
       "      <th>Location</th>\n",
       "      <th>Overall Result</th>\n",
       "      <th>Result</th>\n",
       "      <th>K</th>\n",
       "      <th>E</th>\n",
       "      <th>TA</th>\n",
       "      <th>Sideout_Won</th>\n",
       "      <th>Sideout_Attempt</th>\n",
       "      <th>Score</th>\n",
       "      <th>Opp_Score</th>\n",
       "      <th>Opp_K</th>\n",
       "      <th>Opp_E</th>\n",
       "      <th>Opp_TA</th>\n",
       "      <th>Opp_SO_Won</th>\n",
       "      <th>Opp_SO_Attempt</th>\n",
       "    </tr>\n",
       "  </thead>\n",
       "  <tbody>\n",
       "    <tr>\n",
       "      <th>0</th>\n",
       "      <td>Georgia Tech</td>\n",
       "      <td>1</td>\n",
       "      <td>Neutral</td>\n",
       "      <td>L</td>\n",
       "      <td>L</td>\n",
       "      <td>14</td>\n",
       "      <td>6</td>\n",
       "      <td>33</td>\n",
       "      <td>13.0</td>\n",
       "      <td>25.0</td>\n",
       "      <td>21</td>\n",
       "      <td>25</td>\n",
       "      <td>16</td>\n",
       "      <td>7</td>\n",
       "      <td>37</td>\n",
       "      <td>13.0</td>\n",
       "      <td>21.0</td>\n",
       "    </tr>\n",
       "    <tr>\n",
       "      <th>1</th>\n",
       "      <td>Georgia Tech</td>\n",
       "      <td>2</td>\n",
       "      <td>Neutral</td>\n",
       "      <td>NaN</td>\n",
       "      <td>L</td>\n",
       "      <td>13</td>\n",
       "      <td>5</td>\n",
       "      <td>26</td>\n",
       "      <td>13.0</td>\n",
       "      <td>24.0</td>\n",
       "      <td>15</td>\n",
       "      <td>25</td>\n",
       "      <td>13</td>\n",
       "      <td>0</td>\n",
       "      <td>22</td>\n",
       "      <td>14.0</td>\n",
       "      <td>16.0</td>\n",
       "    </tr>\n",
       "    <tr>\n",
       "      <th>2</th>\n",
       "      <td>Georgia Tech</td>\n",
       "      <td>3</td>\n",
       "      <td>Neutral</td>\n",
       "      <td>NaN</td>\n",
       "      <td>L</td>\n",
       "      <td>9</td>\n",
       "      <td>8</td>\n",
       "      <td>36</td>\n",
       "      <td>15.0</td>\n",
       "      <td>25.0</td>\n",
       "      <td>17</td>\n",
       "      <td>25</td>\n",
       "      <td>9</td>\n",
       "      <td>6</td>\n",
       "      <td>28</td>\n",
       "      <td>15.0</td>\n",
       "      <td>17.0</td>\n",
       "    </tr>\n",
       "    <tr>\n",
       "      <th>3</th>\n",
       "      <td>Ole Miss</td>\n",
       "      <td>1</td>\n",
       "      <td>Away</td>\n",
       "      <td>W</td>\n",
       "      <td>W</td>\n",
       "      <td>13</td>\n",
       "      <td>4</td>\n",
       "      <td>24</td>\n",
       "      <td>14.0</td>\n",
       "      <td>17.0</td>\n",
       "      <td>25</td>\n",
       "      <td>16</td>\n",
       "      <td>10</td>\n",
       "      <td>8</td>\n",
       "      <td>31</td>\n",
       "      <td>13.0</td>\n",
       "      <td>24.0</td>\n",
       "    </tr>\n",
       "    <tr>\n",
       "      <th>4</th>\n",
       "      <td>Ole Miss</td>\n",
       "      <td>2</td>\n",
       "      <td>Away</td>\n",
       "      <td>NaN</td>\n",
       "      <td>W</td>\n",
       "      <td>17</td>\n",
       "      <td>7</td>\n",
       "      <td>33</td>\n",
       "      <td>14.0</td>\n",
       "      <td>24.0</td>\n",
       "      <td>26</td>\n",
       "      <td>24</td>\n",
       "      <td>13</td>\n",
       "      <td>5</td>\n",
       "      <td>28</td>\n",
       "      <td>14.0</td>\n",
       "      <td>26.0</td>\n",
       "    </tr>\n",
       "    <tr>\n",
       "      <th>...</th>\n",
       "      <td>...</td>\n",
       "      <td>...</td>\n",
       "      <td>...</td>\n",
       "      <td>...</td>\n",
       "      <td>...</td>\n",
       "      <td>...</td>\n",
       "      <td>...</td>\n",
       "      <td>...</td>\n",
       "      <td>...</td>\n",
       "      <td>...</td>\n",
       "      <td>...</td>\n",
       "      <td>...</td>\n",
       "      <td>...</td>\n",
       "      <td>...</td>\n",
       "      <td>...</td>\n",
       "      <td>...</td>\n",
       "      <td>...</td>\n",
       "    </tr>\n",
       "    <tr>\n",
       "      <th>104</th>\n",
       "      <td>Indiana</td>\n",
       "      <td>3</td>\n",
       "      <td>Away</td>\n",
       "      <td>NaN</td>\n",
       "      <td>W</td>\n",
       "      <td>16</td>\n",
       "      <td>6</td>\n",
       "      <td>45</td>\n",
       "      <td>14.0</td>\n",
       "      <td>21.0</td>\n",
       "      <td>25</td>\n",
       "      <td>21</td>\n",
       "      <td>13</td>\n",
       "      <td>5</td>\n",
       "      <td>43</td>\n",
       "      <td>14.0</td>\n",
       "      <td>25.0</td>\n",
       "    </tr>\n",
       "    <tr>\n",
       "      <th>105</th>\n",
       "      <td>Indiana</td>\n",
       "      <td>4</td>\n",
       "      <td>Away</td>\n",
       "      <td>NaN</td>\n",
       "      <td>L</td>\n",
       "      <td>13</td>\n",
       "      <td>4</td>\n",
       "      <td>30</td>\n",
       "      <td>15.0</td>\n",
       "      <td>25.0</td>\n",
       "      <td>20</td>\n",
       "      <td>25</td>\n",
       "      <td>17</td>\n",
       "      <td>2</td>\n",
       "      <td>29</td>\n",
       "      <td>15.0</td>\n",
       "      <td>20.0</td>\n",
       "    </tr>\n",
       "    <tr>\n",
       "      <th>106</th>\n",
       "      <td>Northwestern</td>\n",
       "      <td>1</td>\n",
       "      <td>Away</td>\n",
       "      <td>L</td>\n",
       "      <td>L</td>\n",
       "      <td>11</td>\n",
       "      <td>3</td>\n",
       "      <td>30</td>\n",
       "      <td>15.0</td>\n",
       "      <td>25.0</td>\n",
       "      <td>24</td>\n",
       "      <td>26</td>\n",
       "      <td>17</td>\n",
       "      <td>5</td>\n",
       "      <td>32</td>\n",
       "      <td>16.0</td>\n",
       "      <td>25.0</td>\n",
       "    </tr>\n",
       "    <tr>\n",
       "      <th>107</th>\n",
       "      <td>Northwestern</td>\n",
       "      <td>2</td>\n",
       "      <td>Away</td>\n",
       "      <td>NaN</td>\n",
       "      <td>L</td>\n",
       "      <td>10</td>\n",
       "      <td>7</td>\n",
       "      <td>33</td>\n",
       "      <td>13.0</td>\n",
       "      <td>25.0</td>\n",
       "      <td>17</td>\n",
       "      <td>25</td>\n",
       "      <td>9</td>\n",
       "      <td>4</td>\n",
       "      <td>26</td>\n",
       "      <td>13.0</td>\n",
       "      <td>17.0</td>\n",
       "    </tr>\n",
       "    <tr>\n",
       "      <th>108</th>\n",
       "      <td>Northwestern</td>\n",
       "      <td>3</td>\n",
       "      <td>Away</td>\n",
       "      <td>NaN</td>\n",
       "      <td>L</td>\n",
       "      <td>12</td>\n",
       "      <td>9</td>\n",
       "      <td>40</td>\n",
       "      <td>13.0</td>\n",
       "      <td>24.0</td>\n",
       "      <td>18</td>\n",
       "      <td>25</td>\n",
       "      <td>11</td>\n",
       "      <td>4</td>\n",
       "      <td>30</td>\n",
       "      <td>14.0</td>\n",
       "      <td>19.0</td>\n",
       "    </tr>\n",
       "  </tbody>\n",
       "</table>\n",
       "<p>109 rows × 17 columns</p>\n",
       "</div>"
      ],
      "text/plain": [
       "         Opponent  Set Location Overall Result Result   K  E  TA  Sideout_Won  \\\n",
       "0    Georgia Tech    1  Neutral              L      L  14  6  33         13.0   \n",
       "1    Georgia Tech    2  Neutral            NaN      L  13  5  26         13.0   \n",
       "2    Georgia Tech    3  Neutral            NaN      L   9  8  36         15.0   \n",
       "3        Ole Miss    1     Away              W      W  13  4  24         14.0   \n",
       "4        Ole Miss    2     Away            NaN      W  17  7  33         14.0   \n",
       "..            ...  ...      ...            ...    ...  .. ..  ..          ...   \n",
       "104       Indiana    3     Away            NaN      W  16  6  45         14.0   \n",
       "105       Indiana    4     Away            NaN      L  13  4  30         15.0   \n",
       "106  Northwestern    1     Away              L      L  11  3  30         15.0   \n",
       "107  Northwestern    2     Away            NaN      L  10  7  33         13.0   \n",
       "108  Northwestern    3     Away            NaN      L  12  9  40         13.0   \n",
       "\n",
       "     Sideout_Attempt  Score  Opp_Score  Opp_K  Opp_E  Opp_TA  Opp_SO_Won  \\\n",
       "0               25.0     21         25     16      7      37        13.0   \n",
       "1               24.0     15         25     13      0      22        14.0   \n",
       "2               25.0     17         25      9      6      28        15.0   \n",
       "3               17.0     25         16     10      8      31        13.0   \n",
       "4               24.0     26         24     13      5      28        14.0   \n",
       "..               ...    ...        ...    ...    ...     ...         ...   \n",
       "104             21.0     25         21     13      5      43        14.0   \n",
       "105             25.0     20         25     17      2      29        15.0   \n",
       "106             25.0     24         26     17      5      32        16.0   \n",
       "107             25.0     17         25      9      4      26        13.0   \n",
       "108             24.0     18         25     11      4      30        14.0   \n",
       "\n",
       "     Opp_SO_Attempt  \n",
       "0              21.0  \n",
       "1              16.0  \n",
       "2              17.0  \n",
       "3              24.0  \n",
       "4              26.0  \n",
       "..              ...  \n",
       "104            25.0  \n",
       "105            20.0  \n",
       "106            25.0  \n",
       "107            17.0  \n",
       "108            19.0  \n",
       "\n",
       "[109 rows x 17 columns]"
      ]
     },
     "execution_count": 35,
     "metadata": {},
     "output_type": "execute_result"
    }
   ],
   "source": [
    "volleyball = pd.read_csv('vball.csv')\n",
    "volleyball"
   ]
  },
  {
   "cell_type": "markdown",
   "id": "1463b7dd",
   "metadata": {},
   "source": [
    "**b)** We will assume that all conditions for this confidence interval are met, and thus that the confidence interval we calculate will be valid.\n",
    "\n",
    "Calculate by hand the 99% confidence interval for $\\mu_1 - \\mu_2$."
   ]
  },
  {
   "cell_type": "code",
   "execution_count": 41,
   "id": "17aeaa41",
   "metadata": {},
   "outputs": [
    {
     "name": "stdout",
     "output_type": "stream",
     "text": [
      "Estimate:  0.19683834778174258\n"
     ]
    }
   ],
   "source": [
    "home_kill_mean = volleyball[volleyball['Location'] == 'Home']['K'].mean()\n",
    "away_kill_mean = volleyball[volleyball['Location'] == 'Away']['K'].mean()\n",
    "estimate = home_kill_mean - away_kill_mean\n",
    "print('Estimate: ', estimate)"
   ]
  },
  {
   "cell_type": "code",
   "execution_count": 42,
   "id": "b65d21fc",
   "metadata": {},
   "outputs": [
    {
     "name": "stdout",
     "output_type": "stream",
     "text": [
      "Standard Error:  0.6882406448195547\n"
     ]
    }
   ],
   "source": [
    "std_home = volleyball[volleyball['Location'] == 'Home']['K'].std()\n",
    "std_away = volleyball[volleyball['Location'] == 'Away']['K'].std()\n",
    "\n",
    "n_home = volleyball[volleyball['Location'] == 'Home']['K'].count()\n",
    "n_away = volleyball[volleyball['Location'] == 'Away']['K'].count()\n",
    "\n",
    "standard_error=np.sqrt((std_home**2)/n_home + (std_away**2)/n_away)\n",
    "\n",
    "print('Standard Error: ', standard_error)"
   ]
  },
  {
   "cell_type": "code",
   "execution_count": 40,
   "id": "74a18618",
   "metadata": {},
   "outputs": [
    {
     "data": {
      "text/plain": [
       "2.5758293035489004"
      ]
     },
     "execution_count": 40,
     "metadata": {},
     "output_type": "execute_result"
    }
   ],
   "source": [
    "# we know standard deviation of population - use normal distribution\n",
    "\n",
    "critical_value = norm.ppf(1-((1-.99)/2))\n",
    "critical_value"
   ]
  },
  {
   "cell_type": "code",
   "execution_count": 43,
   "id": "36d3df90",
   "metadata": {},
   "outputs": [
    {
     "name": "stdout",
     "output_type": "stream",
     "text": [
      "99% Confidence Interval: -1.5759520730378571 1.9696287686013423\n"
     ]
    }
   ],
   "source": [
    "upper_bound = estimate + critical_value * standard_error\n",
    "lower_bound = estimate - critical_value * standard_error\n",
    "\n",
    "print('99% Confidence Interval:', lower_bound,upper_bound)"
   ]
  },
  {
   "cell_type": "markdown",
   "id": "a38f1c0a",
   "metadata": {},
   "source": [
    "**c)** Interpret your confidence interval.  That is, put your confidence interval into words."
   ]
  },
  {
   "attachments": {},
   "cell_type": "markdown",
   "id": "383e6a6d",
   "metadata": {},
   "source": [
    "I am 99% confident that the difference in population means for home and away kills is contained in the interval (-1.5760, 1.9696). "
   ]
  },
  {
   "cell_type": "markdown",
   "id": "2e606086",
   "metadata": {},
   "source": [
    "<hr>\n",
    "\n",
    "## <u>Case Study 2</u>: Real Instagram Accounts\n",
    "\n",
    "In our next case study we would like to explore the relationship between the number of accounts that *real accounts* follow and the number of accounts that follow them. We will use the **fake_insta_cleaned.csv** dataframe for this analysis. This csv file is very similar to the fake_insta.csv file that we have been using in the past, except we have removed many of the outlier observations ahead of time.\n",
    "\n",
    "### Installation Note\n",
    "\n",
    "You may need to run the following command in your anaconda command prompt in order to use the **statsmodel** packages that were discussed in class.\n",
    "\n",
    "    conda install -c conda-forge statsmodels\n",
    "\n",
    "\n",
    "## 4. A First Look at Our Data \n",
    "\n",
    "**a)** First, read the fake_insta_cleaned.csv file into a dataframe. Then create a dataframe that is comprised of just the real accounts."
   ]
  },
  {
   "cell_type": "code",
   "execution_count": 46,
   "id": "a5632fdc",
   "metadata": {},
   "outputs": [],
   "source": [
    "insta = pd.read_csv('fake_insta_cleaned.csv')\n",
    "real_accounts = insta[insta['account_type'] == 'real']"
   ]
  },
  {
   "cell_type": "markdown",
   "id": "92a41d0d",
   "metadata": {},
   "source": [
    "**b)** Next, create a scatterplot that visualizes the relationship between the number of followers and number of follows of real accounts in this dataset. Have this plot display a best fit line for the points as well."
   ]
  },
  {
   "cell_type": "code",
   "execution_count": 48,
   "id": "fd413187",
   "metadata": {},
   "outputs": [
    {
     "data": {
      "image/png": "[encoded data removed]",
      "text/plain": [
       "<Figure size 432x288 with 1 Axes>"
      ]
     },
     "metadata": {
      "needs_background": "light"
     },
     "output_type": "display_data"
    }
   ],
   "source": [
    "sns.regplot(x='number_of_followers', y='number_of_follows', data=real_accounts, ci=False)\n",
    "plt.xlabel('number of followers')\n",
    "plt.ylabel('number of follows')\n",
    "plt.title('Relationship between number of followers and follows')\n",
    "plt.show()"
   ]
  },
  {
   "cell_type": "markdown",
   "id": "19088aa7",
   "metadata": {},
   "source": [
    "**c)** Calculate the covariance and the correlation of these two numerical variables."
   ]
  },
  {
   "cell_type": "code",
   "execution_count": 60,
   "id": "8efaf82f",
   "metadata": {},
   "outputs": [
    {
     "data": {
      "text/html": [
       "<div>\n",
       "<style scoped>\n",
       "    .dataframe tbody tr th:only-of-type {\n",
       "        vertical-align: middle;\n",
       "    }\n",
       "\n",
       "    .dataframe tbody tr th {\n",
       "        vertical-align: top;\n",
       "    }\n",
       "\n",
       "    .dataframe thead th {\n",
       "        text-align: right;\n",
       "    }\n",
       "</style>\n",
       "<table border=\"1\" class=\"dataframe\">\n",
       "  <thead>\n",
       "    <tr style=\"text-align: right;\">\n",
       "      <th></th>\n",
       "      <th>number_of_followers</th>\n",
       "      <th>number_of_follows</th>\n",
       "    </tr>\n",
       "  </thead>\n",
       "  <tbody>\n",
       "    <tr>\n",
       "      <th>number_of_followers</th>\n",
       "      <td>343550.510133</td>\n",
       "      <td>103036.028651</td>\n",
       "    </tr>\n",
       "    <tr>\n",
       "      <th>number_of_follows</th>\n",
       "      <td>103036.028651</td>\n",
       "      <td>233827.080363</td>\n",
       "    </tr>\n",
       "  </tbody>\n",
       "</table>\n",
       "</div>"
      ],
      "text/plain": [
       "                     number_of_followers  number_of_follows\n",
       "number_of_followers        343550.510133      103036.028651\n",
       "number_of_follows          103036.028651      233827.080363"
      ]
     },
     "execution_count": 60,
     "metadata": {},
     "output_type": "execute_result"
    }
   ],
   "source": [
    "real_accounts[['number_of_followers', 'number_of_follows']].cov()"
   ]
  },
  {
   "cell_type": "code",
   "execution_count": 62,
   "id": "a5cd2297",
   "metadata": {},
   "outputs": [
    {
     "data": {
      "text/plain": [
       "103036.0286512928"
      ]
     },
     "execution_count": 62,
     "metadata": {},
     "output_type": "execute_result"
    }
   ],
   "source": [
    "cov = real_accounts[['number_of_followers', 'number_of_follows']].cov().iloc[0,1]\n",
    "cov"
   ]
  },
  {
   "cell_type": "code",
   "execution_count": 57,
   "id": "12be2bc5",
   "metadata": {},
   "outputs": [
    {
     "data": {
      "text/html": [
       "<div>\n",
       "<style scoped>\n",
       "    .dataframe tbody tr th:only-of-type {\n",
       "        vertical-align: middle;\n",
       "    }\n",
       "\n",
       "    .dataframe tbody tr th {\n",
       "        vertical-align: top;\n",
       "    }\n",
       "\n",
       "    .dataframe thead th {\n",
       "        text-align: right;\n",
       "    }\n",
       "</style>\n",
       "<table border=\"1\" class=\"dataframe\">\n",
       "  <thead>\n",
       "    <tr style=\"text-align: right;\">\n",
       "      <th></th>\n",
       "      <th>number_of_followers</th>\n",
       "      <th>number_of_follows</th>\n",
       "    </tr>\n",
       "  </thead>\n",
       "  <tbody>\n",
       "    <tr>\n",
       "      <th>number_of_followers</th>\n",
       "      <td>1.000000</td>\n",
       "      <td>0.363535</td>\n",
       "    </tr>\n",
       "    <tr>\n",
       "      <th>number_of_follows</th>\n",
       "      <td>0.363535</td>\n",
       "      <td>1.000000</td>\n",
       "    </tr>\n",
       "  </tbody>\n",
       "</table>\n",
       "</div>"
      ],
      "text/plain": [
       "                     number_of_followers  number_of_follows\n",
       "number_of_followers             1.000000           0.363535\n",
       "number_of_follows               0.363535           1.000000"
      ]
     },
     "execution_count": 57,
     "metadata": {},
     "output_type": "execute_result"
    }
   ],
   "source": [
    "real_accounts[['number_of_followers', 'number_of_follows']].corr()"
   ]
  },
  {
   "cell_type": "code",
   "execution_count": 58,
   "id": "0512a38e",
   "metadata": {},
   "outputs": [
    {
     "data": {
      "text/plain": [
       "0.3635351499452435"
      ]
     },
     "execution_count": 58,
     "metadata": {},
     "output_type": "execute_result"
    }
   ],
   "source": [
    "corr = real_accounts[['number_of_followers', 'number_of_follows']].corr().iloc[0,1]\n",
    "corr"
   ]
  },
  {
   "cell_type": "markdown",
   "id": "725d266e",
   "metadata": {},
   "source": [
    "## 5. Simple Linear Regression - Model Fitting \n",
    "\n",
    "We would like to fit a simple linear regression model that predicts the number of accounts that a **real** Instagram account will be *followed by* (i.e. number of followers) given the number of accounts that they *follow* (i.e. number of follows).\n",
    "\n",
    "**a)**  First, fit this simple linear regression model and display the summary output tables."
   ]
  },
  {
   "cell_type": "code",
   "execution_count": 65,
   "id": "b0fa14bd",
   "metadata": {},
   "outputs": [
    {
     "data": {
      "text/html": [
       "<table class=\"simpletable\">\n",
       "<caption>OLS Regression Results</caption>\n",
       "<tr>\n",
       "  <th>Dep. Variable:</th>    <td>number_of_followers</td> <th>  R-squared:         </th> <td>   0.132</td>\n",
       "</tr>\n",
       "<tr>\n",
       "  <th>Model:</th>                    <td>OLS</td>         <th>  Adj. R-squared:    </th> <td>   0.115</td>\n",
       "</tr>\n",
       "<tr>\n",
       "  <th>Method:</th>              <td>Least Squares</td>    <th>  F-statistic:       </th> <td>   7.919</td>\n",
       "</tr>\n",
       "<tr>\n",
       "  <th>Date:</th>              <td>Fri, 31 Mar 2023</td>   <th>  Prob (F-statistic):</th>  <td>0.00689</td>\n",
       "</tr>\n",
       "<tr>\n",
       "  <th>Time:</th>                  <td>10:55:18</td>       <th>  Log-Likelihood:    </th> <td> -416.46</td>\n",
       "</tr>\n",
       "<tr>\n",
       "  <th>No. Observations:</th>       <td>    54</td>        <th>  AIC:               </th> <td>   836.9</td>\n",
       "</tr>\n",
       "<tr>\n",
       "  <th>Df Residuals:</th>           <td>    52</td>        <th>  BIC:               </th> <td>   840.9</td>\n",
       "</tr>\n",
       "<tr>\n",
       "  <th>Df Model:</th>               <td>     1</td>        <th>                     </th>     <td> </td>   \n",
       "</tr>\n",
       "<tr>\n",
       "  <th>Covariance Type:</th>       <td>nonrobust</td>      <th>                     </th>     <td> </td>   \n",
       "</tr>\n",
       "</table>\n",
       "<table class=\"simpletable\">\n",
       "<tr>\n",
       "          <td></td>             <th>coef</th>     <th>std err</th>      <th>t</th>      <th>P>|t|</th>  <th>[0.025</th>    <th>0.975]</th>  \n",
       "</tr>\n",
       "<tr>\n",
       "  <th>Intercept</th>         <td>  343.3059</td> <td>  106.893</td> <td>    3.212</td> <td> 0.002</td> <td>  128.809</td> <td>  557.803</td>\n",
       "</tr>\n",
       "<tr>\n",
       "  <th>number_of_follows</th> <td>    0.4407</td> <td>    0.157</td> <td>    2.814</td> <td> 0.007</td> <td>    0.126</td> <td>    0.755</td>\n",
       "</tr>\n",
       "</table>\n",
       "<table class=\"simpletable\">\n",
       "<tr>\n",
       "  <th>Omnibus:</th>       <td>50.398</td> <th>  Durbin-Watson:     </th> <td>   1.823</td>\n",
       "</tr>\n",
       "<tr>\n",
       "  <th>Prob(Omnibus):</th> <td> 0.000</td> <th>  Jarque-Bera (JB):  </th> <td> 191.558</td>\n",
       "</tr>\n",
       "<tr>\n",
       "  <th>Skew:</th>          <td> 2.687</td> <th>  Prob(JB):          </th> <td>2.53e-42</td>\n",
       "</tr>\n",
       "<tr>\n",
       "  <th>Kurtosis:</th>      <td>10.500</td> <th>  Cond. No.          </th> <td>    973.</td>\n",
       "</tr>\n",
       "</table><br/><br/>Notes:<br/>[1] Standard Errors assume that the covariance matrix of the errors is correctly specified."
      ],
      "text/plain": [
       "<class 'statsmodels.iolib.summary.Summary'>\n",
       "\"\"\"\n",
       "                             OLS Regression Results                            \n",
       "===============================================================================\n",
       "Dep. Variable:     number_of_followers   R-squared:                       0.132\n",
       "Model:                             OLS   Adj. R-squared:                  0.115\n",
       "Method:                  Least Squares   F-statistic:                     7.919\n",
       "Date:                 Fri, 31 Mar 2023   Prob (F-statistic):            0.00689\n",
       "Time:                         10:55:18   Log-Likelihood:                -416.46\n",
       "No. Observations:                   54   AIC:                             836.9\n",
       "Df Residuals:                       52   BIC:                             840.9\n",
       "Df Model:                            1                                         \n",
       "Covariance Type:             nonrobust                                         \n",
       "=====================================================================================\n",
       "                        coef    std err          t      P>|t|      [0.025      0.975]\n",
       "-------------------------------------------------------------------------------------\n",
       "Intercept           343.3059    106.893      3.212      0.002     128.809     557.803\n",
       "number_of_follows     0.4407      0.157      2.814      0.007       0.126       0.755\n",
       "==============================================================================\n",
       "Omnibus:                       50.398   Durbin-Watson:                   1.823\n",
       "Prob(Omnibus):                  0.000   Jarque-Bera (JB):              191.558\n",
       "Skew:                           2.687   Prob(JB):                     2.53e-42\n",
       "Kurtosis:                      10.500   Cond. No.                         973.\n",
       "==============================================================================\n",
       "\n",
       "Notes:\n",
       "[1] Standard Errors assume that the covariance matrix of the errors is correctly specified.\n",
       "\"\"\""
      ]
     },
     "execution_count": 65,
     "metadata": {},
     "output_type": "execute_result"
    }
   ],
   "source": [
    "results = smf.ols('number_of_followers ~ number_of_follows', data=real_accounts).fit()\n",
    "results.summary()"
   ]
  },
  {
   "cell_type": "markdown",
   "id": "1b8226ce",
   "metadata": {},
   "source": [
    "**b)** Next, write out your ordinary least squares simple linear regression equation. Make sure you use the appropriate notation discussed in class. Put your variables into words."
   ]
  },
  {
   "attachments": {},
   "cell_type": "markdown",
   "id": "473b6e48",
   "metadata": {},
   "source": [
    "(estimate  of  number  of  followers) = 0.4407 * (number of follows) + 343.3059 "
   ]
  },
  {
   "cell_type": "markdown",
   "id": "837d88bc",
   "metadata": {},
   "source": [
    "**c)**  Put your fitted slope into words.  That is, interpret your slope."
   ]
  },
  {
   "attachments": {},
   "cell_type": "markdown",
   "id": "91cd2203",
   "metadata": {},
   "source": [
    "As number of follows for a real instagram account increases by 1, an estimate number of followers would increase about 0.44. "
   ]
  },
  {
   "cell_type": "markdown",
   "id": "26107f9a",
   "metadata": {},
   "source": [
    "**d)** Kim Kardashian follows 153 people on Instagram. Predict how many followers she has."
   ]
  },
  {
   "cell_type": "code",
   "execution_count": 68,
   "id": "8107d80a",
   "metadata": {},
   "outputs": [
    {
     "name": "stdout",
     "output_type": "stream",
     "text": [
      "It is predicted that she has  410.733  followers.\n"
     ]
    }
   ],
   "source": [
    "predict = 0.4407 * 153 + 343.3059\n",
    "print('It is predicted that she has ', predict, ' followers.')"
   ]
  },
  {
   "cell_type": "markdown",
   "id": "ac0a6773",
   "metadata": {},
   "source": [
    "**e)** Kim Kardashian *actually* has about 258,000,000 followers. Calculate the residual of our prediction for Kim Kardashian."
   ]
  },
  {
   "cell_type": "code",
   "execution_count": 69,
   "id": "760f4f79",
   "metadata": {},
   "outputs": [
    {
     "name": "stdout",
     "output_type": "stream",
     "text": [
      "residual :  257999589.267\n"
     ]
    }
   ],
   "source": [
    "residual = 258000000 - predict \n",
    "print('residual : ', residual)"
   ]
  }
 ],
 "metadata": {
  "kernelspec": {
   "display_name": "Python 3",
   "language": "python",
   "name": "python3"
  },
  "language_info": {
   "codemirror_mode": {
    "name": "ipython",
    "version": 3
   },
   "file_extension": ".py",
   "mimetype": "text/x-python",
   "name": "python",
   "nbconvert_exporter": "python",
   "pygments_lexer": "ipython3",
   "version": "3.9.13"
  },
  "vscode": {
   "interpreter": {
    "hash": "bf5817c8b02cc5c6d9d556b5b283d9f8666d377278bd43aea9cee48641f43644"
   }
  }
 },
 "nbformat": 4,
 "nbformat_minor": 5
}
