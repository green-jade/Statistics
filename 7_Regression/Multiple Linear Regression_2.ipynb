{
 "cells": [
  {
   "cell_type": "markdown",
   "metadata": {},
   "source": [
    "#  Group Lab 10 \n",
    "\n",
    "## Multiple Linear Regression"
   ]
  },
  {
   "cell_type": "code",
   "execution_count": 1,
   "metadata": {},
   "outputs": [],
   "source": [
    "import pandas as pd \n",
    "import matplotlib.pyplot as plt\n",
    "import seaborn as sns; sns.set()\n",
    "import statsmodels.api as sm\n",
    "import statsmodels.formula.api as smf"
   ]
  },
  {
   "cell_type": "markdown",
   "metadata": {},
   "source": [
    "<hr>\n",
    "\n",
    "## <u>Case Study</u>: Seattle Airbnb\n",
    "\n",
    "We will analyze the seattle_airbnb_listings_cleaned.csv dataset located in this folder.  This dataset contains listings from the five most popular Seattle neighborhoods (for Airbnb listings) that are either houses or apartments.  The dataset contains the following variables:\n",
    "\n",
    "**Listing Information**\n",
    "The dataset contains the following information about the Airbnb *listing*:\n",
    "* <u>price</u>: price of the listing (per night) (in US dollars)\n",
    "* <u>review_scores_rating</u>: the average rating of the listing [0,100] (100 is the best)\n",
    "* <u>number_of_reviews</u>: the number of reviews for the listing\n",
    "* <u>security_deposit</u>: the security deposit required for the listing (in US dollars)\n",
    "* <u>cleaning_fee</u>: the cleaning fee required for the listing (in US dollars)\n",
    "* <u>neighborhood</u>: the neighborhood of Seattle the listing is located in\n",
    "* <u>property_type</u>: is the listing in a 'House' or 'Apartment'\n",
    "* <u>room_type</u>: is the listing a 'Entire home/apt', 'Private room', or 'Shared room'\n",
    "* <u>accommodates</u>: how many guests will the listing accommodate\n",
    "* <u>bathrooms</u>: how many bathrooms does the listing have\n",
    "* <u>beds</u>: how many beds does the listing have\n",
    "\n",
    "**Host Information**\n",
    "The dataset also contains the following information about the *host* of the given Airbnb listing:\n",
    "* <u>host_is_superhost</u>: is the host a \"superhost\": t=True, f=False\n",
    "* <u>host_has_profile_pic</u>: does the host have a profile pic in their bio: t=True, f=False\n",
    "* <u>host_response_time</u>: how fast will the host respond to requests (on average)\n",
    "* <u>host_acceptance_rate</u>: what percent of booking requests will the host accept\n",
    "\n",
    "Below, we read in the Airbnb data as df."
   ]
  },
  {
   "cell_type": "code",
   "execution_count": 2,
   "metadata": {},
   "outputs": [
    {
     "data": {
      "text/html": [
       "<div>\n",
       "<style scoped>\n",
       "    .dataframe tbody tr th:only-of-type {\n",
       "        vertical-align: middle;\n",
       "    }\n",
       "\n",
       "    .dataframe tbody tr th {\n",
       "        vertical-align: top;\n",
       "    }\n",
       "\n",
       "    .dataframe thead th {\n",
       "        text-align: right;\n",
       "    }\n",
       "</style>\n",
       "<table border=\"1\" class=\"dataframe\">\n",
       "  <thead>\n",
       "    <tr style=\"text-align: right;\">\n",
       "      <th></th>\n",
       "      <th>price</th>\n",
       "      <th>review_scores_rating</th>\n",
       "      <th>number_of_reviews</th>\n",
       "      <th>security_deposit</th>\n",
       "      <th>cleaning_fee</th>\n",
       "      <th>neighborhood</th>\n",
       "      <th>property_type</th>\n",
       "      <th>room_type</th>\n",
       "      <th>accommodates</th>\n",
       "      <th>bathrooms</th>\n",
       "      <th>beds</th>\n",
       "      <th>host_response_time</th>\n",
       "      <th>host_response_rate</th>\n",
       "      <th>host_acceptance_rate</th>\n",
       "      <th>host_is_superhost</th>\n",
       "      <th>host_has_profile_pic</th>\n",
       "      <th>host_identity_verified</th>\n",
       "    </tr>\n",
       "  </thead>\n",
       "  <tbody>\n",
       "    <tr>\n",
       "      <th>0</th>\n",
       "      <td>300</td>\n",
       "      <td>100</td>\n",
       "      <td>24</td>\n",
       "      <td>500</td>\n",
       "      <td>95</td>\n",
       "      <td>Wallingford</td>\n",
       "      <td>House</td>\n",
       "      <td>Entire home/apt</td>\n",
       "      <td>5</td>\n",
       "      <td>1.5</td>\n",
       "      <td>3</td>\n",
       "      <td>within a few hours</td>\n",
       "      <td>1.0</td>\n",
       "      <td>1</td>\n",
       "      <td>t</td>\n",
       "      <td>t</td>\n",
       "      <td>t</td>\n",
       "    </tr>\n",
       "    <tr>\n",
       "      <th>1</th>\n",
       "      <td>149</td>\n",
       "      <td>96</td>\n",
       "      <td>11</td>\n",
       "      <td>300</td>\n",
       "      <td>105</td>\n",
       "      <td>Wallingford</td>\n",
       "      <td>Apartment</td>\n",
       "      <td>Entire home/apt</td>\n",
       "      <td>6</td>\n",
       "      <td>1.0</td>\n",
       "      <td>3</td>\n",
       "      <td>within an hour</td>\n",
       "      <td>1.0</td>\n",
       "      <td>1</td>\n",
       "      <td>f</td>\n",
       "      <td>t</td>\n",
       "      <td>t</td>\n",
       "    </tr>\n",
       "    <tr>\n",
       "      <th>2</th>\n",
       "      <td>95</td>\n",
       "      <td>95</td>\n",
       "      <td>79</td>\n",
       "      <td>150</td>\n",
       "      <td>40</td>\n",
       "      <td>Wallingford</td>\n",
       "      <td>Apartment</td>\n",
       "      <td>Entire home/apt</td>\n",
       "      <td>3</td>\n",
       "      <td>1.0</td>\n",
       "      <td>2</td>\n",
       "      <td>within an hour</td>\n",
       "      <td>1.0</td>\n",
       "      <td>1</td>\n",
       "      <td>f</td>\n",
       "      <td>t</td>\n",
       "      <td>t</td>\n",
       "    </tr>\n",
       "    <tr>\n",
       "      <th>3</th>\n",
       "      <td>105</td>\n",
       "      <td>100</td>\n",
       "      <td>13</td>\n",
       "      <td>500</td>\n",
       "      <td>50</td>\n",
       "      <td>Wallingford</td>\n",
       "      <td>House</td>\n",
       "      <td>Private room</td>\n",
       "      <td>2</td>\n",
       "      <td>2.0</td>\n",
       "      <td>1</td>\n",
       "      <td>within a few hours</td>\n",
       "      <td>1.0</td>\n",
       "      <td>1</td>\n",
       "      <td>t</td>\n",
       "      <td>t</td>\n",
       "      <td>t</td>\n",
       "    </tr>\n",
       "    <tr>\n",
       "      <th>4</th>\n",
       "      <td>140</td>\n",
       "      <td>99</td>\n",
       "      <td>30</td>\n",
       "      <td>250</td>\n",
       "      <td>65</td>\n",
       "      <td>Wallingford</td>\n",
       "      <td>House</td>\n",
       "      <td>Entire home/apt</td>\n",
       "      <td>2</td>\n",
       "      <td>1.0</td>\n",
       "      <td>1</td>\n",
       "      <td>within an hour</td>\n",
       "      <td>1.0</td>\n",
       "      <td>1</td>\n",
       "      <td>t</td>\n",
       "      <td>t</td>\n",
       "      <td>t</td>\n",
       "    </tr>\n",
       "  </tbody>\n",
       "</table>\n",
       "</div>"
      ],
      "text/plain": [
       "   price  review_scores_rating  number_of_reviews  security_deposit  \\\n",
       "0    300                   100                 24               500   \n",
       "1    149                    96                 11               300   \n",
       "2     95                    95                 79               150   \n",
       "3    105                   100                 13               500   \n",
       "4    140                    99                 30               250   \n",
       "\n",
       "   cleaning_fee neighborhood property_type        room_type  accommodates  \\\n",
       "0            95  Wallingford         House  Entire home/apt             5   \n",
       "1           105  Wallingford     Apartment  Entire home/apt             6   \n",
       "2            40  Wallingford     Apartment  Entire home/apt             3   \n",
       "3            50  Wallingford         House     Private room             2   \n",
       "4            65  Wallingford         House  Entire home/apt             2   \n",
       "\n",
       "   bathrooms  beds  host_response_time  host_response_rate  \\\n",
       "0        1.5     3  within a few hours                 1.0   \n",
       "1        1.0     3      within an hour                 1.0   \n",
       "2        1.0     2      within an hour                 1.0   \n",
       "3        2.0     1  within a few hours                 1.0   \n",
       "4        1.0     1      within an hour                 1.0   \n",
       "\n",
       "   host_acceptance_rate host_is_superhost host_has_profile_pic  \\\n",
       "0                     1                 t                    t   \n",
       "1                     1                 f                    t   \n",
       "2                     1                 f                    t   \n",
       "3                     1                 t                    t   \n",
       "4                     1                 t                    t   \n",
       "\n",
       "  host_identity_verified  \n",
       "0                      t  \n",
       "1                      t  \n",
       "2                      t  \n",
       "3                      t  \n",
       "4                      t  "
      ]
     },
     "execution_count": 2,
     "metadata": {},
     "output_type": "execute_result"
    }
   ],
   "source": [
    "df = pd.read_csv('seattle_airbnb_listings_cleaned.csv')\n",
    "df.head()"
   ]
  },
  {
   "cell_type": "markdown",
   "metadata": {},
   "source": [
    "### 1.  Visualizations\n",
    "\n",
    "For this question, you will consider the neighborhood of the Airbnb listings.  Select one other variable in the dataset to analyze in relationship to the neighborhood of the Airbnb listing.  \n",
    "\n",
    "For this question, you will need to perform the following tasks.  These tasks are somewhat open-ended, so you should make the appropriate decisions about how to complete these tasks.\n",
    "\n",
    "**a)**  What other variable did you select?  What is its variable type?"
   ]
  },
  {
   "attachments": {},
   "cell_type": "markdown",
   "metadata": {},
   "source": [
    "'price'\n",
    "\n",
    "quantitative varaible"
   ]
  },
  {
   "cell_type": "markdown",
   "metadata": {},
   "source": [
    "**b)**  Generate a graph to visualize the two variables of interest.  Make sure that your graph is clear & has appropriate labels."
   ]
  },
  {
   "cell_type": "code",
   "execution_count": 3,
   "metadata": {},
   "outputs": [
    {
     "data": {
      "text/plain": [
       "array(['Wallingford', 'Minor', 'Belltown', 'Broadway', 'Fremont'],\n",
       "      dtype=object)"
      ]
     },
     "execution_count": 3,
     "metadata": {},
     "output_type": "execute_result"
    }
   ],
   "source": [
    "df['neighborhood'].unique()"
   ]
  },
  {
   "cell_type": "code",
   "execution_count": 5,
   "metadata": {},
   "outputs": [
    {
     "data": {
      "text/plain": [
       "Text(0.5, 1.0, 'Price of airbnbs by the neighborhoods in Seattle ')"
      ]
     },
     "execution_count": 5,
     "metadata": {},
     "output_type": "execute_result"
    },
    {
     "data": {
      "image/png": "[encoded data removed]",
      "text/plain": [
       "<Figure size 432x288 with 1 Axes>"
      ]
     },
     "metadata": {},
     "output_type": "display_data"
    }
   ],
   "source": [
    "sns.violinplot(x='neighborhood', y = 'price', data = df)\n",
    "plt.title(\"Price of airbnbs by the neighborhoods in Seattle \")"
   ]
  },
  {
   "cell_type": "markdown",
   "metadata": {},
   "source": [
    "**c)**  Calculate at least one summary statistic for your variable of interest overall.  Then, repeat this calculation for each of the neighborhoods separately in the dataset.  Perform this second set of calculations in one line of code.  *Hint: consider our Python function of the week for this question.*"
   ]
  },
  {
   "cell_type": "code",
   "execution_count": 7,
   "metadata": {},
   "outputs": [
    {
     "name": "stdout",
     "output_type": "stream",
     "text": [
      "The median price of the whole data is 115.0\n"
     ]
    }
   ],
   "source": [
    "print('The median price of the whole data is',df['price'].median())"
   ]
  },
  {
   "cell_type": "code",
   "execution_count": 13,
   "metadata": {},
   "outputs": [
    {
     "data": {
      "text/plain": [
       "neighborhood\n",
       "Belltown       139.0\n",
       "Broadway        98.5\n",
       "Fremont        125.0\n",
       "Minor          114.0\n",
       "Wallingford    104.5\n",
       "Name: price, dtype: float64"
      ]
     },
     "execution_count": 13,
     "metadata": {},
     "output_type": "execute_result"
    }
   ],
   "source": [
    "df['price'].groupby(df['neighborhood']).median()"
   ]
  },
  {
   "cell_type": "markdown",
   "metadata": {},
   "source": [
    "**d)**  Interpret your results.  In general, what conclusions can you draw from these descriptive summaries of the data?  What do you notice from the graph & the summary statistics?"
   ]
  },
  {
   "attachments": {},
   "cell_type": "markdown",
   "metadata": {},
   "source": [
    "The median price of all neighborhoods in the dataset is 115. When I plotted a violin plot to compare the median price and spread of price of neighborhoods, I could not see the big difference in a median value. But, I could see noticeable difference in the spread, Belltown neighborhood had a big spread in price. \n",
    "\n",
    "When I calculated median price for each neighborhoods, three neighborhoods (Broadway and Minor and Wallingford) had lower median price than the median of entire data (115) and the others had higher median price than 115. \n",
    "\n",
    "I can conclude the median price is fairly similar to each other but some neighborhoods (especially Belltown) have big difference of price of airbnbs within a neighborhood. "
   ]
  },
  {
   "attachments": {},
   "cell_type": "markdown",
   "metadata": {},
   "source": [
    "### 2.  Understanding the Price of a Listing \n",
    "\n",
    "How much does an airbnb listing cost in Seattle?  For this problem, we will use regression to understand airbnb prices.\n",
    "\n",
    "**a)** Fit a model to predict the price from the neighborhood, the property type, the average rating, the interaction of the neighborhood and the average rating, and **one other variable of your choosing**.  Print the summary of this model."
   ]
  },
  {
   "cell_type": "code",
   "execution_count": 15,
   "metadata": {},
   "outputs": [
    {
     "data": {
      "text/html": [
       "<div>\n",
       "<style scoped>\n",
       "    .dataframe tbody tr th:only-of-type {\n",
       "        vertical-align: middle;\n",
       "    }\n",
       "\n",
       "    .dataframe tbody tr th {\n",
       "        vertical-align: top;\n",
       "    }\n",
       "\n",
       "    .dataframe thead th {\n",
       "        text-align: right;\n",
       "    }\n",
       "</style>\n",
       "<table border=\"1\" class=\"dataframe\">\n",
       "  <thead>\n",
       "    <tr style=\"text-align: right;\">\n",
       "      <th></th>\n",
       "      <th>price</th>\n",
       "      <th>review_scores_rating</th>\n",
       "      <th>number_of_reviews</th>\n",
       "      <th>security_deposit</th>\n",
       "      <th>cleaning_fee</th>\n",
       "      <th>neighborhood</th>\n",
       "      <th>property_type</th>\n",
       "      <th>room_type</th>\n",
       "      <th>accommodates</th>\n",
       "      <th>bathrooms</th>\n",
       "      <th>beds</th>\n",
       "      <th>host_response_time</th>\n",
       "      <th>host_response_rate</th>\n",
       "      <th>host_acceptance_rate</th>\n",
       "      <th>host_is_superhost</th>\n",
       "      <th>host_has_profile_pic</th>\n",
       "      <th>host_identity_verified</th>\n",
       "    </tr>\n",
       "  </thead>\n",
       "  <tbody>\n",
       "    <tr>\n",
       "      <th>0</th>\n",
       "      <td>300</td>\n",
       "      <td>100</td>\n",
       "      <td>24</td>\n",
       "      <td>500</td>\n",
       "      <td>95</td>\n",
       "      <td>Wallingford</td>\n",
       "      <td>House</td>\n",
       "      <td>Entire home/apt</td>\n",
       "      <td>5</td>\n",
       "      <td>1.5</td>\n",
       "      <td>3</td>\n",
       "      <td>within a few hours</td>\n",
       "      <td>1.0</td>\n",
       "      <td>1</td>\n",
       "      <td>t</td>\n",
       "      <td>t</td>\n",
       "      <td>t</td>\n",
       "    </tr>\n",
       "    <tr>\n",
       "      <th>1</th>\n",
       "      <td>149</td>\n",
       "      <td>96</td>\n",
       "      <td>11</td>\n",
       "      <td>300</td>\n",
       "      <td>105</td>\n",
       "      <td>Wallingford</td>\n",
       "      <td>Apartment</td>\n",
       "      <td>Entire home/apt</td>\n",
       "      <td>6</td>\n",
       "      <td>1.0</td>\n",
       "      <td>3</td>\n",
       "      <td>within an hour</td>\n",
       "      <td>1.0</td>\n",
       "      <td>1</td>\n",
       "      <td>f</td>\n",
       "      <td>t</td>\n",
       "      <td>t</td>\n",
       "    </tr>\n",
       "    <tr>\n",
       "      <th>2</th>\n",
       "      <td>95</td>\n",
       "      <td>95</td>\n",
       "      <td>79</td>\n",
       "      <td>150</td>\n",
       "      <td>40</td>\n",
       "      <td>Wallingford</td>\n",
       "      <td>Apartment</td>\n",
       "      <td>Entire home/apt</td>\n",
       "      <td>3</td>\n",
       "      <td>1.0</td>\n",
       "      <td>2</td>\n",
       "      <td>within an hour</td>\n",
       "      <td>1.0</td>\n",
       "      <td>1</td>\n",
       "      <td>f</td>\n",
       "      <td>t</td>\n",
       "      <td>t</td>\n",
       "    </tr>\n",
       "    <tr>\n",
       "      <th>3</th>\n",
       "      <td>105</td>\n",
       "      <td>100</td>\n",
       "      <td>13</td>\n",
       "      <td>500</td>\n",
       "      <td>50</td>\n",
       "      <td>Wallingford</td>\n",
       "      <td>House</td>\n",
       "      <td>Private room</td>\n",
       "      <td>2</td>\n",
       "      <td>2.0</td>\n",
       "      <td>1</td>\n",
       "      <td>within a few hours</td>\n",
       "      <td>1.0</td>\n",
       "      <td>1</td>\n",
       "      <td>t</td>\n",
       "      <td>t</td>\n",
       "      <td>t</td>\n",
       "    </tr>\n",
       "    <tr>\n",
       "      <th>4</th>\n",
       "      <td>140</td>\n",
       "      <td>99</td>\n",
       "      <td>30</td>\n",
       "      <td>250</td>\n",
       "      <td>65</td>\n",
       "      <td>Wallingford</td>\n",
       "      <td>House</td>\n",
       "      <td>Entire home/apt</td>\n",
       "      <td>2</td>\n",
       "      <td>1.0</td>\n",
       "      <td>1</td>\n",
       "      <td>within an hour</td>\n",
       "      <td>1.0</td>\n",
       "      <td>1</td>\n",
       "      <td>t</td>\n",
       "      <td>t</td>\n",
       "      <td>t</td>\n",
       "    </tr>\n",
       "  </tbody>\n",
       "</table>\n",
       "</div>"
      ],
      "text/plain": [
       "   price  review_scores_rating  number_of_reviews  security_deposit  \\\n",
       "0    300                   100                 24               500   \n",
       "1    149                    96                 11               300   \n",
       "2     95                    95                 79               150   \n",
       "3    105                   100                 13               500   \n",
       "4    140                    99                 30               250   \n",
       "\n",
       "   cleaning_fee neighborhood property_type        room_type  accommodates  \\\n",
       "0            95  Wallingford         House  Entire home/apt             5   \n",
       "1           105  Wallingford     Apartment  Entire home/apt             6   \n",
       "2            40  Wallingford     Apartment  Entire home/apt             3   \n",
       "3            50  Wallingford         House     Private room             2   \n",
       "4            65  Wallingford         House  Entire home/apt             2   \n",
       "\n",
       "   bathrooms  beds  host_response_time  host_response_rate  \\\n",
       "0        1.5     3  within a few hours                 1.0   \n",
       "1        1.0     3      within an hour                 1.0   \n",
       "2        1.0     2      within an hour                 1.0   \n",
       "3        2.0     1  within a few hours                 1.0   \n",
       "4        1.0     1      within an hour                 1.0   \n",
       "\n",
       "   host_acceptance_rate host_is_superhost host_has_profile_pic  \\\n",
       "0                     1                 t                    t   \n",
       "1                     1                 f                    t   \n",
       "2                     1                 f                    t   \n",
       "3                     1                 t                    t   \n",
       "4                     1                 t                    t   \n",
       "\n",
       "  host_identity_verified  \n",
       "0                      t  \n",
       "1                      t  \n",
       "2                      t  \n",
       "3                      t  \n",
       "4                      t  "
      ]
     },
     "execution_count": 15,
     "metadata": {},
     "output_type": "execute_result"
    }
   ],
   "source": [
    "df.head()"
   ]
  },
  {
   "cell_type": "code",
   "execution_count": 25,
   "metadata": {},
   "outputs": [
    {
     "data": {
      "text/html": [
       "<table class=\"simpletable\">\n",
       "<caption>OLS Regression Results</caption>\n",
       "<tr>\n",
       "  <th>Dep. Variable:</th>          <td>price</td>      <th>  R-squared:         </th> <td>   0.455</td>\n",
       "</tr>\n",
       "<tr>\n",
       "  <th>Model:</th>                   <td>OLS</td>       <th>  Adj. R-squared:    </th> <td>   0.437</td>\n",
       "</tr>\n",
       "<tr>\n",
       "  <th>Method:</th>             <td>Least Squares</td>  <th>  F-statistic:       </th> <td>   24.83</td>\n",
       "</tr>\n",
       "<tr>\n",
       "  <th>Date:</th>             <td>Wed, 12 Apr 2023</td> <th>  Prob (F-statistic):</th> <td>4.33e-37</td>\n",
       "</tr>\n",
       "<tr>\n",
       "  <th>Time:</th>                 <td>16:18:22</td>     <th>  Log-Likelihood:    </th> <td> -1912.7</td>\n",
       "</tr>\n",
       "<tr>\n",
       "  <th>No. Observations:</th>      <td>   339</td>      <th>  AIC:               </th> <td>   3849.</td>\n",
       "</tr>\n",
       "<tr>\n",
       "  <th>Df Residuals:</th>          <td>   327</td>      <th>  BIC:               </th> <td>   3895.</td>\n",
       "</tr>\n",
       "<tr>\n",
       "  <th>Df Model:</th>              <td>    11</td>      <th>                     </th>     <td> </td>   \n",
       "</tr>\n",
       "<tr>\n",
       "  <th>Covariance Type:</th>      <td>nonrobust</td>    <th>                     </th>     <td> </td>   \n",
       "</tr>\n",
       "</table>\n",
       "<table class=\"simpletable\">\n",
       "<tr>\n",
       "                          <td></td>                            <th>coef</th>     <th>std err</th>      <th>t</th>      <th>P>|t|</th>  <th>[0.025</th>    <th>0.975]</th>  \n",
       "</tr>\n",
       "<tr>\n",
       "  <th>Intercept</th>                                        <td>  100.5346</td> <td>   84.595</td> <td>    1.188</td> <td> 0.236</td> <td>  -65.884</td> <td>  266.953</td>\n",
       "</tr>\n",
       "<tr>\n",
       "  <th>neighborhood[T.Broadway]</th>                         <td> -144.0892</td> <td>  116.203</td> <td>   -1.240</td> <td> 0.216</td> <td> -372.688</td> <td>   84.510</td>\n",
       "</tr>\n",
       "<tr>\n",
       "  <th>neighborhood[T.Fremont]</th>                          <td>  284.0027</td> <td>  253.609</td> <td>    1.120</td> <td> 0.264</td> <td> -214.908</td> <td>  782.914</td>\n",
       "</tr>\n",
       "<tr>\n",
       "  <th>neighborhood[T.Minor]</th>                            <td> -339.5445</td> <td>  188.443</td> <td>   -1.802</td> <td> 0.072</td> <td> -710.257</td> <td>   31.168</td>\n",
       "</tr>\n",
       "<tr>\n",
       "  <th>neighborhood[T.Wallingford]</th>                      <td> -255.2689</td> <td>  177.598</td> <td>   -1.437</td> <td> 0.152</td> <td> -604.647</td> <td>   94.109</td>\n",
       "</tr>\n",
       "<tr>\n",
       "  <th>property_type[T.House]</th>                           <td>   16.7802</td> <td>    9.115</td> <td>    1.841</td> <td> 0.067</td> <td>   -1.151</td> <td>   34.711</td>\n",
       "</tr>\n",
       "<tr>\n",
       "  <th>review_scores_rating</th>                             <td>   -0.3809</td> <td>    0.882</td> <td>   -0.432</td> <td> 0.666</td> <td>   -2.116</td> <td>    1.354</td>\n",
       "</tr>\n",
       "<tr>\n",
       "  <th>review_scores_rating:neighborhood[T.Broadway]</th>    <td>    1.1291</td> <td>    1.228</td> <td>    0.920</td> <td> 0.358</td> <td>   -1.286</td> <td>    3.544</td>\n",
       "</tr>\n",
       "<tr>\n",
       "  <th>review_scores_rating:neighborhood[T.Fremont]</th>     <td>   -3.3246</td> <td>    2.659</td> <td>   -1.250</td> <td> 0.212</td> <td>   -8.556</td> <td>    1.907</td>\n",
       "</tr>\n",
       "<tr>\n",
       "  <th>review_scores_rating:neighborhood[T.Minor]</th>       <td>    3.0536</td> <td>    1.950</td> <td>    1.566</td> <td> 0.118</td> <td>   -0.782</td> <td>    6.889</td>\n",
       "</tr>\n",
       "<tr>\n",
       "  <th>review_scores_rating:neighborhood[T.Wallingford]</th> <td>    2.1156</td> <td>    1.867</td> <td>    1.133</td> <td> 0.258</td> <td>   -1.558</td> <td>    5.789</td>\n",
       "</tr>\n",
       "<tr>\n",
       "  <th>accommodates</th>                                     <td>   28.0640</td> <td>    1.840</td> <td>   15.251</td> <td> 0.000</td> <td>   24.444</td> <td>   31.684</td>\n",
       "</tr>\n",
       "</table>\n",
       "<table class=\"simpletable\">\n",
       "<tr>\n",
       "  <th>Omnibus:</th>       <td>425.829</td> <th>  Durbin-Watson:     </th> <td>   2.042</td> \n",
       "</tr>\n",
       "<tr>\n",
       "  <th>Prob(Omnibus):</th> <td> 0.000</td>  <th>  Jarque-Bera (JB):  </th> <td>56758.032</td>\n",
       "</tr>\n",
       "<tr>\n",
       "  <th>Skew:</th>          <td> 5.568</td>  <th>  Prob(JB):          </th> <td>    0.00</td> \n",
       "</tr>\n",
       "<tr>\n",
       "  <th>Kurtosis:</th>      <td>65.404</td>  <th>  Cond. No.          </th> <td>7.44e+03</td> \n",
       "</tr>\n",
       "</table><br/><br/>Notes:<br/>[1] Standard Errors assume that the covariance matrix of the errors is correctly specified.<br/>[2] The condition number is large, 7.44e+03. This might indicate that there are<br/>strong multicollinearity or other numerical problems."
      ],
      "text/plain": [
       "<class 'statsmodels.iolib.summary.Summary'>\n",
       "\"\"\"\n",
       "                            OLS Regression Results                            \n",
       "==============================================================================\n",
       "Dep. Variable:                  price   R-squared:                       0.455\n",
       "Model:                            OLS   Adj. R-squared:                  0.437\n",
       "Method:                 Least Squares   F-statistic:                     24.83\n",
       "Date:                Wed, 12 Apr 2023   Prob (F-statistic):           4.33e-37\n",
       "Time:                        16:18:22   Log-Likelihood:                -1912.7\n",
       "No. Observations:                 339   AIC:                             3849.\n",
       "Df Residuals:                     327   BIC:                             3895.\n",
       "Df Model:                          11                                         \n",
       "Covariance Type:            nonrobust                                         \n",
       "====================================================================================================================\n",
       "                                                       coef    std err          t      P>|t|      [0.025      0.975]\n",
       "--------------------------------------------------------------------------------------------------------------------\n",
       "Intercept                                          100.5346     84.595      1.188      0.236     -65.884     266.953\n",
       "neighborhood[T.Broadway]                          -144.0892    116.203     -1.240      0.216    -372.688      84.510\n",
       "neighborhood[T.Fremont]                            284.0027    253.609      1.120      0.264    -214.908     782.914\n",
       "neighborhood[T.Minor]                             -339.5445    188.443     -1.802      0.072    -710.257      31.168\n",
       "neighborhood[T.Wallingford]                       -255.2689    177.598     -1.437      0.152    -604.647      94.109\n",
       "property_type[T.House]                              16.7802      9.115      1.841      0.067      -1.151      34.711\n",
       "review_scores_rating                                -0.3809      0.882     -0.432      0.666      -2.116       1.354\n",
       "review_scores_rating:neighborhood[T.Broadway]        1.1291      1.228      0.920      0.358      -1.286       3.544\n",
       "review_scores_rating:neighborhood[T.Fremont]        -3.3246      2.659     -1.250      0.212      -8.556       1.907\n",
       "review_scores_rating:neighborhood[T.Minor]           3.0536      1.950      1.566      0.118      -0.782       6.889\n",
       "review_scores_rating:neighborhood[T.Wallingford]     2.1156      1.867      1.133      0.258      -1.558       5.789\n",
       "accommodates                                        28.0640      1.840     15.251      0.000      24.444      31.684\n",
       "==============================================================================\n",
       "Omnibus:                      425.829   Durbin-Watson:                   2.042\n",
       "Prob(Omnibus):                  0.000   Jarque-Bera (JB):            56758.032\n",
       "Skew:                           5.568   Prob(JB):                         0.00\n",
       "Kurtosis:                      65.404   Cond. No.                     7.44e+03\n",
       "==============================================================================\n",
       "\n",
       "Notes:\n",
       "[1] Standard Errors assume that the covariance matrix of the errors is correctly specified.\n",
       "[2] The condition number is large, 7.44e+03. This might indicate that there are\n",
       "strong multicollinearity or other numerical problems.\n",
       "\"\"\""
      ]
     },
     "execution_count": 25,
     "metadata": {},
     "output_type": "execute_result"
    }
   ],
   "source": [
    "results = smf.ols('price ~ neighborhood + property_type + review_scores_rating + review_scores_rating * neighborhood + accommodates' , data = df).fit()\n",
    "results.summary()"
   ]
  },
  {
   "cell_type": "markdown",
   "metadata": {},
   "source": [
    "**b)** What is the baseline level for this model?"
   ]
  },
  {
   "attachments": {},
   "cell_type": "markdown",
   "metadata": {},
   "source": [
    "We are predicting a price of airbnb from this model and the baseline level of this model is a property in neighborhood 'Belltown', which type is an 'Apartment'."
   ]
  },
  {
   "cell_type": "markdown",
   "metadata": {},
   "source": [
    "**c)** What is the slope for the average rating for a listing in the Belltown neighborhood?  What about for the average rating for a listing in the Minor neighborhood?"
   ]
  },
  {
   "cell_type": "code",
   "execution_count": 26,
   "metadata": {},
   "outputs": [
    {
     "data": {
      "text/plain": [
       "-0.3809"
      ]
     },
     "execution_count": 26,
     "metadata": {},
     "output_type": "execute_result"
    }
   ],
   "source": [
    "# the slope for the avg rating for a listing in the Belltown neighborhood\n",
    "\n",
    "-0.3809"
   ]
  },
  {
   "cell_type": "code",
   "execution_count": 27,
   "metadata": {},
   "outputs": [
    {
     "data": {
      "text/plain": [
       "2.6727"
      ]
     },
     "execution_count": 27,
     "metadata": {},
     "output_type": "execute_result"
    }
   ],
   "source": [
    "# the avg rating for a listin in the Minor neighborhood\n",
    "\n",
    "-0.3809 + 3.0536"
   ]
  },
  {
   "cell_type": "markdown",
   "metadata": {},
   "source": [
    "### 3.  Significance of Regression Test\n",
    "\n",
    "Perform a significance of regression test for the model fit in Question 2.\n",
    "\n",
    "**a)**  What are the hypotheses for the significance of regression test for the model from Question 2?"
   ]
  },
  {
   "attachments": {},
   "cell_type": "markdown",
   "metadata": {},
   "source": [
    "H_0 (null hypothesis) : all of the slopes are equal to 0. \n",
    "\n",
    "H_A (alternative hypothesis) : at least one of the slopes is not equal to 0. \n",
    "\n",
    "(there are 11 slopes in my model.)"
   ]
  },
  {
   "cell_type": "markdown",
   "metadata": {},
   "source": [
    "**b)**  What is the test statistic and *p*-value for the significance of regression test?"
   ]
  },
  {
   "attachments": {},
   "cell_type": "markdown",
   "metadata": {},
   "source": [
    "The output summary table tells us that test statistic (F-statistic) is 24.83.\n",
    "\n",
    "I should use this test statistic and the F-distribution to calculate the p-value for this test.\n",
    "\n",
    "The two sets of degrees of freedom for this test are:\n",
    "\n",
    "df1 = p = number of slopes = 11\n",
    "\n",
    "df2 = n - p - 1 = 339 - 11 - 1 = 327"
   ]
  },
  {
   "cell_type": "code",
   "execution_count": 28,
   "metadata": {},
   "outputs": [
    {
     "name": "stdout",
     "output_type": "stream",
     "text": [
      "p-value:  0.007705087775677244\n"
     ]
    }
   ],
   "source": [
    "from scipy.stats import f\n",
    "pvalue = 1 - f.cdf(2.377, dfn = 11, dfd = 327)\n",
    "print('p-value: ', pvalue)"
   ]
  },
  {
   "cell_type": "markdown",
   "metadata": {},
   "source": [
    "**c)**  What decision would you make for this test at a significance level of 10%?"
   ]
  },
  {
   "attachments": {},
   "cell_type": "markdown",
   "metadata": {},
   "source": [
    "Because p-value is 0.0077, and alpha is 0.1, we reject the null hypothesis. \n",
    "\n",
    "Thus there is sufficient evidence to suggest that at least one of 11 population slopes in the model predicting price with the neighborhood, the property type, the average rating, the interaction of the neighborhood and the average rating, and the accommodates is non-zero. "
   ]
  },
  {
   "cell_type": "markdown",
   "metadata": {},
   "source": [
    "<hr>\n",
    "\n",
    "## <u>Project Preparation</u>:\n",
    "\n",
    "Lab 10 is our last group lab assignment.  After this week, you will begin focusing on our final course project in lab.\n",
    "\n",
    "As we begin to shift our attention to the final group project, there are two decisions for you to start thinking about:\n",
    "\n",
    "1. Group Formation: You may complete the final project **individually**, or you may work in **groups of up to 3 students** (you and two classmates).  I strongly encourage forming groups within labs.  If you plan to form groups with members enrolled in different labs, you will need permission from all of your lab TAs, along with an email to all lab TAs and to Julie about lab presentations in the last lab of the semester.  This needs to be done by 4/19.\n",
    "2. Data Selection:  I strongly encourage you to select your own dataset for this project.  Your dataset must include at least five informative variables, of which one must be categorical and one must be quantitative.  Examples of uninformative variables include row labels, names for each row, row indicators, and row totals.  Your data should also be a sample from a population, although you could perform the sampling yourself if you locate population data.  A few datasets will be provided for you later if you cannot find a dataset that you are interested in.\n",
    "\n",
    "I encourage you to start discussing these questions with others in your lab this week as you begin making plans for the end of the semester."
   ]
  }
 ],
 "metadata": {
  "kernelspec": {
   "display_name": "Python 3 (ipykernel)",
   "language": "python",
   "name": "python3"
  },
  "language_info": {
   "codemirror_mode": {
    "name": "ipython",
    "version": 3
   },
   "file_extension": ".py",
   "mimetype": "text/x-python",
   "name": "python",
   "nbconvert_exporter": "python",
   "pygments_lexer": "ipython3",
   "version": "3.9.7"
  }
 },
 "nbformat": 4,
 "nbformat_minor": 2
}
