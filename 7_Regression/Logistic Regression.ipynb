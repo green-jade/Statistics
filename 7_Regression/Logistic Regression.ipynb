{
 "cells": [
  {
   "cell_type": "markdown",
   "id": "e746da0e",
   "metadata": {},
   "source": [
    "# Multiple Linear Regression & Logistic Regression"
   ]
  },
  {
   "cell_type": "markdown",
   "id": "c4d94493",
   "metadata": {},
   "source": [
    "## Package Imports\n",
    "\n",
    "Code to import some packages has been included below.  Feel free to import any additional packages that you need here, or later in the assignment."
   ]
  },
  {
   "cell_type": "code",
   "execution_count": 5,
   "id": "f2de8a3f",
   "metadata": {},
   "outputs": [],
   "source": [
    "import pandas as pd\n",
    "import matplotlib.pyplot as plt\n",
    "import seaborn as sns; sns.set()\n",
    "from scipy.stats import norm\n",
    "from scipy.stats import t\n",
    "import statsmodels.api as sm\n",
    "import statsmodels.formula.api as smf"
   ]
  },
  {
   "cell_type": "markdown",
   "id": "c1903996",
   "metadata": {},
   "source": [
    "<hr>\n",
    "\n",
    "## <u>Case Study 1</u>: Netflix Program Ratings ~ Regression\n",
    "\n",
    "We would like to predict the ratings of titles that are listed on Netflix, based on various characteristics about those titles.  To do so, we will analyze the netflix_cleaned.csv dataset that is located in this folder, which contains a random sample of titles that are listed on Netflix.\n",
    "\n",
    "The netflix_cleaned dataset contains the following variables for each of the programs:\n",
    "\n",
    "- **title**: the title of the program\n",
    "- **popular_rank**: ranking as determined by IMDb when filtered by popularity\n",
    "- **startYear**: when the program was first broadcasted\n",
    "- **runtime**: the length of a typical episode or the length of the movie, measured in minutes\n",
    "- **type**: the type of program (e.g. tv show or movie)\n",
    "- **origin_country**: country of origin of the program\n",
    "- **language**: the language of the program\n",
    "- **rating**: average rating given to the show, out of 10\n",
    "- **US_country**, an indicator (dummy) variable for the program having a country of origin of the United States\n",
    "- **English_language**, an indicator (dummy) variable for the program's language being English.\n",
    "\n",
    "Of these variables, we will continue to explore the startYear, runtime, rating, and English_language in our analysis.  Specifically, we will focus on predicting the rating based on some or all of the other variables in our dataset.\n",
    "\n",
    "## 1. Fitting a Complex Model \n",
    "\n",
    "**a)** To start with, read in the cleaned Netflix data.  Note that since this data is already cleaned, we do not need to perform any additional pre-processing steps for the data."
   ]
  },
  {
   "cell_type": "code",
   "execution_count": 6,
   "id": "38ea29b8",
   "metadata": {},
   "outputs": [
    {
     "data": {
      "text/html": [
       "<div>\n",
       "<style scoped>\n",
       "    .dataframe tbody tr th:only-of-type {\n",
       "        vertical-align: middle;\n",
       "    }\n",
       "\n",
       "    .dataframe tbody tr th {\n",
       "        vertical-align: top;\n",
       "    }\n",
       "\n",
       "    .dataframe thead th {\n",
       "        text-align: right;\n",
       "    }\n",
       "</style>\n",
       "<table border=\"1\" class=\"dataframe\">\n",
       "  <thead>\n",
       "    <tr style=\"text-align: right;\">\n",
       "      <th></th>\n",
       "      <th>title</th>\n",
       "      <th>popular_rank</th>\n",
       "      <th>startYear</th>\n",
       "      <th>runtime</th>\n",
       "      <th>type</th>\n",
       "      <th>origin_country</th>\n",
       "      <th>language</th>\n",
       "      <th>rating</th>\n",
       "      <th>US_country</th>\n",
       "      <th>English_language</th>\n",
       "    </tr>\n",
       "  </thead>\n",
       "  <tbody>\n",
       "    <tr>\n",
       "      <th>0</th>\n",
       "      <td>Polly Pocket</td>\n",
       "      <td>3345</td>\n",
       "      <td>2018</td>\n",
       "      <td>22</td>\n",
       "      <td>tvSeries</td>\n",
       "      <td>Canada</td>\n",
       "      <td>English</td>\n",
       "      <td>6.7</td>\n",
       "      <td>False</td>\n",
       "      <td>True</td>\n",
       "    </tr>\n",
       "    <tr>\n",
       "      <th>1</th>\n",
       "      <td>O Matador</td>\n",
       "      <td>2824</td>\n",
       "      <td>2017</td>\n",
       "      <td>99</td>\n",
       "      <td>movie</td>\n",
       "      <td>Brazil</td>\n",
       "      <td>Portuguese</td>\n",
       "      <td>6.1</td>\n",
       "      <td>False</td>\n",
       "      <td>False</td>\n",
       "    </tr>\n",
       "    <tr>\n",
       "      <th>2</th>\n",
       "      <td>Livet i 8 bitar</td>\n",
       "      <td>5590</td>\n",
       "      <td>2002</td>\n",
       "      <td>85</td>\n",
       "      <td>movie</td>\n",
       "      <td>Sweden</td>\n",
       "      <td>Swedish</td>\n",
       "      <td>4.8</td>\n",
       "      <td>False</td>\n",
       "      <td>False</td>\n",
       "    </tr>\n",
       "    <tr>\n",
       "      <th>3</th>\n",
       "      <td>Day of the Dead: Bloodline</td>\n",
       "      <td>988</td>\n",
       "      <td>2017</td>\n",
       "      <td>90</td>\n",
       "      <td>movie</td>\n",
       "      <td>Bulgaria</td>\n",
       "      <td>English</td>\n",
       "      <td>3.4</td>\n",
       "      <td>False</td>\n",
       "      <td>True</td>\n",
       "    </tr>\n",
       "    <tr>\n",
       "      <th>4</th>\n",
       "      <td>Abzurdah</td>\n",
       "      <td>1849</td>\n",
       "      <td>2015</td>\n",
       "      <td>90</td>\n",
       "      <td>movie</td>\n",
       "      <td>Argentina</td>\n",
       "      <td>Spanish</td>\n",
       "      <td>5.4</td>\n",
       "      <td>False</td>\n",
       "      <td>False</td>\n",
       "    </tr>\n",
       "  </tbody>\n",
       "</table>\n",
       "</div>"
      ],
      "text/plain": [
       "                        title  popular_rank  startYear  runtime      type  \\\n",
       "0                Polly Pocket          3345       2018       22  tvSeries   \n",
       "1                   O Matador          2824       2017       99     movie   \n",
       "2             Livet i 8 bitar          5590       2002       85     movie   \n",
       "3  Day of the Dead: Bloodline           988       2017       90     movie   \n",
       "4                    Abzurdah          1849       2015       90     movie   \n",
       "\n",
       "  origin_country    language  rating  US_country  English_language  \n",
       "0         Canada     English     6.7       False              True  \n",
       "1         Brazil  Portuguese     6.1       False             False  \n",
       "2         Sweden     Swedish     4.8       False             False  \n",
       "3       Bulgaria     English     3.4       False              True  \n",
       "4      Argentina     Spanish     5.4       False             False  "
      ]
     },
     "execution_count": 6,
     "metadata": {},
     "output_type": "execute_result"
    }
   ],
   "source": [
    "netflix = pd.read_csv('netflix_cleaned.csv')\n",
    "netflix.head()"
   ]
  },
  {
   "cell_type": "markdown",
   "id": "4643157d",
   "metadata": {},
   "source": [
    "**b)** Fit a linear model to the Netflix dataset.  For this model, predict the rating of a Netflix program from its original broadcast year, runtime, whether the language is English, and an interaction term for the runtime and whether the language is English.  Print the Python output for this linear model, and write out the fitted model."
   ]
  },
  {
   "cell_type": "code",
   "execution_count": 7,
   "id": "3e817bce",
   "metadata": {},
   "outputs": [
    {
     "data": {
      "text/html": [
       "<table class=\"simpletable\">\n",
       "<caption>OLS Regression Results</caption>\n",
       "<tr>\n",
       "  <th>Dep. Variable:</th>         <td>rating</td>      <th>  R-squared:         </th> <td>   0.032</td>\n",
       "</tr>\n",
       "<tr>\n",
       "  <th>Model:</th>                   <td>OLS</td>       <th>  Adj. R-squared:    </th> <td>   0.023</td>\n",
       "</tr>\n",
       "<tr>\n",
       "  <th>Method:</th>             <td>Least Squares</td>  <th>  F-statistic:       </th> <td>   3.632</td>\n",
       "</tr>\n",
       "<tr>\n",
       "  <th>Date:</th>             <td>Fri, 21 Apr 2023</td> <th>  Prob (F-statistic):</th>  <td>0.00632</td>\n",
       "</tr>\n",
       "<tr>\n",
       "  <th>Time:</th>                 <td>11:42:14</td>     <th>  Log-Likelihood:    </th> <td> -715.59</td>\n",
       "</tr>\n",
       "<tr>\n",
       "  <th>No. Observations:</th>      <td>   450</td>      <th>  AIC:               </th> <td>   1441.</td>\n",
       "</tr>\n",
       "<tr>\n",
       "  <th>Df Residuals:</th>          <td>   445</td>      <th>  BIC:               </th> <td>   1462.</td>\n",
       "</tr>\n",
       "<tr>\n",
       "  <th>Df Model:</th>              <td>     4</td>      <th>                     </th>     <td> </td>   \n",
       "</tr>\n",
       "<tr>\n",
       "  <th>Covariance Type:</th>      <td>nonrobust</td>    <th>                     </th>     <td> </td>   \n",
       "</tr>\n",
       "</table>\n",
       "<table class=\"simpletable\">\n",
       "<tr>\n",
       "                  <td></td>                    <th>coef</th>     <th>std err</th>      <th>t</th>      <th>P>|t|</th>  <th>[0.025</th>    <th>0.975]</th>  \n",
       "</tr>\n",
       "<tr>\n",
       "  <th>Intercept</th>                        <td>   39.3930</td> <td>   18.619</td> <td>    2.116</td> <td> 0.035</td> <td>    2.801</td> <td>   75.985</td>\n",
       "</tr>\n",
       "<tr>\n",
       "  <th>English_language[T.True]</th>         <td>   -0.3295</td> <td>    0.241</td> <td>   -1.369</td> <td> 0.172</td> <td>   -0.803</td> <td>    0.144</td>\n",
       "</tr>\n",
       "<tr>\n",
       "  <th>startYear</th>                        <td>   -0.0161</td> <td>    0.009</td> <td>   -1.738</td> <td> 0.083</td> <td>   -0.034</td> <td>    0.002</td>\n",
       "</tr>\n",
       "<tr>\n",
       "  <th>runtime</th>                          <td>   -0.0070</td> <td>    0.002</td> <td>   -2.934</td> <td> 0.004</td> <td>   -0.012</td> <td>   -0.002</td>\n",
       "</tr>\n",
       "<tr>\n",
       "  <th>runtime:English_language[T.True]</th> <td>    0.0063</td> <td>    0.003</td> <td>    2.362</td> <td> 0.019</td> <td>    0.001</td> <td>    0.012</td>\n",
       "</tr>\n",
       "</table>\n",
       "<table class=\"simpletable\">\n",
       "<tr>\n",
       "  <th>Omnibus:</th>       <td>26.440</td> <th>  Durbin-Watson:     </th> <td>   2.003</td>\n",
       "</tr>\n",
       "<tr>\n",
       "  <th>Prob(Omnibus):</th> <td> 0.000</td> <th>  Jarque-Bera (JB):  </th> <td>  29.444</td>\n",
       "</tr>\n",
       "<tr>\n",
       "  <th>Skew:</th>          <td>-0.610</td> <th>  Prob(JB):          </th> <td>4.04e-07</td>\n",
       "</tr>\n",
       "<tr>\n",
       "  <th>Kurtosis:</th>      <td> 3.284</td> <th>  Cond. No.          </th> <td>6.68e+05</td>\n",
       "</tr>\n",
       "</table><br/><br/>Notes:<br/>[1] Standard Errors assume that the covariance matrix of the errors is correctly specified.<br/>[2] The condition number is large, 6.68e+05. This might indicate that there are<br/>strong multicollinearity or other numerical problems."
      ],
      "text/plain": [
       "<class 'statsmodels.iolib.summary.Summary'>\n",
       "\"\"\"\n",
       "                            OLS Regression Results                            \n",
       "==============================================================================\n",
       "Dep. Variable:                 rating   R-squared:                       0.032\n",
       "Model:                            OLS   Adj. R-squared:                  0.023\n",
       "Method:                 Least Squares   F-statistic:                     3.632\n",
       "Date:                Fri, 21 Apr 2023   Prob (F-statistic):            0.00632\n",
       "Time:                        11:42:14   Log-Likelihood:                -715.59\n",
       "No. Observations:                 450   AIC:                             1441.\n",
       "Df Residuals:                     445   BIC:                             1462.\n",
       "Df Model:                           4                                         \n",
       "Covariance Type:            nonrobust                                         \n",
       "====================================================================================================\n",
       "                                       coef    std err          t      P>|t|      [0.025      0.975]\n",
       "----------------------------------------------------------------------------------------------------\n",
       "Intercept                           39.3930     18.619      2.116      0.035       2.801      75.985\n",
       "English_language[T.True]            -0.3295      0.241     -1.369      0.172      -0.803       0.144\n",
       "startYear                           -0.0161      0.009     -1.738      0.083      -0.034       0.002\n",
       "runtime                             -0.0070      0.002     -2.934      0.004      -0.012      -0.002\n",
       "runtime:English_language[T.True]     0.0063      0.003      2.362      0.019       0.001       0.012\n",
       "==============================================================================\n",
       "Omnibus:                       26.440   Durbin-Watson:                   2.003\n",
       "Prob(Omnibus):                  0.000   Jarque-Bera (JB):               29.444\n",
       "Skew:                          -0.610   Prob(JB):                     4.04e-07\n",
       "Kurtosis:                       3.284   Cond. No.                     6.68e+05\n",
       "==============================================================================\n",
       "\n",
       "Notes:\n",
       "[1] Standard Errors assume that the covariance matrix of the errors is correctly specified.\n",
       "[2] The condition number is large, 6.68e+05. This might indicate that there are\n",
       "strong multicollinearity or other numerical problems.\n",
       "\"\"\""
      ]
     },
     "execution_count": 7,
     "metadata": {},
     "output_type": "execute_result"
    }
   ],
   "source": [
    "# rating ~ startYear + runtime + English_language + runtime * English_language\n",
    "\n",
    "results = smf.ols('rating ~ startYear + runtime + English_language + runtime * English_language',\n",
    "                  data = netflix).fit()\n",
    "results.summary()"
   ]
  },
  {
   "cell_type": "markdown",
   "id": "5cb30959",
   "metadata": {},
   "source": [
    "$\\hat{y} = 39.3930 - 0.3295 * English language(True) -0.0161 * startyear -0.007 * runtime +0.0063*runtime*English language(True)$\n",
    "\n",
    "For \"English language (True)\", we plug in 1 if the language is English and 0 if it is not."
   ]
  },
  {
   "cell_type": "markdown",
   "id": "99570ae7",
   "metadata": {},
   "source": [
    "**c)** A given Netflix program was originally in English with a runtime of 23 minutes originally broadcast in 2005.  What is the predicted ratings for this program?  If the residual for this observation is -0.56, what is the actual ratings for the program?"
   ]
  },
  {
   "cell_type": "code",
   "execution_count": 8,
   "id": "26c325ab",
   "metadata": {},
   "outputs": [
    {
     "name": "stdout",
     "output_type": "stream",
     "text": [
      "The actual ratings for the program is  7.326900000000002\n"
     ]
    }
   ],
   "source": [
    "# predicted ratings for a given Netflix program (originally in English with a runtime of 23 minutes originally broadcast in 2005)\n",
    "\n",
    "predicted_ratings = 39.3930 - 0.3295 * 1 - 0.0161 * 2005 - 0.007 * 23 + 0.0063 * 23 * 1\n",
    "residual = -0.56\n",
    "actual_ratings = predicted_ratings - residual\n",
    "\n",
    "print('The actual ratings for the program is ', actual_ratings)"
   ]
  },
  {
   "cell_type": "markdown",
   "id": "3a0de1c1",
   "metadata": {},
   "source": [
    "We will assume that the necessary modeling conditions are met for the remainder of this question.\n",
    "\n",
    "**d)** Generate a 90% confidence interval for a range of reasonable values that the interaction term could take for the population, based on the model fitted in part **b**."
   ]
  },
  {
   "cell_type": "code",
   "execution_count": 9,
   "id": "b616cbb4",
   "metadata": {},
   "outputs": [
    {
     "name": "stdout",
     "output_type": "stream",
     "text": [
      "0.0013551449691417538 0.011244855030858246\n"
     ]
    }
   ],
   "source": [
    "# estimated coefficient for the interaction term, based on the model fitted in part b = 0.0063\n",
    "\n",
    "n = 450\n",
    "p = 4\n",
    "df = n-p-1\n",
    "\n",
    "from scipy.stats import t\n",
    "\n",
    "critical_value = t.ppf(0.95, df)\n",
    "upper_bound = 0.0063 + critical_value * 0.003 \n",
    "lower_bound = 0.0063 - critical_value * 0.003 \n",
    "\n",
    "print(lower_bound, upper_bound)"
   ]
  },
  {
   "cell_type": "markdown",
   "id": "069d2397",
   "metadata": {},
   "source": [
    "A 90% confidence interval is (0.00136, 0.01124)."
   ]
  },
  {
   "cell_type": "markdown",
   "id": "8bb510a8",
   "metadata": {},
   "source": [
    "**e)** Perform the significance of regression F-test.  Be sure to include each of the following items:\n",
    "\n",
    "- the hypotheses being tested\n",
    "- the test statistic\n",
    "- the *p*-value for the test\n",
    "- a conclusion in the context of the problem"
   ]
  },
  {
   "cell_type": "markdown",
   "id": "c916198f",
   "metadata": {},
   "source": [
    "**1. Setting up hypotheses for this test.**"
   ]
  },
  {
   "cell_type": "markdown",
   "id": "7cb365db",
   "metadata": {},
   "source": [
    "$H_0: \\beta_1=\\beta_2=\\beta_3=\\beta_4=0$\n",
    "\n",
    "$H_A:$ at least one $\\beta_i\\neq 0$ (for $i=1,2,3,4$)"
   ]
  },
  {
   "cell_type": "markdown",
   "id": "2876c4a3",
   "metadata": {},
   "source": [
    "**2. Use the summary output table to find the test statistic for this test**."
   ]
  },
  {
   "cell_type": "markdown",
   "id": "ba3cd130",
   "metadata": {},
   "source": [
    "The output table tells us that $test\\_stat=3.632$."
   ]
  },
  {
   "cell_type": "markdown",
   "id": "06bbc39c",
   "metadata": {},
   "source": [
    "**3. Use this test statistic and the F-distribution to calculate the p-value for this test**"
   ]
  },
  {
   "cell_type": "markdown",
   "id": "74100e7a",
   "metadata": {},
   "source": [
    "The two sets of degrees of freedom for this test are:\n",
    "* $df1=p=4$ (i.e. p=number of slopes)\n",
    "* $df2=n-p-1=450-4-1=445$\n",
    "\n",
    "$p-value=P(F_{4,445}\\geq teststat) =P(F_{4,445}\\geq 3.632)=6.32\\times 10^{-3}$"
   ]
  },
  {
   "cell_type": "code",
   "execution_count": 10,
   "id": "17ec4071",
   "metadata": {},
   "outputs": [
    {
     "name": "stdout",
     "output_type": "stream",
     "text": [
      "p-value:  0.006318845995067268\n"
     ]
    }
   ],
   "source": [
    "from scipy.stats import f \n",
    "\n",
    "pvalue=1-f.cdf(3.632, dfn=4,dfd=445)\n",
    "print('p-value: ',pvalue)"
   ]
  },
  {
   "cell_type": "markdown",
   "id": "bfa8cbf1",
   "metadata": {},
   "source": [
    "**4. Make a conclusion with this p-value, using $\\alpha=0.01$**"
   ]
  },
  {
   "cell_type": "markdown",
   "id": "b9a45c2e",
   "metadata": {},
   "source": [
    "Because the $p-value=0.00632 < \\alpha=0.05$, we reject the null hypothesis. Thus I have sufficient evidence to suggest at least one of the four population slopes predicting weight from height, sex, and age group are non-zero."
   ]
  },
  {
   "cell_type": "markdown",
   "id": "80f3b891",
   "metadata": {},
   "source": [
    "## 2. Multiple Testing Procedure & Probabilities\n",
    "\n",
    "One of the benefits of the significance of regression test is that it allows us to test multiple of our coefficients simultaneously while controlling for the chance of an error.\n",
    "\n",
    "**a)** For example, consider the model from Question 1.  Suppose that we decided to test whether each of our slopes is equal to 0 (or not), which is equivalent to testing whether to include the slope in the model.  How many tests would need to be performed?"
   ]
  },
  {
   "cell_type": "markdown",
   "id": "02b3f44c",
   "metadata": {},
   "source": [
    "Since there are 4 slopes in our model, I have to perform 4 tests to test whether each of our slopes is equal to 0 or not. "
   ]
  },
  {
   "cell_type": "markdown",
   "id": "37534510",
   "metadata": {},
   "source": [
    "**b)** The probability of rejecting the null hypothesis when the null hypothesis is actually true (making a specific kind of error, called a Type I error) is the significance level, $\\alpha$.  Suppose that the $\\alpha$ we use is 0.05.  \n",
    "\n",
    "For a single test, what is the probability that we do **not** make this specific type of error described above (a Type I error)?"
   ]
  },
  {
   "cell_type": "code",
   "execution_count": 11,
   "id": "4a8925a6",
   "metadata": {},
   "outputs": [
    {
     "data": {
      "text/plain": [
       "0.95"
      ]
     },
     "execution_count": 11,
     "metadata": {},
     "output_type": "execute_result"
    }
   ],
   "source": [
    "1 - 0.05"
   ]
  },
  {
   "cell_type": "markdown",
   "id": "1f497ebe",
   "metadata": {},
   "source": [
    "**c)** Assuming that each of our tests is independent, what is the probability that we do **not** make a Type I error for any of our tests from part **a** that would need to be performed to test for each of our slopes?\n",
    "\n",
    "Then, what is the probability that we make **at least one** Type I error in these tests?"
   ]
  },
  {
   "cell_type": "code",
   "execution_count": 12,
   "id": "5b05f5b0",
   "metadata": {},
   "outputs": [
    {
     "name": "stdout",
     "output_type": "stream",
     "text": [
      "0.8145062499999999\n",
      "0.18549375000000012\n"
     ]
    }
   ],
   "source": [
    "# the probability that we do not make Type I error for any of our tests :\n",
    "\n",
    "p_1 = (1-0.05)**4\n",
    "\n",
    "# the probability that we make at least one Type I error in these tests :\n",
    "\n",
    "p_2 = 1 - p_1\n",
    "\n",
    "print(p_1)\n",
    "print(p_2)\n"
   ]
  },
  {
   "cell_type": "markdown",
   "id": "e9647fa7",
   "metadata": {},
   "source": [
    "**d)** For the significance of regression test, what is the probability that we do **not** make a Type I error, for a significance level $\\alpha$ of 0.05?"
   ]
  },
  {
   "cell_type": "code",
   "execution_count": 13,
   "id": "f34db004",
   "metadata": {},
   "outputs": [
    {
     "data": {
      "text/plain": [
       "0.8145062499999999"
      ]
     },
     "execution_count": 13,
     "metadata": {},
     "output_type": "execute_result"
    }
   ],
   "source": [
    "p_1"
   ]
  },
  {
   "cell_type": "markdown",
   "id": "ac088395",
   "metadata": {},
   "source": [
    "<hr>\n",
    "\n",
    "## <u>Case Study</u>: Instagram Profiles ~ Regression\n",
    "\n",
    "We will work with the Instagram dataset that includes real and fake Instagram accounts, along with descriptive characteristics about each of these accounts.  For this assignment, we will use a cleaned version of the data without any missing values: fake_insta_cleaned.csv.\n",
    "\n",
    "The dataset contains the following variables:\n",
    "\n",
    "- **has_a_profile_pic**, whether the account includes a profile picture\n",
    "- **number_of_words_in_name**, the number of words contained in the account name\n",
    "- **num_characters_in_bio**, the number of characters in the account bio\n",
    "- **number_of_posts**, the number of times the account has posted\n",
    "- **number_of_followers**, the number of other accounts that are following the account\n",
    "- **number_of_follows**, the number of other accounts that this account is following\n",
    "- **acount_type**, whether the account is real or fake.\n",
    "\n",
    "## 3. Fitting a First Model \n",
    "\n",
    "**a)** To start with, read in the cleaned Instagram data.  Note that since this data is already cleaned, we do not need to search for any missing data.\n",
    "\n",
    "Create a new variable `y` that records whether the account is real or fake by transforming the categorical variable into a numerical one.  Specifically, assign the real accounts to the value 1 and the fake accounts to the value 0."
   ]
  },
  {
   "cell_type": "code",
   "execution_count": 14,
   "id": "30911347",
   "metadata": {},
   "outputs": [],
   "source": [
    "instagram = pd.read_csv('fake_insta_cleaned.csv')"
   ]
  },
  {
   "cell_type": "code",
   "execution_count": 15,
   "id": "ea64b0f9",
   "metadata": {},
   "outputs": [
    {
     "data": {
      "text/html": [
       "<div>\n",
       "<style scoped>\n",
       "    .dataframe tbody tr th:only-of-type {\n",
       "        vertical-align: middle;\n",
       "    }\n",
       "\n",
       "    .dataframe tbody tr th {\n",
       "        vertical-align: top;\n",
       "    }\n",
       "\n",
       "    .dataframe thead th {\n",
       "        text-align: right;\n",
       "    }\n",
       "</style>\n",
       "<table border=\"1\" class=\"dataframe\">\n",
       "  <thead>\n",
       "    <tr style=\"text-align: right;\">\n",
       "      <th></th>\n",
       "      <th>has_a_profile_pic</th>\n",
       "      <th>number_of_words_in_name</th>\n",
       "      <th>num_characters_in_bio</th>\n",
       "      <th>number_of_posts</th>\n",
       "      <th>number_of_followers</th>\n",
       "      <th>number_of_follows</th>\n",
       "      <th>account_type</th>\n",
       "      <th>y</th>\n",
       "    </tr>\n",
       "  </thead>\n",
       "  <tbody>\n",
       "    <tr>\n",
       "      <th>0</th>\n",
       "      <td>yes</td>\n",
       "      <td>1</td>\n",
       "      <td>30</td>\n",
       "      <td>35</td>\n",
       "      <td>488</td>\n",
       "      <td>604</td>\n",
       "      <td>real</td>\n",
       "      <td>1</td>\n",
       "    </tr>\n",
       "    <tr>\n",
       "      <th>1</th>\n",
       "      <td>yes</td>\n",
       "      <td>5</td>\n",
       "      <td>64</td>\n",
       "      <td>3</td>\n",
       "      <td>35</td>\n",
       "      <td>6</td>\n",
       "      <td>real</td>\n",
       "      <td>1</td>\n",
       "    </tr>\n",
       "    <tr>\n",
       "      <th>2</th>\n",
       "      <td>yes</td>\n",
       "      <td>2</td>\n",
       "      <td>82</td>\n",
       "      <td>319</td>\n",
       "      <td>328</td>\n",
       "      <td>668</td>\n",
       "      <td>real</td>\n",
       "      <td>1</td>\n",
       "    </tr>\n",
       "    <tr>\n",
       "      <th>3</th>\n",
       "      <td>yes</td>\n",
       "      <td>1</td>\n",
       "      <td>76</td>\n",
       "      <td>6</td>\n",
       "      <td>225</td>\n",
       "      <td>356</td>\n",
       "      <td>real</td>\n",
       "      <td>1</td>\n",
       "    </tr>\n",
       "    <tr>\n",
       "      <th>4</th>\n",
       "      <td>yes</td>\n",
       "      <td>1</td>\n",
       "      <td>0</td>\n",
       "      <td>6</td>\n",
       "      <td>362</td>\n",
       "      <td>424</td>\n",
       "      <td>real</td>\n",
       "      <td>1</td>\n",
       "    </tr>\n",
       "    <tr>\n",
       "      <th>...</th>\n",
       "      <td>...</td>\n",
       "      <td>...</td>\n",
       "      <td>...</td>\n",
       "      <td>...</td>\n",
       "      <td>...</td>\n",
       "      <td>...</td>\n",
       "      <td>...</td>\n",
       "      <td>...</td>\n",
       "    </tr>\n",
       "    <tr>\n",
       "      <th>107</th>\n",
       "      <td>yes</td>\n",
       "      <td>1</td>\n",
       "      <td>0</td>\n",
       "      <td>13</td>\n",
       "      <td>114</td>\n",
       "      <td>811</td>\n",
       "      <td>fake</td>\n",
       "      <td>0</td>\n",
       "    </tr>\n",
       "    <tr>\n",
       "      <th>108</th>\n",
       "      <td>yes</td>\n",
       "      <td>1</td>\n",
       "      <td>0</td>\n",
       "      <td>4</td>\n",
       "      <td>150</td>\n",
       "      <td>164</td>\n",
       "      <td>fake</td>\n",
       "      <td>0</td>\n",
       "    </tr>\n",
       "    <tr>\n",
       "      <th>109</th>\n",
       "      <td>yes</td>\n",
       "      <td>2</td>\n",
       "      <td>0</td>\n",
       "      <td>3</td>\n",
       "      <td>833</td>\n",
       "      <td>3572</td>\n",
       "      <td>fake</td>\n",
       "      <td>0</td>\n",
       "    </tr>\n",
       "    <tr>\n",
       "      <th>110</th>\n",
       "      <td>no</td>\n",
       "      <td>1</td>\n",
       "      <td>0</td>\n",
       "      <td>1</td>\n",
       "      <td>219</td>\n",
       "      <td>1695</td>\n",
       "      <td>fake</td>\n",
       "      <td>0</td>\n",
       "    </tr>\n",
       "    <tr>\n",
       "      <th>111</th>\n",
       "      <td>yes</td>\n",
       "      <td>1</td>\n",
       "      <td>0</td>\n",
       "      <td>3</td>\n",
       "      <td>39</td>\n",
       "      <td>68</td>\n",
       "      <td>fake</td>\n",
       "      <td>0</td>\n",
       "    </tr>\n",
       "  </tbody>\n",
       "</table>\n",
       "<p>112 rows × 8 columns</p>\n",
       "</div>"
      ],
      "text/plain": [
       "    has_a_profile_pic  number_of_words_in_name  num_characters_in_bio  \\\n",
       "0                 yes                        1                     30   \n",
       "1                 yes                        5                     64   \n",
       "2                 yes                        2                     82   \n",
       "3                 yes                        1                     76   \n",
       "4                 yes                        1                      0   \n",
       "..                ...                      ...                    ...   \n",
       "107               yes                        1                      0   \n",
       "108               yes                        1                      0   \n",
       "109               yes                        2                      0   \n",
       "110                no                        1                      0   \n",
       "111               yes                        1                      0   \n",
       "\n",
       "     number_of_posts  number_of_followers  number_of_follows account_type  y  \n",
       "0                 35                  488                604         real  1  \n",
       "1                  3                   35                  6         real  1  \n",
       "2                319                  328                668         real  1  \n",
       "3                  6                  225                356         real  1  \n",
       "4                  6                  362                424         real  1  \n",
       "..               ...                  ...                ...          ... ..  \n",
       "107               13                  114                811         fake  0  \n",
       "108                4                  150                164         fake  0  \n",
       "109                3                  833               3572         fake  0  \n",
       "110                1                  219               1695         fake  0  \n",
       "111                3                   39                 68         fake  0  \n",
       "\n",
       "[112 rows x 8 columns]"
      ]
     },
     "execution_count": 15,
     "metadata": {},
     "output_type": "execute_result"
    }
   ],
   "source": [
    "instagram['y']=instagram['account_type'].map({'real':1,'fake':0})\n",
    "instagram"
   ]
  },
  {
   "cell_type": "markdown",
   "id": "2d4deaf3",
   "metadata": {},
   "source": [
    "**b)** First, fit a linear model predicting whether an account is real or fake (using your `y` variable) based on the number of characters in the bio.  Print the resulting coefficients."
   ]
  },
  {
   "cell_type": "code",
   "execution_count": 16,
   "id": "2cafa71b",
   "metadata": {},
   "outputs": [
    {
     "data": {
      "text/html": [
       "<table class=\"simpletable\">\n",
       "<caption>OLS Regression Results</caption>\n",
       "<tr>\n",
       "  <th>Dep. Variable:</th>            <td>y</td>        <th>  R-squared:         </th> <td>   0.285</td>\n",
       "</tr>\n",
       "<tr>\n",
       "  <th>Model:</th>                   <td>OLS</td>       <th>  Adj. R-squared:    </th> <td>   0.279</td>\n",
       "</tr>\n",
       "<tr>\n",
       "  <th>Method:</th>             <td>Least Squares</td>  <th>  F-statistic:       </th> <td>   43.95</td>\n",
       "</tr>\n",
       "<tr>\n",
       "  <th>Date:</th>             <td>Fri, 21 Apr 2023</td> <th>  Prob (F-statistic):</th> <td>1.30e-09</td>\n",
       "</tr>\n",
       "<tr>\n",
       "  <th>Time:</th>                 <td>11:42:14</td>     <th>  Log-Likelihood:    </th> <td> -62.393</td>\n",
       "</tr>\n",
       "<tr>\n",
       "  <th>No. Observations:</th>      <td>   112</td>      <th>  AIC:               </th> <td>   128.8</td>\n",
       "</tr>\n",
       "<tr>\n",
       "  <th>Df Residuals:</th>          <td>   110</td>      <th>  BIC:               </th> <td>   134.2</td>\n",
       "</tr>\n",
       "<tr>\n",
       "  <th>Df Model:</th>              <td>     1</td>      <th>                     </th>     <td> </td>   \n",
       "</tr>\n",
       "<tr>\n",
       "  <th>Covariance Type:</th>      <td>nonrobust</td>    <th>                     </th>     <td> </td>   \n",
       "</tr>\n",
       "</table>\n",
       "<table class=\"simpletable\">\n",
       "<tr>\n",
       "            <td></td>               <th>coef</th>     <th>std err</th>      <th>t</th>      <th>P>|t|</th>  <th>[0.025</th>    <th>0.975]</th>  \n",
       "</tr>\n",
       "<tr>\n",
       "  <th>Intercept</th>             <td>    0.3188</td> <td>    0.047</td> <td>    6.752</td> <td> 0.000</td> <td>    0.225</td> <td>    0.412</td>\n",
       "</tr>\n",
       "<tr>\n",
       "  <th>num_characters_in_bio</th> <td>    0.0073</td> <td>    0.001</td> <td>    6.629</td> <td> 0.000</td> <td>    0.005</td> <td>    0.009</td>\n",
       "</tr>\n",
       "</table>\n",
       "<table class=\"simpletable\">\n",
       "<tr>\n",
       "  <th>Omnibus:</th>       <td>20.899</td> <th>  Durbin-Watson:     </th> <td>   0.727</td>\n",
       "</tr>\n",
       "<tr>\n",
       "  <th>Prob(Omnibus):</th> <td> 0.000</td> <th>  Jarque-Bera (JB):  </th> <td>   7.315</td>\n",
       "</tr>\n",
       "<tr>\n",
       "  <th>Skew:</th>          <td> 0.357</td> <th>  Prob(JB):          </th> <td>  0.0258</td>\n",
       "</tr>\n",
       "<tr>\n",
       "  <th>Kurtosis:</th>      <td> 1.971</td> <th>  Cond. No.          </th> <td>    50.2</td>\n",
       "</tr>\n",
       "</table><br/><br/>Notes:<br/>[1] Standard Errors assume that the covariance matrix of the errors is correctly specified."
      ],
      "text/plain": [
       "<class 'statsmodels.iolib.summary.Summary'>\n",
       "\"\"\"\n",
       "                            OLS Regression Results                            \n",
       "==============================================================================\n",
       "Dep. Variable:                      y   R-squared:                       0.285\n",
       "Model:                            OLS   Adj. R-squared:                  0.279\n",
       "Method:                 Least Squares   F-statistic:                     43.95\n",
       "Date:                Fri, 21 Apr 2023   Prob (F-statistic):           1.30e-09\n",
       "Time:                        11:42:14   Log-Likelihood:                -62.393\n",
       "No. Observations:                 112   AIC:                             128.8\n",
       "Df Residuals:                     110   BIC:                             134.2\n",
       "Df Model:                           1                                         \n",
       "Covariance Type:            nonrobust                                         \n",
       "=========================================================================================\n",
       "                            coef    std err          t      P>|t|      [0.025      0.975]\n",
       "-----------------------------------------------------------------------------------------\n",
       "Intercept                 0.3188      0.047      6.752      0.000       0.225       0.412\n",
       "num_characters_in_bio     0.0073      0.001      6.629      0.000       0.005       0.009\n",
       "==============================================================================\n",
       "Omnibus:                       20.899   Durbin-Watson:                   0.727\n",
       "Prob(Omnibus):                  0.000   Jarque-Bera (JB):                7.315\n",
       "Skew:                           0.357   Prob(JB):                       0.0258\n",
       "Kurtosis:                       1.971   Cond. No.                         50.2\n",
       "==============================================================================\n",
       "\n",
       "Notes:\n",
       "[1] Standard Errors assume that the covariance matrix of the errors is correctly specified.\n",
       "\"\"\""
      ]
     },
     "execution_count": 16,
     "metadata": {},
     "output_type": "execute_result"
    }
   ],
   "source": [
    "mod = smf.ols('y~num_characters_in_bio', data=instagram).fit()\n",
    "mod.summary()"
   ]
  },
  {
   "cell_type": "markdown",
   "id": "d4d07630",
   "metadata": {},
   "source": [
    "$\\hat {y}$ = 0.3188 + 0.0073 * [num_characters_in_bio]\n",
    "\n",
    "(In this case, $\\hat{y}$ is a probability that an Instagram account is real.)"
   ]
  },
  {
   "cell_type": "markdown",
   "id": "ba3d7459",
   "metadata": {},
   "source": [
    "**c)** Predict the value of `y` for an Instagram account that has 100 characters in the bio.\n",
    "\n",
    "Is this predicted value reasonable?"
   ]
  },
  {
   "cell_type": "code",
   "execution_count": 17,
   "id": "251e838a",
   "metadata": {},
   "outputs": [
    {
     "data": {
      "text/plain": [
       "1.0488"
      ]
     },
     "execution_count": 17,
     "metadata": {},
     "output_type": "execute_result"
    }
   ],
   "source": [
    "0.3188 + 0.0073 * 100"
   ]
  },
  {
   "cell_type": "markdown",
   "id": "157ca2b4",
   "metadata": {},
   "source": [
    "The predicted value above is 1.0488, which is larger than 1. We are using y variable to decide whether the instagram account is real or fake, and the estimated $\\hat{y}$ is the probability which should be in a range of [0,1].\n",
    "\n",
    "Therefore this predicted value is not reasonable enough for our prediction. "
   ]
  },
  {
   "cell_type": "markdown",
   "id": "425934e6",
   "metadata": {},
   "source": [
    "## 4. Logistic Regression "
   ]
  },
  {
   "cell_type": "markdown",
   "id": "a9573b85",
   "metadata": {},
   "source": [
    "Now, we'll consider instead a simple logistic regression model to predict whether an Instagram account is real or fake based on the number of characters in the bio.\n",
    "\n",
    "**a)** Start by visualizing the relationship between these two variables with an appropriate graph.  Make sure to include appropriate plot labels & titles.\n",
    "\n",
    "Add in a logistic regression curve to this visualization."
   ]
  },
  {
   "cell_type": "code",
   "execution_count": 18,
   "id": "c03030b2",
   "metadata": {},
   "outputs": [
    {
     "data": {
      "image/png": "[encoded data removed]",
      "text/plain": [
       "<Figure size 360x360 with 1 Axes>"
      ]
     },
     "metadata": {},
     "output_type": "display_data"
    }
   ],
   "source": [
    "sns.lmplot(x=\"num_characters_in_bio\", y='y',data=instagram, logistic=True)\n",
    "plt.ylabel('1=real, 0=fake')\n",
    "plt.xlabel('Number of characters in bio')\n",
    "plt.title('Relationship between the number of characters in the bio and whether the account is real (or not)')\n",
    "plt.show()"
   ]
  },
  {
   "cell_type": "markdown",
   "id": "f84ac8e7",
   "metadata": {},
   "source": [
    "**b)** Next, fit the logistic regression model for this relationship.  Print the fitted model.  Write the fitted regression line.  "
   ]
  },
  {
   "cell_type": "code",
   "execution_count": 19,
   "id": "c514aa49",
   "metadata": {},
   "outputs": [
    {
     "name": "stdout",
     "output_type": "stream",
     "text": [
      "Optimization terminated successfully.\n",
      "         Current function value: 0.494033\n",
      "         Iterations 7\n"
     ]
    },
    {
     "data": {
      "text/html": [
       "<table class=\"simpletable\">\n",
       "<caption>Logit Regression Results</caption>\n",
       "<tr>\n",
       "  <th>Dep. Variable:</th>           <td>y</td>        <th>  No. Observations:  </th>  <td>   112</td>  \n",
       "</tr>\n",
       "<tr>\n",
       "  <th>Model:</th>                 <td>Logit</td>      <th>  Df Residuals:      </th>  <td>   110</td>  \n",
       "</tr>\n",
       "<tr>\n",
       "  <th>Method:</th>                 <td>MLE</td>       <th>  Df Model:          </th>  <td>     1</td>  \n",
       "</tr>\n",
       "<tr>\n",
       "  <th>Date:</th>            <td>Fri, 21 Apr 2023</td> <th>  Pseudo R-squ.:     </th>  <td>0.2866</td>  \n",
       "</tr>\n",
       "<tr>\n",
       "  <th>Time:</th>                <td>11:42:49</td>     <th>  Log-Likelihood:    </th> <td> -55.332</td> \n",
       "</tr>\n",
       "<tr>\n",
       "  <th>converged:</th>             <td>True</td>       <th>  LL-Null:           </th> <td> -77.561</td> \n",
       "</tr>\n",
       "<tr>\n",
       "  <th>Covariance Type:</th>     <td>nonrobust</td>    <th>  LLR p-value:       </th> <td>2.598e-11</td>\n",
       "</tr>\n",
       "</table>\n",
       "<table class=\"simpletable\">\n",
       "<tr>\n",
       "            <td></td>               <th>coef</th>     <th>std err</th>      <th>z</th>      <th>P>|z|</th>  <th>[0.025</th>    <th>0.975]</th>  \n",
       "</tr>\n",
       "<tr>\n",
       "  <th>Intercept</th>             <td>   -0.9843</td> <td>    0.259</td> <td>   -3.793</td> <td> 0.000</td> <td>   -1.493</td> <td>   -0.476</td>\n",
       "</tr>\n",
       "<tr>\n",
       "  <th>num_characters_in_bio</th> <td>    0.0628</td> <td>    0.015</td> <td>    4.152</td> <td> 0.000</td> <td>    0.033</td> <td>    0.092</td>\n",
       "</tr>\n",
       "</table>"
      ],
      "text/plain": [
       "<class 'statsmodels.iolib.summary.Summary'>\n",
       "\"\"\"\n",
       "                           Logit Regression Results                           \n",
       "==============================================================================\n",
       "Dep. Variable:                      y   No. Observations:                  112\n",
       "Model:                          Logit   Df Residuals:                      110\n",
       "Method:                           MLE   Df Model:                            1\n",
       "Date:                Fri, 21 Apr 2023   Pseudo R-squ.:                  0.2866\n",
       "Time:                        11:42:49   Log-Likelihood:                -55.332\n",
       "converged:                       True   LL-Null:                       -77.561\n",
       "Covariance Type:            nonrobust   LLR p-value:                 2.598e-11\n",
       "=========================================================================================\n",
       "                            coef    std err          z      P>|z|      [0.025      0.975]\n",
       "-----------------------------------------------------------------------------------------\n",
       "Intercept                -0.9843      0.259     -3.793      0.000      -1.493      -0.476\n",
       "num_characters_in_bio     0.0628      0.015      4.152      0.000       0.033       0.092\n",
       "=========================================================================================\n",
       "\"\"\""
      ]
     },
     "execution_count": 19,
     "metadata": {},
     "output_type": "execute_result"
    }
   ],
   "source": [
    "mod1 = smf.logit(formula='y ~ num_characters_in_bio', data=instagram).fit()\n",
    "mod1.summary()"
   ]
  },
  {
   "cell_type": "markdown",
   "id": "505498cc",
   "metadata": {},
   "source": [
    "$\\hat{y}$ = -0.9843 + 0.0628 * [num_characters_in_bio]\n",
    "\n",
    "In this case, $\\hat{y}$ is $log(\\frac{\\hat{p}}{1-\\hat{p}})$ as $\\hat{p}$ is estimated probability that the insta account is real. "
   ]
  },
  {
   "cell_type": "markdown",
   "id": "ddd5dbf2",
   "metadata": {},
   "source": [
    "**c)** Interpret the fitted coefficients.  You should give four interpretations:\n",
    "\n",
    "- for the intercept in terms of odds,\n",
    "- for the slope in terms of log odds, and\n",
    "- for the slope in terms of odds."
   ]
  },
  {
   "cell_type": "code",
   "execution_count": 20,
   "id": "e866a127",
   "metadata": {},
   "outputs": [
    {
     "name": "stdout",
     "output_type": "stream",
     "text": [
      "0.3737007259094792\n",
      "1.064813855162576\n"
     ]
    }
   ],
   "source": [
    "import numpy as np\n",
    "\n",
    "odds_intercept = np.exp(-0.9843)\n",
    "odds_slope = np.exp(0.0628)\n",
    "\n",
    "print(odds_intercept)\n",
    "print(odds_slope)"
   ]
  },
  {
   "cell_type": "markdown",
   "id": "77b21c53",
   "metadata": {},
   "source": [
    "**1. for the intercept in terms of log odds**\n",
    "\n",
    "I estimate the expected log odds of being a real instagram account is -0.9843 for an instagram account that has 0 character in its bio. \n",
    "\n",
    "**2. for the slope in tems of log odds**\n",
    "\n",
    "I estimate the expected log odds of being a real instagram accout is 0.0628 larger when the number of character in its bio gets larger by 1. \n",
    "\n",
    "**3. for the intercept in terms of odds**\n",
    "\n",
    "For an instagram account that has 0 character in its bio, the estimated expected odds of being a real instagram is $e^{-0.9843}$ =0.3737.\n",
    "\n",
    "**4. for the slope in terms of odds**\n",
    "\n",
    "We expect the estimated odds to increase by a factor of $e^{0.0628}$ = 1.0648 for each 1 character increase in the number of character in the bio of an instagram account. "
   ]
  },
  {
   "cell_type": "markdown",
   "id": "c6db6a66",
   "metadata": {},
   "source": [
    "**d)** Using the model from Part **4b**, predict the probability, odds, and log odds that an Instagram account will be real or fake for an account with 100 characters in the bio.  \n",
    "\n",
    "Be sure to specify which quantity you are predicting & the level you are predicting these values for: whether it's for an account being real or for an account being fake.  \n",
    "\n",
    "Which of these three predicted values should we compare to the predicted value from Part **3c**?  How does it compare?"
   ]
  },
  {
   "cell_type": "code",
   "execution_count": 21,
   "id": "86480ac1",
   "metadata": {},
   "outputs": [
    {
     "name": "stdout",
     "output_type": "stream",
     "text": [
      "5.295699999999999\n",
      "199.477211153863\n",
      "0.9950119018802964\n"
     ]
    }
   ],
   "source": [
    "#1. the log odds that an Instagram account will be real\n",
    "\n",
    "log_odds = -0.9843 + 0.0628 * 100\n",
    "print(log_odds)\n",
    "\n",
    "#2. the odds that an Instagram account will be real\n",
    "\n",
    "odds = np.exp(log_odds)\n",
    "print(odds)\n",
    "\n",
    "#3. the probability that an Instagram account will be real\n",
    "\n",
    "p = odds / (1 + odds)\n",
    "print(p)\n"
   ]
  },
  {
   "cell_type": "markdown",
   "id": "4c49c847",
   "metadata": {},
   "source": [
    "I should compare the predicted value from Part 3c to the third predicted value, which is the probability that an instagram account will be real. \n",
    "\n",
    "The estimated value of 0.995 seems to be more reasonable than the value from Part 3c, because it is within a range 0f [0,1] and has lower residual for the Instagram accounts that are real."
   ]
  },
  {
   "cell_type": "markdown",
   "id": "d102aa01",
   "metadata": {},
   "source": [
    "## 5. Inference for Logistic Regression\n",
    "\n",
    "We'll continue exploring the model fitted in **4b**, but for this part we will focus on inference.\n",
    "\n",
    "**a)** What is a 95% range of reasonable values for the population slope from this logistic regression model?"
   ]
  },
  {
   "cell_type": "markdown",
   "id": "fa13f662",
   "metadata": {},
   "source": [
    "(0.033, 0.092)\n",
    "\n",
    "(I used the summary output table to find this 95% confidence interval.)"
   ]
  },
  {
   "cell_type": "markdown",
   "id": "5872fff5",
   "metadata": {},
   "source": [
    "**b)** I want to find out if it is reasonable to predict whether an Instagram account is real or fake based on the number of characters in the bio.  What should my hypotheses be to perform this test?  What is my corresponding *p*-value?  The decision for this test at a 5% level?"
   ]
  },
  {
   "cell_type": "markdown",
   "id": "0df7e769",
   "metadata": {},
   "source": [
    "**1. Setting up hypothses for my test**\n",
    "\n",
    "$H_0: \\beta=0$\n",
    "\n",
    "$H_A:$ $\\beta\\neq 0$ \n",
    "\n",
    "($\\beta$ is population slope for a variable 'the number of characters in the bio')"
   ]
  },
  {
   "cell_type": "markdown",
   "id": "6e4f39fb",
   "metadata": {},
   "source": [
    "**2. Use the summary output table to find the test statistic and $p-value$ for this test**."
   ]
  },
  {
   "cell_type": "markdown",
   "id": "da8ea48e",
   "metadata": {},
   "source": [
    "The summary ouput table tells us that the test statistic is 4.152 and $p-value$ is 0.000."
   ]
  },
  {
   "cell_type": "code",
   "execution_count": 22,
   "id": "04c9b44d",
   "metadata": {},
   "outputs": [
    {
     "name": "stdout",
     "output_type": "stream",
     "text": [
      "3.29582261924255e-05\n"
     ]
    }
   ],
   "source": [
    "# if I calculate p-value by hand...\n",
    "\n",
    "p_value = 2 * (1-norm.cdf(4.152))\n",
    "print(p_value)"
   ]
  },
  {
   "cell_type": "markdown",
   "id": "fb48eb89",
   "metadata": {},
   "source": [
    "**3. The decision for this test at a 5% level**\n",
    "\n",
    "Our $p-value$ < $\\alpha = 0.05$. \n",
    "\n",
    "Therefore, I reject the null hypothesis. (In context, at a 95% confidence level, I have sufficient evidence to suggest that it is reasonable to predict whether an Instagram account is real or fake based on the number of characters in the bio.)"
   ]
  },
  {
   "cell_type": "markdown",
   "id": "e1e5104a",
   "metadata": {},
   "source": [
    "**c)** Based on my confidence interval from Part **5a**, is my null hypothesis from **5b** reasonable?  Based on the confidence interval, what decision would I expect from the hypothesis test?  Does this match with what you decided in **5b**?"
   ]
  },
  {
   "cell_type": "markdown",
   "id": "86e028a6",
   "metadata": {},
   "source": [
    "No, the null value (0) is not in the confidence interval from Part **5a**  and my null hypothesis would be unreasonable. Therefore, I reject the null hypothesis. (In context, the conclusion is same as the conclusion of Part **5b**.) This matches with what I decided in **5b** . "
   ]
  },
  {
   "cell_type": "markdown",
   "id": "77a5ffd4",
   "metadata": {},
   "source": [
    "**d)** Instead of a confidence interval for the population slope, I want to find the 95% range of reasonable values for the odds multiplier.  Find the corresponding confidence interval."
   ]
  },
  {
   "cell_type": "code",
   "execution_count": 23,
   "id": "30fac998",
   "metadata": {},
   "outputs": [
    {
     "name": "stdout",
     "output_type": "stream",
     "text": [
      "1.0335505392413056 1.0963648220808169\n"
     ]
    }
   ],
   "source": [
    "l_b = np.exp(0.033)\n",
    "u_b = np.exp(0.092)\n",
    "\n",
    "print(l_b, u_b)"
   ]
  },
  {
   "cell_type": "markdown",
   "id": "1bdcdd51",
   "metadata": {},
   "source": [
    "(1.036, 1.096)"
   ]
  }
 ],
 "metadata": {
  "kernelspec": {
   "display_name": "Python 3 (ipykernel)",
   "language": "python",
   "name": "python3"
  },
  "language_info": {
   "codemirror_mode": {
    "name": "ipython",
    "version": 3
   },
   "file_extension": ".py",
   "mimetype": "text/x-python",
   "name": "python",
   "nbconvert_exporter": "python",
   "pygments_lexer": "ipython3",
   "version": "3.9.7"
  }
 },
 "nbformat": 4,
 "nbformat_minor": 5
}
