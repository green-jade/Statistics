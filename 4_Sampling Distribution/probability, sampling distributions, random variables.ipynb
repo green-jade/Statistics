{
 "cells": [
  {
   "cell_type": "markdown",
   "id": "e746da0e",
   "metadata": {},
   "source": [
    "# Probability, Sampling Distributions, and Random Variables"
   ]
  },
  {
   "cell_type": "markdown",
   "id": "c4d94493",
   "metadata": {},
   "source": [
    "## Package Imports\n",
    "\n",
    "We'll import three Python packages that we've used so far and will need for this assignment.  Those packages are pandas, matplotlib.pyplot, and seaborn.  \n",
    "\n",
    "Run the cell provided below to access the functions in these packages.\n",
    "\n",
    "You may also need to read in additional packages below."
   ]
  },
  {
   "cell_type": "code",
   "execution_count": 1,
   "id": "25c92b96",
   "metadata": {},
   "outputs": [],
   "source": [
    "import pandas as pd\n",
    "import seaborn as sns\n",
    "import matplotlib.pyplot as plt"
   ]
  },
  {
   "cell_type": "markdown",
   "id": "ac088395",
   "metadata": {},
   "source": [
    "<hr>\n",
    "\n",
    "## 1. Champaign County \n",
    "\n",
    "**a)** First, read in the county.csv file."
   ]
  },
  {
   "cell_type": "code",
   "execution_count": 2,
   "id": "02bbc6be",
   "metadata": {},
   "outputs": [],
   "source": [
    "county = pd.read_csv('county.csv')"
   ]
  },
  {
   "cell_type": "markdown",
   "id": "5872fff5",
   "metadata": {},
   "source": [
    "Sample 1: We will start by focusing on our county (Champaign County in Illinois).  Because our county is home to UIUC, in which a lot of students and young adults live in apartments, we believe that our county will have a high percent of housing units in multi-unit structures.\n",
    "\n",
    "**b)** Display just the row for Champaign County, Illinois.\n",
    "\n",
    "Tip: We can use the **`&`** (\"and\") operator to indicate that we want **both** conditions on either side of the operator to be met.  We can use the **`|`** (\"or\") operator to indicate that we want **at least one** of the conditions to be met.  We can also chain these operators together if we need to represent more complex operations."
   ]
  },
  {
   "cell_type": "code",
   "execution_count": 3,
   "id": "e7046521",
   "metadata": {},
   "outputs": [
    {
     "data": {
      "text/html": [
       "<div>\n",
       "<style scoped>\n",
       "    .dataframe tbody tr th:only-of-type {\n",
       "        vertical-align: middle;\n",
       "    }\n",
       "\n",
       "    .dataframe tbody tr th {\n",
       "        vertical-align: top;\n",
       "    }\n",
       "\n",
       "    .dataframe thead th {\n",
       "        text-align: right;\n",
       "    }\n",
       "</style>\n",
       "<table border=\"1\" class=\"dataframe\">\n",
       "  <thead>\n",
       "    <tr style=\"text-align: right;\">\n",
       "      <th></th>\n",
       "      <th>name</th>\n",
       "      <th>state</th>\n",
       "      <th>pop2000</th>\n",
       "      <th>pop2010</th>\n",
       "      <th>pop2017</th>\n",
       "      <th>pop_change</th>\n",
       "      <th>poverty</th>\n",
       "      <th>homeownership</th>\n",
       "      <th>multi_unit</th>\n",
       "      <th>unemployment_rate</th>\n",
       "      <th>metro</th>\n",
       "      <th>median_edu</th>\n",
       "      <th>per_capita_income</th>\n",
       "      <th>median_hh_income</th>\n",
       "      <th>smoking_ban</th>\n",
       "    </tr>\n",
       "  </thead>\n",
       "  <tbody>\n",
       "    <tr>\n",
       "      <th>604</th>\n",
       "      <td>Champaign County</td>\n",
       "      <td>Illinois</td>\n",
       "      <td>179669</td>\n",
       "      <td>201081</td>\n",
       "      <td>209399</td>\n",
       "      <td>1.83</td>\n",
       "      <td>21.4</td>\n",
       "      <td>55.9</td>\n",
       "      <td>35.2</td>\n",
       "      <td>4.24</td>\n",
       "      <td>yes</td>\n",
       "      <td>some_college</td>\n",
       "      <td>29619.49</td>\n",
       "      <td>49586</td>\n",
       "      <td>data unavailable</td>\n",
       "    </tr>\n",
       "  </tbody>\n",
       "</table>\n",
       "</div>"
      ],
      "text/plain": [
       "                 name     state pop2000  pop2010 pop2017 pop_change poverty  \\\n",
       "604  Champaign County  Illinois  179669   201081  209399       1.83    21.4   \n",
       "\n",
       "     homeownership  multi_unit unemployment_rate metro    median_edu  \\\n",
       "604           55.9        35.2              4.24   yes  some_college   \n",
       "\n",
       "    per_capita_income median_hh_income       smoking_ban  \n",
       "604          29619.49            49586  data unavailable  "
      ]
     },
     "execution_count": 3,
     "metadata": {},
     "output_type": "execute_result"
    }
   ],
   "source": [
    "county[(county['name'] == 'Champaign County') & (county['state'] == 'Illinois')]"
   ]
  },
  {
   "cell_type": "markdown",
   "id": "11ddad82",
   "metadata": {},
   "source": [
    "**c)** Calculate the probability that a randomly selected county in the United States would have a multi-unit rate that is at least as high as Champaign county's rate."
   ]
  },
  {
   "cell_type": "code",
   "execution_count": 4,
   "id": "b1eedf47",
   "metadata": {},
   "outputs": [
    {
     "name": "stdout",
     "output_type": "stream",
     "text": [
      "The probability that a randomly selected county in the United States would have a multi-unit rate that is at least as high as Champaign county's rate is 0.02864417568427753\n"
     ]
    }
   ],
   "source": [
    "# multi-unit rate of Champaign County's rate is 35.2\n",
    "print(\"The probability that a randomly selected county in the United States would have a multi-unit rate that is at least as high as Champaign county's rate is\" , county[county['multi_unit'] >= 35.2 ].shape[0] / county.shape[0])"
   ]
  },
  {
   "cell_type": "markdown",
   "id": "2d356940",
   "metadata": {},
   "source": [
    "**d)** Calculate the probability that a randomly selected county in Illinois would have a multi-unit rate that is at least as high as Champaign county's rate."
   ]
  },
  {
   "cell_type": "code",
   "execution_count": 5,
   "id": "c7b43843",
   "metadata": {},
   "outputs": [],
   "source": [
    "# 'a' = county in Illinois that have a multi-unit rate that is at least as high as Champaign county's rate\n",
    "a = county[(county['multi_unit'] >= 35.2) & (county['state'] == 'Illinois') ].shape[0]\n",
    "\n",
    "# 'b' = number of counties in Illinois\n",
    "b = county[county['state'] == 'Illinois'].shape[0]"
   ]
  },
  {
   "cell_type": "code",
   "execution_count": 6,
   "id": "cd3f3ab3",
   "metadata": {},
   "outputs": [
    {
     "name": "stdout",
     "output_type": "stream",
     "text": [
      "The probability that a randomly selected county is Illinois would have a multi-unit rate that is at least as high as Champaign county is  0.0196078431372549\n"
     ]
    }
   ],
   "source": [
    "print('The probability that a randomly selected county is Illinois would have a multi-unit rate that is at least as high as Champaign county is ', a/b)"
   ]
  },
  {
   "cell_type": "markdown",
   "id": "1461143f",
   "metadata": {},
   "source": [
    "**e)** Are the events \"has a multi-unit rate at least as high as Champaign County, Illinois\" and \"county is in the state of Illinois\" independent for the counties in the United States?  Explain."
   ]
  },
  {
   "attachments": {},
   "cell_type": "markdown",
   "id": "004cda0e",
   "metadata": {},
   "source": [
    "No, they are not independent events.If they were independent, the probability that a randomly selected county in the United States would have a multi-unit rate that is at least as high as Champaign's county's rate (part 1-c) should be as same as the probability that a randomly selected county in Illinois would have a multi-unit rate that is at least as high as Champaign's county's rate (part 1-d)."
   ]
  },
  {
   "cell_type": "markdown",
   "id": "2e606086",
   "metadata": {},
   "source": [
    "## 2. Describing Champaign + Neighboring Counties \n",
    "\n",
    "Sample 2: What if we extend from our county to include four neighboring counties (Vermilion, Ford, Piatt, and Douglas)?  will the average multi-unit rate for these five counties be higher than the average rate for five randomly selected counties from the population of U.S. counties?\n",
    "\n",
    "**a)** To start, create a data frame that is composed of just the five following Illinois counties:\n",
    "\n",
    "- Champaign\n",
    "- Vermilion\n",
    "- Ford\n",
    "- Piatt\n",
    "- Douglas\n",
    "\n",
    "Print the resulting data frame."
   ]
  },
  {
   "cell_type": "code",
   "execution_count": 7,
   "id": "a5632fdc",
   "metadata": {},
   "outputs": [
    {
     "name": "stderr",
     "output_type": "stream",
     "text": [
      "C:\\Users\\happy\\AppData\\Local\\Temp\\ipykernel_35296\\571762022.py:2: UserWarning: Boolean Series key will be reindexed to match DataFrame index.\n",
      "  neighboring_counties = Illinois_counties[ (county['name'] == 'Champaign County') |(county['name'] == 'Vermilion County') | (county['name'] == 'Ford County') | (county['name'] == 'Piatt County') | (county['name'] == 'Douglas County')]\n"
     ]
    },
    {
     "data": {
      "text/html": [
       "<div>\n",
       "<style scoped>\n",
       "    .dataframe tbody tr th:only-of-type {\n",
       "        vertical-align: middle;\n",
       "    }\n",
       "\n",
       "    .dataframe tbody tr th {\n",
       "        vertical-align: top;\n",
       "    }\n",
       "\n",
       "    .dataframe thead th {\n",
       "        text-align: right;\n",
       "    }\n",
       "</style>\n",
       "<table border=\"1\" class=\"dataframe\">\n",
       "  <thead>\n",
       "    <tr style=\"text-align: right;\">\n",
       "      <th></th>\n",
       "      <th>name</th>\n",
       "      <th>state</th>\n",
       "      <th>pop2000</th>\n",
       "      <th>pop2010</th>\n",
       "      <th>pop2017</th>\n",
       "      <th>pop_change</th>\n",
       "      <th>poverty</th>\n",
       "      <th>homeownership</th>\n",
       "      <th>multi_unit</th>\n",
       "      <th>unemployment_rate</th>\n",
       "      <th>metro</th>\n",
       "      <th>median_edu</th>\n",
       "      <th>per_capita_income</th>\n",
       "      <th>median_hh_income</th>\n",
       "      <th>smoking_ban</th>\n",
       "    </tr>\n",
       "  </thead>\n",
       "  <tbody>\n",
       "    <tr>\n",
       "      <th>604</th>\n",
       "      <td>Champaign County</td>\n",
       "      <td>Illinois</td>\n",
       "      <td>179669</td>\n",
       "      <td>201081</td>\n",
       "      <td>209399</td>\n",
       "      <td>1.83</td>\n",
       "      <td>21.4</td>\n",
       "      <td>55.9</td>\n",
       "      <td>35.2</td>\n",
       "      <td>4.24</td>\n",
       "      <td>yes</td>\n",
       "      <td>some_college</td>\n",
       "      <td>29619.49</td>\n",
       "      <td>49586</td>\n",
       "      <td>data unavailable</td>\n",
       "    </tr>\n",
       "    <tr>\n",
       "      <th>615</th>\n",
       "      <td>Douglas County</td>\n",
       "      <td>Illinois</td>\n",
       "      <td>19922</td>\n",
       "      <td>19980</td>\n",
       "      <td>19748</td>\n",
       "      <td>-0.57</td>\n",
       "      <td>12.1</td>\n",
       "      <td>78.3</td>\n",
       "      <td>11.2</td>\n",
       "      <td>4.01</td>\n",
       "      <td>no</td>\n",
       "      <td>hs_diploma</td>\n",
       "      <td>25796.91</td>\n",
       "      <td>52261</td>\n",
       "      <td>partial</td>\n",
       "    </tr>\n",
       "    <tr>\n",
       "      <th>621</th>\n",
       "      <td>Ford County</td>\n",
       "      <td>Illinois</td>\n",
       "      <td>14241</td>\n",
       "      <td>14081</td>\n",
       "      <td>13280</td>\n",
       "      <td>-2.86</td>\n",
       "      <td>15.7</td>\n",
       "      <td>79.1</td>\n",
       "      <td>7.9</td>\n",
       "      <td>4.7</td>\n",
       "      <td>yes</td>\n",
       "      <td>some_college</td>\n",
       "      <td>27234.78</td>\n",
       "      <td>50851</td>\n",
       "      <td>none</td>\n",
       "    </tr>\n",
       "    <tr>\n",
       "      <th>668</th>\n",
       "      <td>Piatt County</td>\n",
       "      <td>Illinois</td>\n",
       "      <td>16365</td>\n",
       "      <td>16729</td>\n",
       "      <td>16445</td>\n",
       "      <td>0.09</td>\n",
       "      <td>5.4</td>\n",
       "      <td>81.7</td>\n",
       "      <td>7.5</td>\n",
       "      <td>3.99</td>\n",
       "      <td>yes</td>\n",
       "      <td>some_college</td>\n",
       "      <td>33598.78</td>\n",
       "      <td>67360</td>\n",
       "      <td>data unavailable</td>\n",
       "    </tr>\n",
       "    <tr>\n",
       "      <th>686</th>\n",
       "      <td>Vermilion County</td>\n",
       "      <td>Illinois</td>\n",
       "      <td>83919</td>\n",
       "      <td>81625</td>\n",
       "      <td>77909</td>\n",
       "      <td>-3.31</td>\n",
       "      <td>19.8</td>\n",
       "      <td>71.3</td>\n",
       "      <td>14.5</td>\n",
       "      <td>6.29</td>\n",
       "      <td>yes</td>\n",
       "      <td>hs_diploma</td>\n",
       "      <td>23759.02</td>\n",
       "      <td>44930</td>\n",
       "      <td>data unavailable</td>\n",
       "    </tr>\n",
       "  </tbody>\n",
       "</table>\n",
       "</div>"
      ],
      "text/plain": [
       "                 name     state pop2000  pop2010 pop2017 pop_change poverty  \\\n",
       "604  Champaign County  Illinois  179669   201081  209399       1.83    21.4   \n",
       "615    Douglas County  Illinois   19922    19980   19748      -0.57    12.1   \n",
       "621       Ford County  Illinois   14241    14081   13280      -2.86    15.7   \n",
       "668      Piatt County  Illinois   16365    16729   16445       0.09     5.4   \n",
       "686  Vermilion County  Illinois   83919    81625   77909      -3.31    19.8   \n",
       "\n",
       "     homeownership  multi_unit unemployment_rate metro    median_edu  \\\n",
       "604           55.9        35.2              4.24   yes  some_college   \n",
       "615           78.3        11.2              4.01    no    hs_diploma   \n",
       "621           79.1         7.9               4.7   yes  some_college   \n",
       "668           81.7         7.5              3.99   yes  some_college   \n",
       "686           71.3        14.5              6.29   yes    hs_diploma   \n",
       "\n",
       "    per_capita_income median_hh_income       smoking_ban  \n",
       "604          29619.49            49586  data unavailable  \n",
       "615          25796.91            52261           partial  \n",
       "621          27234.78            50851              none  \n",
       "668          33598.78            67360  data unavailable  \n",
       "686          23759.02            44930  data unavailable  "
      ]
     },
     "execution_count": 7,
     "metadata": {},
     "output_type": "execute_result"
    }
   ],
   "source": [
    "Illinois_counties = county[county['state'] == 'Illinois']\n",
    "neighboring_counties = Illinois_counties[ (county['name'] == 'Champaign County') |(county['name'] == 'Vermilion County') | (county['name'] == 'Ford County') | (county['name'] == 'Piatt County') | (county['name'] == 'Douglas County')]\n",
    "neighboring_counties"
   ]
  },
  {
   "cell_type": "markdown",
   "id": "92a41d0d",
   "metadata": {},
   "source": [
    "**b)** Calculate the mean multi-unit rate for these five counties."
   ]
  },
  {
   "cell_type": "code",
   "execution_count": 8,
   "id": "902220b6",
   "metadata": {},
   "outputs": [
    {
     "data": {
      "text/plain": [
       "15.260000000000002"
      ]
     },
     "execution_count": 8,
     "metadata": {},
     "output_type": "execute_result"
    }
   ],
   "source": [
    "neighboring_counties['multi_unit'].mean()"
   ]
  },
  {
   "cell_type": "markdown",
   "id": "19088aa7",
   "metadata": {},
   "source": [
    "**c)** Calculate the mean and standard deviation for the multi-unit rate for the population of counties in the United States."
   ]
  },
  {
   "cell_type": "code",
   "execution_count": 9,
   "id": "bf91e798",
   "metadata": {},
   "outputs": [
    {
     "name": "stdout",
     "output_type": "stream",
     "text": [
      "12.321896880967534\n",
      "9.290204854486706\n"
     ]
    }
   ],
   "source": [
    "print(county['multi_unit'].mean())\n",
    "print(county['multi_unit'].std())"
   ]
  },
  {
   "cell_type": "markdown",
   "id": "3c7e0496",
   "metadata": {},
   "source": [
    "**d)** Generate a random sample with replacement of size $n=5$ counties from the United States, and calculate the mean multi-unit rate for these 5 counties.  What symbol should you use to describe the value you just calculated?  Compare your calculated value to the values previously calculated in **2b** and **2c**."
   ]
  },
  {
   "cell_type": "code",
   "execution_count": 10,
   "id": "61161ffe",
   "metadata": {},
   "outputs": [
    {
     "data": {
      "text/plain": [
       "13.959999999999999"
      ]
     },
     "execution_count": 10,
     "metadata": {},
     "output_type": "execute_result"
    }
   ],
   "source": [
    "county.sample(5, replace = True)['multi_unit'].mean()"
   ]
  },
  {
   "attachments": {},
   "cell_type": "markdown",
   "id": "8e4ade4d",
   "metadata": {},
   "source": [
    "We use X bar to describe the mean value of a sample. \n",
    "The mean multi-unit rate for this random sample of size n=5 is 19.74(part 2-d) and this is larger than the values previously calculated in 2b (15.26) and 2c (12.322). "
   ]
  },
  {
   "cell_type": "markdown",
   "id": "2a07034a",
   "metadata": {},
   "source": [
    "## 3. Comparing Champaign + Neighboring Counties \n",
    "\n",
    "**a)** The following MCmeans function has been provided for you.  Run the code in the first cell to load this function into Python.\n",
    "\n",
    "Then, using the MCmeans function, geneerate output according to the following specifications:\n",
    "\n",
    "- Specify the argument (input) for df to reference your data frame of counties\n",
    "- Specify the argument for var to reference the variable name for multi-unit housing rates in the counties data frame\n",
    "- Specify the argument to generate samples of size 5\n",
    "- Specify the argument to generate 5000 repeated samples\n",
    "- Save the output of this function to a Python object"
   ]
  },
  {
   "cell_type": "code",
   "execution_count": 11,
   "id": "ad953733",
   "metadata": {},
   "outputs": [],
   "source": [
    "def MCmeans(df, x='', replace=True, n=1, M=1):\n",
    "    #INPUT:\n",
    "    # df is a data frame\n",
    "    # x is a text-valued name for a variable in the data frame\n",
    "    # replace = True or False depending on whether \n",
    "    #    draws are with or without replacement\n",
    "    # n = number of draws per sample\n",
    "    # M = number of samples to draw\n",
    "    MCstats = []\n",
    "    for i in range(M):\n",
    "        #1. Collect a random sample of size n with replacement\n",
    "        #2. Take the mean of this random sample\n",
    "        #3. Append this random sample mean to the SampleMeans list \n",
    "        # (which is our SAMPLING DISTRIBUTION OF SAMPLE MEANS!)\n",
    "        MCstats.append(df[x].sample(n, replace=replace).mean())\n",
    "    #4. returns the sampling distribution in a dataframe format\n",
    "    return pd.DataFrame({x: MCstats})"
   ]
  },
  {
   "cell_type": "code",
   "execution_count": 12,
   "id": "e251a331",
   "metadata": {},
   "outputs": [
    {
     "data": {
      "text/html": [
       "<div>\n",
       "<style scoped>\n",
       "    .dataframe tbody tr th:only-of-type {\n",
       "        vertical-align: middle;\n",
       "    }\n",
       "\n",
       "    .dataframe tbody tr th {\n",
       "        vertical-align: top;\n",
       "    }\n",
       "\n",
       "    .dataframe thead th {\n",
       "        text-align: right;\n",
       "    }\n",
       "</style>\n",
       "<table border=\"1\" class=\"dataframe\">\n",
       "  <thead>\n",
       "    <tr style=\"text-align: right;\">\n",
       "      <th></th>\n",
       "      <th>multi_unit</th>\n",
       "    </tr>\n",
       "  </thead>\n",
       "  <tbody>\n",
       "    <tr>\n",
       "      <th>0</th>\n",
       "      <td>12.96</td>\n",
       "    </tr>\n",
       "    <tr>\n",
       "      <th>1</th>\n",
       "      <td>8.46</td>\n",
       "    </tr>\n",
       "    <tr>\n",
       "      <th>2</th>\n",
       "      <td>11.74</td>\n",
       "    </tr>\n",
       "    <tr>\n",
       "      <th>3</th>\n",
       "      <td>16.68</td>\n",
       "    </tr>\n",
       "    <tr>\n",
       "      <th>4</th>\n",
       "      <td>20.18</td>\n",
       "    </tr>\n",
       "    <tr>\n",
       "      <th>...</th>\n",
       "      <td>...</td>\n",
       "    </tr>\n",
       "    <tr>\n",
       "      <th>4995</th>\n",
       "      <td>18.90</td>\n",
       "    </tr>\n",
       "    <tr>\n",
       "      <th>4996</th>\n",
       "      <td>13.16</td>\n",
       "    </tr>\n",
       "    <tr>\n",
       "      <th>4997</th>\n",
       "      <td>9.28</td>\n",
       "    </tr>\n",
       "    <tr>\n",
       "      <th>4998</th>\n",
       "      <td>31.70</td>\n",
       "    </tr>\n",
       "    <tr>\n",
       "      <th>4999</th>\n",
       "      <td>13.46</td>\n",
       "    </tr>\n",
       "  </tbody>\n",
       "</table>\n",
       "<p>5000 rows × 1 columns</p>\n",
       "</div>"
      ],
      "text/plain": [
       "      multi_unit\n",
       "0          12.96\n",
       "1           8.46\n",
       "2          11.74\n",
       "3          16.68\n",
       "4          20.18\n",
       "...          ...\n",
       "4995       18.90\n",
       "4996       13.16\n",
       "4997        9.28\n",
       "4998       31.70\n",
       "4999       13.46\n",
       "\n",
       "[5000 rows x 1 columns]"
      ]
     },
     "execution_count": 12,
     "metadata": {},
     "output_type": "execute_result"
    }
   ],
   "source": [
    "sample_mean = MCmeans(county, x = 'multi_unit', replace = True, n = 5, M = 5000)\n",
    "sample_mean"
   ]
  },
  {
   "cell_type": "markdown",
   "id": "660ef939",
   "metadata": {},
   "source": [
    "**b)** Calculate the mean and standard deviation for the object that is created in part **3a**.  Compare these values to those from **2c**."
   ]
  },
  {
   "cell_type": "code",
   "execution_count": 13,
   "id": "217033c8",
   "metadata": {},
   "outputs": [
    {
     "name": "stdout",
     "output_type": "stream",
     "text": [
      "12.496751999999999\n"
     ]
    }
   ],
   "source": [
    "print(sample_mean['multi_unit'].mean())"
   ]
  },
  {
   "cell_type": "code",
   "execution_count": 14,
   "id": "e24d3fa8",
   "metadata": {},
   "outputs": [
    {
     "name": "stdout",
     "output_type": "stream",
     "text": [
      "4.388076518658571\n"
     ]
    }
   ],
   "source": [
    "print(sample_mean['multi_unit'].std())"
   ]
  },
  {
   "attachments": {},
   "cell_type": "markdown",
   "id": "df3b56a1",
   "metadata": {},
   "source": [
    "The result of part 2c is 12.321896880967534 as a mean and 9.290204854486706 as standard deviation. The result of part 3a is 12.4968 as a mean and 4.3880 as standard deviation. \n",
    "The mean value is quite similar to each other while a standard deviation for the object that is created in part 3a is smaller than std from part 2c. \n",
    "\n",
    "This is because the mean of population (mu) is same as the mean of sample (X bar). However, the standard deviation of sample (s) is a value of std of population (sigma) divided by square root n (sample size). Therefore, the std of part 3b must be approximately square root 5 times smaller than that of part 2c. "
   ]
  },
  {
   "cell_type": "markdown",
   "id": "ec6eaeae",
   "metadata": {},
   "source": [
    "**c)** What proportion of samples of size 5 have a mean multi-unit rate at least as large as the mean multi-unit rate of Champaign and four of its neighboring counties (from **2b**)?"
   ]
  },
  {
   "cell_type": "code",
   "execution_count": 16,
   "id": "e5ccd2d9",
   "metadata": {},
   "outputs": [
    {
     "data": {
      "text/plain": [
       "0.2212"
      ]
     },
     "execution_count": 16,
     "metadata": {},
     "output_type": "execute_result"
    }
   ],
   "source": [
    "# The mean multi-rate of Champaign and four of its neighboring counties is 15.26. \n",
    "\n",
    "sample_mean[ sample_mean['multi_unit'] >= 15.26 ].shape[0] / 5000"
   ]
  },
  {
   "cell_type": "markdown",
   "id": "5eefe1e7",
   "metadata": {},
   "source": [
    "**d)** Which is more unusual of the multi-unit rate of Champaign county or the average multi-unit rate of Champaign county and its four neighboring counties.  Explain, including numerical support in your justification."
   ]
  },
  {
   "cell_type": "code",
   "execution_count": 18,
   "id": "0d6445be",
   "metadata": {},
   "outputs": [
    {
     "data": {
      "text/plain": [
       "0.0196078431372549"
      ]
     },
     "execution_count": 18,
     "metadata": {},
     "output_type": "execute_result"
    }
   ],
   "source": [
    "county[(county['multi_unit'] >= 35.2) & (county['state'] == 'Illinois') ].shape[0] / county[county['state'] == 'Illinois'].shape[0]"
   ]
  },
  {
   "cell_type": "code",
   "execution_count": 19,
   "id": "b8034466",
   "metadata": {},
   "outputs": [
    {
     "data": {
      "text/plain": [
       "0.2212"
      ]
     },
     "execution_count": 19,
     "metadata": {},
     "output_type": "execute_result"
    }
   ],
   "source": [
    "# The mean multi-rate of Champaign and four of its neighboring counties is 15.26. \n",
    "\n",
    "sample_mean[ sample_mean['multi_unit'] >= 15.26 ].shape[0] / 5000"
   ]
  },
  {
   "attachments": {},
   "cell_type": "markdown",
   "id": "74ca0bc4",
   "metadata": {},
   "source": [
    "Multi-unit rate of Champaign county is 35.2. (from part 1b)\n",
    "\n",
    "The proportion that a randomly selected county in Illinois that have a multi-unit rate that is at least as high as Champaign county's rate is approximately 0.02, which means only 2% of counties in Illinois have higher value of multi-unit rate than that of Champaign county. \n",
    "\n",
    "The average multi-unit rate of Champaign county and its four neighboring counties is 15.26. (from part 2b)\n",
    "\n",
    "The proportion of samples of size 5 that have a mean multi-unit rate at least as large as the mean multi-unit rate of Champaign and four of its neighboring counties (15.26) is approximately 0.22, which means 22% of samples have higher mean multi-unit rate than Champaign and neighboring counties. \n",
    "\n",
    "Therefore, the multi-unit rate of Champaign county is more unusual. "
   ]
  },
  {
   "cell_type": "markdown",
   "id": "3e654ee5",
   "metadata": {},
   "source": [
    "<hr>\n",
    "\n",
    "## <u>Case Study</u>: Valentine's Day Spending\n",
    "\n",
    "## 4. How much do college students spend on Valentine's Day?\n",
    "\n",
    "A resident advisor aims to answer this question, so he surveys all residents who live in his dorm at the fictitious College University.  He saves this information a data file.\n",
    "\n",
    "He has a few friends who claim that they do not spend very much on Valentine's Day.  In fact, the average spending of these friends is only $6.\n",
    "\n",
    "The resident advisor, always a skeptic, wants to assess the claim of his friends: do they actually spend a small amount on Valentine's Day compared to his residents?  He knows that the $6 average of his friends shouldn't be compared to the population distribution for all of his residents, so he simulates a sampling distribution for the average spending of his residents on Valentine's Day.  He saves the results of this simulation to another data file.\n",
    "\n",
    "**a)** Read in the two data files: vday1.csv and vday2.csv.  Report the number of observations for each file, and preview the first few rows of each file."
   ]
  },
  {
   "cell_type": "code",
   "execution_count": 24,
   "id": "f76cfa19",
   "metadata": {},
   "outputs": [
    {
     "name": "stdout",
     "output_type": "stream",
     "text": [
      "The number of observations for vday1 is :  214\n"
     ]
    },
    {
     "data": {
      "text/html": [
       "<div>\n",
       "<style scoped>\n",
       "    .dataframe tbody tr th:only-of-type {\n",
       "        vertical-align: middle;\n",
       "    }\n",
       "\n",
       "    .dataframe tbody tr th {\n",
       "        vertical-align: top;\n",
       "    }\n",
       "\n",
       "    .dataframe thead th {\n",
       "        text-align: right;\n",
       "    }\n",
       "</style>\n",
       "<table border=\"1\" class=\"dataframe\">\n",
       "  <thead>\n",
       "    <tr style=\"text-align: right;\">\n",
       "      <th></th>\n",
       "      <th>Unnamed: 0</th>\n",
       "      <th>spending</th>\n",
       "    </tr>\n",
       "  </thead>\n",
       "  <tbody>\n",
       "    <tr>\n",
       "      <th>0</th>\n",
       "      <td>0</td>\n",
       "      <td>2.95</td>\n",
       "    </tr>\n",
       "    <tr>\n",
       "      <th>1</th>\n",
       "      <td>1</td>\n",
       "      <td>8.14</td>\n",
       "    </tr>\n",
       "    <tr>\n",
       "      <th>2</th>\n",
       "      <td>2</td>\n",
       "      <td>5.36</td>\n",
       "    </tr>\n",
       "    <tr>\n",
       "      <th>3</th>\n",
       "      <td>3</td>\n",
       "      <td>2.12</td>\n",
       "    </tr>\n",
       "    <tr>\n",
       "      <th>4</th>\n",
       "      <td>4</td>\n",
       "      <td>1.79</td>\n",
       "    </tr>\n",
       "  </tbody>\n",
       "</table>\n",
       "</div>"
      ],
      "text/plain": [
       "   Unnamed: 0  spending\n",
       "0           0      2.95\n",
       "1           1      8.14\n",
       "2           2      5.36\n",
       "3           3      2.12\n",
       "4           4      1.79"
      ]
     },
     "execution_count": 24,
     "metadata": {},
     "output_type": "execute_result"
    }
   ],
   "source": [
    "vday1 = pd.read_csv('vday1.csv')\n",
    "print(\"The number of observations for vday1 is : \", vday1.shape[0])\n",
    "vday1.head()\n"
   ]
  },
  {
   "cell_type": "code",
   "execution_count": 25,
   "id": "f91163c1",
   "metadata": {},
   "outputs": [
    {
     "name": "stdout",
     "output_type": "stream",
     "text": [
      "The number of observations for vday2 is :  214\n"
     ]
    },
    {
     "data": {
      "text/html": [
       "<div>\n",
       "<style scoped>\n",
       "    .dataframe tbody tr th:only-of-type {\n",
       "        vertical-align: middle;\n",
       "    }\n",
       "\n",
       "    .dataframe tbody tr th {\n",
       "        vertical-align: top;\n",
       "    }\n",
       "\n",
       "    .dataframe thead th {\n",
       "        text-align: right;\n",
       "    }\n",
       "</style>\n",
       "<table border=\"1\" class=\"dataframe\">\n",
       "  <thead>\n",
       "    <tr style=\"text-align: right;\">\n",
       "      <th></th>\n",
       "      <th>Unnamed: 0</th>\n",
       "      <th>spending</th>\n",
       "    </tr>\n",
       "  </thead>\n",
       "  <tbody>\n",
       "    <tr>\n",
       "      <th>0</th>\n",
       "      <td>0</td>\n",
       "      <td>4.17</td>\n",
       "    </tr>\n",
       "    <tr>\n",
       "      <th>1</th>\n",
       "      <td>1</td>\n",
       "      <td>8.05</td>\n",
       "    </tr>\n",
       "    <tr>\n",
       "      <th>2</th>\n",
       "      <td>2</td>\n",
       "      <td>0.00</td>\n",
       "    </tr>\n",
       "    <tr>\n",
       "      <th>3</th>\n",
       "      <td>3</td>\n",
       "      <td>0.00</td>\n",
       "    </tr>\n",
       "    <tr>\n",
       "      <th>4</th>\n",
       "      <td>4</td>\n",
       "      <td>16.15</td>\n",
       "    </tr>\n",
       "  </tbody>\n",
       "</table>\n",
       "</div>"
      ],
      "text/plain": [
       "   Unnamed: 0  spending\n",
       "0           0      4.17\n",
       "1           1      8.05\n",
       "2           2      0.00\n",
       "3           3      0.00\n",
       "4           4     16.15"
      ]
     },
     "execution_count": 25,
     "metadata": {},
     "output_type": "execute_result"
    }
   ],
   "source": [
    "vday2 = pd.read_csv('vday2.csv')\n",
    "print(\"The number of observations for vday2 is : \", vday2.shape[0])\n",
    "vday2.head()\n"
   ]
  },
  {
   "cell_type": "markdown",
   "id": "46b0fb4f",
   "metadata": {},
   "source": [
    "**b)** Unfortunately, the resident advisor realizes that he did not use the best naming system for his two files.  He forgets which file contains the population data and which file contains the simulated sampling distribution.  Help the resident advisor out by determining which data file contains which distribution.  Explain to him how you know that you are correct."
   ]
  },
  {
   "cell_type": "code",
   "execution_count": 26,
   "id": "a1446c75",
   "metadata": {},
   "outputs": [
    {
     "name": "stdout",
     "output_type": "stream",
     "text": [
      "2.454647348831522\n",
      "5.050620494085822\n"
     ]
    }
   ],
   "source": [
    "print(vday1['spending'].std())\n",
    "print(vday2['spending'].std())"
   ]
  },
  {
   "attachments": {},
   "cell_type": "markdown",
   "id": "45954e59",
   "metadata": {},
   "source": [
    "The first data, 'vday1.csv' contains the data of samples and the second data. 'vday2.csv' contains the data of population.\n",
    "\n",
    "The standard deviation of 'vday1' data is smaller than that of 'vday2'. \n",
    "\n",
    "The value of standard deviation of population must be square root (n) (n = sample size) times than that of sample. Therefore, vday1 is contains samples while vday2 contains population."
   ]
  },
  {
   "cell_type": "markdown",
   "id": "9814dc52",
   "metadata": {},
   "source": [
    "**c)** Calculate the parameter values for the mean and standard deviation."
   ]
  },
  {
   "cell_type": "code",
   "execution_count": 27,
   "id": "ee01613b",
   "metadata": {},
   "outputs": [
    {
     "name": "stdout",
     "output_type": "stream",
     "text": [
      "5.0285514018691595\n"
     ]
    }
   ],
   "source": [
    "# parameter value of the mean\n",
    "print (vday2['spending'].mean())"
   ]
  },
  {
   "cell_type": "code",
   "execution_count": 28,
   "id": "d7061010",
   "metadata": {},
   "outputs": [
    {
     "name": "stdout",
     "output_type": "stream",
     "text": [
      "5.050620494085822\n"
     ]
    }
   ],
   "source": [
    "# parameter value of the standard deviation\n",
    "print (vday2['spending'].std())"
   ]
  },
  {
   "cell_type": "markdown",
   "id": "241cbd67",
   "metadata": {},
   "source": [
    "**d)** The resident advisor has once again been a little careless with his record keeping.  He forgot to record how many friends he surveyed in order to calculate the $6 average spent on Valentine's Day.  Based on the available information, help him identify how many friends he surveyed."
   ]
  },
  {
   "cell_type": "code",
   "execution_count": 38,
   "id": "21c0019f",
   "metadata": {},
   "outputs": [
    {
     "data": {
      "text/plain": [
       "4.233614001002806"
      ]
     },
     "execution_count": 38,
     "metadata": {},
     "output_type": "execute_result"
    }
   ],
   "source": [
    "sample_size = ((vday2['spending'].std()) / (vday1['spending'].std()))**2\n",
    "sample_size"
   ]
  },
  {
   "attachments": {},
   "cell_type": "markdown",
   "id": "b3239e60",
   "metadata": {},
   "source": [
    "According to the explanation written in part b, I calculated what the sample size would be by two standard deviations. \n",
    "\n",
    "Based on this result, he might have surveyed 4 people."
   ]
  },
  {
   "cell_type": "markdown",
   "id": "3fbca390",
   "metadata": {},
   "source": [
    "**e)** Finally, are his friends especially stingy in terms of Valentine's Day spending, relative to the residents in his dorm?  Explain."
   ]
  },
  {
   "cell_type": "code",
   "execution_count": 41,
   "id": "6bd76d77",
   "metadata": {},
   "outputs": [
    {
     "name": "stdout",
     "output_type": "stream",
     "text": [
      "5.015233644859812\n",
      "0.32710280373831774\n"
     ]
    }
   ],
   "source": [
    "# the mean value of spending of vday1\n",
    "print(vday1['spending'].mean())\n",
    "\n",
    "# the percentage of vday1 spending is at least $6\n",
    "print(vday1[vday1['spending']>= 6].shape[0] / vday1.shape[0])"
   ]
  },
  {
   "attachments": {},
   "cell_type": "markdown",
   "id": "0036d664",
   "metadata": {},
   "source": [
    "The percentage of sample means that have at least $6 as their mean value of spending is approximately 32.7%. \n",
    "\n",
    "Therefore, his friends are not stingy in terms of Valentine's Day spending because the amount ($6) is higher than the average spending of sample mean, and it is within 32.7% of the spending. "
   ]
  },
  {
   "cell_type": "markdown",
   "id": "ba9afbf4",
   "metadata": {},
   "source": [
    "<hr>\n",
    "\n",
    "## <u>Case Study</u>: Super Bowl\n",
    "\n",
    "## 5. Random Variables\n",
    "\n",
    "Suppose that the number of touchdowns scored by a team in the Super Bowl follows a Poisson random variable with parameter $\\mu = 2.4$ ($\\mu$ is also sometimes called $\\lambda$).\n",
    "\n",
    "Information about Poisson random variables is contained within the scipy.stats package.  The code to import this is included below."
   ]
  },
  {
   "cell_type": "code",
   "execution_count": 42,
   "id": "5f742abb",
   "metadata": {},
   "outputs": [],
   "source": [
    "from scipy.stats import poisson"
   ]
  },
  {
   "cell_type": "markdown",
   "id": "3b7adec9",
   "metadata": {},
   "source": [
    "**a)** One important aspect of working with a programming language is the ability to get information about the packages.\n",
    "\n",
    "To start, find the documentation for this package.  You may consider performing a web search where you include the package name (scipy.stats) and the specific distribution name.\n",
    "\n",
    "Provide the url to the documentation that you find.\n",
    "\n",
    "From reading through this documentation, is a Poisson random variable discrete or continuous?"
   ]
  },
  {
   "attachments": {},
   "cell_type": "markdown",
   "id": "5b88b475",
   "metadata": {},
   "source": [
    "A Poisson random variable is a discrete random variable."
   ]
  },
  {
   "cell_type": "markdown",
   "id": "a3a6a97e",
   "metadata": {},
   "source": [
    "**b)** Continuing to look through the documentation, what are the first and second methods listed in the table of available methods?"
   ]
  },
  {
   "attachments": {},
   "cell_type": "markdown",
   "id": "e9cf743a",
   "metadata": {},
   "source": [
    "The first method is \"rvs(mu, loc=0, size=1, random_state=None)\" which stands for random variates. \n",
    "\n",
    "The second method is \"pmf(k, mu, loc=0)\" which stands for probability mass function. "
   ]
  },
  {
   "cell_type": "markdown",
   "id": "63ccd704",
   "metadata": {},
   "source": [
    "**c)** As of this homework's writing, you can bet on whether you think the Chiefs will score more than 2.5 touchdowns, with the bets favoring the Chiefs will score less than this number of touchdowns.\n",
    "\n",
    "If the number of touchdowns for the Chiefs follows a Poisson distribution with parameter $\\mu = 2.4$, what ist he probability that the Chiefs will score 2 touchdowns or less?"
   ]
  },
  {
   "cell_type": "code",
   "execution_count": 44,
   "id": "d9d618a2",
   "metadata": {},
   "outputs": [
    {
     "data": {
      "text/plain": [
       "0.5697087466575105"
      ]
     },
     "execution_count": 44,
     "metadata": {},
     "output_type": "execute_result"
    }
   ],
   "source": [
    "poisson.pmf(0,2.4,loc=0) + poisson.pmf(1, 2.4, loc = 0) + poisson.pmf(2, 2.4, loc = 0)"
   ]
  },
  {
   "cell_type": "markdown",
   "id": "ce93563d",
   "metadata": {},
   "source": [
    "**d)** Using the underlying Poisson distribution described above, randomly simulate the number of touchdowns scored for each team (two teams play).  You may use random states if you'd like, but you don't need to."
   ]
  },
  {
   "cell_type": "code",
   "execution_count": 47,
   "id": "15ccaefe",
   "metadata": {},
   "outputs": [
    {
     "data": {
      "text/plain": [
       "array([2, 5], dtype=int64)"
      ]
     },
     "execution_count": 47,
     "metadata": {},
     "output_type": "execute_result"
    }
   ],
   "source": [
    "poisson.rvs(2.4, loc=0, size = 2, random_state = 123)\n",
    "\n",
    "# The result from my random simulation is 2 and 5. "
   ]
  },
  {
   "cell_type": "markdown",
   "id": "6dfc26c3",
   "metadata": {},
   "source": [
    "**e)** You can also bet on whether you think the total score of the game will be above or below 51 points.\n",
    "\n",
    "We'll make a simplifying assumption that each touchdown will be worth 7 points.\n",
    "\n",
    "Based on the simulation in part **d**, how many touchdowns would be scored in your simulated game?  How many points do those touchdowns correspond to?  Based only on the number of touchdowns scored, would the score of the game be above or below 51 points?"
   ]
  },
  {
   "cell_type": "code",
   "execution_count": 48,
   "id": "1f792bcd",
   "metadata": {},
   "outputs": [
    {
     "data": {
      "text/plain": [
       "array([14, 35], dtype=int64)"
      ]
     },
     "execution_count": 48,
     "metadata": {},
     "output_type": "execute_result"
    }
   ],
   "source": [
    "poisson.rvs(2.4, loc=0, size = 2, random_state = 123) * 7"
   ]
  },
  {
   "attachments": {},
   "cell_type": "markdown",
   "id": "2ffbf049",
   "metadata": {},
   "source": [
    "Based on the simulation in part d, the touchdowns would be 2 times and 5 times scored for each team. \n",
    "\n",
    "Those touchdowns will correspond to 14 points and 35 points each. \n",
    "\n",
    "Therefore, the score of the game would be below 51 points. "
   ]
  }
 ],
 "metadata": {
  "kernelspec": {
   "display_name": "Python 3",
   "language": "python",
   "name": "python3"
  },
  "language_info": {
   "codemirror_mode": {
    "name": "ipython",
    "version": 3
   },
   "file_extension": ".py",
   "mimetype": "text/x-python",
   "name": "python",
   "nbconvert_exporter": "python",
   "pygments_lexer": "ipython3",
   "version": "3.9.13"
  },
  "vscode": {
   "interpreter": {
    "hash": "bf5817c8b02cc5c6d9d556b5b283d9f8666d377278bd43aea9cee48641f43644"
   }
  }
 },
 "nbformat": 4,
 "nbformat_minor": 5
}
