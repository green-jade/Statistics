{
 "cells": [
  {
   "cell_type": "markdown",
   "metadata": {},
   "source": [
    "# Group Lab  4 \n",
    "\n",
    "## Probability & Sampling Distributions from Lab Data"
   ]
  },
  {
   "cell_type": "code",
   "execution_count": 22,
   "metadata": {},
   "outputs": [],
   "source": [
    "#Run this\n",
    "import pandas as pd                    # imports pandas and calls the imported version 'pd'\n",
    "import matplotlib.pyplot as plt        # imports the package and calls it 'plt'\n",
    "import seaborn as sns                  # imports the seaborn package with the imported name 'sns'\n",
    "sns.set()  "
   ]
  },
  {
   "cell_type": "markdown",
   "metadata": {},
   "source": [
    "\n",
    "\n",
    "## 1. Categorical Question & Answers \n",
    "\n",
    "\n",
    "\n",
    "**a)** Report the categorical question that your lab or group elected to ask."
   ]
  },
  {
   "cell_type": "markdown",
   "metadata": {},
   "source": [
    "What is your favorite sport?"
   ]
  },
  {
   "cell_type": "markdown",
   "metadata": {},
   "source": [
    "**b)** Report your group composition.  That is, what were the answers for the members of your group?"
   ]
  },
  {
   "cell_type": "markdown",
   "metadata": {},
   "source": [
    "For our group, we have three members. Two of us chose our favorite sport as basketball and one of us as football."
   ]
  },
  {
   "cell_type": "markdown",
   "metadata": {},
   "source": [
    "**c)** Report your lab composition.  That is, what were the answers from all students in your lab section?"
   ]
  },
  {
   "cell_type": "code",
   "execution_count": 23,
   "metadata": {},
   "outputs": [
    {
     "data": {
      "text/html": [
       "<div>\n",
       "<style scoped>\n",
       "    .dataframe tbody tr th:only-of-type {\n",
       "        vertical-align: middle;\n",
       "    }\n",
       "\n",
       "    .dataframe tbody tr th {\n",
       "        vertical-align: top;\n",
       "    }\n",
       "\n",
       "    .dataframe thead th {\n",
       "        text-align: right;\n",
       "    }\n",
       "</style>\n",
       "<table border=\"1\" class=\"dataframe\">\n",
       "  <thead>\n",
       "    <tr style=\"text-align: right;\">\n",
       "      <th></th>\n",
       "      <th>Timestamp</th>\n",
       "      <th>What is your favorite sports?</th>\n",
       "      <th>How many siblings do you have?</th>\n",
       "    </tr>\n",
       "  </thead>\n",
       "  <tbody>\n",
       "    <tr>\n",
       "      <th>0</th>\n",
       "      <td>2/8/2023 15:06:45</td>\n",
       "      <td>basketball</td>\n",
       "      <td>2</td>\n",
       "    </tr>\n",
       "    <tr>\n",
       "      <th>1</th>\n",
       "      <td>2/8/2023 15:06:50</td>\n",
       "      <td>badminton</td>\n",
       "      <td>4</td>\n",
       "    </tr>\n",
       "    <tr>\n",
       "      <th>2</th>\n",
       "      <td>2/8/2023 15:06:54</td>\n",
       "      <td>others</td>\n",
       "      <td>1</td>\n",
       "    </tr>\n",
       "    <tr>\n",
       "      <th>3</th>\n",
       "      <td>2/8/2023 15:06:58</td>\n",
       "      <td>basketball</td>\n",
       "      <td>2</td>\n",
       "    </tr>\n",
       "    <tr>\n",
       "      <th>4</th>\n",
       "      <td>2/8/2023 15:07:03</td>\n",
       "      <td>others</td>\n",
       "      <td>0</td>\n",
       "    </tr>\n",
       "    <tr>\n",
       "      <th>5</th>\n",
       "      <td>2/8/2023 15:07:04</td>\n",
       "      <td>others</td>\n",
       "      <td>1</td>\n",
       "    </tr>\n",
       "    <tr>\n",
       "      <th>6</th>\n",
       "      <td>2/8/2023 15:07:07</td>\n",
       "      <td>Hockey</td>\n",
       "      <td>1</td>\n",
       "    </tr>\n",
       "    <tr>\n",
       "      <th>7</th>\n",
       "      <td>2/8/2023 15:07:09</td>\n",
       "      <td>others</td>\n",
       "      <td>1</td>\n",
       "    </tr>\n",
       "    <tr>\n",
       "      <th>8</th>\n",
       "      <td>2/8/2023 15:07:23</td>\n",
       "      <td>others</td>\n",
       "      <td>1</td>\n",
       "    </tr>\n",
       "    <tr>\n",
       "      <th>9</th>\n",
       "      <td>2/8/2023 15:07:28</td>\n",
       "      <td>basketball</td>\n",
       "      <td>2</td>\n",
       "    </tr>\n",
       "    <tr>\n",
       "      <th>10</th>\n",
       "      <td>2/8/2023 15:07:33</td>\n",
       "      <td>badminton</td>\n",
       "      <td>1</td>\n",
       "    </tr>\n",
       "    <tr>\n",
       "      <th>11</th>\n",
       "      <td>2/8/2023 15:07:34</td>\n",
       "      <td>others</td>\n",
       "      <td>0</td>\n",
       "    </tr>\n",
       "    <tr>\n",
       "      <th>12</th>\n",
       "      <td>2/8/2023 15:07:36</td>\n",
       "      <td>badminton</td>\n",
       "      <td>1</td>\n",
       "    </tr>\n",
       "    <tr>\n",
       "      <th>13</th>\n",
       "      <td>2/8/2023 15:07:36</td>\n",
       "      <td>badminton</td>\n",
       "      <td>0</td>\n",
       "    </tr>\n",
       "    <tr>\n",
       "      <th>14</th>\n",
       "      <td>2/8/2023 15:07:38</td>\n",
       "      <td>badminton</td>\n",
       "      <td>2</td>\n",
       "    </tr>\n",
       "    <tr>\n",
       "      <th>15</th>\n",
       "      <td>2/8/2023 15:07:58</td>\n",
       "      <td>basketball</td>\n",
       "      <td>0</td>\n",
       "    </tr>\n",
       "    <tr>\n",
       "      <th>16</th>\n",
       "      <td>2/8/2023 15:08:10</td>\n",
       "      <td>basketball</td>\n",
       "      <td>1</td>\n",
       "    </tr>\n",
       "    <tr>\n",
       "      <th>17</th>\n",
       "      <td>2/8/2023 15:08:54</td>\n",
       "      <td>others</td>\n",
       "      <td>1</td>\n",
       "    </tr>\n",
       "    <tr>\n",
       "      <th>18</th>\n",
       "      <td>2/8/2023 15:08:57</td>\n",
       "      <td>others</td>\n",
       "      <td>1</td>\n",
       "    </tr>\n",
       "    <tr>\n",
       "      <th>19</th>\n",
       "      <td>2/8/2023 15:09:15</td>\n",
       "      <td>basketball</td>\n",
       "      <td>0</td>\n",
       "    </tr>\n",
       "    <tr>\n",
       "      <th>20</th>\n",
       "      <td>2/8/2023 15:09:45</td>\n",
       "      <td>football</td>\n",
       "      <td>2</td>\n",
       "    </tr>\n",
       "    <tr>\n",
       "      <th>21</th>\n",
       "      <td>2/8/2023 15:10:51</td>\n",
       "      <td>others</td>\n",
       "      <td>2</td>\n",
       "    </tr>\n",
       "    <tr>\n",
       "      <th>22</th>\n",
       "      <td>2/8/2023 15:11:03</td>\n",
       "      <td>basketball</td>\n",
       "      <td>0</td>\n",
       "    </tr>\n",
       "  </tbody>\n",
       "</table>\n",
       "</div>"
      ],
      "text/plain": [
       "            Timestamp What is your favorite sports?   \\\n",
       "0   2/8/2023 15:06:45                     basketball   \n",
       "1   2/8/2023 15:06:50                      badminton   \n",
       "2   2/8/2023 15:06:54                         others   \n",
       "3   2/8/2023 15:06:58                     basketball   \n",
       "4   2/8/2023 15:07:03                         others   \n",
       "5   2/8/2023 15:07:04                         others   \n",
       "6   2/8/2023 15:07:07                         Hockey   \n",
       "7   2/8/2023 15:07:09                         others   \n",
       "8   2/8/2023 15:07:23                         others   \n",
       "9   2/8/2023 15:07:28                     basketball   \n",
       "10  2/8/2023 15:07:33                      badminton   \n",
       "11  2/8/2023 15:07:34                         others   \n",
       "12  2/8/2023 15:07:36                      badminton   \n",
       "13  2/8/2023 15:07:36                      badminton   \n",
       "14  2/8/2023 15:07:38                      badminton   \n",
       "15  2/8/2023 15:07:58                     basketball   \n",
       "16  2/8/2023 15:08:10                     basketball   \n",
       "17  2/8/2023 15:08:54                         others   \n",
       "18  2/8/2023 15:08:57                         others   \n",
       "19  2/8/2023 15:09:15                     basketball   \n",
       "20  2/8/2023 15:09:45                       football   \n",
       "21  2/8/2023 15:10:51                         others   \n",
       "22  2/8/2023 15:11:03                     basketball   \n",
       "\n",
       "    How many siblings do you have?  \n",
       "0                                2  \n",
       "1                                4  \n",
       "2                                1  \n",
       "3                                2  \n",
       "4                                0  \n",
       "5                                1  \n",
       "6                                1  \n",
       "7                                1  \n",
       "8                                1  \n",
       "9                                2  \n",
       "10                               1  \n",
       "11                               0  \n",
       "12                               1  \n",
       "13                               0  \n",
       "14                               2  \n",
       "15                               0  \n",
       "16                               1  \n",
       "17                               1  \n",
       "18                               1  \n",
       "19                               0  \n",
       "20                               2  \n",
       "21                               2  \n",
       "22                               0  "
      ]
     },
     "execution_count": 23,
     "metadata": {},
     "output_type": "execute_result"
    }
   ],
   "source": [
    "df_lab = pd.read_csv(\"207YIdata.csv\")\n",
    "df_lab"
   ]
  },
  {
   "cell_type": "code",
   "execution_count": 24,
   "metadata": {},
   "outputs": [
    {
     "data": {
      "text/plain": [
       "others        9\n",
       "basketball    7\n",
       "badminton     5\n",
       "football      1\n",
       "Hockey        1\n",
       "Name: What is your favorite sports? , dtype: int64"
      ]
     },
     "execution_count": 24,
     "metadata": {},
     "output_type": "execute_result"
    }
   ],
   "source": [
    "df_lab[\"What is your favorite sports? \"].value_counts()"
   ]
  },
  {
   "cell_type": "markdown",
   "metadata": {},
   "source": [
    "## 2. Team Probability\n",
    "\n",
    "Suppose we were to randomly select $k$ students from your **lab** section **without replacement**, (where $k$ is the size of the group you are currently working in). The **order** in which we selected the $k$ students in this group **didn't matter**. Nor are there any specific \"patterns\" or \"allocations\" to any particular person in this group.\n",
    "\n",
    "What is the probability that this randomly selected group has the same composition that your current team does?\n",
    "\n",
    "* <u>Hint 1</u>: How many groups of size $k$ could you create from the total number of students in your lab?\n",
    "* <u>Hint 2</u>: For each possible answer (value), how many groups could you create of the size that matches your group composition out of the number of options in your lab?\n",
    "\n",
    "**Be sure to show your work and calculations.**"
   ]
  },
  {
   "cell_type": "code",
   "execution_count": 25,
   "metadata": {},
   "outputs": [
    {
     "data": {
      "text/plain": [
       "23"
      ]
     },
     "execution_count": 25,
     "metadata": {},
     "output_type": "execute_result"
    }
   ],
   "source": [
    "# total number of people in lab\n",
    "n = df_lab.shape[0]\n",
    "n"
   ]
  },
  {
   "cell_type": "code",
   "execution_count": 26,
   "metadata": {},
   "outputs": [],
   "source": [
    "# number of people in our group\n",
    "k = 3"
   ]
  },
  {
   "cell_type": "code",
   "execution_count": 30,
   "metadata": {},
   "outputs": [
    {
     "data": {
      "text/plain": [
       "1771.0"
      ]
     },
     "execution_count": 30,
     "metadata": {},
     "output_type": "execute_result"
    }
   ],
   "source": [
    "# without replacement, order does not matter (total possible outcomes)\n",
    "from math import factorial\n",
    "count_total = factorial(n) / (factorial(k)*factorial(n-k))\n",
    "count_total"
   ]
  },
  {
   "cell_type": "code",
   "execution_count": 31,
   "metadata": {},
   "outputs": [
    {
     "data": {
      "text/plain": [
       "21.0"
      ]
     },
     "execution_count": 31,
     "metadata": {},
     "output_type": "execute_result"
    }
   ],
   "source": [
    "# possible outcomes with 2 basketball, one football\n",
    "# 7 choose 2 (basketball) times 1 choose 1 (football)\n",
    "count_group = factorial(7) / (factorial(2)*factorial(5))\n",
    "count_group"
   ]
  },
  {
   "cell_type": "code",
   "execution_count": 32,
   "metadata": {},
   "outputs": [
    {
     "data": {
      "text/plain": [
       "0.011857707509881422"
      ]
     },
     "execution_count": 32,
     "metadata": {},
     "output_type": "execute_result"
    }
   ],
   "source": [
    "prob = count_group / count_total\n",
    "prob"
   ]
  },
  {
   "cell_type": "markdown",
   "metadata": {},
   "source": [
    "The probability that a randomly selected group has the same composition that our current team is about 1.186%"
   ]
  },
  {
   "cell_type": "markdown",
   "metadata": {},
   "source": [
    "<hr>\n",
    "\n",
    "## 3. Quantitative Question & Answers\n",
    "\n",
    "In this question, we will again work with data generated in lab.  For this part, we will focus on the quantitative question.\n",
    "\n",
    "**Note:** If you need to complete this assignment on your own, you may contact your lab instructor for data, or you may use the following information.  \n",
    "\n",
    "- You will answer the question: \"What is the value of a starting deal in BlackJack?\"  You can calculate the starting value of a hand in BlackJack by randomly selecting two cards from a standard deck of cards.  Face cards (K, Q, J) count as 10 and Aces (A) count as 11.  All other cards count as the number printed on the card.  The only exception is if you have two Aces, your hand is worth 12 (11+1).\n",
    "- Assume you are working in a group of 3 comprised of yourself, a student whose initial hand is 21, and another student whose initial hand is 16.\n",
    "- You can access general class data for this question here: tinyurl.com/sp23stat207blackjack.  From the file menu, select File > Download as > csv, and move the resulting file to the same folder as this lab_04.ipynb file.\n",
    "\n",
    "**a)** Report the quantitative question that your lab or group elected to ask."
   ]
  },
  {
   "cell_type": "markdown",
   "metadata": {},
   "source": [
    "How many siblings do you have?"
   ]
  },
  {
   "cell_type": "markdown",
   "metadata": {},
   "source": [
    "**b)** Report the answers to this question for the members of your group."
   ]
  },
  {
   "cell_type": "markdown",
   "metadata": {},
   "source": [
    "For our group, we have 0, 2, and 2 siblings."
   ]
  },
  {
   "cell_type": "markdown",
   "metadata": {},
   "source": [
    "**c)** Read in the data that was collected from your lab for this question.\n",
    "\n",
    "Follow the instructions of your lab instructor to access your lab data.  Once you download the file, be sure to move the resulting file to the same folder as this lab_04.ipynb document."
   ]
  },
  {
   "cell_type": "code",
   "execution_count": 39,
   "metadata": {},
   "outputs": [
    {
     "data": {
      "text/plain": [
       "0     6\n",
       "1    10\n",
       "2     6\n",
       "4     1\n",
       "Name: How many siblings do you have?, dtype: int64"
      ]
     },
     "execution_count": 39,
     "metadata": {},
     "output_type": "execute_result"
    }
   ],
   "source": [
    "df_lab[\"How many siblings do you have?\"].value_counts().sort_index()"
   ]
  },
  {
   "cell_type": "markdown",
   "metadata": {},
   "source": [
    "## 4. Sampling Distribution & Team Probability \n",
    "\n",
    "**a)** Calculate the mean value for this quantitative variable for your group."
   ]
  },
  {
   "cell_type": "code",
   "execution_count": 40,
   "metadata": {},
   "outputs": [
    {
     "data": {
      "text/plain": [
       "1.3333333333333333"
      ]
     },
     "execution_count": 40,
     "metadata": {},
     "output_type": "execute_result"
    }
   ],
   "source": [
    "mean_group = (0+2+2)/3\n",
    "mean_group"
   ]
  },
  {
   "cell_type": "markdown",
   "metadata": {},
   "source": [
    "**b)** Calculate the mean value for this quantitative variable for you lab section."
   ]
  },
  {
   "cell_type": "code",
   "execution_count": 41,
   "metadata": {},
   "outputs": [
    {
     "data": {
      "text/plain": [
       "1.1304347826086956"
      ]
     },
     "execution_count": 41,
     "metadata": {},
     "output_type": "execute_result"
    }
   ],
   "source": [
    "df_lab[\"How many siblings do you have?\"].mean()"
   ]
  },
  {
   "cell_type": "markdown",
   "metadata": {},
   "source": [
    "**c)** Generate a sample (without replacement) of the same size as your group from the lab data.  Calculate the mean of this data.  Is this the same mean as your group?  "
   ]
  },
  {
   "cell_type": "code",
   "execution_count": 48,
   "metadata": {},
   "outputs": [
    {
     "data": {
      "text/html": [
       "<div>\n",
       "<style scoped>\n",
       "    .dataframe tbody tr th:only-of-type {\n",
       "        vertical-align: middle;\n",
       "    }\n",
       "\n",
       "    .dataframe tbody tr th {\n",
       "        vertical-align: top;\n",
       "    }\n",
       "\n",
       "    .dataframe thead th {\n",
       "        text-align: right;\n",
       "    }\n",
       "</style>\n",
       "<table border=\"1\" class=\"dataframe\">\n",
       "  <thead>\n",
       "    <tr style=\"text-align: right;\">\n",
       "      <th></th>\n",
       "      <th>Timestamp</th>\n",
       "      <th>What is your favorite sports?</th>\n",
       "      <th>How many siblings do you have?</th>\n",
       "    </tr>\n",
       "  </thead>\n",
       "  <tbody>\n",
       "    <tr>\n",
       "      <th>17</th>\n",
       "      <td>2/8/2023 15:08:54</td>\n",
       "      <td>others</td>\n",
       "      <td>1</td>\n",
       "    </tr>\n",
       "    <tr>\n",
       "      <th>1</th>\n",
       "      <td>2/8/2023 15:06:50</td>\n",
       "      <td>badminton</td>\n",
       "      <td>4</td>\n",
       "    </tr>\n",
       "    <tr>\n",
       "      <th>12</th>\n",
       "      <td>2/8/2023 15:07:36</td>\n",
       "      <td>badminton</td>\n",
       "      <td>1</td>\n",
       "    </tr>\n",
       "  </tbody>\n",
       "</table>\n",
       "</div>"
      ],
      "text/plain": [
       "            Timestamp What is your favorite sports?   \\\n",
       "17  2/8/2023 15:08:54                         others   \n",
       "1   2/8/2023 15:06:50                      badminton   \n",
       "12  2/8/2023 15:07:36                      badminton   \n",
       "\n",
       "    How many siblings do you have?  \n",
       "17                               1  \n",
       "1                                4  \n",
       "12                               1  "
      ]
     },
     "execution_count": 48,
     "metadata": {},
     "output_type": "execute_result"
    }
   ],
   "source": [
    "df_sample314 = df_lab.sample(3, replace=False, random_state=314)\n",
    "df_sample314"
   ]
  },
  {
   "cell_type": "code",
   "execution_count": 49,
   "metadata": {},
   "outputs": [
    {
     "data": {
      "text/plain": [
       "2.0"
      ]
     },
     "execution_count": 49,
     "metadata": {},
     "output_type": "execute_result"
    }
   ],
   "source": [
    "df_sample314[\"How many siblings do you have?\"].mean()"
   ]
  },
  {
   "cell_type": "markdown",
   "metadata": {},
   "source": [
    "The sample mean is higher than our group for the number of siblings."
   ]
  },
  {
   "cell_type": "markdown",
   "metadata": {},
   "source": [
    "**d)** Through simulation, generate a sampling distribution of the mean for this quantitative variable (for 1,000 groups of the same size as your group, all made up of students from your lab).  In other words, treat your lab's data as the population while creating the sampling distribution."
   ]
  },
  {
   "cell_type": "code",
   "execution_count": 52,
   "metadata": {},
   "outputs": [
    {
     "data": {
      "text/html": [
       "<div>\n",
       "<style scoped>\n",
       "    .dataframe tbody tr th:only-of-type {\n",
       "        vertical-align: middle;\n",
       "    }\n",
       "\n",
       "    .dataframe tbody tr th {\n",
       "        vertical-align: top;\n",
       "    }\n",
       "\n",
       "    .dataframe thead th {\n",
       "        text-align: right;\n",
       "    }\n",
       "</style>\n",
       "<table border=\"1\" class=\"dataframe\">\n",
       "  <thead>\n",
       "    <tr style=\"text-align: right;\">\n",
       "      <th></th>\n",
       "      <th>Sample Mean</th>\n",
       "    </tr>\n",
       "  </thead>\n",
       "  <tbody>\n",
       "    <tr>\n",
       "      <th>0</th>\n",
       "      <td>2.333333</td>\n",
       "    </tr>\n",
       "    <tr>\n",
       "      <th>1</th>\n",
       "      <td>0.666667</td>\n",
       "    </tr>\n",
       "    <tr>\n",
       "      <th>2</th>\n",
       "      <td>1.666667</td>\n",
       "    </tr>\n",
       "    <tr>\n",
       "      <th>3</th>\n",
       "      <td>1.333333</td>\n",
       "    </tr>\n",
       "    <tr>\n",
       "      <th>4</th>\n",
       "      <td>1.000000</td>\n",
       "    </tr>\n",
       "    <tr>\n",
       "      <th>...</th>\n",
       "      <td>...</td>\n",
       "    </tr>\n",
       "    <tr>\n",
       "      <th>995</th>\n",
       "      <td>1.333333</td>\n",
       "    </tr>\n",
       "    <tr>\n",
       "      <th>996</th>\n",
       "      <td>1.666667</td>\n",
       "    </tr>\n",
       "    <tr>\n",
       "      <th>997</th>\n",
       "      <td>1.666667</td>\n",
       "    </tr>\n",
       "    <tr>\n",
       "      <th>998</th>\n",
       "      <td>1.333333</td>\n",
       "    </tr>\n",
       "    <tr>\n",
       "      <th>999</th>\n",
       "      <td>2.666667</td>\n",
       "    </tr>\n",
       "  </tbody>\n",
       "</table>\n",
       "<p>1000 rows × 1 columns</p>\n",
       "</div>"
      ],
      "text/plain": [
       "     Sample Mean\n",
       "0       2.333333\n",
       "1       0.666667\n",
       "2       1.666667\n",
       "3       1.333333\n",
       "4       1.000000\n",
       "..           ...\n",
       "995     1.333333\n",
       "996     1.666667\n",
       "997     1.666667\n",
       "998     1.333333\n",
       "999     2.666667\n",
       "\n",
       "[1000 rows x 1 columns]"
      ]
     },
     "execution_count": 52,
     "metadata": {},
     "output_type": "execute_result"
    }
   ],
   "source": [
    "sample_mean = []\n",
    "for i in range(1000):\n",
    "    mean = df_lab.sample(3, replace=False)[\"How many siblings do you have?\"].mean()\n",
    "    sample_mean.append(mean)\n",
    "\n",
    "d = {\"Sample Mean\": sample_mean}\n",
    "df_sample_mean = pd.DataFrame(d)\n",
    "df_sample_mean"
   ]
  },
  {
   "cell_type": "markdown",
   "metadata": {},
   "source": [
    "**e)** For this sampling distribution, answer the following questions:\n",
    "\n",
    "- What is the mean of the sampling distribution?  How does this value compare to the values calculated in parts **a** and **b** above?\n",
    "- How many means in this sampling distribution match your group's mean exactly?\n",
    "- How many means in this sampling distribution are greater than or equal to your group's mean?"
   ]
  },
  {
   "cell_type": "code",
   "execution_count": 53,
   "metadata": {},
   "outputs": [
    {
     "data": {
      "text/plain": [
       "Sample Mean    1.119667\n",
       "dtype: float64"
      ]
     },
     "execution_count": 53,
     "metadata": {},
     "output_type": "execute_result"
    }
   ],
   "source": [
    "# mean of sampling distribution\n",
    "df_sample_mean.mean()"
   ]
  },
  {
   "cell_type": "code",
   "execution_count": 61,
   "metadata": {},
   "outputs": [
    {
     "data": {
      "text/plain": [
       "230"
      ]
     },
     "execution_count": 61,
     "metadata": {},
     "output_type": "execute_result"
    }
   ],
   "source": [
    "# number of means that match our group mean\n",
    "df_sample_mean[df_sample_mean[\"Sample Mean\"]==mean_group].count()[0]"
   ]
  },
  {
   "cell_type": "code",
   "execution_count": 62,
   "metadata": {},
   "outputs": [
    {
     "data": {
      "text/plain": [
       "434"
      ]
     },
     "execution_count": 62,
     "metadata": {},
     "output_type": "execute_result"
    }
   ],
   "source": [
    "# number of means greater than or equal to our group mean\n",
    "df_sample_mean[df_sample_mean[\"Sample Mean\"]>=mean_group].count()[0]"
   ]
  },
  {
   "cell_type": "markdown",
   "metadata": {},
   "source": [
    "The mean of sampling distribution of 1000 observations has a lower value than both our group mean and the single sample mean."
   ]
  }
 ],
 "metadata": {
  "kernelspec": {
   "display_name": "Python 3",
   "language": "python",
   "name": "python3"
  },
  "language_info": {
   "codemirror_mode": {
    "name": "ipython",
    "version": 3
   },
   "file_extension": ".py",
   "mimetype": "text/x-python",
   "name": "python",
   "nbconvert_exporter": "python",
   "pygments_lexer": "ipython3",
   "version": "3.8.8"
  }
 },
 "nbformat": 4,
 "nbformat_minor": 2
}
