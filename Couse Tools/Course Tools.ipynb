{
 "cells": [
  {
   "cell_type": "markdown",
   "id": "e746da0e",
   "metadata": {},
   "source": [
    "# STAT 207 Homework 1 [10 points]\n",
    "\n",
    "## Course Tools"
   ]
  },
  {
   "cell_type": "markdown",
   "id": "6fef820a",
   "metadata": {},
   "source": [
    "Due: Friday, January 20 by noon (11:59 am) CST*\n",
    "\n",
    "*Late Submissions: accepted until Thursday, February 2 at 11:59 pm\n",
    "<hr>"
   ]
  },
  {
   "cell_type": "markdown",
   "id": "369258e7",
   "metadata": {},
   "source": [
    "## Purpose:\n",
    "\n",
    "The purpose of this individual homework assignment is to verify that you have successfully installed and set up all of the necessary data science applications that we will be using this semester.  You will also orient yourself to the course and introduce yourself to your instructional team."
   ]
  },
  {
   "cell_type": "markdown",
   "id": "c4d94493",
   "metadata": {},
   "source": [
    "## <u>Instructions</u>:\n",
    "\n",
    "### Part 1: Course Tools [5 points]\n",
    "\n",
    "For this first part, you should work through the Start Up Guide for STAT 207, which is linked on the homepage of Canvas.\n",
    "\n",
    "This will give you instructions on how to download our software (python through jupyter notebooks and git), set up your GitHub account to access and submit our course assignments, and connect your computer to our course GitHub.\n",
    "\n",
    "After ensuring that you have worked through the steps on Canvas, run the following code.  You should be able to do this by clicking anywhere inside the cell to select it and then hitting the 'Run' button in the menu at the top of this page or with the keyboard shortcuts 'shift' + 'enter'.\n",
    "\n",
    "This will confirm that you have correctly set up your computer for completing assignments."
   ]
  },
  {
   "cell_type": "code",
   "execution_count": 1,
   "id": "adce7588",
   "metadata": {},
   "outputs": [],
   "source": [
    "import pandas as pd                    # imports pandas and calls the imported version 'pd'\n",
    "import matplotlib.pyplot as plt        # imports the package and calls it 'plt'\n",
    "import seaborn as sns                  # imports the seaborn package with the imported name 'sns'\n",
    "sns.set()                              # sets the default plotting style"
   ]
  },
  {
   "cell_type": "code",
   "execution_count": 2,
   "id": "0aca8040",
   "metadata": {},
   "outputs": [
    {
     "data": {
      "text/html": [
       "<div>\n",
       "<style scoped>\n",
       "    .dataframe tbody tr th:only-of-type {\n",
       "        vertical-align: middle;\n",
       "    }\n",
       "\n",
       "    .dataframe tbody tr th {\n",
       "        vertical-align: top;\n",
       "    }\n",
       "\n",
       "    .dataframe thead th {\n",
       "        text-align: right;\n",
       "    }\n",
       "</style>\n",
       "<table border=\"1\" class=\"dataframe\">\n",
       "  <thead>\n",
       "    <tr style=\"text-align: right;\">\n",
       "      <th></th>\n",
       "      <th>course</th>\n",
       "      <th>enrolled</th>\n",
       "    </tr>\n",
       "  </thead>\n",
       "  <tbody>\n",
       "    <tr>\n",
       "      <th>0</th>\n",
       "      <td>cs105</td>\n",
       "      <td>345</td>\n",
       "    </tr>\n",
       "    <tr>\n",
       "      <th>1</th>\n",
       "      <td>stat107</td>\n",
       "      <td>197</td>\n",
       "    </tr>\n",
       "    <tr>\n",
       "      <th>2</th>\n",
       "      <td>stat207</td>\n",
       "      <td>53</td>\n",
       "    </tr>\n",
       "    <tr>\n",
       "      <th>3</th>\n",
       "      <td>adv307</td>\n",
       "      <td>38</td>\n",
       "    </tr>\n",
       "    <tr>\n",
       "      <th>4</th>\n",
       "      <td>hist407</td>\n",
       "      <td>26</td>\n",
       "    </tr>\n",
       "  </tbody>\n",
       "</table>\n",
       "</div>"
      ],
      "text/plain": [
       "    course  enrolled\n",
       "0    cs105       345\n",
       "1  stat107       197\n",
       "2  stat207        53\n",
       "3   adv307        38\n",
       "4  hist407        26"
      ]
     },
     "execution_count": 2,
     "metadata": {},
     "output_type": "execute_result"
    }
   ],
   "source": [
    "courses = ['cs105', 'stat107', 'stat207', 'adv307', 'hist407']\n",
    "enrollment = [345, 197, 53, 38, 26]\n",
    "courses_dictionary = {'course':courses, 'enrolled':enrollment}\n",
    "littledf = pd.DataFrame(courses_dictionary)\n",
    "littledf"
   ]
  },
  {
   "cell_type": "markdown",
   "id": "ac088395",
   "metadata": {},
   "source": [
    "For future homework and lab assignments, you'll be given the structure of the assignment.  You'll have questions like above with blank cells beneath them.\n",
    "\n",
    "First, for the code cell below (blank, grey background), type `2 + 3` and run the cell.\n",
    "\n",
    "Then, for the markdown cell below (Type *Markdown* and LaTeX: $\\alpha^2$), type 'My favorite number is ' and share with us your favorite number.  Then, run that cell to return to a typical text format."
   ]
  },
  {
   "cell_type": "code",
   "execution_count": 3,
   "id": "dc4001d7",
   "metadata": {},
   "outputs": [
    {
     "data": {
      "text/plain": [
       "5"
      ]
     },
     "execution_count": 3,
     "metadata": {},
     "output_type": "execute_result"
    }
   ],
   "source": [
    "2+3"
   ]
  },
  {
   "cell_type": "markdown",
   "id": "6dfc26c3",
   "metadata": {},
   "source": [
    "My favorite number is 816."
   ]
  },
  {
   "cell_type": "markdown",
   "id": "505ebb0b",
   "metadata": {},
   "source": [
    "### Part 2: Course Orientation [2 points]\n",
    "\n",
    "Complete the Digital Tools Scavenger Hunt through Canvas Quizzes, which is also linked from the Homework 1 assignment on Canvas.\n",
    "\n",
    "This scavenger hunt consists of 10 questions to help familiarize you with our course tools, resources, and policies.  Completing the 10 question quiz will earn you these 2 points."
   ]
  },
  {
   "cell_type": "markdown",
   "id": "95a40eb0",
   "metadata": {},
   "source": [
    "### Part 3: Introductions [2 points]\n",
    "\n",
    "Complete the Student Intro Survey through Canvas Quizzes, which is also linked from the Homework 1 assignment on Canvas.\n",
    "\n",
    "The student survey allows you to introduce yourself to the instructional team and inform us of what support students may need to successfully complete our STAT 207 course.  Completing the 17 question survey will earn you 2 points."
   ]
  },
  {
   "cell_type": "markdown",
   "id": "6c3dbbe3",
   "metadata": {},
   "source": [
    "### Part 4: Submit Your Homework [1 point]\n",
    "\n",
    "Remember to keep all your cells and hit the save icon above periodically to checkpoint (save) your results on your local computer. Once you are satisified with your results restart the kernel and run all. **Make sure nothing has changed**. Checkpoint and exit. \n",
    "\n",
    "Submit your homework to your personal GitHub repository.  You can find these instructions on Canvas in the Homework 1 assignment."
   ]
  }
 ],
 "metadata": {
  "kernelspec": {
   "display_name": "Python 3 (ipykernel)",
   "language": "python",
   "name": "python3"
  },
  "language_info": {
   "codemirror_mode": {
    "name": "ipython",
    "version": 3
   },
   "file_extension": ".py",
   "mimetype": "text/x-python",
   "name": "python",
   "nbconvert_exporter": "python",
   "pygments_lexer": "ipython3",
   "version": "3.9.7"
  }
 },
 "nbformat": 4,
 "nbformat_minor": 5
}
