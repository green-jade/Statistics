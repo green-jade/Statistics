{
 "cells": [
  {
   "cell_type": "markdown",
   "id": "e746da0e",
   "metadata": {},
   "source": [
    "# Quantitative Variable Descriptive Analytics and Probability"
   ]
  },
  {
   "cell_type": "markdown",
   "id": "c4d94493",
   "metadata": {},
   "source": [
    "## Package Imports\n",
    "\n",
    "We'll import three Python packages that we've used so far and will need for this assignment.  Those packages are pandas, matplotlib.pyplot, and seaborn.  \n",
    "\n",
    "Run the cell provided below to access the functions in these packages."
   ]
  },
  {
   "cell_type": "code",
   "execution_count": 1,
   "id": "25c92b96",
   "metadata": {},
   "outputs": [],
   "source": [
    "import pandas as pd\n",
    "import seaborn as sns\n",
    "import matplotlib.pyplot as plt"
   ]
  },
  {
   "cell_type": "markdown",
   "id": "ac088395",
   "metadata": {},
   "source": [
    "<hr>\n",
    "\n",
    "## <u>Case Study</u>: Groundhog Day\n",
    "\n",
    "On Groundhog Day (February 2), a famous groundhog in Pennsylvania called Punxsutawney Phil emerges from his burrow.  Spectators watch and observe whether he sees his shadow or not.  The legend says that if he sees his shadow, winter will continue for six more weeks; if not, spring is coming early.  In 2023, Phil saw his shadow.  But, does the data support the legend?  In this Case Study, we'll examine historical data to see what the data supports.\n",
    "\n",
    "## 1. Read in the Data \n",
    "\n",
    "Read in the groundhog.csv data.  Check the data for missing data, make any necessary adjustments, and print the first few rows of the data frame."
   ]
  },
  {
   "cell_type": "code",
   "execution_count": 2,
   "id": "02bbc6be",
   "metadata": {},
   "outputs": [],
   "source": [
    "df = pd.read_csv('groundhog.csv')"
   ]
  },
  {
   "cell_type": "code",
   "execution_count": 3,
   "id": "e7046521",
   "metadata": {},
   "outputs": [
    {
     "data": {
      "text/plain": [
       "Year                                             int64\n",
       "Phil                                            object\n",
       "February Average Temperature                   float64\n",
       "February Average Temperature (Northeast)       float64\n",
       "February Average Temperature (Midwest)         float64\n",
       "February Average Temperature (Pennsylvania)    float64\n",
       "March Average Temperature                      float64\n",
       "March Average Temperature (Northeast)          float64\n",
       "March Average Temperature (Midwest)            float64\n",
       "March Average Temperature (Pennsylvania)       float64\n",
       "dtype: object"
      ]
     },
     "execution_count": 3,
     "metadata": {},
     "output_type": "execute_result"
    }
   ],
   "source": [
    "df.dtypes"
   ]
  },
  {
   "cell_type": "code",
   "execution_count": 4,
   "id": "87791208",
   "metadata": {},
   "outputs": [
    {
     "data": {
      "text/plain": [
       "Year                                           0\n",
       "Phil                                           0\n",
       "February Average Temperature                   0\n",
       "February Average Temperature (Northeast)       0\n",
       "February Average Temperature (Midwest)         0\n",
       "February Average Temperature (Pennsylvania)    0\n",
       "March Average Temperature                      0\n",
       "March Average Temperature (Northeast)          0\n",
       "March Average Temperature (Midwest)            0\n",
       "March Average Temperature (Pennsylvania)       0\n",
       "dtype: int64"
      ]
     },
     "execution_count": 4,
     "metadata": {},
     "output_type": "execute_result"
    }
   ],
   "source": [
    "df.isnull().sum()"
   ]
  },
  {
   "cell_type": "code",
   "execution_count": 5,
   "id": "932b8c68",
   "metadata": {},
   "outputs": [
    {
     "data": {
      "text/plain": [
       "array(['No Record', 'Full Shadow', 'No Shadow', 'Partial Shadow'],\n",
       "      dtype=object)"
      ]
     },
     "execution_count": 5,
     "metadata": {},
     "output_type": "execute_result"
    }
   ],
   "source": [
    "df['Phil'].unique()"
   ]
  },
  {
   "cell_type": "code",
   "execution_count": 6,
   "id": "7b194eb0",
   "metadata": {},
   "outputs": [],
   "source": [
    "missing_values = ['No Record']\n",
    "df = pd.read_csv('groundhog.csv', na_values=missing_values)\n",
    "df = df.dropna().reset_index(drop = True)"
   ]
  },
  {
   "cell_type": "code",
   "execution_count": 7,
   "id": "4684ecac",
   "metadata": {},
   "outputs": [
    {
     "data": {
      "text/html": [
       "<div>\n",
       "<style scoped>\n",
       "    .dataframe tbody tr th:only-of-type {\n",
       "        vertical-align: middle;\n",
       "    }\n",
       "\n",
       "    .dataframe tbody tr th {\n",
       "        vertical-align: top;\n",
       "    }\n",
       "\n",
       "    .dataframe thead th {\n",
       "        text-align: right;\n",
       "    }\n",
       "</style>\n",
       "<table border=\"1\" class=\"dataframe\">\n",
       "  <thead>\n",
       "    <tr style=\"text-align: right;\">\n",
       "      <th></th>\n",
       "      <th>Year</th>\n",
       "      <th>Phil</th>\n",
       "      <th>February Average Temperature</th>\n",
       "      <th>February Average Temperature (Northeast)</th>\n",
       "      <th>February Average Temperature (Midwest)</th>\n",
       "      <th>February Average Temperature (Pennsylvania)</th>\n",
       "      <th>March Average Temperature</th>\n",
       "      <th>March Average Temperature (Northeast)</th>\n",
       "      <th>March Average Temperature (Midwest)</th>\n",
       "      <th>March Average Temperature (Pennsylvania)</th>\n",
       "    </tr>\n",
       "  </thead>\n",
       "  <tbody>\n",
       "    <tr>\n",
       "      <th>0</th>\n",
       "      <td>1898</td>\n",
       "      <td>Full Shadow</td>\n",
       "      <td>35.37</td>\n",
       "      <td>24.8</td>\n",
       "      <td>33.3</td>\n",
       "      <td>26.7</td>\n",
       "      <td>41.05</td>\n",
       "      <td>38.0</td>\n",
       "      <td>46.0</td>\n",
       "      <td>42.0</td>\n",
       "    </tr>\n",
       "    <tr>\n",
       "      <th>1</th>\n",
       "      <td>1900</td>\n",
       "      <td>Full Shadow</td>\n",
       "      <td>30.76</td>\n",
       "      <td>21.4</td>\n",
       "      <td>27.5</td>\n",
       "      <td>24.1</td>\n",
       "      <td>41.27</td>\n",
       "      <td>26.0</td>\n",
       "      <td>37.9</td>\n",
       "      <td>29.3</td>\n",
       "    </tr>\n",
       "    <tr>\n",
       "      <th>2</th>\n",
       "      <td>1901</td>\n",
       "      <td>Full Shadow</td>\n",
       "      <td>29.86</td>\n",
       "      <td>16.0</td>\n",
       "      <td>26.2</td>\n",
       "      <td>18.9</td>\n",
       "      <td>40.71</td>\n",
       "      <td>30.8</td>\n",
       "      <td>41.9</td>\n",
       "      <td>35.1</td>\n",
       "    </tr>\n",
       "    <tr>\n",
       "      <th>3</th>\n",
       "      <td>1903</td>\n",
       "      <td>Full Shadow</td>\n",
       "      <td>28.42</td>\n",
       "      <td>24.5</td>\n",
       "      <td>31.3</td>\n",
       "      <td>28.0</td>\n",
       "      <td>42.21</td>\n",
       "      <td>40.4</td>\n",
       "      <td>47.7</td>\n",
       "      <td>44.5</td>\n",
       "    </tr>\n",
       "    <tr>\n",
       "      <th>4</th>\n",
       "      <td>1904</td>\n",
       "      <td>Full Shadow</td>\n",
       "      <td>31.59</td>\n",
       "      <td>15.0</td>\n",
       "      <td>28.2</td>\n",
       "      <td>19.2</td>\n",
       "      <td>41.76</td>\n",
       "      <td>29.8</td>\n",
       "      <td>42.8</td>\n",
       "      <td>34.0</td>\n",
       "    </tr>\n",
       "  </tbody>\n",
       "</table>\n",
       "</div>"
      ],
      "text/plain": [
       "   Year         Phil  February Average Temperature  \\\n",
       "0  1898  Full Shadow                         35.37   \n",
       "1  1900  Full Shadow                         30.76   \n",
       "2  1901  Full Shadow                         29.86   \n",
       "3  1903  Full Shadow                         28.42   \n",
       "4  1904  Full Shadow                         31.59   \n",
       "\n",
       "   February Average Temperature (Northeast)  \\\n",
       "0                                      24.8   \n",
       "1                                      21.4   \n",
       "2                                      16.0   \n",
       "3                                      24.5   \n",
       "4                                      15.0   \n",
       "\n",
       "   February Average Temperature (Midwest)  \\\n",
       "0                                    33.3   \n",
       "1                                    27.5   \n",
       "2                                    26.2   \n",
       "3                                    31.3   \n",
       "4                                    28.2   \n",
       "\n",
       "   February Average Temperature (Pennsylvania)  March Average Temperature  \\\n",
       "0                                         26.7                      41.05   \n",
       "1                                         24.1                      41.27   \n",
       "2                                         18.9                      40.71   \n",
       "3                                         28.0                      42.21   \n",
       "4                                         19.2                      41.76   \n",
       "\n",
       "   March Average Temperature (Northeast)  March Average Temperature (Midwest)  \\\n",
       "0                                   38.0                                 46.0   \n",
       "1                                   26.0                                 37.9   \n",
       "2                                   30.8                                 41.9   \n",
       "3                                   40.4                                 47.7   \n",
       "4                                   29.8                                 42.8   \n",
       "\n",
       "   March Average Temperature (Pennsylvania)  \n",
       "0                                      42.0  \n",
       "1                                      29.3  \n",
       "2                                      35.1  \n",
       "3                                      44.5  \n",
       "4                                      34.0  "
      ]
     },
     "execution_count": 7,
     "metadata": {},
     "output_type": "execute_result"
    }
   ],
   "source": [
    "df.head()"
   ]
  },
  {
   "cell_type": "markdown",
   "id": "2e606086",
   "metadata": {},
   "source": [
    "## 2. Phil's Outcomes \n",
    "\n",
    "For this problem, we will explore the results of Phil's experiment by focusing on the variable Phil. \n",
    "\n",
    "**a)** First, what is the sample space of possible outcomes for Phil's experiment?"
   ]
  },
  {
   "cell_type": "code",
   "execution_count": 8,
   "id": "2623c078",
   "metadata": {},
   "outputs": [
    {
     "data": {
      "text/plain": [
       "array(['Full Shadow', 'No Shadow', 'Partial Shadow'], dtype=object)"
      ]
     },
     "execution_count": 8,
     "metadata": {},
     "output_type": "execute_result"
    }
   ],
   "source": [
    "df['Phil'].unique()"
   ]
  },
  {
   "attachments": {},
   "cell_type": "markdown",
   "id": "8d479eb4",
   "metadata": {},
   "source": [
    "{'Full Shadow', 'No Shadow', 'Partial Shadow'}"
   ]
  },
  {
   "cell_type": "markdown",
   "id": "92a41d0d",
   "metadata": {},
   "source": [
    "**b)** Then, we'd like to summarize the observed outcomes for this experiment from the data.  Calculate the relative frequencies for each of the possible results when Phil emerges from his burrow."
   ]
  },
  {
   "cell_type": "code",
   "execution_count": 9,
   "id": "902220b6",
   "metadata": {},
   "outputs": [
    {
     "data": {
      "text/plain": [
       "Full Shadow       0.862069\n",
       "No Shadow         0.129310\n",
       "Partial Shadow    0.008621\n",
       "Name: Phil, dtype: float64"
      ]
     },
     "execution_count": 9,
     "metadata": {},
     "output_type": "execute_result"
    }
   ],
   "source": [
    "df['Phil'].value_counts(normalize=True)"
   ]
  },
  {
   "cell_type": "markdown",
   "id": "19088aa7",
   "metadata": {},
   "source": [
    "**c)** Which result is most common?  Least common?\n",
    "\n",
    "Based on these results, choose whether you'd like to filter your data to remove uncommon outcomes.  Explain your decision."
   ]
  },
  {
   "attachments": {},
   "cell_type": "markdown",
   "id": "f133d9d0",
   "metadata": {},
   "source": [
    "'Full Shadow' is the most observed result and 'Partial Shadow' is the least common result. \n",
    "\n",
    "I would like to remove the row that the observed outcome of Phil is 'Partial Shadow', because the portion of it is too small to see that it is a normal observation. "
   ]
  },
  {
   "cell_type": "code",
   "execution_count": 10,
   "id": "f3ae7575",
   "metadata": {},
   "outputs": [],
   "source": [
    "df = df[df['Phil'] != 'Partial Shadow']"
   ]
  },
  {
   "cell_type": "markdown",
   "id": "f4baf91a",
   "metadata": {},
   "source": [
    "## 3. Midwest Temperatures\n",
    "\n",
    "Because we live in the Midwest, we'd like to observe whether Phil's prediction about winter seems to be accurate, based on the average temperatures recorded in the Midwest.  The following steps will help you gather information to answer this question.\n",
    "\n",
    "**a)** Generate side-by-side violin plots to display the average temperature in February for the Midwest, based on the result of Punxsutawney Phil's shadow."
   ]
  },
  {
   "cell_type": "code",
   "execution_count": 11,
   "id": "ad953733",
   "metadata": {},
   "outputs": [
    {
     "data": {
      "image/png": "[encoded data removed]",
      "text/plain": [
       "<Figure size 432x288 with 1 Axes>"
      ]
     },
     "metadata": {
      "needs_background": "light"
     },
     "output_type": "display_data"
    }
   ],
   "source": [
    "sns.violinplot(x='Phil', y='February Average Temperature (Midwest)', data=df) \n",
    "plt.xlabel(\"Phil's Observation\") \n",
    "plt.ylabel('February Avg Temperature (Midwest)') \n",
    "plt.title(\"Side by Side Violinplots of Average Temperature in February for Phil's shadow\") \n",
    "plt.show() "
   ]
  },
  {
   "cell_type": "markdown",
   "id": "660ef939",
   "metadata": {},
   "source": [
    "**b)** For each of the results of Phil's experiment, calculate one measure of center and one measure of spread."
   ]
  },
  {
   "cell_type": "code",
   "execution_count": 12,
   "id": "217033c8",
   "metadata": {},
   "outputs": [
    {
     "data": {
      "text/plain": [
       "32.799"
      ]
     },
     "execution_count": 12,
     "metadata": {},
     "output_type": "execute_result"
    }
   ],
   "source": [
    "df['February Average Temperature (Midwest)'].loc[df['Phil'] == 'Full Shadow'].mean()"
   ]
  },
  {
   "cell_type": "code",
   "execution_count": 13,
   "id": "09475e20",
   "metadata": {},
   "outputs": [
    {
     "data": {
      "text/plain": [
       "33.85333333333333"
      ]
     },
     "execution_count": 13,
     "metadata": {},
     "output_type": "execute_result"
    }
   ],
   "source": [
    "df['February Average Temperature (Midwest)'].loc[df['Phil'] == 'No Shadow'].mean()"
   ]
  },
  {
   "cell_type": "code",
   "execution_count": 14,
   "id": "e24d3fa8",
   "metadata": {},
   "outputs": [
    {
     "data": {
      "text/plain": [
       "4.807664230531845"
      ]
     },
     "execution_count": 14,
     "metadata": {},
     "output_type": "execute_result"
    }
   ],
   "source": [
    "df['February Average Temperature (Midwest)'].loc[df['Phil'] == 'Full Shadow'].std()"
   ]
  },
  {
   "cell_type": "code",
   "execution_count": 15,
   "id": "263eafe7",
   "metadata": {},
   "outputs": [
    {
     "data": {
      "text/plain": [
       "3.9879938864164823"
      ]
     },
     "execution_count": 15,
     "metadata": {},
     "output_type": "execute_result"
    }
   ],
   "source": [
    "df['February Average Temperature (Midwest)'].loc[df['Phil'] == 'No Shadow'].std()"
   ]
  },
  {
   "cell_type": "markdown",
   "id": "ec6eaeae",
   "metadata": {},
   "source": [
    "**c)** We've already examined the February temperatures, but a friend thinks that how quickly winter comes may actually relate to how much the average temperatures increase between February and March.  Calculate a new variable for the increase in the average temperature in the Midwest from February to March, and include this variable in our data frame."
   ]
  },
  {
   "cell_type": "code",
   "execution_count": 16,
   "id": "e5ccd2d9",
   "metadata": {},
   "outputs": [],
   "source": [
    "df['Increased Temperature'] = df['March Average Temperature (Midwest)'] - df['February Average Temperature (Midwest)']"
   ]
  },
  {
   "cell_type": "markdown",
   "id": "5eefe1e7",
   "metadata": {},
   "source": [
    "**d)** Generate side-by-side boxplots for the temperature increase between February and March calculated in part **c**."
   ]
  },
  {
   "cell_type": "code",
   "execution_count": 17,
   "id": "0d6445be",
   "metadata": {},
   "outputs": [
    {
     "data": {
      "image/png": "[encoded data removed]",
      "text/plain": [
       "<Figure size 432x288 with 1 Axes>"
      ]
     },
     "metadata": {
      "needs_background": "light"
     },
     "output_type": "display_data"
    }
   ],
   "source": [
    "sns.boxplot(x='Phil', y='Increased Temperature', data=df) \n",
    "plt.xlabel(\"Phil's Observation\") \n",
    "plt.ylabel('Increased Temperature') \n",
    "plt.title(\"Side by Side Boxplots of Increased Temperature for Phil's shadow\") \n",
    "plt.show() "
   ]
  },
  {
   "cell_type": "markdown",
   "id": "403bac1e",
   "metadata": {},
   "source": [
    "**e)** Finally, we'll consider what all of this information means.  If you don't like the idea of winter being extended, would you want Phil to see his shadow on Groundhog Day?  Explain.\n",
    "\n",
    "Thinking critically about our data, do you have any questions about the data?  Do you notice any limitations to results that you can draw from this data?"
   ]
  },
  {
   "attachments": {},
   "cell_type": "markdown",
   "id": "c24baac2",
   "metadata": {},
   "source": [
    "If I don't want winter to be extended, it would be better Phil not seeing his shadow on Groundhog Day. I think we should observe how much the average temperature had increased from February to March to decide whether winter has been really extended or not. According to the boxplot that I have plotted, the median and spread of increased temperature was lower when Phil have not seen his shadow. Therefore, I can expect that winter will end sooner when Phil doesn't see his shadow on Groundhog Day. \n",
    "\n",
    "Nevertheless, the data has a limitation to figure out if the winter will be extended for 6 weeks. Average temperature of each month does not exactly identifies the change of temperature during 6 weeks. The data analysis would be more reliable if there is a data of average temperature every week. "
   ]
  },
  {
   "cell_type": "markdown",
   "id": "3e654ee5",
   "metadata": {},
   "source": [
    "<hr>\n",
    "\n",
    "## <u>Case Study</u>: Poker Hand\n",
    "\n",
    "In poker, a player is dealt 5 cards from a standard deck of 52 cards.  One type of hand that can be dealt is a three of a kind, where a player has three cards of the same rank (face), one card of a different rank, and the last card of a different rank from the other two.  Note that this is distinct from a full house, where we have three of a kind (three cards of the same rank) and a pair (two cards of the same rank).  \n",
    "\n",
    "## 4. Actual Probability \n",
    "First, using our counting rules, calculate the actual probability if drawing a three of a kind poker hand.\n",
    "\n",
    "**Show your work and calculations.**"
   ]
  },
  {
   "cell_type": "code",
   "execution_count": 18,
   "id": "f76cfa19",
   "metadata": {},
   "outputs": [
    {
     "data": {
      "text/plain": [
       "54912.0"
      ]
     },
     "execution_count": 18,
     "metadata": {},
     "output_type": "execute_result"
    }
   ],
   "source": [
    "# combination of drawing three of a kind poker hand\n",
    "from math import factorial\n",
    "\n",
    "# we must choose the rank which the player has three of them : 13\n",
    "# choose three cards of that rank : 4 choose 3 (4 suits for each rank)\n",
    "# then, choose the two different ranks : (13-1) choose 2\n",
    "# choose one card for each rank : 4 * 4\n",
    "\n",
    "three_of_a_kind = 13 * (factorial(4) / (factorial(3) * factorial(1))) * (factorial(12) / (factorial(2) * factorial(10))) * (4 * 4)\n",
    "three_of_a_kind"
   ]
  },
  {
   "cell_type": "code",
   "execution_count": 19,
   "id": "a662b6b5",
   "metadata": {},
   "outputs": [
    {
     "data": {
      "text/plain": [
       "2598960.0"
      ]
     },
     "execution_count": 19,
     "metadata": {},
     "output_type": "execute_result"
    }
   ],
   "source": [
    "# combination of drawing 5 cards from a standard deck of 52 cards\n",
    "\n",
    "n = 52 # total number of cards\n",
    "k = 5 # number of dealt cards\n",
    "\n",
    "total = factorial(n) / (factorial(k) * factorial(n-k))\n",
    "total"
   ]
  },
  {
   "cell_type": "code",
   "execution_count": 20,
   "id": "a1446c75",
   "metadata": {},
   "outputs": [
    {
     "data": {
      "text/plain": [
       "0.02112845138055222"
      ]
     },
     "execution_count": 20,
     "metadata": {},
     "output_type": "execute_result"
    }
   ],
   "source": [
    "probability = three_of_a_kind / total\n",
    "probability"
   ]
  },
  {
   "attachments": {},
   "cell_type": "markdown",
   "id": "9814dc52",
   "metadata": {},
   "source": [
    "The actual probability of drawing a three of a kind poker hand is about 0.0211. "
   ]
  },
  {
   "cell_type": "markdown",
   "id": "ba9afbf4",
   "metadata": {},
   "source": [
    "## 5. Probability Estimate\n",
    "\n",
    "We have created two test hands below in the form of data frames.  \n",
    "\n",
    "1. **hand1** is a 'three of a kind' hand\n",
    "2. **hand2** is not a 'three of a kind' hand"
   ]
  },
  {
   "cell_type": "code",
   "execution_count": 21,
   "id": "3f3152ac",
   "metadata": {},
   "outputs": [
    {
     "data": {
      "text/html": [
       "<div>\n",
       "<style scoped>\n",
       "    .dataframe tbody tr th:only-of-type {\n",
       "        vertical-align: middle;\n",
       "    }\n",
       "\n",
       "    .dataframe tbody tr th {\n",
       "        vertical-align: top;\n",
       "    }\n",
       "\n",
       "    .dataframe thead th {\n",
       "        text-align: right;\n",
       "    }\n",
       "</style>\n",
       "<table border=\"1\" class=\"dataframe\">\n",
       "  <thead>\n",
       "    <tr style=\"text-align: right;\">\n",
       "      <th></th>\n",
       "      <th>face</th>\n",
       "      <th>suit</th>\n",
       "    </tr>\n",
       "  </thead>\n",
       "  <tbody>\n",
       "    <tr>\n",
       "      <th>0</th>\n",
       "      <td>J</td>\n",
       "      <td>heart</td>\n",
       "    </tr>\n",
       "    <tr>\n",
       "      <th>1</th>\n",
       "      <td>J</td>\n",
       "      <td>club</td>\n",
       "    </tr>\n",
       "    <tr>\n",
       "      <th>2</th>\n",
       "      <td>2</td>\n",
       "      <td>spade</td>\n",
       "    </tr>\n",
       "    <tr>\n",
       "      <th>3</th>\n",
       "      <td>9</td>\n",
       "      <td>club</td>\n",
       "    </tr>\n",
       "    <tr>\n",
       "      <th>4</th>\n",
       "      <td>J</td>\n",
       "      <td>diamond</td>\n",
       "    </tr>\n",
       "  </tbody>\n",
       "</table>\n",
       "</div>"
      ],
      "text/plain": [
       "  face     suit\n",
       "0    J    heart\n",
       "1    J     club\n",
       "2    2    spade\n",
       "3    9     club\n",
       "4    J  diamond"
      ]
     },
     "execution_count": 21,
     "metadata": {},
     "output_type": "execute_result"
    }
   ],
   "source": [
    "import pandas as pd\n",
    "hand1 = pd.DataFrame({'face': ['J','J','2','9','J'],\n",
    "                           'suit': ['heart', 'club', 'spade', 'club', 'diamond']})\n",
    "hand1"
   ]
  },
  {
   "cell_type": "code",
   "execution_count": 22,
   "id": "79d31518",
   "metadata": {},
   "outputs": [
    {
     "data": {
      "text/html": [
       "<div>\n",
       "<style scoped>\n",
       "    .dataframe tbody tr th:only-of-type {\n",
       "        vertical-align: middle;\n",
       "    }\n",
       "\n",
       "    .dataframe tbody tr th {\n",
       "        vertical-align: top;\n",
       "    }\n",
       "\n",
       "    .dataframe thead th {\n",
       "        text-align: right;\n",
       "    }\n",
       "</style>\n",
       "<table border=\"1\" class=\"dataframe\">\n",
       "  <thead>\n",
       "    <tr style=\"text-align: right;\">\n",
       "      <th></th>\n",
       "      <th>face</th>\n",
       "      <th>suit</th>\n",
       "    </tr>\n",
       "  </thead>\n",
       "  <tbody>\n",
       "    <tr>\n",
       "      <th>0</th>\n",
       "      <td>J</td>\n",
       "      <td>heart</td>\n",
       "    </tr>\n",
       "    <tr>\n",
       "      <th>1</th>\n",
       "      <td>J</td>\n",
       "      <td>club</td>\n",
       "    </tr>\n",
       "    <tr>\n",
       "      <th>2</th>\n",
       "      <td>Q</td>\n",
       "      <td>spade</td>\n",
       "    </tr>\n",
       "    <tr>\n",
       "      <th>3</th>\n",
       "      <td>Q</td>\n",
       "      <td>club</td>\n",
       "    </tr>\n",
       "    <tr>\n",
       "      <th>4</th>\n",
       "      <td>J</td>\n",
       "      <td>diamond</td>\n",
       "    </tr>\n",
       "  </tbody>\n",
       "</table>\n",
       "</div>"
      ],
      "text/plain": [
       "  face     suit\n",
       "0    J    heart\n",
       "1    J     club\n",
       "2    Q    spade\n",
       "3    Q     club\n",
       "4    J  diamond"
      ]
     },
     "execution_count": 22,
     "metadata": {},
     "output_type": "execute_result"
    }
   ],
   "source": [
    "hand2 = pd.DataFrame({'face': ['J','J','Q','Q','J'],\n",
    "                           'suit': ['heart', 'club', 'spade', 'club', 'diamond']})\n",
    "hand2"
   ]
  },
  {
   "cell_type": "code",
   "execution_count": 23,
   "id": "65765ef8",
   "metadata": {},
   "outputs": [
    {
     "data": {
      "text/plain": [
       "3"
      ]
     },
     "execution_count": 23,
     "metadata": {},
     "output_type": "execute_result"
    }
   ],
   "source": [
    "a = hand2['face'].value_counts().shape[0]\n",
    "a\n",
    "b = hand2['face'].value_counts().max()\n",
    "b"
   ]
  },
  {
   "cell_type": "markdown",
   "id": "3b7adec9",
   "metadata": {},
   "source": [
    "**a)** Create a function that returns True if a hand is a three of a kind and False if a hand is not three of a kind."
   ]
  },
  {
   "cell_type": "code",
   "execution_count": 24,
   "id": "188341b3",
   "metadata": {},
   "outputs": [],
   "source": [
    "def tester(hand):\n",
    "    if (hand['face'].value_counts().shape[0] == 3) and (hand['face'].value_counts().max() == 3):\n",
    "        return True\n",
    "    else:\n",
    "        return False"
   ]
  },
  {
   "cell_type": "markdown",
   "id": "a3a6a97e",
   "metadata": {},
   "source": [
    "**b)** Confirm this function works using **hand1** and **hand2**."
   ]
  },
  {
   "cell_type": "code",
   "execution_count": 25,
   "id": "dc4001d7",
   "metadata": {},
   "outputs": [
    {
     "name": "stdout",
     "output_type": "stream",
     "text": [
      "True\n",
      "False\n"
     ]
    }
   ],
   "source": [
    "print(tester(hand1))\n",
    "print(tester(hand2))"
   ]
  },
  {
   "attachments": {},
   "cell_type": "markdown",
   "id": "e9cf743a",
   "metadata": {},
   "source": [
    "The function returns True for hand1 and False for hand2. "
   ]
  },
  {
   "cell_type": "markdown",
   "id": "63ccd704",
   "metadata": {},
   "source": [
    "**c)** Using the cards.csv file, conduct one trial that does the following:\n",
    "\n",
    "1. Draws a poker hand.\n",
    "2. Checks if the hand is three of a kind."
   ]
  },
  {
   "cell_type": "code",
   "execution_count": 26,
   "id": "d9d618a2",
   "metadata": {},
   "outputs": [
    {
     "data": {
      "text/html": [
       "<div>\n",
       "<style scoped>\n",
       "    .dataframe tbody tr th:only-of-type {\n",
       "        vertical-align: middle;\n",
       "    }\n",
       "\n",
       "    .dataframe tbody tr th {\n",
       "        vertical-align: top;\n",
       "    }\n",
       "\n",
       "    .dataframe thead th {\n",
       "        text-align: right;\n",
       "    }\n",
       "</style>\n",
       "<table border=\"1\" class=\"dataframe\">\n",
       "  <thead>\n",
       "    <tr style=\"text-align: right;\">\n",
       "      <th></th>\n",
       "      <th>color</th>\n",
       "      <th>suit</th>\n",
       "      <th>face</th>\n",
       "    </tr>\n",
       "  </thead>\n",
       "  <tbody>\n",
       "    <tr>\n",
       "      <th>12</th>\n",
       "      <td>black</td>\n",
       "      <td>club</td>\n",
       "      <td>K</td>\n",
       "    </tr>\n",
       "    <tr>\n",
       "      <th>40</th>\n",
       "      <td>red</td>\n",
       "      <td>heart</td>\n",
       "      <td>2</td>\n",
       "    </tr>\n",
       "    <tr>\n",
       "      <th>9</th>\n",
       "      <td>black</td>\n",
       "      <td>club</td>\n",
       "      <td>10</td>\n",
       "    </tr>\n",
       "    <tr>\n",
       "      <th>49</th>\n",
       "      <td>red</td>\n",
       "      <td>heart</td>\n",
       "      <td>J</td>\n",
       "    </tr>\n",
       "    <tr>\n",
       "      <th>39</th>\n",
       "      <td>red</td>\n",
       "      <td>heart</td>\n",
       "      <td>A</td>\n",
       "    </tr>\n",
       "  </tbody>\n",
       "</table>\n",
       "</div>"
      ],
      "text/plain": [
       "    color   suit face\n",
       "12  black   club    K\n",
       "40    red  heart    2\n",
       "9   black   club   10\n",
       "49    red  heart    J\n",
       "39    red  heart    A"
      ]
     },
     "execution_count": 26,
     "metadata": {},
     "output_type": "execute_result"
    }
   ],
   "source": [
    "cards = pd.read_csv('cards.csv')\n",
    "draw = cards.sample(5, replace = False, random_state= 3)\n",
    "draw"
   ]
  },
  {
   "cell_type": "code",
   "execution_count": 27,
   "id": "61dbd550",
   "metadata": {},
   "outputs": [
    {
     "name": "stdout",
     "output_type": "stream",
     "text": [
      "False\n"
     ]
    }
   ],
   "source": [
    "print(tester(draw))"
   ]
  },
  {
   "cell_type": "markdown",
   "id": "ce93563d",
   "metadata": {},
   "source": [
    "**d)** Now, extend your work from part c to repeat this 20,000 times.\n",
    "\n",
    "Specifically, for this simulation:\n",
    "\n",
    "1. Simulate drawing 20,000 different hands of poker.  Each hand is randomly sampled without replacement.  You can assume after each trial the previous cards are returned to the deck, so that you have a fresh 52 card deck at the start of each trial.\n",
    "2. Test whether the hand drawn is a three of a kind.\n",
    "3. Calculate the proportion of trials that were a three of a kind.\n",
    "\n",
    "**Warning: using print statements may cause your notebook to crash, depending on where the statements are located in your code.**"
   ]
  },
  {
   "cell_type": "code",
   "execution_count": 28,
   "id": "15ccaefe",
   "metadata": {},
   "outputs": [],
   "source": [
    "result = []\n",
    "\n",
    "for i in range(20000):\n",
    "    hand = cards.sample(5, replace= False)\n",
    "    logical_value = tester(hand)\n",
    "    result.append(logical_value)\n"
   ]
  },
  {
   "cell_type": "code",
   "execution_count": 29,
   "id": "07bb1bc2",
   "metadata": {},
   "outputs": [
    {
     "data": {
      "text/html": [
       "<div>\n",
       "<style scoped>\n",
       "    .dataframe tbody tr th:only-of-type {\n",
       "        vertical-align: middle;\n",
       "    }\n",
       "\n",
       "    .dataframe tbody tr th {\n",
       "        vertical-align: top;\n",
       "    }\n",
       "\n",
       "    .dataframe thead th {\n",
       "        text-align: right;\n",
       "    }\n",
       "</style>\n",
       "<table border=\"1\" class=\"dataframe\">\n",
       "  <thead>\n",
       "    <tr style=\"text-align: right;\">\n",
       "      <th></th>\n",
       "      <th>Result</th>\n",
       "    </tr>\n",
       "  </thead>\n",
       "  <tbody>\n",
       "    <tr>\n",
       "      <th>0</th>\n",
       "      <td>False</td>\n",
       "    </tr>\n",
       "    <tr>\n",
       "      <th>1</th>\n",
       "      <td>False</td>\n",
       "    </tr>\n",
       "    <tr>\n",
       "      <th>2</th>\n",
       "      <td>False</td>\n",
       "    </tr>\n",
       "    <tr>\n",
       "      <th>3</th>\n",
       "      <td>False</td>\n",
       "    </tr>\n",
       "    <tr>\n",
       "      <th>4</th>\n",
       "      <td>False</td>\n",
       "    </tr>\n",
       "    <tr>\n",
       "      <th>...</th>\n",
       "      <td>...</td>\n",
       "    </tr>\n",
       "    <tr>\n",
       "      <th>19995</th>\n",
       "      <td>False</td>\n",
       "    </tr>\n",
       "    <tr>\n",
       "      <th>19996</th>\n",
       "      <td>False</td>\n",
       "    </tr>\n",
       "    <tr>\n",
       "      <th>19997</th>\n",
       "      <td>False</td>\n",
       "    </tr>\n",
       "    <tr>\n",
       "      <th>19998</th>\n",
       "      <td>False</td>\n",
       "    </tr>\n",
       "    <tr>\n",
       "      <th>19999</th>\n",
       "      <td>False</td>\n",
       "    </tr>\n",
       "  </tbody>\n",
       "</table>\n",
       "<p>20000 rows × 1 columns</p>\n",
       "</div>"
      ],
      "text/plain": [
       "       Result\n",
       "0       False\n",
       "1       False\n",
       "2       False\n",
       "3       False\n",
       "4       False\n",
       "...       ...\n",
       "19995   False\n",
       "19996   False\n",
       "19997   False\n",
       "19998   False\n",
       "19999   False\n",
       "\n",
       "[20000 rows x 1 columns]"
      ]
     },
     "execution_count": 29,
     "metadata": {},
     "output_type": "execute_result"
    }
   ],
   "source": [
    "c = {\"Result\": result}\n",
    "df_three = pd.DataFrame(c)\n",
    "df_three"
   ]
  },
  {
   "cell_type": "code",
   "execution_count": 30,
   "id": "fa88f2c4",
   "metadata": {},
   "outputs": [
    {
     "data": {
      "text/plain": [
       "0.0203"
      ]
     },
     "execution_count": 30,
     "metadata": {},
     "output_type": "execute_result"
    }
   ],
   "source": [
    "# proportion of trials that were a three of a kind\n",
    "proportion = df_three['Result'].sum() / df_three.shape[0]\n",
    "proportion"
   ]
  },
  {
   "cell_type": "markdown",
   "id": "6dfc26c3",
   "metadata": {},
   "source": [
    "## 6. Comparing Probabilities \n",
    "\n",
    "What is the difference between your theoretical and estimated probabilities above?"
   ]
  },
  {
   "attachments": {},
   "cell_type": "markdown",
   "id": "3f6a8e74",
   "metadata": {},
   "source": [
    "Theoretical probability is 0.0211 and estimated probability is 0.0208. My theoretical probability is slightly higher than the estimated probability. (by 0.03%)"
   ]
  }
 ],
 "metadata": {
  "kernelspec": {
   "display_name": "Python 3",
   "language": "python",
   "name": "python3"
  },
  "language_info": {
   "codemirror_mode": {
    "name": "ipython",
    "version": 3
   },
   "file_extension": ".py",
   "mimetype": "text/x-python",
   "name": "python",
   "nbconvert_exporter": "python",
   "pygments_lexer": "ipython3",
   "version": "3.9.13"
  },
  "vscode": {
   "interpreter": {
    "hash": "bf5817c8b02cc5c6d9d556b5b283d9f8666d377278bd43aea9cee48641f43644"
   }
  }
 },
 "nbformat": 4,
 "nbformat_minor": 5
}
